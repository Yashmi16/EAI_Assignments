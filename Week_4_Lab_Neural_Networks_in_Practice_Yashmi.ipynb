{
  "nbformat": 4,
  "nbformat_minor": 0,
  "metadata": {
    "colab": {
      "name": "Week_4_Lab_Neural_Networks_in_Practice_Yashmi.ipynb",
      "provenance": [],
      "collapsed_sections": [],
      "authorship_tag": "ABX9TyNRLjJ3yBJbQjqUmXzubWJN",
      "include_colab_link": true
    },
    "kernelspec": {
      "name": "python3",
      "display_name": "Python 3"
    }
  },
  "cells": [
    {
      "cell_type": "markdown",
      "metadata": {
        "id": "view-in-github",
        "colab_type": "text"
      },
      "source": [
        "<a href=\"https://colab.research.google.com/github/Yashmi16/EAI_Assignments/blob/master/Week_4_Lab_Neural_Networks_in_Practice_Yashmi.ipynb\" target=\"_parent\"><img src=\"https://colab.research.google.com/assets/colab-badge.svg\" alt=\"Open In Colab\"/></a>"
      ]
    },
    {
      "cell_type": "code",
      "metadata": {
        "id": "2wZPZJPXr7Zw",
        "colab_type": "code",
        "outputId": "edcbf6bb-e173-40c9-ae8a-93c12ec5fc29",
        "colab": {
          "base_uri": "https://localhost:8080/",
          "height": 97
        }
      },
      "source": [
        "# Global imports and settings\n",
        "\n",
        "from IPython.display import set_matplotlib_formats, display\n",
        "import pandas as pd\n",
        "import numpy as np\n",
        "import matplotlib.pyplot as plt\n",
        "from cycler import cycler\n",
        "import keras\n",
        "print(\"Using Keras\",keras.__version__)\n",
        "%matplotlib inline\n",
        "plt.rcParams['figure.dpi'] = 125 # Use 300 for PDF, 100 for slides"
      ],
      "execution_count": 1,
      "outputs": [
        {
          "output_type": "stream",
          "text": [
            "Using TensorFlow backend.\n"
          ],
          "name": "stderr"
        },
        {
          "output_type": "display_data",
          "data": {
            "text/html": [
              "<p style=\"color: red;\">\n",
              "The default version of TensorFlow in Colab will soon switch to TensorFlow 2.x.<br>\n",
              "We recommend you <a href=\"https://www.tensorflow.org/guide/migrate\" target=\"_blank\">upgrade</a> now \n",
              "or ensure your notebook will continue to use TensorFlow 1.x via the <code>%tensorflow_version 1.x</code> magic:\n",
              "<a href=\"https://colab.research.google.com/notebooks/tensorflow_version.ipynb\" target=\"_blank\">more info</a>.</p>\n"
            ],
            "text/plain": [
              "<IPython.core.display.HTML object>"
            ]
          },
          "metadata": {
            "tags": []
          }
        },
        {
          "output_type": "stream",
          "text": [
            "Using Keras 2.2.5\n"
          ],
          "name": "stdout"
        }
      ]
    },
    {
      "cell_type": "markdown",
      "metadata": {
        "id": "H7Gr133JsSzl",
        "colab_type": "text"
      },
      "source": [
        "### Overview\n",
        "* Solving basic classification and regression problems\n",
        "* Handling textual data\n",
        "* Model selection (and overfitting)"
      ]
    },
    {
      "cell_type": "markdown",
      "metadata": {
        "id": "kSWNnskksgIR",
        "colab_type": "text"
      },
      "source": [
        "## Solving basic problems\n",
        "* Binary classification (of movie reviews)\n",
        "* Multiclass classification (of news topics)\n",
        "* Regression (of house prices)\n",
        "\n",
        "Examples from _Deep Learning with Python_, by _François Chollet_"
      ]
    },
    {
      "cell_type": "markdown",
      "metadata": {
        "id": "XMqzbppasmid",
        "colab_type": "text"
      },
      "source": [
        "### Binary classification\n",
        "* Dataset: 50,000 IMDB reviews, labeled positive (1) or negative (0)\n",
        "    - Included in Keras, with a 50/50 train-test split\n",
        "* Each row is one review, with only the 10,000 most frequent words retained\n",
        "* Each word is replaced by a _word index_ (word ID)"
      ]
    },
    {
      "cell_type": "code",
      "metadata": {
        "id": "kj16T5OSsewf",
        "colab_type": "code",
        "outputId": "d2f10598-1cc3-43f7-986c-58b9ade2a17e",
        "colab": {
          "base_uri": "https://localhost:8080/",
          "height": 119
        }
      },
      "source": [
        "from keras.datasets import imdb\n",
        "# Download IMDB data with 10000 most frequent words\n",
        "(train_data, train_labels), (test_data, test_labels) = imdb.load_data(num_words=10000)\n",
        "print(\"Encoded review: \", train_data[0][0:10])\n",
        "\n",
        "word_index = imdb.get_word_index()\n",
        "reverse_word_index = dict([(value, key) for (key, value) in word_index.items()])\n",
        "print(\"Original review: \", ' '.join([reverse_word_index.get(i - 3, '?') for i in train_data[0]][0:10]))"
      ],
      "execution_count": 2,
      "outputs": [
        {
          "output_type": "stream",
          "text": [
            "Downloading data from https://s3.amazonaws.com/text-datasets/imdb.npz\n",
            "17465344/17464789 [==============================] - 2s 0us/step\n",
            "Encoded review:  [1, 14, 22, 16, 43, 530, 973, 1622, 1385, 65]\n",
            "Downloading data from https://s3.amazonaws.com/text-datasets/imdb_word_index.json\n",
            "1646592/1641221 [==============================] - 1s 1us/step\n",
            "Original review:  ? this film was just brilliant casting location scenery story\n"
          ],
          "name": "stdout"
        }
      ]
    },
    {
      "cell_type": "code",
      "metadata": {
        "id": "eg2nAJi1srgv",
        "colab_type": "code",
        "colab": {}
      },
      "source": [
        "def decode_review(a):\n",
        "  word_index = imdb.get_word_index()\n",
        "  reverse_word_index = dict([(value, key) for (key, value) in word_index.items()])\n",
        "  print(' '.join([reverse_word_index.get(i-3, '') for i in a]))"
      ],
      "execution_count": 0,
      "outputs": []
    },
    {
      "cell_type": "markdown",
      "metadata": {
        "id": "CTQ4MPg7s8hv",
        "colab_type": "text"
      },
      "source": [
        ""
      ]
    },
    {
      "cell_type": "markdown",
      "metadata": {
        "id": "w9wJ5p6Rs8wa",
        "colab_type": "text"
      },
      "source": [
        "#### Preprocessing\n",
        "* We can't input lists of categorical value to a neural net, we need to create tensors\n",
        "* One-hot-encoding:\n",
        "    -  10000 features, '1.0' if the word occurs\n",
        "* Word embeddings (word2vec):\n",
        "    - Map each word to a dense vector that represents it (it's _embedding_)\n",
        "    - _Embedding_ layer: pre-trained layer that looks up the embedding in a dictionary \n",
        "    - Converts 2D tensor of word indices (zero-padded) to 3D tensor of embeddings\n",
        "* Let's do One-Hot-Encoding for now. We'll come back to _Embedding_ layers.\n",
        "* Also vectorize the labels: from 0/1 to float\n",
        "    - Binary classification works with one output node"
      ]
    },
    {
      "cell_type": "code",
      "metadata": {
        "id": "Chnumhlis6fi",
        "colab_type": "code",
        "colab": {}
      },
      "source": [
        "# Custom implementation of one-hot-encoding\n",
        "def vectorize_sequences(sequences, dimension=10000):\n",
        "    results = np.zeros((len(sequences), dimension))\n",
        "    for i, sequence in enumerate(sequences):\n",
        "        results[i, sequence] = 1.  # set specific indices of results[i] to 1s\n",
        "    return results\n",
        "x_train = vectorize_sequences(train_data)\n",
        "x_test = vectorize_sequences(test_data)\n",
        "y_train = np.asarray(train_labels).astype('float32')\n",
        "y_test = np.asarray(test_labels).astype('float32')"
      ],
      "execution_count": 0,
      "outputs": []
    },
    {
      "cell_type": "markdown",
      "metadata": {
        "id": "RFyMT1XktRs9",
        "colab_type": "text"
      },
      "source": [
        "#### Understanding the format of IMDB dataset\n",
        "1. Train_data and test_data are an array of lists. What does the length of this array correspond to? What does the length of each list correspond to?\n",
        "2. What are the sizes of the vectorized x_train and x_test? What do the dimensions correspond to?\n",
        "3. What is the most common word in the first review in the training data? Hint: use the word index (see above)? \n",
        "4. Print the first review to verify. "
      ]
    },
    {
      "cell_type": "code",
      "metadata": {
        "id": "MRS-4-QUtH21",
        "colab_type": "code",
        "outputId": "7cee4c8d-37df-474e-cb31-a1fadb0dd5c2",
        "colab": {
          "base_uri": "https://localhost:8080/",
          "height": 54
        }
      },
      "source": [
        "decode_review(train_data[1])"
      ],
      "execution_count": 5,
      "outputs": [
        {
          "output_type": "stream",
          "text": [
            " big hair big boobs bad music and a giant safety pin these are the words to best describe this terrible movie i love cheesy horror movies and i've seen hundreds but this had got to be on of the worst ever made the plot is paper thin and ridiculous the acting is an abomination the script is completely laughable the best is the end showdown with the cop and how he worked out who the killer is it's just so damn terribly written the clothes are sickening and funny in equal  the hair is big lots of boobs  men wear those cut  shirts that show off their  sickening that men actually wore them and the music is just  trash that plays over and over again in almost every scene there is trashy music boobs and  taking away bodies and the gym still doesn't close for  all joking aside this is a truly bad film whose only charm is to look back on the disaster that was the 80's and have a good old laugh at how bad everything was back then\n"
          ],
          "name": "stdout"
        }
      ]
    },
    {
      "cell_type": "code",
      "metadata": {
        "id": "kODk94aztWCK",
        "colab_type": "code",
        "outputId": "a7be7d17-4a3a-4f77-bd7e-aaad649081e7",
        "colab": {
          "base_uri": "https://localhost:8080/",
          "height": 34
        }
      },
      "source": [
        "len(train_data[1])"
      ],
      "execution_count": 6,
      "outputs": [
        {
          "output_type": "execute_result",
          "data": {
            "text/plain": [
              "189"
            ]
          },
          "metadata": {
            "tags": []
          },
          "execution_count": 6
        }
      ]
    },
    {
      "cell_type": "code",
      "metadata": {
        "id": "6RutM4WptcU1",
        "colab_type": "code",
        "outputId": "5cc87c08-861b-402e-891f-bcfa0757662c",
        "colab": {
          "base_uri": "https://localhost:8080/",
          "height": 51
        }
      },
      "source": [
        "## 1. Train_data and test_data are an array of lists. What does the length of this array correspond to? What does the length of each list correspond to?\n",
        "print(\"train_data lenght: \"+str(len(train_data)))\n",
        "print(\"test_data lenght: \"+str(len(test_data)))"
      ],
      "execution_count": 7,
      "outputs": [
        {
          "output_type": "stream",
          "text": [
            "train_data lenght: 25000\n",
            "test_data lenght: 25000\n"
          ],
          "name": "stdout"
        }
      ]
    },
    {
      "cell_type": "code",
      "metadata": {
        "id": "ixk-Wyu4trRs",
        "colab_type": "code",
        "outputId": "2b9c386e-e767-46a2-abba-3f3705f451ee",
        "colab": {
          "base_uri": "https://localhost:8080/",
          "height": 173
        }
      },
      "source": [
        "train_data"
      ],
      "execution_count": 8,
      "outputs": [
        {
          "output_type": "execute_result",
          "data": {
            "text/plain": [
              "array([list([1, 14, 22, 16, 43, 530, 973, 1622, 1385, 65, 458, 4468, 66, 3941, 4, 173, 36, 256, 5, 25, 100, 43, 838, 112, 50, 670, 2, 9, 35, 480, 284, 5, 150, 4, 172, 112, 167, 2, 336, 385, 39, 4, 172, 4536, 1111, 17, 546, 38, 13, 447, 4, 192, 50, 16, 6, 147, 2025, 19, 14, 22, 4, 1920, 4613, 469, 4, 22, 71, 87, 12, 16, 43, 530, 38, 76, 15, 13, 1247, 4, 22, 17, 515, 17, 12, 16, 626, 18, 2, 5, 62, 386, 12, 8, 316, 8, 106, 5, 4, 2223, 5244, 16, 480, 66, 3785, 33, 4, 130, 12, 16, 38, 619, 5, 25, 124, 51, 36, 135, 48, 25, 1415, 33, 6, 22, 12, 215, 28, 77, 52, 5, 14, 407, 16, 82, 2, 8, 4, 107, 117, 5952, 15, 256, 4, 2, 7, 3766, 5, 723, 36, 71, 43, 530, 476, 26, 400, 317, 46, 7, 4, 2, 1029, 13, 104, 88, 4, 381, 15, 297, 98, 32, 2071, 56, 26, 141, 6, 194, 7486, 18, 4, 226, 22, 21, 134, 476, 26, 480, 5, 144, 30, 5535, 18, 51, 36, 28, 224, 92, 25, 104, 4, 226, 65, 16, 38, 1334, 88, 12, 16, 283, 5, 16, 4472, 113, 103, 32, 15, 16, 5345, 19, 178, 32]),\n",
              "       list([1, 194, 1153, 194, 8255, 78, 228, 5, 6, 1463, 4369, 5012, 134, 26, 4, 715, 8, 118, 1634, 14, 394, 20, 13, 119, 954, 189, 102, 5, 207, 110, 3103, 21, 14, 69, 188, 8, 30, 23, 7, 4, 249, 126, 93, 4, 114, 9, 2300, 1523, 5, 647, 4, 116, 9, 35, 8163, 4, 229, 9, 340, 1322, 4, 118, 9, 4, 130, 4901, 19, 4, 1002, 5, 89, 29, 952, 46, 37, 4, 455, 9, 45, 43, 38, 1543, 1905, 398, 4, 1649, 26, 6853, 5, 163, 11, 3215, 2, 4, 1153, 9, 194, 775, 7, 8255, 2, 349, 2637, 148, 605, 2, 8003, 15, 123, 125, 68, 2, 6853, 15, 349, 165, 4362, 98, 5, 4, 228, 9, 43, 2, 1157, 15, 299, 120, 5, 120, 174, 11, 220, 175, 136, 50, 9, 4373, 228, 8255, 5, 2, 656, 245, 2350, 5, 4, 9837, 131, 152, 491, 18, 2, 32, 7464, 1212, 14, 9, 6, 371, 78, 22, 625, 64, 1382, 9, 8, 168, 145, 23, 4, 1690, 15, 16, 4, 1355, 5, 28, 6, 52, 154, 462, 33, 89, 78, 285, 16, 145, 95]),\n",
              "       list([1, 14, 47, 8, 30, 31, 7, 4, 249, 108, 7, 4, 5974, 54, 61, 369, 13, 71, 149, 14, 22, 112, 4, 2401, 311, 12, 16, 3711, 33, 75, 43, 1829, 296, 4, 86, 320, 35, 534, 19, 263, 4821, 1301, 4, 1873, 33, 89, 78, 12, 66, 16, 4, 360, 7, 4, 58, 316, 334, 11, 4, 1716, 43, 645, 662, 8, 257, 85, 1200, 42, 1228, 2578, 83, 68, 3912, 15, 36, 165, 1539, 278, 36, 69, 2, 780, 8, 106, 14, 6905, 1338, 18, 6, 22, 12, 215, 28, 610, 40, 6, 87, 326, 23, 2300, 21, 23, 22, 12, 272, 40, 57, 31, 11, 4, 22, 47, 6, 2307, 51, 9, 170, 23, 595, 116, 595, 1352, 13, 191, 79, 638, 89, 2, 14, 9, 8, 106, 607, 624, 35, 534, 6, 227, 7, 129, 113]),\n",
              "       ...,\n",
              "       list([1, 11, 6, 230, 245, 6401, 9, 6, 1225, 446, 2, 45, 2174, 84, 8322, 4007, 21, 4, 912, 84, 2, 325, 725, 134, 2, 1715, 84, 5, 36, 28, 57, 1099, 21, 8, 140, 8, 703, 5, 2, 84, 56, 18, 1644, 14, 9, 31, 7, 4, 9406, 1209, 2295, 2, 1008, 18, 6, 20, 207, 110, 563, 12, 8, 2901, 2, 8, 97, 6, 20, 53, 4767, 74, 4, 460, 364, 1273, 29, 270, 11, 960, 108, 45, 40, 29, 2961, 395, 11, 6, 4065, 500, 7, 2, 89, 364, 70, 29, 140, 4, 64, 4780, 11, 4, 2678, 26, 178, 4, 529, 443, 2, 5, 27, 710, 117, 2, 8123, 165, 47, 84, 37, 131, 818, 14, 595, 10, 10, 61, 1242, 1209, 10, 10, 288, 2260, 1702, 34, 2901, 2, 4, 65, 496, 4, 231, 7, 790, 5, 6, 320, 234, 2766, 234, 1119, 1574, 7, 496, 4, 139, 929, 2901, 2, 7750, 5, 4241, 18, 4, 8497, 2, 250, 11, 1818, 7561, 4, 4217, 5408, 747, 1115, 372, 1890, 1006, 541, 9303, 7, 4, 59, 2, 4, 3586, 2]),\n",
              "       list([1, 1446, 7079, 69, 72, 3305, 13, 610, 930, 8, 12, 582, 23, 5, 16, 484, 685, 54, 349, 11, 4120, 2959, 45, 58, 1466, 13, 197, 12, 16, 43, 23, 2, 5, 62, 30, 145, 402, 11, 4131, 51, 575, 32, 61, 369, 71, 66, 770, 12, 1054, 75, 100, 2198, 8, 4, 105, 37, 69, 147, 712, 75, 3543, 44, 257, 390, 5, 69, 263, 514, 105, 50, 286, 1814, 23, 4, 123, 13, 161, 40, 5, 421, 4, 116, 16, 897, 13, 2, 40, 319, 5872, 112, 6700, 11, 4803, 121, 25, 70, 3468, 4, 719, 3798, 13, 18, 31, 62, 40, 8, 7200, 4, 2, 7, 14, 123, 5, 942, 25, 8, 721, 12, 145, 5, 202, 12, 160, 580, 202, 12, 6, 52, 58, 2, 92, 401, 728, 12, 39, 14, 251, 8, 15, 251, 5, 2, 12, 38, 84, 80, 124, 12, 9, 23]),\n",
              "       list([1, 17, 6, 194, 337, 7, 4, 204, 22, 45, 254, 8, 106, 14, 123, 4, 2, 270, 2, 5, 2, 2, 732, 2098, 101, 405, 39, 14, 1034, 4, 1310, 9, 115, 50, 305, 12, 47, 4, 168, 5, 235, 7, 38, 111, 699, 102, 7, 4, 4039, 9245, 9, 24, 6, 78, 1099, 17, 2345, 2, 21, 27, 9685, 6139, 5, 2, 1603, 92, 1183, 4, 1310, 7, 4, 204, 42, 97, 90, 35, 221, 109, 29, 127, 27, 118, 8, 97, 12, 157, 21, 6789, 2, 9, 6, 66, 78, 1099, 4, 631, 1191, 5, 2642, 272, 191, 1070, 6, 7585, 8, 2197, 2, 2, 544, 5, 383, 1271, 848, 1468, 2, 497, 2, 8, 1597, 8778, 2, 21, 60, 27, 239, 9, 43, 8368, 209, 405, 10, 10, 12, 764, 40, 4, 248, 20, 12, 16, 5, 174, 1791, 72, 7, 51, 6, 1739, 22, 4, 204, 131, 9])],\n",
              "      dtype=object)"
            ]
          },
          "metadata": {
            "tags": []
          },
          "execution_count": 8
        }
      ]
    },
    {
      "cell_type": "code",
      "metadata": {
        "id": "1ZW_hGO2twdr",
        "colab_type": "code",
        "outputId": "79f9c54c-83c5-4585-bf1e-9bee609f1249",
        "colab": {
          "base_uri": "https://localhost:8080/",
          "height": 34
        }
      },
      "source": [
        "train_data.size"
      ],
      "execution_count": 9,
      "outputs": [
        {
          "output_type": "execute_result",
          "data": {
            "text/plain": [
              "25000"
            ]
          },
          "metadata": {
            "tags": []
          },
          "execution_count": 9
        }
      ]
    },
    {
      "cell_type": "code",
      "metadata": {
        "id": "58yE8mKEtzQH",
        "colab_type": "code",
        "outputId": "f90fc734-1fab-4bfe-9cfd-a20641529689",
        "colab": {
          "base_uri": "https://localhost:8080/",
          "height": 34
        }
      },
      "source": [
        "train_data.shape"
      ],
      "execution_count": 10,
      "outputs": [
        {
          "output_type": "execute_result",
          "data": {
            "text/plain": [
              "(25000,)"
            ]
          },
          "metadata": {
            "tags": []
          },
          "execution_count": 10
        }
      ]
    },
    {
      "cell_type": "markdown",
      "metadata": {
        "id": "fTMmtFdst9RO",
        "colab_type": "text"
      },
      "source": [
        "The length of the array corresponds to numbers of reviews. we have 25000 reviews in both train and test data. The length of the list corresponds to number words in the particular review.\n",
        "\n",
        "The sizes of x_train and x_test are 250000000 and shapes are (25000, 10000) 25000 corresponds to number of reviews. 10000 corresponds to One-Hot-Encoded format of each review, it is 10000 because total number of words in dataset are 10000 and each review is divided into 10000 values which are 0,1 . '0' when the review doesnt have the certain word, '1' when the review has that word."
      ]
    },
    {
      "cell_type": "code",
      "metadata": {
        "id": "nlLc1Cn_t3Tx",
        "colab_type": "code",
        "colab": {}
      },
      "source": [
        "import collections\n",
        "import operator\n",
        "def CountFrequency(arr): \n",
        "    return collections.Counter(arr) \n",
        "\n",
        "freq = CountFrequency(train_data[0])"
      ],
      "execution_count": 0,
      "outputs": []
    },
    {
      "cell_type": "code",
      "metadata": {
        "id": "ilXMflIauNbq",
        "colab_type": "code",
        "outputId": "c23fe9c3-4424-453a-d33d-6f7a0dc1e57c",
        "colab": {
          "base_uri": "https://localhost:8080/",
          "height": 54
        }
      },
      "source": [
        "\n",
        "freq.keys()"
      ],
      "execution_count": 12,
      "outputs": [
        {
          "output_type": "execute_result",
          "data": {
            "text/plain": [
              "dict_keys([1, 14, 22, 16, 43, 530, 973, 1622, 1385, 65, 458, 4468, 66, 3941, 4, 173, 36, 256, 5, 25, 100, 838, 112, 50, 670, 2, 9, 35, 480, 284, 150, 172, 167, 336, 385, 39, 4536, 1111, 17, 546, 38, 13, 447, 192, 6, 147, 2025, 19, 1920, 4613, 469, 71, 87, 12, 76, 15, 1247, 515, 626, 18, 62, 386, 8, 316, 106, 2223, 5244, 3785, 33, 130, 619, 124, 51, 135, 48, 1415, 215, 28, 77, 52, 407, 82, 107, 117, 5952, 7, 3766, 723, 476, 26, 400, 317, 46, 1029, 104, 88, 381, 297, 98, 32, 2071, 56, 141, 194, 7486, 226, 21, 134, 144, 30, 5535, 224, 92, 1334, 283, 4472, 113, 103, 5345, 178])"
            ]
          },
          "metadata": {
            "tags": []
          },
          "execution_count": 12
        }
      ]
    },
    {
      "cell_type": "code",
      "metadata": {
        "id": "D-v_OIStuQSP",
        "colab_type": "code",
        "outputId": "882002de-de39-4be2-e357-d1bca902e147",
        "colab": {
          "base_uri": "https://localhost:8080/",
          "height": 34
        }
      },
      "source": [
        "max(freq.items(), key=operator.itemgetter(1))"
      ],
      "execution_count": 13,
      "outputs": [
        {
          "output_type": "execute_result",
          "data": {
            "text/plain": [
              "(4, 15)"
            ]
          },
          "metadata": {
            "tags": []
          },
          "execution_count": 13
        }
      ]
    },
    {
      "cell_type": "code",
      "metadata": {
        "id": "vQ5ABnUPuWQQ",
        "colab_type": "code",
        "outputId": "5d4bb9ab-7d54-48c1-992a-82275a4419d0",
        "colab": {
          "base_uri": "https://localhost:8080/",
          "height": 54
        }
      },
      "source": [
        "decode_review(train_data[0])"
      ],
      "execution_count": 14,
      "outputs": [
        {
          "output_type": "stream",
          "text": [
            " this film was just brilliant casting location scenery story direction everyone's really suited the part they played and you could just imagine being there robert  is an amazing actor and now the same being director  father came from the same scottish island as myself so i loved the fact there was a real connection with this film the witty remarks throughout the film were great it was just brilliant so much that i bought the film as soon as it was released for  and would recommend it to everyone to watch and the fly fishing was amazing really cried at the end it was so sad and you know what they say if you cry at a film it must have been good and this definitely was also  to the two little boy's that played the  of norman and paul they were just brilliant children are often left out of the  list i think because the stars that play them all grown up are such a big profile for the whole film but these children are amazing and should be praised for what they have done don't you think the whole story was so lovely because it was true and was someone's life after all that was shared with us all\n"
          ],
          "name": "stdout"
        }
      ]
    },
    {
      "cell_type": "code",
      "metadata": {
        "id": "9bHCPaRBhXY9",
        "colab_type": "code",
        "colab": {
          "base_uri": "https://localhost:8080/",
          "height": 34
        },
        "outputId": "96da46c7-d29e-4051-ac59-6e61efc87a42"
      },
      "source": [
        "max(freq.items(), key=operator.itemgetter(1))"
      ],
      "execution_count": 15,
      "outputs": [
        {
          "output_type": "execute_result",
          "data": {
            "text/plain": [
              "(4, 15)"
            ]
          },
          "metadata": {
            "tags": []
          },
          "execution_count": 15
        }
      ]
    },
    {
      "cell_type": "code",
      "metadata": {
        "id": "S3jrh5L6harx",
        "colab_type": "code",
        "colab": {
          "base_uri": "https://localhost:8080/",
          "height": 34
        },
        "outputId": "37d9242a-2118-4ce6-c76d-7e68d3c9c6b7"
      },
      "source": [
        "reverse_word_index[4 - 3]"
      ],
      "execution_count": 16,
      "outputs": [
        {
          "output_type": "execute_result",
          "data": {
            "text/plain": [
              "'the'"
            ]
          },
          "metadata": {
            "tags": []
          },
          "execution_count": 16
        }
      ]
    },
    {
      "cell_type": "code",
      "metadata": {
        "id": "E_V067j_hdg7",
        "colab_type": "code",
        "colab": {
          "base_uri": "https://localhost:8080/",
          "height": 54
        },
        "outputId": "7f78a4d2-02b2-45ff-be92-3b86c3e8f047"
      },
      "source": [
        "print(\"First review: \", ' '.join([reverse_word_index.get(i - 3, '') for i in train_data[0]][0:218]))"
      ],
      "execution_count": 17,
      "outputs": [
        {
          "output_type": "stream",
          "text": [
            "First review:   this film was just brilliant casting location scenery story direction everyone's really suited the part they played and you could just imagine being there robert  is an amazing actor and now the same being director  father came from the same scottish island as myself so i loved the fact there was a real connection with this film the witty remarks throughout the film were great it was just brilliant so much that i bought the film as soon as it was released for  and would recommend it to everyone to watch and the fly fishing was amazing really cried at the end it was so sad and you know what they say if you cry at a film it must have been good and this definitely was also  to the two little boy's that played the  of norman and paul they were just brilliant children are often left out of the  list i think because the stars that play them all grown up are such a big profile for the whole film but these children are amazing and should be praised for what they have done don't you think the whole story was so lovely because it was true and was someone's life after all that was shared with us all\n"
          ],
          "name": "stdout"
        }
      ]
    },
    {
      "cell_type": "code",
      "metadata": {
        "id": "gFzfvAAihhh2",
        "colab_type": "code",
        "colab": {}
      },
      "source": [
        ""
      ],
      "execution_count": 0,
      "outputs": []
    },
    {
      "cell_type": "code",
      "metadata": {
        "id": "RdCZPpMHuZ3f",
        "colab_type": "code",
        "outputId": "cb122c79-d681-4898-80f8-a5c1f06aaedc",
        "colab": {
          "base_uri": "https://localhost:8080/",
          "height": 71
        }
      },
      "source": [
        "reverse_word_index[4 - 3]\n",
        "wordstring = [reverse_word_index.get(i - 3) for i in train_data[0]][1:219]\n",
        "\n",
        "wordfreq = []\n",
        "for w in wordstring:\n",
        "    wordfreq.append(wordstring.count(w))\n",
        "\n",
        "print(\"Pairs\\n\" + str(list(zip(wordstring, wordfreq))))"
      ],
      "execution_count": 18,
      "outputs": [
        {
          "output_type": "stream",
          "text": [
            "Pairs\n",
            "[('this', 3), ('film', 6), ('was', 11), ('just', 4), ('brilliant', 3), ('casting', 1), ('location', 1), ('scenery', 1), ('story', 2), ('direction', 1), (\"everyone's\", 1), ('really', 2), ('suited', 1), ('the', 15), ('part', 1), ('they', 4), ('played', 2), ('and', 9), ('you', 4), ('could', 1), ('just', 4), ('imagine', 1), ('being', 2), ('there', 2), ('robert', 1), (None, 6), ('is', 1), ('an', 1), ('amazing', 3), ('actor', 1), ('and', 9), ('now', 1), ('the', 15), ('same', 2), ('being', 2), ('director', 1), (None, 6), ('father', 1), ('came', 1), ('from', 1), ('the', 15), ('same', 2), ('scottish', 1), ('island', 1), ('as', 3), ('myself', 1), ('so', 4), ('i', 3), ('loved', 1), ('the', 15), ('fact', 1), ('there', 2), ('was', 11), ('a', 3), ('real', 1), ('connection', 1), ('with', 2), ('this', 3), ('film', 6), ('the', 15), ('witty', 1), ('remarks', 1), ('throughout', 1), ('the', 15), ('film', 6), ('were', 2), ('great', 1), ('it', 6), ('was', 11), ('just', 4), ('brilliant', 3), ('so', 4), ('much', 1), ('that', 4), ('i', 3), ('bought', 1), ('the', 15), ('film', 6), ('as', 3), ('soon', 1), ('as', 3), ('it', 6), ('was', 11), ('released', 1), ('for', 3), (None, 6), ('and', 9), ('would', 1), ('recommend', 1), ('it', 6), ('to', 3), ('everyone', 1), ('to', 3), ('watch', 1), ('and', 9), ('the', 15), ('fly', 1), ('fishing', 1), ('was', 11), ('amazing', 3), ('really', 2), ('cried', 1), ('at', 2), ('the', 15), ('end', 1), ('it', 6), ('was', 11), ('so', 4), ('sad', 1), ('and', 9), ('you', 4), ('know', 1), ('what', 2), ('they', 4), ('say', 1), ('if', 1), ('you', 4), ('cry', 1), ('at', 2), ('a', 3), ('film', 6), ('it', 6), ('must', 1), ('have', 2), ('been', 1), ('good', 1), ('and', 9), ('this', 3), ('definitely', 1), ('was', 11), ('also', 1), (None, 6), ('to', 3), ('the', 15), ('two', 1), ('little', 1), (\"boy's\", 1), ('that', 4), ('played', 2), ('the', 15), (None, 6), ('of', 2), ('norman', 1), ('and', 9), ('paul', 1), ('they', 4), ('were', 2), ('just', 4), ('brilliant', 3), ('children', 2), ('are', 3), ('often', 1), ('left', 1), ('out', 1), ('of', 2), ('the', 15), (None, 6), ('list', 1), ('i', 3), ('think', 2), ('because', 2), ('the', 15), ('stars', 1), ('that', 4), ('play', 1), ('them', 1), ('all', 3), ('grown', 1), ('up', 1), ('are', 3), ('such', 1), ('a', 3), ('big', 1), ('profile', 1), ('for', 3), ('the', 15), ('whole', 2), ('film', 6), ('but', 1), ('these', 1), ('children', 2), ('are', 3), ('amazing', 3), ('and', 9), ('should', 1), ('be', 1), ('praised', 1), ('for', 3), ('what', 2), ('they', 4), ('have', 2), ('done', 1), (\"don't\", 1), ('you', 4), ('think', 2), ('the', 15), ('whole', 2), ('story', 2), ('was', 11), ('so', 4), ('lovely', 1), ('because', 2), ('it', 6), ('was', 11), ('true', 1), ('and', 9), ('was', 11), (\"someone's\", 1), ('life', 1), ('after', 1), ('all', 3), ('that', 4), ('was', 11), ('shared', 1), ('with', 2), ('us', 1), ('all', 3)]\n"
          ],
          "name": "stdout"
        }
      ]
    },
    {
      "cell_type": "markdown",
      "metadata": {
        "id": "Wv2x45D5uy0N",
        "colab_type": "text"
      },
      "source": [
        "#### Building the network\n",
        "* We can solve this problem using a network of _Dense_ layers and the _ReLU_ activation function.\n",
        "* How many layers? How many hidden units for layer?\n",
        "    - Start with 2 layers of 16 hidden units each\n",
        "    - We'll optimize this soon\n",
        "* Output layer: single unit with _sigmoid_ activation function\n",
        "    - Close to 1: positive review, close to 0: negative review\n",
        "* Use binary_crossentropy loss"
      ]
    },
    {
      "cell_type": "code",
      "metadata": {
        "id": "bKXz51vcuyCs",
        "colab_type": "code",
        "outputId": "c8771245-aaa4-46c9-ec23-0a3a27f73f70",
        "colab": {
          "base_uri": "https://localhost:8080/",
          "height": 258
        }
      },
      "source": [
        "from keras import models\n",
        "from keras import layers \n",
        "\n",
        "model = models.Sequential()\n",
        "model.add(layers.Dense(16, activation='relu', input_shape=(10000,)))\n",
        "model.add(layers.Dense(16, activation='relu'))\n",
        "model.add(layers.Dense(1, activation='sigmoid'))\n",
        "\n",
        "model.compile(optimizer='rmsprop',\n",
        "              loss='binary_crossentropy',\n",
        "              metrics=['accuracy'])"
      ],
      "execution_count": 19,
      "outputs": [
        {
          "output_type": "stream",
          "text": [
            "WARNING:tensorflow:From /usr/local/lib/python3.6/dist-packages/keras/backend/tensorflow_backend.py:66: The name tf.get_default_graph is deprecated. Please use tf.compat.v1.get_default_graph instead.\n",
            "\n",
            "WARNING:tensorflow:From /usr/local/lib/python3.6/dist-packages/keras/backend/tensorflow_backend.py:541: The name tf.placeholder is deprecated. Please use tf.compat.v1.placeholder instead.\n",
            "\n",
            "WARNING:tensorflow:From /usr/local/lib/python3.6/dist-packages/keras/backend/tensorflow_backend.py:4432: The name tf.random_uniform is deprecated. Please use tf.random.uniform instead.\n",
            "\n",
            "WARNING:tensorflow:From /usr/local/lib/python3.6/dist-packages/keras/optimizers.py:793: The name tf.train.Optimizer is deprecated. Please use tf.compat.v1.train.Optimizer instead.\n",
            "\n",
            "WARNING:tensorflow:From /usr/local/lib/python3.6/dist-packages/keras/backend/tensorflow_backend.py:3657: The name tf.log is deprecated. Please use tf.math.log instead.\n",
            "\n",
            "WARNING:tensorflow:From /usr/local/lib/python3.6/dist-packages/tensorflow_core/python/ops/nn_impl.py:183: where (from tensorflow.python.ops.array_ops) is deprecated and will be removed in a future version.\n",
            "Instructions for updating:\n",
            "Use tf.where in 2.0, which has the same broadcast rule as np.where\n"
          ],
          "name": "stdout"
        }
      ]
    },
    {
      "cell_type": "markdown",
      "metadata": {
        "id": "gFrAf2bbu73G",
        "colab_type": "text"
      },
      "source": [
        "#### Model selection\n",
        "* How many epochs do we need for training?\n",
        "* Take a validation set of 10,000 samples from the training set\n",
        "* Train the neural net and track the loss after every iteration on the validation set\n",
        "    - This is returned as a `History` object by the `fit()` function \n",
        "* We start with 20 epochs in minibatches of 512 samples"
      ]
    },
    {
      "cell_type": "code",
      "metadata": {
        "id": "_ToI6OMOujhD",
        "colab_type": "code",
        "outputId": "b1ee94aa-1eb3-435c-acd2-eab689942b90",
        "colab": {
          "base_uri": "https://localhost:8080/",
          "height": 1000
        }
      },
      "source": [
        "x_val, partial_x_train = x_train[:10000], x_train[10000:]\n",
        "y_val, partial_y_train = y_train[:10000], y_train[10000:] \n",
        "history = model.fit(partial_x_train, partial_y_train,\n",
        "                    epochs=20, batch_size=512, verbose=2,\n",
        "                    validation_data=(x_val, y_val))"
      ],
      "execution_count": 20,
      "outputs": [
        {
          "output_type": "stream",
          "text": [
            "WARNING:tensorflow:From /usr/local/lib/python3.6/dist-packages/keras/backend/tensorflow_backend.py:1033: The name tf.assign_add is deprecated. Please use tf.compat.v1.assign_add instead.\n",
            "\n",
            "WARNING:tensorflow:From /usr/local/lib/python3.6/dist-packages/keras/backend/tensorflow_backend.py:1020: The name tf.assign is deprecated. Please use tf.compat.v1.assign instead.\n",
            "\n",
            "WARNING:tensorflow:From /usr/local/lib/python3.6/dist-packages/keras/backend/tensorflow_backend.py:3005: The name tf.Session is deprecated. Please use tf.compat.v1.Session instead.\n",
            "\n",
            "Train on 15000 samples, validate on 10000 samples\n",
            "Epoch 1/20\n",
            "WARNING:tensorflow:From /usr/local/lib/python3.6/dist-packages/keras/backend/tensorflow_backend.py:190: The name tf.get_default_session is deprecated. Please use tf.compat.v1.get_default_session instead.\n",
            "\n",
            "WARNING:tensorflow:From /usr/local/lib/python3.6/dist-packages/keras/backend/tensorflow_backend.py:197: The name tf.ConfigProto is deprecated. Please use tf.compat.v1.ConfigProto instead.\n",
            "\n",
            "WARNING:tensorflow:From /usr/local/lib/python3.6/dist-packages/keras/backend/tensorflow_backend.py:207: The name tf.global_variables is deprecated. Please use tf.compat.v1.global_variables instead.\n",
            "\n",
            "WARNING:tensorflow:From /usr/local/lib/python3.6/dist-packages/keras/backend/tensorflow_backend.py:216: The name tf.is_variable_initialized is deprecated. Please use tf.compat.v1.is_variable_initialized instead.\n",
            "\n",
            "WARNING:tensorflow:From /usr/local/lib/python3.6/dist-packages/keras/backend/tensorflow_backend.py:223: The name tf.variables_initializer is deprecated. Please use tf.compat.v1.variables_initializer instead.\n",
            "\n",
            " - 2s - loss: 0.5059 - acc: 0.8051 - val_loss: 0.3902 - val_acc: 0.8618\n",
            "Epoch 2/20\n",
            " - 2s - loss: 0.2973 - acc: 0.9027 - val_loss: 0.3134 - val_acc: 0.8799\n",
            "Epoch 3/20\n",
            " - 2s - loss: 0.2193 - acc: 0.9275 - val_loss: 0.2866 - val_acc: 0.8859\n",
            "Epoch 4/20\n",
            " - 2s - loss: 0.1745 - acc: 0.9422 - val_loss: 0.2741 - val_acc: 0.8886\n",
            "Epoch 5/20\n",
            " - 2s - loss: 0.1429 - acc: 0.9545 - val_loss: 0.2838 - val_acc: 0.8871\n",
            "Epoch 6/20\n",
            " - 2s - loss: 0.1153 - acc: 0.9649 - val_loss: 0.2919 - val_acc: 0.8866\n",
            "Epoch 7/20\n",
            " - 2s - loss: 0.0984 - acc: 0.9699 - val_loss: 0.3087 - val_acc: 0.8849\n",
            "Epoch 8/20\n",
            " - 2s - loss: 0.0801 - acc: 0.9763 - val_loss: 0.3288 - val_acc: 0.8812\n",
            "Epoch 9/20\n",
            " - 2s - loss: 0.0668 - acc: 0.9815 - val_loss: 0.3578 - val_acc: 0.8785\n",
            "Epoch 10/20\n",
            " - 2s - loss: 0.0562 - acc: 0.9854 - val_loss: 0.3781 - val_acc: 0.8789\n",
            "Epoch 11/20\n",
            " - 2s - loss: 0.0419 - acc: 0.9909 - val_loss: 0.4017 - val_acc: 0.8769\n",
            "Epoch 12/20\n",
            " - 2s - loss: 0.0352 - acc: 0.9925 - val_loss: 0.4374 - val_acc: 0.8758\n",
            "Epoch 13/20\n",
            " - 2s - loss: 0.0279 - acc: 0.9939 - val_loss: 0.4592 - val_acc: 0.8745\n",
            "Epoch 14/20\n",
            " - 2s - loss: 0.0222 - acc: 0.9958 - val_loss: 0.4902 - val_acc: 0.8713\n",
            "Epoch 15/20\n",
            " - 2s - loss: 0.0161 - acc: 0.9976 - val_loss: 0.5856 - val_acc: 0.8613\n",
            "Epoch 16/20\n",
            " - 2s - loss: 0.0117 - acc: 0.9987 - val_loss: 0.5483 - val_acc: 0.8719\n",
            "Epoch 17/20\n",
            " - 2s - loss: 0.0129 - acc: 0.9972 - val_loss: 0.5880 - val_acc: 0.8673\n",
            "Epoch 18/20\n",
            " - 2s - loss: 0.0060 - acc: 0.9998 - val_loss: 0.6120 - val_acc: 0.8686\n",
            "Epoch 19/20\n",
            " - 2s - loss: 0.0075 - acc: 0.9989 - val_loss: 0.6447 - val_acc: 0.8679\n",
            "Epoch 20/20\n",
            " - 2s - loss: 0.0066 - acc: 0.9987 - val_loss: 0.6759 - val_acc: 0.8672\n"
          ],
          "name": "stdout"
        }
      ]
    },
    {
      "cell_type": "markdown",
      "metadata": {
        "id": "kdp9XGaSvGnY",
        "colab_type": "text"
      },
      "source": [
        "#### Evaluate model performance during training\n",
        "1. Plot the training and validation loss as a function of training epoch. Describe what happens during the training in terms of under or overfitting.\n",
        "2. Plot the training and validation accuracy as a function of the training epoch.\n",
        "\n",
        "Hint: these quantities are contained in the dict history.history."
      ]
    },
    {
      "cell_type": "code",
      "metadata": {
        "id": "jOg0pEGmvBVR",
        "colab_type": "code",
        "outputId": "455a8bff-79f0-45d8-81af-36f8137e17d4",
        "colab": {
          "base_uri": "https://localhost:8080/",
          "height": 255
        }
      },
      "source": [
        "model.summary()"
      ],
      "execution_count": 21,
      "outputs": [
        {
          "output_type": "stream",
          "text": [
            "Model: \"sequential_1\"\n",
            "_________________________________________________________________\n",
            "Layer (type)                 Output Shape              Param #   \n",
            "=================================================================\n",
            "dense_1 (Dense)              (None, 16)                160016    \n",
            "_________________________________________________________________\n",
            "dense_2 (Dense)              (None, 16)                272       \n",
            "_________________________________________________________________\n",
            "dense_3 (Dense)              (None, 1)                 17        \n",
            "=================================================================\n",
            "Total params: 160,305\n",
            "Trainable params: 160,305\n",
            "Non-trainable params: 0\n",
            "_________________________________________________________________\n"
          ],
          "name": "stdout"
        }
      ]
    },
    {
      "cell_type": "code",
      "metadata": {
        "id": "eeF_ueSQvQf8",
        "colab_type": "code",
        "outputId": "ed51663c-c107-4bcc-ddc1-ae1092385e02",
        "colab": {
          "base_uri": "https://localhost:8080/",
          "height": 34
        }
      },
      "source": [
        "print(history.history.keys())\n"
      ],
      "execution_count": 22,
      "outputs": [
        {
          "output_type": "stream",
          "text": [
            "dict_keys(['val_loss', 'val_acc', 'loss', 'acc'])\n"
          ],
          "name": "stdout"
        }
      ]
    },
    {
      "cell_type": "code",
      "metadata": {
        "id": "iNUk-SG_vVA7",
        "colab_type": "code",
        "outputId": "a93c1216-0804-421d-ea1a-52cb3a2545e6",
        "colab": {
          "base_uri": "https://localhost:8080/",
          "height": 985
        }
      },
      "source": [
        "import matplotlib.pyplot as plt\n",
        "plt.plot(history.history['loss'])\n",
        "plt.plot(history.history['val_loss'])\n",
        "plt.title('model loss')\n",
        "plt.ylabel('loss')\n",
        "plt.xlabel('epoch')\n",
        "plt.legend(['train', 'test'], loc='upper left')\n",
        "plt.show()\n",
        "\n",
        "plt.plot(history.history['val_acc'])\n",
        "plt.plot(history.history['acc'])\n",
        "plt.title('model accuracy')\n",
        "plt.ylabel('accuracy')\n",
        "plt.xlabel('epoch')\n",
        "plt.legend(['train', 'test'], loc='upper left')\n",
        "plt.show()"
      ],
      "execution_count": 23,
      "outputs": [
        {
          "output_type": "display_data",
          "data": {
            "image/png": "[encoded data removed]",
            "text/plain": [
              "<Figure size 750x500 with 1 Axes>"
            ]
          },
          "metadata": {
            "tags": []
          }
        },
        {
          "output_type": "display_data",
          "data": {
            "image/png": "[encoded data removed]",
            "text/plain": [
              "<Figure size 750x500 with 1 Axes>"
            ]
          },
          "metadata": {
            "tags": []
          }
        }
      ]
    },
    {
      "cell_type": "markdown",
      "metadata": {
        "id": "fOfFAHW_vmo2",
        "colab_type": "text"
      },
      "source": [
        "#### Early stopping\n",
        "One simple technique to avoid overfitting is to use the validation set to 'tune' the optimal number of epochs\n",
        "* In this case, we could stop after 4 epochs"
      ]
    },
    {
      "cell_type": "code",
      "metadata": {
        "id": "J02RuRzGvdzF",
        "colab_type": "code",
        "outputId": "4c07cf5e-22bd-49e7-fc63-2c07493e21d9",
        "colab": {
          "base_uri": "https://localhost:8080/",
          "height": 187
        }
      },
      "source": [
        "model.fit(x_train, y_train, epochs=4, batch_size=512, verbose=2)\n",
        "result = model.evaluate(x_test, y_test)\n",
        "print(\"Loss: {:.4f}, Accuracy:  {:.4f}\".format(*result))"
      ],
      "execution_count": 24,
      "outputs": [
        {
          "output_type": "stream",
          "text": [
            "Epoch 1/4\n",
            " - 2s - loss: 0.2211 - acc: 0.9466\n",
            "Epoch 2/4\n",
            " - 2s - loss: 0.1319 - acc: 0.9614\n",
            "Epoch 3/4\n",
            " - 2s - loss: 0.1003 - acc: 0.9706\n",
            "Epoch 4/4\n",
            " - 2s - loss: 0.0796 - acc: 0.9776\n",
            "25000/25000 [==============================] - 2s 74us/step\n",
            "Loss: 0.5004, Accuracy:  0.8596\n"
          ],
          "name": "stdout"
        }
      ]
    },
    {
      "cell_type": "markdown",
      "metadata": {
        "id": "JMu9iFXnvxUW",
        "colab_type": "text"
      },
      "source": [
        "#### Predictions\n",
        "1. Print the first review that were correctly classified along with the predicted value.\n",
        "2. Print the first review that were misclassified along with the predicted value. Can you explain why the model likely failed? How confident was the model?"
      ]
    },
    {
      "cell_type": "code",
      "metadata": {
        "id": "qaNUT82MvqhU",
        "colab_type": "code",
        "outputId": "f76bd8bd-560b-4819-b343-d9e813cf1c92",
        "colab": {
          "base_uri": "https://localhost:8080/",
          "height": 136
        }
      },
      "source": [
        "y_pred = model.predict(x_test)\n",
        "y_pred_class = model.predict_classes(x_test)\n",
        "y_pred_class.astype('float32')"
      ],
      "execution_count": 25,
      "outputs": [
        {
          "output_type": "execute_result",
          "data": {
            "text/plain": [
              "array([[0.],\n",
              "       [1.],\n",
              "       [1.],\n",
              "       ...,\n",
              "       [0.],\n",
              "       [0.],\n",
              "       [1.]], dtype=float32)"
            ]
          },
          "metadata": {
            "tags": []
          },
          "execution_count": 25
        }
      ]
    },
    {
      "cell_type": "code",
      "metadata": {
        "id": "1iiddkn8v7kn",
        "colab_type": "code",
        "colab": {}
      },
      "source": [
        "pred_cls = model.predict_classes(x_test).reshape(25000)\n",
        "pred_prob = model.predict(x_test)"
      ],
      "execution_count": 0,
      "outputs": []
    },
    {
      "cell_type": "code",
      "metadata": {
        "id": "txmNUs4twudb",
        "colab_type": "code",
        "outputId": "60de41aa-0e33-4bb6-94b5-631943a44280",
        "colab": {
          "base_uri": "https://localhost:8080/",
          "height": 105
        }
      },
      "source": [
        "\n",
        "print(\"Correctly classified Prediction:  \".join([reverse_word_index.get(i - 3, \"\") for i in correctly_classified_predictions[0]]))\n",
        "print('\\n')\n",
        "print(\"Missclassified Prediction: \".join([reverse_word_index.get(i - 3, \"\") for i in misclassified_predictions[0]]))"
      ],
      "execution_count": 0,
      "outputs": [
        {
          "output_type": "stream",
          "text": [
            "Correctly classified Prediction:  pleaseCorrectly classified Prediction:  giveCorrectly classified Prediction:  thisCorrectly classified Prediction:  oneCorrectly classified Prediction:  aCorrectly classified Prediction:  missCorrectly classified Prediction:  brCorrectly classified Prediction:  brCorrectly classified Prediction:  Correctly classified Prediction:  Correctly classified Prediction:  andCorrectly classified Prediction:  theCorrectly classified Prediction:  restCorrectly classified Prediction:  ofCorrectly classified Prediction:  theCorrectly classified Prediction:  castCorrectly classified Prediction:  renderedCorrectly classified Prediction:  terribleCorrectly classified Prediction:  performancesCorrectly classified Prediction:  theCorrectly classified Prediction:  showCorrectly classified Prediction:  isCorrectly classified Prediction:  flatCorrectly classified Prediction:  flatCorrectly classified Prediction:  flatCorrectly classified Prediction:  brCorrectly classified Prediction:  brCorrectly classified Prediction:  iCorrectly classified Prediction:  don'tCorrectly classified Prediction:  knowCorrectly classified Prediction:  howCorrectly classified Prediction:  michaelCorrectly classified Prediction:  madisonCorrectly classified Prediction:  couldCorrectly classified Prediction:  haveCorrectly classified Prediction:  allowedCorrectly classified Prediction:  thisCorrectly classified Prediction:  oneCorrectly classified Prediction:  onCorrectly classified Prediction:  hisCorrectly classified Prediction:  plateCorrectly classified Prediction:  heCorrectly classified Prediction:  almostCorrectly classified Prediction:  seemedCorrectly classified Prediction:  toCorrectly classified Prediction:  knowCorrectly classified Prediction:  thisCorrectly classified Prediction:  wasn'tCorrectly classified Prediction:  goingCorrectly classified Prediction:  toCorrectly classified Prediction:  workCorrectly classified Prediction:  outCorrectly classified Prediction:  andCorrectly classified Prediction:  hisCorrectly classified Prediction:  performanceCorrectly classified Prediction:  wasCorrectly classified Prediction:  quiteCorrectly classified Prediction:  Correctly classified Prediction:  soCorrectly classified Prediction:  allCorrectly classified Prediction:  youCorrectly classified Prediction:  madisonCorrectly classified Prediction:  fansCorrectly classified Prediction:  giveCorrectly classified Prediction:  thisCorrectly classified Prediction:  aCorrectly classified Prediction:  miss\n",
            "\n",
            "\n",
            "Missclassified Prediction: iMissclassified Prediction: generallyMissclassified Prediction: loveMissclassified Prediction: thisMissclassified Prediction: typeMissclassified Prediction: ofMissclassified Prediction: movieMissclassified Prediction: howeverMissclassified Prediction: thisMissclassified Prediction: timeMissclassified Prediction: iMissclassified Prediction: foundMissclassified Prediction: myselfMissclassified Prediction: wantingMissclassified Prediction: toMissclassified Prediction: kickMissclassified Prediction: theMissclassified Prediction: screenMissclassified Prediction: sinceMissclassified Prediction: iMissclassified Prediction: can'tMissclassified Prediction: doMissclassified Prediction: thatMissclassified Prediction: iMissclassified Prediction: willMissclassified Prediction: justMissclassified Prediction: complainMissclassified Prediction: aboutMissclassified Prediction: itMissclassified Prediction: thisMissclassified Prediction: wasMissclassified Prediction: absolutelyMissclassified Prediction: idioticMissclassified Prediction: theMissclassified Prediction: thingsMissclassified Prediction: thatMissclassified Prediction: happenMissclassified Prediction: withMissclassified Prediction: theMissclassified Prediction: deadMissclassified Prediction: kidsMissclassified Prediction: areMissclassified Prediction: veryMissclassified Prediction: coolMissclassified Prediction: butMissclassified Prediction: theMissclassified Prediction: aliveMissclassified Prediction: peopleMissclassified Prediction: areMissclassified Prediction: absoluteMissclassified Prediction: idiotsMissclassified Prediction: iMissclassified Prediction: amMissclassified Prediction: aMissclassified Prediction: grownMissclassified Prediction: manMissclassified Prediction: prettyMissclassified Prediction: bigMissclassified Prediction: andMissclassified Prediction: iMissclassified Prediction: canMissclassified Prediction: defendMissclassified Prediction: myselfMissclassified Prediction: wellMissclassified Prediction: howeverMissclassified Prediction: iMissclassified Prediction: wouldMissclassified Prediction: notMissclassified Prediction: doMissclassified Prediction: halfMissclassified Prediction: theMissclassified Prediction: stuffMissclassified Prediction: theMissclassified Prediction: littleMissclassified Prediction: girlMissclassified Prediction: doesMissclassified Prediction: inMissclassified Prediction: thisMissclassified Prediction: movieMissclassified Prediction: alsoMissclassified Prediction: theMissclassified Prediction: motherMissclassified Prediction: inMissclassified Prediction: thisMissclassified Prediction: movieMissclassified Prediction: isMissclassified Prediction: recklessMissclassified Prediction: withMissclassified Prediction: herMissclassified Prediction: childrenMissclassified Prediction: toMissclassified Prediction: theMissclassified Prediction: pointMissclassified Prediction: ofMissclassified Prediction: neglectMissclassified Prediction: iMissclassified Prediction: wishMissclassified Prediction: iMissclassified Prediction: wasn'tMissclassified Prediction: soMissclassified Prediction: angryMissclassified Prediction: aboutMissclassified Prediction: herMissclassified Prediction: andMissclassified Prediction: herMissclassified Prediction: actionsMissclassified Prediction: becauseMissclassified Prediction: iMissclassified Prediction: wouldMissclassified Prediction: haveMissclassified Prediction: otherwiseMissclassified Prediction: enjoyedMissclassified Prediction: theMissclassified Prediction: flickMissclassified Prediction: whatMissclassified Prediction: aMissclassified Prediction: numberMissclassified Prediction: sheMissclassified Prediction: wasMissclassified Prediction: takeMissclassified Prediction: myMissclassified Prediction: adviseMissclassified Prediction: andMissclassified Prediction: fastMissclassified Prediction: forwardMissclassified Prediction: throughMissclassified Prediction: everythingMissclassified Prediction: youMissclassified Prediction: seeMissclassified Prediction: herMissclassified Prediction: doMissclassified Prediction: untilMissclassified Prediction: theMissclassified Prediction: endMissclassified Prediction: alsoMissclassified Prediction: isMissclassified Prediction: anyoneMissclassified Prediction: elseMissclassified Prediction: gettingMissclassified Prediction: sickMissclassified Prediction: ofMissclassified Prediction: watchingMissclassified Prediction: moviesMissclassified Prediction: thatMissclassified Prediction: areMissclassified Prediction: filmedMissclassified Prediction: soMissclassified Prediction: darkMissclassified Prediction: anymoreMissclassified Prediction: oneMissclassified Prediction: canMissclassified Prediction: hardlyMissclassified Prediction: seeMissclassified Prediction: whatMissclassified Prediction: isMissclassified Prediction: beingMissclassified Prediction: filmedMissclassified Prediction: asMissclassified Prediction: anMissclassified Prediction: audienceMissclassified Prediction: weMissclassified Prediction: areMissclassified Prediction: Missclassified Prediction: involvedMissclassified Prediction: withMissclassified Prediction: theMissclassified Prediction: actionsMissclassified Prediction: onMissclassified Prediction: theMissclassified Prediction: screenMissclassified Prediction: soMissclassified Prediction: thenMissclassified Prediction: whyMissclassified Prediction: theMissclassified Prediction: hellMissclassified Prediction: can'tMissclassified Prediction: weMissclassified Prediction: haveMissclassified Prediction: nightMissclassified Prediction: vision\n"
          ],
          "name": "stdout"
        }
      ]
    },
    {
      "cell_type": "markdown",
      "metadata": {
        "id": "aW64DN3lw_IV",
        "colab_type": "text"
      },
      "source": [
        "#### Takeaways\n",
        "* Neural nets require a lot of preprocessing to create tensors\n",
        "* Dense layers with ReLU activation can solve a wide range of problems\n",
        "* Binary classification can be done with a Dense layer with a single unit, sigmoid activation, and binary cross-entropy loss\n",
        "* Neural nets overfit easily\n",
        "* Many design choices have an effect on accuracy and overfitting. One can try:\n",
        "    - 1 or 3 hidden layers\n",
        "    - more or fewer hidden units (e.g. 64)\n",
        "    - MSE loss instead of binary cross-entropy\n",
        "    - `tanh` activation instead of `ReLU`"
      ]
    },
    {
      "cell_type": "markdown",
      "metadata": {
        "id": "nW0UpJaHxCep",
        "colab_type": "text"
      },
      "source": [
        "### Regularization: build smaller networks\n",
        "* The easiest way to avoid overfitting is to use a simpler model\n",
        "* The number of learnable parameters is called the model _capacity_\n",
        "* A model with more parameters has a higher _memorization capacity_\n",
        "    - The entire training set can be `stored` in the weights\n",
        "    - Learns the mapping from training examples to outputs\n",
        "* Forcing the model to be small forces it to learn a compressed representation that generalizes better\n",
        "    - Always a trade-off between too much and too little capacity\n",
        "* Start with few layers and parameters, incease until you see diminisching returns"
      ]
    },
    {
      "cell_type": "code",
      "metadata": {
        "id": "tpqWFq7gwhWr",
        "colab_type": "code",
        "colab": {}
      },
      "source": [
        "from keras.datasets import imdb\n",
        "import numpy as np\n",
        "\n",
        "(train_data, train_labels), (test_data, test_labels) = imdb.load_data(num_words=10000)\n",
        "\n",
        "def vectorize_sequences(sequences, dimension=10000):\n",
        "    # Create an all-zero matrix of shape (len(sequences), dimension)\n",
        "    results = np.zeros((len(sequences), dimension))\n",
        "    for i, sequence in enumerate(sequences):\n",
        "        results[i, sequence] = 1.  # set specific indices of results[i] to 1s\n",
        "    return results\n",
        "\n",
        "# Our vectorized training data\n",
        "x_train = vectorize_sequences(train_data)\n",
        "# Our vectorized test data\n",
        "x_test = vectorize_sequences(test_data)\n",
        "# Our vectorized labels\n",
        "y_train = np.asarray(train_labels).astype('float32')\n",
        "y_test = np.asarray(test_labels).astype('float32')"
      ],
      "execution_count": 0,
      "outputs": []
    },
    {
      "cell_type": "code",
      "metadata": {
        "id": "zWYH2pR3xH_Y",
        "colab_type": "code",
        "outputId": "ec268620-8a9a-4fb7-9b59-43f55501a718",
        "colab": {
          "base_uri": "https://localhost:8080/",
          "height": 1000
        }
      },
      "source": [
        "from keras import models\n",
        "from keras import layers \n",
        "import matplotlib.pyplot as plt\n",
        "\n",
        "original_model = models.Sequential()\n",
        "original_model.add(layers.Dense(16, activation='relu', input_shape=(10000,)))\n",
        "original_model.add(layers.Dense(16, activation='relu'))\n",
        "original_model.add(layers.Dense(1, activation='sigmoid'))\n",
        "\n",
        "original_model.compile(optimizer='rmsprop',\n",
        "                       loss='binary_crossentropy',\n",
        "                       metrics=['acc'])\n",
        "\n",
        "smaller_model = models.Sequential()\n",
        "smaller_model.add(layers.Dense(4, activation='relu', input_shape=(10000,)))\n",
        "smaller_model.add(layers.Dense(4, activation='relu'))\n",
        "smaller_model.add(layers.Dense(1, activation='sigmoid'))\n",
        "\n",
        "smaller_model.compile(optimizer='rmsprop',\n",
        "                      loss='binary_crossentropy',\n",
        "                      metrics=['acc'])\n",
        "original_hist = original_model.fit(x_train, y_train,\n",
        "                                   epochs=20,\n",
        "                                   batch_size=512, verbose=2,\n",
        "                                   validation_data=(x_test, y_test))\n",
        "smaller_model_hist = smaller_model.fit(x_train, y_train,\n",
        "                                       epochs=20,\n",
        "                                       batch_size=512, verbose=2,\n",
        "                                       validation_data=(x_test, y_test))"
      ],
      "execution_count": 29,
      "outputs": [
        {
          "output_type": "stream",
          "text": [
            "Train on 25000 samples, validate on 25000 samples\n",
            "Epoch 1/20\n",
            " - 5s - loss: 0.4463 - acc: 0.8261 - val_loss: 0.3320 - val_acc: 0.8829\n",
            "Epoch 2/20\n",
            " - 5s - loss: 0.2576 - acc: 0.9105 - val_loss: 0.2848 - val_acc: 0.8892\n",
            "Epoch 3/20\n",
            " - 5s - loss: 0.2008 - acc: 0.9286 - val_loss: 0.2806 - val_acc: 0.8888\n",
            "Epoch 4/20\n",
            " - 5s - loss: 0.1681 - acc: 0.9403 - val_loss: 0.2988 - val_acc: 0.8822\n",
            "Epoch 5/20\n",
            " - 5s - loss: 0.1461 - acc: 0.9480 - val_loss: 0.3119 - val_acc: 0.8788\n",
            "Epoch 6/20\n",
            " - 4s - loss: 0.1297 - acc: 0.9540 - val_loss: 0.3322 - val_acc: 0.8757\n",
            "Epoch 7/20\n",
            " - 4s - loss: 0.1177 - acc: 0.9588 - val_loss: 0.3545 - val_acc: 0.8726\n",
            "Epoch 8/20\n",
            " - 4s - loss: 0.1023 - acc: 0.9660 - val_loss: 0.3933 - val_acc: 0.8656\n",
            "Epoch 9/20\n",
            " - 4s - loss: 0.0947 - acc: 0.9689 - val_loss: 0.4154 - val_acc: 0.8653\n",
            "Epoch 10/20\n",
            " - 4s - loss: 0.0853 - acc: 0.9714 - val_loss: 0.4349 - val_acc: 0.8632\n",
            "Epoch 11/20\n",
            " - 4s - loss: 0.0775 - acc: 0.9747 - val_loss: 0.5084 - val_acc: 0.8517\n",
            "Epoch 12/20\n",
            " - 4s - loss: 0.0718 - acc: 0.9753 - val_loss: 0.4931 - val_acc: 0.8604\n",
            "Epoch 13/20\n",
            " - 4s - loss: 0.0619 - acc: 0.9795 - val_loss: 0.5596 - val_acc: 0.8515\n",
            "Epoch 14/20\n",
            " - 4s - loss: 0.0583 - acc: 0.9817 - val_loss: 0.5502 - val_acc: 0.8576\n",
            "Epoch 15/20\n",
            " - 4s - loss: 0.0493 - acc: 0.9848 - val_loss: 0.5930 - val_acc: 0.8545\n",
            "Epoch 16/20\n",
            " - 4s - loss: 0.0456 - acc: 0.9860 - val_loss: 0.6302 - val_acc: 0.8504\n",
            "Epoch 17/20\n",
            " - 4s - loss: 0.0423 - acc: 0.9868 - val_loss: 0.6560 - val_acc: 0.8518\n",
            "Epoch 18/20\n",
            " - 4s - loss: 0.0368 - acc: 0.9890 - val_loss: 0.7560 - val_acc: 0.8432\n",
            "Epoch 19/20\n",
            " - 4s - loss: 0.0347 - acc: 0.9897 - val_loss: 0.7328 - val_acc: 0.8484\n",
            "Epoch 20/20\n",
            " - 3s - loss: 0.0316 - acc: 0.9904 - val_loss: 0.7618 - val_acc: 0.8474\n",
            "Train on 25000 samples, validate on 25000 samples\n",
            "Epoch 1/20\n",
            " - 3s - loss: 0.5406 - acc: 0.8008 - val_loss: 0.4537 - val_acc: 0.8453\n",
            "Epoch 2/20\n",
            " - 3s - loss: 0.3692 - acc: 0.8908 - val_loss: 0.3531 - val_acc: 0.8776\n",
            "Epoch 3/20\n",
            " - 3s - loss: 0.2808 - acc: 0.9133 - val_loss: 0.3113 - val_acc: 0.8851\n",
            "Epoch 4/20\n",
            " - 3s - loss: 0.2293 - acc: 0.9266 - val_loss: 0.2872 - val_acc: 0.8895\n",
            "Epoch 5/20\n",
            " - 3s - loss: 0.1979 - acc: 0.9349 - val_loss: 0.2805 - val_acc: 0.8892\n",
            "Epoch 6/20\n",
            " - 3s - loss: 0.1756 - acc: 0.9416 - val_loss: 0.2812 - val_acc: 0.8883\n",
            "Epoch 7/20\n",
            " - 3s - loss: 0.1593 - acc: 0.9480 - val_loss: 0.2868 - val_acc: 0.8868\n",
            "Epoch 8/20\n",
            " - 3s - loss: 0.1460 - acc: 0.9536 - val_loss: 0.3008 - val_acc: 0.8802\n",
            "Epoch 9/20\n",
            " - 3s - loss: 0.1335 - acc: 0.9569 - val_loss: 0.3046 - val_acc: 0.8812\n",
            "Epoch 10/20\n",
            " - 3s - loss: 0.1235 - acc: 0.9604 - val_loss: 0.3167 - val_acc: 0.8794\n",
            "Epoch 11/20\n",
            " - 3s - loss: 0.1144 - acc: 0.9635 - val_loss: 0.3274 - val_acc: 0.8774\n",
            "Epoch 12/20\n",
            " - 3s - loss: 0.1070 - acc: 0.9671 - val_loss: 0.3399 - val_acc: 0.8748\n",
            "Epoch 13/20\n",
            " - 3s - loss: 0.0994 - acc: 0.9701 - val_loss: 0.3608 - val_acc: 0.8704\n",
            "Epoch 14/20\n",
            " - 3s - loss: 0.0938 - acc: 0.9720 - val_loss: 0.3675 - val_acc: 0.8704\n",
            "Epoch 15/20\n",
            " - 3s - loss: 0.0874 - acc: 0.9742 - val_loss: 0.3831 - val_acc: 0.8702\n",
            "Epoch 16/20\n",
            " - 3s - loss: 0.0819 - acc: 0.9766 - val_loss: 0.4009 - val_acc: 0.8687\n",
            "Epoch 17/20\n",
            " - 3s - loss: 0.0775 - acc: 0.9774 - val_loss: 0.4130 - val_acc: 0.8665\n",
            "Epoch 18/20\n",
            " - 3s - loss: 0.0716 - acc: 0.9804 - val_loss: 0.4307 - val_acc: 0.8654\n",
            "Epoch 19/20\n",
            " - 3s - loss: 0.0673 - acc: 0.9817 - val_loss: 0.4480 - val_acc: 0.8639\n",
            "Epoch 20/20\n",
            " - 3s - loss: 0.0630 - acc: 0.9833 - val_loss: 0.4633 - val_acc: 0.8606\n"
          ],
          "name": "stdout"
        }
      ]
    },
    {
      "cell_type": "code",
      "metadata": {
        "id": "nVmXHSDKxO6J",
        "colab_type": "code",
        "outputId": "114c6f89-e2bb-4b26-8421-813c42f3dd82",
        "colab": {
          "base_uri": "https://localhost:8080/",
          "height": 34
        }
      },
      "source": [
        "original_hist.history.keys()"
      ],
      "execution_count": 30,
      "outputs": [
        {
          "output_type": "execute_result",
          "data": {
            "text/plain": [
              "dict_keys(['val_loss', 'val_acc', 'loss', 'acc'])"
            ]
          },
          "metadata": {
            "tags": []
          },
          "execution_count": 30
        }
      ]
    },
    {
      "cell_type": "code",
      "metadata": {
        "id": "q7iAU_lNx22o",
        "colab_type": "code",
        "outputId": "725c6cf4-087c-459f-aebe-d1a3f81588cf",
        "colab": {
          "base_uri": "https://localhost:8080/",
          "height": 501
        }
      },
      "source": [
        "plt.plot(original_hist.history['val_loss'])\n",
        "plt.plot(smaller_model_hist.history['val_loss'])\n",
        "plt.title('Validation loss')\n",
        "plt.ylabel('loss')\n",
        "plt.xlabel('epoch')\n",
        "plt.legend(['original', 'smaller'], loc='upper right')\n",
        "plt.show()"
      ],
      "execution_count": 31,
      "outputs": [
        {
          "output_type": "display_data",
          "data": {
            "image/png": "[encoded data removed]",
            "text/plain": [
              "<Figure size 750x500 with 1 Axes>"
            ]
          },
          "metadata": {
            "tags": []
          }
        }
      ]
    },
    {
      "cell_type": "markdown",
      "metadata": {
        "id": "K3D3Ro1ZyK65",
        "colab_type": "text"
      },
      "source": [
        "Validation loss of the original model is more and smaller model has less validation loss. "
      ]
    },
    {
      "cell_type": "markdown",
      "metadata": {
        "id": "7WwVzBqRyQrn",
        "colab_type": "text"
      },
      "source": [
        "### Regularization: Weight regularization\n",
        "* As we did many times before, we can also add weight regularization to our loss function\n",
        "- L1 regularization: leads to _sparse networks_ with many weights that are 0\n",
        "- L2 regularization: leads to many very small weights\n",
        "    - Also called _weight decay_ in neural net literature\n",
        "* In Keras, add `kernel_regularizer` to every layer"
      ]
    },
    {
      "cell_type": "code",
      "metadata": {
        "id": "rdl5FmwyyCv4",
        "colab_type": "code",
        "colab": {}
      },
      "source": [
        "from keras import regularizers\n",
        "from keras import models\n",
        "from keras import layers \n",
        "import matplotlib.pyplot as plt\n",
        "\n",
        "l2_model = models.Sequential()\n",
        "l2_model.add(layers.Dense(16, kernel_regularizer=regularizers.l2(0.001),\n",
        "                          activation='relu', input_shape=(10000,)))\n",
        "l2_model.add(layers.Dense(16, kernel_regularizer=regularizers.l2(0.001),\n",
        "                          activation='relu'))\n",
        "l2_model.add(layers.Dense(1, activation='sigmoid'))"
      ],
      "execution_count": 0,
      "outputs": []
    },
    {
      "cell_type": "code",
      "metadata": {
        "id": "dq3H3O1EyUIT",
        "colab_type": "code",
        "colab": {}
      },
      "source": [
        "l2_model.compile(optimizer='rmsprop',\n",
        "                 loss='binary_crossentropy',\n",
        "                 metrics=['acc'])"
      ],
      "execution_count": 0,
      "outputs": []
    },
    {
      "cell_type": "code",
      "metadata": {
        "id": "KUBLr8ZFyYcL",
        "colab_type": "code",
        "outputId": "1fe6b353-98d1-4690-bbc4-c656684dbdc7",
        "colab": {
          "base_uri": "https://localhost:8080/",
          "height": 714
        }
      },
      "source": [
        "l2_model_hist = l2_model.fit(x_train, y_train,\n",
        "                             epochs=20,\n",
        "                             batch_size=512, verbose=2,\n",
        "                             validation_data=(x_test, y_test))"
      ],
      "execution_count": 34,
      "outputs": [
        {
          "output_type": "stream",
          "text": [
            "Train on 25000 samples, validate on 25000 samples\n",
            "Epoch 1/20\n",
            " - 4s - loss: 0.4831 - acc: 0.8196 - val_loss: 0.4211 - val_acc: 0.8402\n",
            "Epoch 2/20\n",
            " - 4s - loss: 0.3096 - acc: 0.9046 - val_loss: 0.3316 - val_acc: 0.8892\n",
            "Epoch 3/20\n",
            " - 3s - loss: 0.2650 - acc: 0.9233 - val_loss: 0.3587 - val_acc: 0.8735\n",
            "Epoch 4/20\n",
            " - 4s - loss: 0.2473 - acc: 0.9281 - val_loss: 0.3514 - val_acc: 0.8787\n",
            "Epoch 5/20\n",
            " - 3s - loss: 0.2320 - acc: 0.9354 - val_loss: 0.3977 - val_acc: 0.8632\n",
            "Epoch 6/20\n",
            " - 3s - loss: 0.2297 - acc: 0.9352 - val_loss: 0.3514 - val_acc: 0.8819\n",
            "Epoch 7/20\n",
            " - 4s - loss: 0.2183 - acc: 0.9402 - val_loss: 0.3870 - val_acc: 0.8716\n",
            "Epoch 8/20\n",
            " - 3s - loss: 0.2144 - acc: 0.9425 - val_loss: 0.3817 - val_acc: 0.8736\n",
            "Epoch 9/20\n",
            " - 4s - loss: 0.2120 - acc: 0.9432 - val_loss: 0.3783 - val_acc: 0.8758\n",
            "Epoch 10/20\n",
            " - 4s - loss: 0.2089 - acc: 0.9446 - val_loss: 0.3816 - val_acc: 0.8750\n",
            "Epoch 11/20\n",
            " - 4s - loss: 0.2033 - acc: 0.9485 - val_loss: 0.3873 - val_acc: 0.8740\n",
            "Epoch 12/20\n",
            " - 4s - loss: 0.2024 - acc: 0.9473 - val_loss: 0.4415 - val_acc: 0.8612\n",
            "Epoch 13/20\n",
            " - 3s - loss: 0.1995 - acc: 0.9477 - val_loss: 0.4290 - val_acc: 0.8634\n",
            "Epoch 14/20\n",
            " - 3s - loss: 0.1988 - acc: 0.9466 - val_loss: 0.4718 - val_acc: 0.8516\n",
            "Epoch 15/20\n",
            " - 3s - loss: 0.1998 - acc: 0.9471 - val_loss: 0.4103 - val_acc: 0.8699\n",
            "Epoch 16/20\n",
            " - 3s - loss: 0.1922 - acc: 0.9510 - val_loss: 0.4853 - val_acc: 0.8484\n",
            "Epoch 17/20\n",
            " - 3s - loss: 0.1945 - acc: 0.9483 - val_loss: 0.4162 - val_acc: 0.8698\n",
            "Epoch 18/20\n",
            " - 3s - loss: 0.1875 - acc: 0.9526 - val_loss: 0.4312 - val_acc: 0.8667\n",
            "Epoch 19/20\n",
            " - 3s - loss: 0.1877 - acc: 0.9510 - val_loss: 0.4332 - val_acc: 0.8656\n",
            "Epoch 20/20\n",
            " - 3s - loss: 0.1821 - acc: 0.9548 - val_loss: 0.4302 - val_acc: 0.8668\n"
          ],
          "name": "stdout"
        }
      ]
    },
    {
      "cell_type": "code",
      "metadata": {
        "id": "rBruRvKSycFH",
        "colab_type": "code",
        "outputId": "1026a796-426f-4b5b-f5ce-2516ba3df34b",
        "colab": {
          "base_uri": "https://localhost:8080/",
          "height": 501
        }
      },
      "source": [
        "plt.plot(original_hist.history['val_loss'])\n",
        "plt.plot(l2_model_hist.history['val_loss'])\n",
        "plt.title('Validation loss')\n",
        "plt.ylabel('loss')\n",
        "plt.xlabel('epoch')\n",
        "plt.legend(['original', 'l2 model'], loc='upper right')\n",
        "plt.show()\n"
      ],
      "execution_count": 35,
      "outputs": [
        {
          "output_type": "display_data",
          "data": {
            "image/png": "[encoded data removed]",
            "text/plain": [
              "<Figure size 750x500 with 1 Axes>"
            ]
          },
          "metadata": {
            "tags": []
          }
        }
      ]
    },
    {
      "cell_type": "markdown",
      "metadata": {
        "id": "g17SVLvezHn_",
        "colab_type": "text"
      },
      "source": [
        "\n",
        "The loss for original model is more in comparison with the loss of the regularization model. "
      ]
    },
    {
      "cell_type": "markdown",
      "metadata": {
        "id": "5KFQixSMyj5_",
        "colab_type": "text"
      },
      "source": [
        "### Regularization: dropout\n",
        "* One of the most effective and commonly used regularization techniques\n",
        "* Randomly set a number of outputs of the layer to 0\n",
        "* Idea: break up accidental non-significant learned patterns \n",
        "* _Dropout rate_: fraction of the outputs that are zeroed-out\n",
        "    - Usually between 0.2 and 0.5\n",
        "* At test time, nothing is dropped out, but the output values are scaled down by the dropout rate\n",
        "    - Balances out that more units are active than during training\n",
        "* In Keras: add `Dropout` layers between the normal layers"
      ]
    },
    {
      "cell_type": "code",
      "metadata": {
        "id": "y0Mj8XqkyrSS",
        "colab_type": "code",
        "outputId": "509033d9-eed6-4065-cad2-56fc844ad6c2",
        "colab": {
          "base_uri": "https://localhost:8080/",
          "height": 122
        }
      },
      "source": [
        "from keras import models\n",
        "from keras import layers \n",
        "import matplotlib.pyplot as plt\n",
        "\n",
        "dpt_model = models.Sequential()\n",
        "dpt_model.add(layers.Dense(16, activation='relu', input_shape=(10000,)))\n",
        "dpt_model.add(layers.Dropout(0.5))\n",
        "dpt_model.add(layers.Dense(16, activation='relu'))\n",
        "dpt_model.add(layers.Dropout(0.5))\n",
        "dpt_model.add(layers.Dense(1, activation='sigmoid'))\n",
        "\n",
        "dpt_model.compile(optimizer='rmsprop',\n",
        "                  loss='binary_crossentropy',\n",
        "                  metrics=['acc'])"
      ],
      "execution_count": 36,
      "outputs": [
        {
          "output_type": "stream",
          "text": [
            "WARNING:tensorflow:From /usr/local/lib/python3.6/dist-packages/keras/backend/tensorflow_backend.py:148: The name tf.placeholder_with_default is deprecated. Please use tf.compat.v1.placeholder_with_default instead.\n",
            "\n",
            "WARNING:tensorflow:From /usr/local/lib/python3.6/dist-packages/keras/backend/tensorflow_backend.py:3733: calling dropout (from tensorflow.python.ops.nn_ops) with keep_prob is deprecated and will be removed in a future version.\n",
            "Instructions for updating:\n",
            "Please use `rate` instead of `keep_prob`. Rate should be set to `rate = 1 - keep_prob`.\n"
          ],
          "name": "stdout"
        }
      ]
    },
    {
      "cell_type": "code",
      "metadata": {
        "id": "43aBCaoJy0Ef",
        "colab_type": "code",
        "outputId": "11e73f4b-656e-4485-8c13-530fdcf1f081",
        "colab": {
          "base_uri": "https://localhost:8080/",
          "height": 714
        }
      },
      "source": [
        "dpt_model_hist = dpt_model.fit(x_train, y_train,\n",
        "                               epochs=20,\n",
        "                               \n",
        "                               batch_size=512, verbose=2,\n",
        "                               validation_data=(x_test, y_test))"
      ],
      "execution_count": 37,
      "outputs": [
        {
          "output_type": "stream",
          "text": [
            "Train on 25000 samples, validate on 25000 samples\n",
            "Epoch 1/20\n",
            " - 4s - loss: 0.5867 - acc: 0.6854 - val_loss: 0.4234 - val_acc: 0.8617\n",
            "Epoch 2/20\n",
            " - 3s - loss: 0.4243 - acc: 0.8219 - val_loss: 0.3259 - val_acc: 0.8817\n",
            "Epoch 3/20\n",
            " - 3s - loss: 0.3376 - acc: 0.8687 - val_loss: 0.2892 - val_acc: 0.8856\n",
            "Epoch 4/20\n",
            " - 3s - loss: 0.2945 - acc: 0.8915 - val_loss: 0.2840 - val_acc: 0.8852\n",
            "Epoch 5/20\n",
            " - 3s - loss: 0.2562 - acc: 0.9086 - val_loss: 0.2818 - val_acc: 0.8904\n",
            "Epoch 6/20\n",
            " - 3s - loss: 0.2278 - acc: 0.9200 - val_loss: 0.2878 - val_acc: 0.8871\n",
            "Epoch 7/20\n",
            " - 3s - loss: 0.2038 - acc: 0.9292 - val_loss: 0.3089 - val_acc: 0.8873\n",
            "Epoch 8/20\n",
            " - 3s - loss: 0.1896 - acc: 0.9351 - val_loss: 0.3210 - val_acc: 0.8848\n",
            "Epoch 9/20\n",
            " - 3s - loss: 0.1717 - acc: 0.9412 - val_loss: 0.3468 - val_acc: 0.8810\n",
            "Epoch 10/20\n",
            " - 3s - loss: 0.1611 - acc: 0.9452 - val_loss: 0.3794 - val_acc: 0.8780\n",
            "Epoch 11/20\n",
            " - 3s - loss: 0.1508 - acc: 0.9476 - val_loss: 0.3943 - val_acc: 0.8777\n",
            "Epoch 12/20\n",
            " - 3s - loss: 0.1462 - acc: 0.9495 - val_loss: 0.4237 - val_acc: 0.8767\n",
            "Epoch 13/20\n",
            " - 3s - loss: 0.1391 - acc: 0.9533 - val_loss: 0.4309 - val_acc: 0.8750\n",
            "Epoch 14/20\n",
            " - 3s - loss: 0.1291 - acc: 0.9558 - val_loss: 0.4592 - val_acc: 0.8768\n",
            "Epoch 15/20\n",
            " - 3s - loss: 0.1239 - acc: 0.9588 - val_loss: 0.4902 - val_acc: 0.8737\n",
            "Epoch 16/20\n",
            " - 3s - loss: 0.1177 - acc: 0.9594 - val_loss: 0.5111 - val_acc: 0.8684\n",
            "Epoch 17/20\n",
            " - 3s - loss: 0.1201 - acc: 0.9619 - val_loss: 0.5101 - val_acc: 0.8713\n",
            "Epoch 18/20\n",
            " - 3s - loss: 0.1177 - acc: 0.9610 - val_loss: 0.5414 - val_acc: 0.8668\n",
            "Epoch 19/20\n",
            " - 3s - loss: 0.1106 - acc: 0.9645 - val_loss: 0.5610 - val_acc: 0.8696\n",
            "Epoch 20/20\n",
            " - 3s - loss: 0.1107 - acc: 0.9652 - val_loss: 0.5740 - val_acc: 0.8706\n"
          ],
          "name": "stdout"
        }
      ]
    },
    {
      "cell_type": "code",
      "metadata": {
        "id": "kvELDscSy08N",
        "colab_type": "code",
        "outputId": "ead8ae0a-f214-4a10-f18c-0bbd541ba81f",
        "colab": {
          "base_uri": "https://localhost:8080/",
          "height": 501
        }
      },
      "source": [
        "plt.plot(original_hist.history['val_loss'])\n",
        "plt.plot(dpt_model_hist.history['val_loss'])\n",
        "plt.title('Validation Loss')\n",
        "plt.ylabel('loss')\n",
        "plt.xlabel('epoch')\n",
        "plt.legend(['original', 'dropout model'], loc='upper right')\n",
        "plt.show()"
      ],
      "execution_count": 38,
      "outputs": [
        {
          "output_type": "display_data",
          "data": {
            "image/png": "[encoded data removed]",
            "text/plain": [
              "<Figure size 750x500 with 1 Axes>"
            ]
          },
          "metadata": {
            "tags": []
          }
        }
      ]
    },
    {
      "cell_type": "markdown",
      "metadata": {
        "id": "jguN_esvzBGy",
        "colab_type": "text"
      },
      "source": [
        "\n",
        "Here, there is low validation but the behavious is almost same as the original. \n"
      ]
    },
    {
      "cell_type": "markdown",
      "metadata": {
        "id": "7pC0In-xzZK_",
        "colab_type": "text"
      },
      "source": [
        "### Regularization recap\n",
        "* Get more training data\n",
        "* Reduce the capacity of the network\n",
        "* Add weight regularization\n",
        "* Add dropout\n",
        "* Either start with a simple model and add capacity\n",
        "* Or, start with a complex model and then regularize by adding weight regularization and dropout"
      ]
    },
    {
      "cell_type": "markdown",
      "metadata": {
        "id": "6tphcw_rzeG1",
        "colab_type": "text"
      },
      "source": [
        "### Regression\n",
        "* Dataset: 506 examples of houses and sale prices (Boston)\n",
        "    - Included in Keras, with a 1/5 train-test split\n",
        "* Each row is one house price, described by numeric properties of the house and neighborhood\n",
        "* Small dataset, non-normalized features"
      ]
    },
    {
      "cell_type": "code",
      "metadata": {
        "id": "X8tbzRUHzS0W",
        "colab_type": "code",
        "outputId": "c27dfad1-f637-431d-c978-b0ef8e0d3a20",
        "colab": {
          "base_uri": "https://localhost:8080/",
          "height": 51
        }
      },
      "source": [
        "from keras.datasets import boston_housing\n",
        "\n",
        "(train_data, train_targets), (test_data, test_targets) =  boston_housing.load_data()"
      ],
      "execution_count": 39,
      "outputs": [
        {
          "output_type": "stream",
          "text": [
            "Downloading data from https://s3.amazonaws.com/keras-datasets/boston_housing.npz\n",
            "57344/57026 [==============================] - 0s 6us/step\n"
          ],
          "name": "stdout"
        }
      ]
    },
    {
      "cell_type": "markdown",
      "metadata": {
        "id": "MMu7rz-K0ANM",
        "colab_type": "text"
      },
      "source": [
        "#### Preprocessing\n",
        "* Neural nets work a lot better if we normalize the features first. \n",
        "* Keras has no built-in support so we have to do this manually (or with scikit-learn)\n",
        "    - Again, be careful not to look at the test data during normalization\n",
        "    "
      ]
    },
    {
      "cell_type": "code",
      "metadata": {
        "id": "nY-GEsLkz6Rc",
        "colab_type": "code",
        "colab": {}
      },
      "source": [
        "mean, std = train_data.mean(axis=0), train_data.std(axis=0)\n",
        "train_data -= mean\n",
        "train_data /= std\n",
        "\n",
        "test_data -= mean\n",
        "test_data /= std"
      ],
      "execution_count": 0,
      "outputs": []
    },
    {
      "cell_type": "markdown",
      "metadata": {
        "id": "1bxf4ejf0GJK",
        "colab_type": "text"
      },
      "source": [
        "#### Building the network\n",
        "* This is a small dataset, so easy to overfit\n",
        "    * We use 2 hidden layers of 64 units each\n",
        "* Use smaller batches, more epochs\n",
        "* Since we want scalar output, the output layer is one unit without activation\n",
        "* Loss function is Mean Squared Error (bigger penalty)\n",
        "* Evaluation metric is Mean Absolute Error (more interpretable)\n",
        "* We will also use cross-validation, so we wrap the model building in a function, so that we can call it multiple times\n",
        "\n",
        "1. Create a function build_model that returns the neural network model described above"
      ]
    },
    {
      "cell_type": "code",
      "metadata": {
        "id": "3WizfaXv0C0W",
        "colab_type": "code",
        "colab": {}
      },
      "source": [
        "\n",
        "def build_model():\n",
        "    model = models.Sequential()\n",
        "    model.add(layers.Dense(64, activation='relu',\n",
        "                           input_shape=(train_data.shape[1],)))\n",
        "    model.add(layers.Dense(64, activation='relu'))\n",
        "    model.add(layers.Dense(1))\n",
        "    model.compile(optimizer='rmsprop', loss='mse', metrics=['mae'])\n",
        "    return model"
      ],
      "execution_count": 0,
      "outputs": []
    },
    {
      "cell_type": "markdown",
      "metadata": {
        "id": "ZUcGnylW0L9x",
        "colab_type": "text"
      },
      "source": [
        "#### Cross-validation\n",
        "* Keras does not have support for cross-validation\n",
        "* We can implement cross-validation ourselves (seeprovided code below)\n",
        "* Alternatively, we can wrap a Keras model as a scikit-learn estimator\n",
        "* Generally speaking, cross-validation is tricky with neural nets\n",
        "    * Some fold may not converge, or fluctuate on random initialization\n",
        "    "
      ]
    },
    {
      "cell_type": "code",
      "metadata": {
        "id": "DFeE1I0M0JED",
        "colab_type": "code",
        "outputId": "f3a2f855-eabc-4f87-9d26-31bd46b6685b",
        "colab": {
          "base_uri": "https://localhost:8080/",
          "height": 85
        }
      },
      "source": [
        "import numpy as np\n",
        "\n",
        "k = 4\n",
        "num_val_samples = len(train_data) // k\n",
        "num_epochs = 20\n",
        "all_scores = []\n",
        "for i in range(k):\n",
        "    print('processing fold #', i)\n",
        "    # Prepare the validation data: data from partition # k\n",
        "    val_data = train_data[i * num_val_samples: (i + 1) * num_val_samples]\n",
        "    val_targets = train_targets[i * num_val_samples: (i + 1) * num_val_samples]\n",
        "\n",
        "    # Prepare the training data: data from all other partitions\n",
        "    partial_train_data = np.concatenate(\n",
        "        [train_data[:i * num_val_samples],\n",
        "         train_data[(i + 1) * num_val_samples:]],\n",
        "        axis=0)\n",
        "    partial_train_targets = np.concatenate(\n",
        "        [train_targets[:i * num_val_samples],\n",
        "         train_targets[(i + 1) * num_val_samples:]],\n",
        "        axis=0)\n",
        "\n",
        "    # Build the Keras model (already compiled)\n",
        "    model = build_model()\n",
        "    # Train the model (in silent mode, verbose=0)\n",
        "    model.fit(partial_train_data, partial_train_targets,\n",
        "              epochs=num_epochs, batch_size=1, verbose=0)\n",
        "    # Evaluate the model on the validation data\n",
        "    val_mse, val_mae = model.evaluate(val_data, val_targets, verbose=2)\n",
        "    all_scores.append(val_mae)"
      ],
      "execution_count": 42,
      "outputs": [
        {
          "output_type": "stream",
          "text": [
            "processing fold # 0\n",
            "processing fold # 1\n",
            "processing fold # 2\n",
            "processing fold # 3\n"
          ],
          "name": "stdout"
        }
      ]
    },
    {
      "cell_type": "markdown",
      "metadata": {
        "id": "bYySYp2D0Xmu",
        "colab_type": "text"
      },
      "source": [
        "1. Train for longer (200 epochs) and keep track of loss after every epoch. Plot and describe the loss as a function of epoch number."
      ]
    },
    {
      "cell_type": "code",
      "metadata": {
        "id": "0tyTv_0a0SuQ",
        "colab_type": "code",
        "outputId": "9a486606-7580-4182-a48e-846b7a9db098",
        "colab": {
          "base_uri": "https://localhost:8080/",
          "height": 1000
        }
      },
      "source": [
        "from keras import backend as K\n",
        "K.clear_session() # Memory clean-up\n",
        "\n",
        "num_epochs = 200\n",
        "all_mae_histories = []\n",
        "for i in range(k):\n",
        "    print('processing fold #', i)\n",
        "    # Prepare the validation data: data from partition # k\n",
        "    val_data = train_data[i * num_val_samples: (i + 1) * num_val_samples]\n",
        "    val_targets = train_targets[i * num_val_samples: (i + 1) * num_val_samples]\n",
        "\n",
        "    # Prepare the training data: data from all other partitions\n",
        "    partial_train_data = np.concatenate(\n",
        "        [train_data[:i * num_val_samples],\n",
        "         train_data[(i + 1) * num_val_samples:]],\n",
        "        axis=0)\n",
        "    partial_train_targets = np.concatenate(\n",
        "        [train_targets[:i * num_val_samples],\n",
        "         train_targets[(i + 1) * num_val_samples:]],\n",
        "        axis=0)\n",
        "\n",
        "    # Build the Keras model (already compiled)\n",
        "    model = build_model()\n",
        "    # Train the model (in silent mode, verbose=0)\n",
        "    history = model.fit(partial_train_data, partial_train_targets,\n",
        "                        validation_data=(val_data, val_targets),\n",
        "                        epochs=num_epochs, batch_size=1, verbose=2)\n",
        "    mae_history = history.history['val_loss']\n",
        "    all_mae_histories.append(mae_history)"
      ],
      "execution_count": 43,
      "outputs": [
        {
          "output_type": "stream",
          "text": [
            "WARNING:tensorflow:From /usr/local/lib/python3.6/dist-packages/keras/backend/tensorflow_backend.py:107: The name tf.reset_default_graph is deprecated. Please use tf.compat.v1.reset_default_graph instead.\n",
            "\n",
            "processing fold # 0\n",
            "Train on 303 samples, validate on 101 samples\n",
            "Epoch 1/200\n",
            " - 0s - loss: 217.2200 - mean_absolute_error: 11.6028 - val_loss: 34.4495 - val_mean_absolute_error: 3.7387\n",
            "Epoch 2/200\n",
            " - 0s - loss: 28.9659 - mean_absolute_error: 3.7252 - val_loss: 23.0076 - val_mean_absolute_error: 2.9196\n",
            "Epoch 3/200\n",
            " - 0s - loss: 20.6947 - mean_absolute_error: 3.1284 - val_loss: 18.7356 - val_mean_absolute_error: 2.9021\n",
            "Epoch 4/200\n",
            " - 0s - loss: 17.8058 - mean_absolute_error: 2.8652 - val_loss: 15.3445 - val_mean_absolute_error: 2.5264\n",
            "Epoch 5/200\n",
            " - 0s - loss: 14.6458 - mean_absolute_error: 2.5856 - val_loss: 16.7070 - val_mean_absolute_error: 3.0783\n",
            "Epoch 6/200\n",
            " - 0s - loss: 14.8783 - mean_absolute_error: 2.5948 - val_loss: 10.8841 - val_mean_absolute_error: 2.2307\n",
            "Epoch 7/200\n",
            " - 0s - loss: 13.5524 - mean_absolute_error: 2.4809 - val_loss: 13.0760 - val_mean_absolute_error: 2.2278\n",
            "Epoch 8/200\n",
            " - 0s - loss: 13.2252 - mean_absolute_error: 2.4499 - val_loss: 10.6094 - val_mean_absolute_error: 2.2966\n",
            "Epoch 9/200\n",
            " - 0s - loss: 12.5405 - mean_absolute_error: 2.4064 - val_loss: 10.8982 - val_mean_absolute_error: 2.1792\n",
            "Epoch 10/200\n",
            " - 0s - loss: 12.4442 - mean_absolute_error: 2.3761 - val_loss: 9.7283 - val_mean_absolute_error: 2.1751\n",
            "Epoch 11/200\n",
            " - 0s - loss: 11.4396 - mean_absolute_error: 2.2413 - val_loss: 9.4787 - val_mean_absolute_error: 2.1409\n",
            "Epoch 12/200\n",
            " - 0s - loss: 11.7934 - mean_absolute_error: 2.2443 - val_loss: 9.9745 - val_mean_absolute_error: 2.1788\n",
            "Epoch 13/200\n",
            " - 0s - loss: 11.2752 - mean_absolute_error: 2.1857 - val_loss: 8.8803 - val_mean_absolute_error: 1.8916\n",
            "Epoch 14/200\n",
            " - 0s - loss: 10.8280 - mean_absolute_error: 2.1737 - val_loss: 8.6684 - val_mean_absolute_error: 1.9828\n",
            "Epoch 15/200\n",
            " - 0s - loss: 10.4792 - mean_absolute_error: 2.1017 - val_loss: 9.7439 - val_mean_absolute_error: 2.2090\n",
            "Epoch 16/200\n",
            " - 0s - loss: 10.1149 - mean_absolute_error: 2.1186 - val_loss: 11.3079 - val_mean_absolute_error: 2.2313\n",
            "Epoch 17/200\n",
            " - 0s - loss: 10.2954 - mean_absolute_error: 2.0303 - val_loss: 8.4219 - val_mean_absolute_error: 1.8787\n",
            "Epoch 18/200\n",
            " - 0s - loss: 9.8447 - mean_absolute_error: 2.0707 - val_loss: 8.3618 - val_mean_absolute_error: 2.0192\n",
            "Epoch 19/200\n",
            " - 0s - loss: 9.5055 - mean_absolute_error: 1.9952 - val_loss: 8.2157 - val_mean_absolute_error: 1.9047\n",
            "Epoch 20/200\n",
            " - 0s - loss: 9.5555 - mean_absolute_error: 2.0772 - val_loss: 8.2629 - val_mean_absolute_error: 1.9823\n",
            "Epoch 21/200\n",
            " - 0s - loss: 9.5278 - mean_absolute_error: 1.9764 - val_loss: 8.1963 - val_mean_absolute_error: 2.0040\n",
            "Epoch 22/200\n",
            " - 0s - loss: 8.8927 - mean_absolute_error: 1.9606 - val_loss: 8.4030 - val_mean_absolute_error: 2.0210\n",
            "Epoch 23/200\n",
            " - 0s - loss: 9.0204 - mean_absolute_error: 1.9356 - val_loss: 8.7912 - val_mean_absolute_error: 2.1231\n",
            "Epoch 24/200\n",
            " - 0s - loss: 8.9827 - mean_absolute_error: 1.9360 - val_loss: 8.1980 - val_mean_absolute_error: 2.0051\n",
            "Epoch 25/200\n",
            " - 0s - loss: 8.8762 - mean_absolute_error: 1.9903 - val_loss: 8.3264 - val_mean_absolute_error: 1.7296\n",
            "Epoch 26/200\n",
            " - 0s - loss: 8.3779 - mean_absolute_error: 1.9542 - val_loss: 8.6122 - val_mean_absolute_error: 2.0286\n",
            "Epoch 27/200\n",
            " - 0s - loss: 8.6085 - mean_absolute_error: 1.8873 - val_loss: 7.7678 - val_mean_absolute_error: 1.8799\n",
            "Epoch 28/200\n",
            " - 0s - loss: 8.4234 - mean_absolute_error: 1.8517 - val_loss: 8.3794 - val_mean_absolute_error: 1.8516\n",
            "Epoch 29/200\n",
            " - 0s - loss: 8.3882 - mean_absolute_error: 1.8628 - val_loss: 8.3129 - val_mean_absolute_error: 1.8596\n",
            "Epoch 30/200\n",
            " - 0s - loss: 8.2871 - mean_absolute_error: 1.8013 - val_loss: 7.8228 - val_mean_absolute_error: 2.0106\n",
            "Epoch 31/200\n",
            " - 0s - loss: 8.0627 - mean_absolute_error: 1.8204 - val_loss: 8.5306 - val_mean_absolute_error: 2.1725\n",
            "Epoch 32/200\n",
            " - 0s - loss: 7.9560 - mean_absolute_error: 1.8097 - val_loss: 9.2128 - val_mean_absolute_error: 2.2677\n",
            "Epoch 33/200\n",
            " - 0s - loss: 7.8406 - mean_absolute_error: 1.8099 - val_loss: 8.1358 - val_mean_absolute_error: 1.9971\n",
            "Epoch 34/200\n",
            " - 0s - loss: 8.0854 - mean_absolute_error: 1.7527 - val_loss: 7.8833 - val_mean_absolute_error: 1.9604\n",
            "Epoch 35/200\n",
            " - 0s - loss: 7.7311 - mean_absolute_error: 1.7955 - val_loss: 7.8187 - val_mean_absolute_error: 1.7960\n",
            "Epoch 36/200\n",
            " - 0s - loss: 7.8032 - mean_absolute_error: 1.7471 - val_loss: 8.0494 - val_mean_absolute_error: 1.9941\n",
            "Epoch 37/200\n",
            " - 0s - loss: 7.8643 - mean_absolute_error: 1.8108 - val_loss: 7.6356 - val_mean_absolute_error: 1.6904\n",
            "Epoch 38/200\n",
            " - 0s - loss: 6.8663 - mean_absolute_error: 1.6970 - val_loss: 8.2369 - val_mean_absolute_error: 2.1666\n",
            "Epoch 39/200\n",
            " - 0s - loss: 7.6490 - mean_absolute_error: 1.7809 - val_loss: 7.7013 - val_mean_absolute_error: 1.7534\n",
            "Epoch 40/200\n",
            " - 0s - loss: 7.1651 - mean_absolute_error: 1.7461 - val_loss: 7.5132 - val_mean_absolute_error: 1.8939\n",
            "Epoch 41/200\n",
            " - 0s - loss: 7.2230 - mean_absolute_error: 1.7589 - val_loss: 7.6301 - val_mean_absolute_error: 1.7884\n",
            "Epoch 42/200\n",
            " - 0s - loss: 6.8961 - mean_absolute_error: 1.7406 - val_loss: 7.7205 - val_mean_absolute_error: 1.9052\n",
            "Epoch 43/200\n",
            " - 0s - loss: 7.1308 - mean_absolute_error: 1.7031 - val_loss: 7.8112 - val_mean_absolute_error: 1.8005\n",
            "Epoch 44/200\n",
            " - 0s - loss: 7.0404 - mean_absolute_error: 1.6784 - val_loss: 8.3303 - val_mean_absolute_error: 2.2262\n",
            "Epoch 45/200\n",
            " - 0s - loss: 7.0058 - mean_absolute_error: 1.7137 - val_loss: 7.1875 - val_mean_absolute_error: 1.8276\n",
            "Epoch 46/200\n",
            " - 0s - loss: 6.8916 - mean_absolute_error: 1.7085 - val_loss: 7.5936 - val_mean_absolute_error: 1.8012\n",
            "Epoch 47/200\n",
            " - 0s - loss: 7.1119 - mean_absolute_error: 1.7100 - val_loss: 7.4507 - val_mean_absolute_error: 1.7893\n",
            "Epoch 48/200\n",
            " - 0s - loss: 6.9543 - mean_absolute_error: 1.6508 - val_loss: 7.9201 - val_mean_absolute_error: 1.8503\n",
            "Epoch 49/200\n",
            " - 0s - loss: 6.7563 - mean_absolute_error: 1.6476 - val_loss: 7.9636 - val_mean_absolute_error: 1.7874\n",
            "Epoch 50/200\n",
            " - 0s - loss: 6.5893 - mean_absolute_error: 1.6460 - val_loss: 7.9577 - val_mean_absolute_error: 1.8252\n",
            "Epoch 51/200\n",
            " - 0s - loss: 6.4430 - mean_absolute_error: 1.6017 - val_loss: 7.6470 - val_mean_absolute_error: 1.7998\n",
            "Epoch 52/200\n",
            " - 0s - loss: 6.3886 - mean_absolute_error: 1.6396 - val_loss: 8.7702 - val_mean_absolute_error: 1.9192\n",
            "Epoch 53/200\n",
            " - 0s - loss: 6.3568 - mean_absolute_error: 1.5804 - val_loss: 7.7432 - val_mean_absolute_error: 1.8599\n",
            "Epoch 54/200\n",
            " - 0s - loss: 6.0519 - mean_absolute_error: 1.6659 - val_loss: 8.3118 - val_mean_absolute_error: 2.0567\n",
            "Epoch 55/200\n",
            " - 0s - loss: 6.2980 - mean_absolute_error: 1.5927 - val_loss: 7.3019 - val_mean_absolute_error: 1.8367\n",
            "Epoch 56/200\n",
            " - 0s - loss: 5.8293 - mean_absolute_error: 1.5608 - val_loss: 8.0968 - val_mean_absolute_error: 1.8876\n",
            "Epoch 57/200\n",
            " - 0s - loss: 5.8057 - mean_absolute_error: 1.5623 - val_loss: 7.8637 - val_mean_absolute_error: 1.8790\n",
            "Epoch 58/200\n",
            " - 0s - loss: 6.0353 - mean_absolute_error: 1.5484 - val_loss: 8.2484 - val_mean_absolute_error: 2.1079\n",
            "Epoch 59/200\n",
            " - 0s - loss: 6.3451 - mean_absolute_error: 1.6153 - val_loss: 7.2149 - val_mean_absolute_error: 1.8718\n",
            "Epoch 60/200\n",
            " - 0s - loss: 5.7874 - mean_absolute_error: 1.5484 - val_loss: 9.8102 - val_mean_absolute_error: 2.3643\n",
            "Epoch 61/200\n",
            " - 0s - loss: 6.0145 - mean_absolute_error: 1.5313 - val_loss: 7.9041 - val_mean_absolute_error: 2.0104\n",
            "Epoch 62/200\n",
            " - 0s - loss: 6.2931 - mean_absolute_error: 1.5479 - val_loss: 7.6670 - val_mean_absolute_error: 1.9091\n",
            "Epoch 63/200\n",
            " - 0s - loss: 5.9176 - mean_absolute_error: 1.5709 - val_loss: 7.6759 - val_mean_absolute_error: 1.8853\n",
            "Epoch 64/200\n",
            " - 0s - loss: 5.8696 - mean_absolute_error: 1.5690 - val_loss: 7.2647 - val_mean_absolute_error: 1.8550\n",
            "Epoch 65/200\n",
            " - 0s - loss: 5.7811 - mean_absolute_error: 1.5462 - val_loss: 8.3898 - val_mean_absolute_error: 2.0528\n",
            "Epoch 66/200\n",
            " - 0s - loss: 6.2041 - mean_absolute_error: 1.5863 - val_loss: 7.6492 - val_mean_absolute_error: 2.0546\n",
            "Epoch 67/200\n",
            " - 0s - loss: 5.6196 - mean_absolute_error: 1.5545 - val_loss: 9.2291 - val_mean_absolute_error: 2.1540\n",
            "Epoch 68/200\n",
            " - 0s - loss: 5.7593 - mean_absolute_error: 1.5094 - val_loss: 7.4427 - val_mean_absolute_error: 1.8489\n",
            "Epoch 69/200\n",
            " - 0s - loss: 5.6419 - mean_absolute_error: 1.5132 - val_loss: 8.0460 - val_mean_absolute_error: 1.9370\n",
            "Epoch 70/200\n",
            " - 0s - loss: 5.9776 - mean_absolute_error: 1.4691 - val_loss: 7.1059 - val_mean_absolute_error: 1.9365\n",
            "Epoch 71/200\n",
            " - 0s - loss: 5.6845 - mean_absolute_error: 1.4820 - val_loss: 7.8484 - val_mean_absolute_error: 2.0647\n",
            "Epoch 72/200\n",
            " - 0s - loss: 5.2728 - mean_absolute_error: 1.5199 - val_loss: 7.6112 - val_mean_absolute_error: 2.0543\n",
            "Epoch 73/200\n",
            " - 0s - loss: 5.6289 - mean_absolute_error: 1.4721 - val_loss: 6.8771 - val_mean_absolute_error: 1.9968\n",
            "Epoch 74/200\n",
            " - 0s - loss: 5.5100 - mean_absolute_error: 1.5433 - val_loss: 7.2159 - val_mean_absolute_error: 1.9952\n",
            "Epoch 75/200\n",
            " - 0s - loss: 5.2460 - mean_absolute_error: 1.4924 - val_loss: 7.5655 - val_mean_absolute_error: 1.9916\n",
            "Epoch 76/200\n",
            " - 0s - loss: 5.2079 - mean_absolute_error: 1.4775 - val_loss: 8.1534 - val_mean_absolute_error: 2.2337\n",
            "Epoch 77/200\n",
            " - 0s - loss: 5.3251 - mean_absolute_error: 1.5265 - val_loss: 8.4446 - val_mean_absolute_error: 2.0772\n",
            "Epoch 78/200\n",
            " - 0s - loss: 4.8977 - mean_absolute_error: 1.3924 - val_loss: 7.4731 - val_mean_absolute_error: 1.8520\n",
            "Epoch 79/200\n",
            " - 0s - loss: 5.1213 - mean_absolute_error: 1.4984 - val_loss: 7.6567 - val_mean_absolute_error: 1.9549\n",
            "Epoch 80/200\n",
            " - 0s - loss: 4.8664 - mean_absolute_error: 1.4588 - val_loss: 8.2470 - val_mean_absolute_error: 2.1778\n",
            "Epoch 81/200\n",
            " - 0s - loss: 5.1891 - mean_absolute_error: 1.5047 - val_loss: 6.8378 - val_mean_absolute_error: 1.8490\n",
            "Epoch 82/200\n",
            " - 0s - loss: 5.2368 - mean_absolute_error: 1.4616 - val_loss: 8.2983 - val_mean_absolute_error: 2.0074\n",
            "Epoch 83/200\n",
            " - 0s - loss: 4.7300 - mean_absolute_error: 1.4291 - val_loss: 6.7867 - val_mean_absolute_error: 1.8821\n",
            "Epoch 84/200\n",
            " - 0s - loss: 4.9509 - mean_absolute_error: 1.4679 - val_loss: 9.3707 - val_mean_absolute_error: 2.3944\n",
            "Epoch 85/200\n",
            " - 0s - loss: 5.0608 - mean_absolute_error: 1.4722 - val_loss: 7.7352 - val_mean_absolute_error: 1.9153\n",
            "Epoch 86/200\n",
            " - 0s - loss: 4.8922 - mean_absolute_error: 1.4661 - val_loss: 8.3280 - val_mean_absolute_error: 2.1152\n",
            "Epoch 87/200\n",
            " - 0s - loss: 4.8081 - mean_absolute_error: 1.4646 - val_loss: 6.9727 - val_mean_absolute_error: 1.8114\n",
            "Epoch 88/200\n",
            " - 0s - loss: 4.7401 - mean_absolute_error: 1.4184 - val_loss: 7.4337 - val_mean_absolute_error: 1.8036\n",
            "Epoch 89/200\n",
            " - 0s - loss: 4.7817 - mean_absolute_error: 1.3798 - val_loss: 6.7267 - val_mean_absolute_error: 1.9111\n",
            "Epoch 90/200\n",
            " - 0s - loss: 4.6860 - mean_absolute_error: 1.3954 - val_loss: 7.1128 - val_mean_absolute_error: 2.0435\n",
            "Epoch 91/200\n",
            " - 0s - loss: 4.4905 - mean_absolute_error: 1.3673 - val_loss: 8.4478 - val_mean_absolute_error: 2.0704\n",
            "Epoch 92/200\n",
            " - 0s - loss: 4.4934 - mean_absolute_error: 1.3842 - val_loss: 7.1042 - val_mean_absolute_error: 1.9390\n",
            "Epoch 93/200\n",
            " - 0s - loss: 4.6678 - mean_absolute_error: 1.4109 - val_loss: 7.0355 - val_mean_absolute_error: 1.8615\n",
            "Epoch 94/200\n",
            " - 0s - loss: 4.7163 - mean_absolute_error: 1.3911 - val_loss: 7.3704 - val_mean_absolute_error: 2.0426\n",
            "Epoch 95/200\n",
            " - 0s - loss: 4.5317 - mean_absolute_error: 1.3865 - val_loss: 7.3825 - val_mean_absolute_error: 2.1056\n",
            "Epoch 96/200\n",
            " - 0s - loss: 4.5849 - mean_absolute_error: 1.3635 - val_loss: 6.5744 - val_mean_absolute_error: 1.8926\n",
            "Epoch 97/200\n",
            " - 0s - loss: 4.1769 - mean_absolute_error: 1.3576 - val_loss: 7.6621 - val_mean_absolute_error: 2.0741\n",
            "Epoch 98/200\n",
            " - 0s - loss: 4.4665 - mean_absolute_error: 1.3389 - val_loss: 6.5602 - val_mean_absolute_error: 1.8481\n",
            "Epoch 99/200\n",
            " - 0s - loss: 4.4800 - mean_absolute_error: 1.3839 - val_loss: 7.9733 - val_mean_absolute_error: 1.9816\n",
            "Epoch 100/200\n",
            " - 0s - loss: 4.2332 - mean_absolute_error: 1.3686 - val_loss: 6.7316 - val_mean_absolute_error: 1.8262\n",
            "Epoch 101/200\n",
            " - 0s - loss: 4.1828 - mean_absolute_error: 1.3176 - val_loss: 8.3358 - val_mean_absolute_error: 2.0471\n",
            "Epoch 102/200\n",
            " - 0s - loss: 4.0355 - mean_absolute_error: 1.3860 - val_loss: 6.8436 - val_mean_absolute_error: 1.8778\n",
            "Epoch 103/200\n",
            " - 0s - loss: 3.8710 - mean_absolute_error: 1.2994 - val_loss: 7.1644 - val_mean_absolute_error: 2.0200\n",
            "Epoch 104/200\n",
            " - 0s - loss: 3.9212 - mean_absolute_error: 1.3659 - val_loss: 7.2572 - val_mean_absolute_error: 1.9482\n",
            "Epoch 105/200\n",
            " - 0s - loss: 4.3616 - mean_absolute_error: 1.3737 - val_loss: 7.1485 - val_mean_absolute_error: 2.0780\n",
            "Epoch 106/200\n",
            " - 0s - loss: 4.1913 - mean_absolute_error: 1.3992 - val_loss: 6.6375 - val_mean_absolute_error: 1.8523\n",
            "Epoch 107/200\n",
            " - 0s - loss: 4.0172 - mean_absolute_error: 1.3244 - val_loss: 6.8933 - val_mean_absolute_error: 1.8511\n",
            "Epoch 108/200\n",
            " - 0s - loss: 4.1898 - mean_absolute_error: 1.3394 - val_loss: 6.9817 - val_mean_absolute_error: 1.9688\n",
            "Epoch 109/200\n",
            " - 0s - loss: 3.9034 - mean_absolute_error: 1.3310 - val_loss: 7.9986 - val_mean_absolute_error: 2.2202\n",
            "Epoch 110/200\n",
            " - 0s - loss: 3.7426 - mean_absolute_error: 1.2536 - val_loss: 8.5086 - val_mean_absolute_error: 2.2235\n",
            "Epoch 111/200\n",
            " - 0s - loss: 4.0921 - mean_absolute_error: 1.3736 - val_loss: 7.4124 - val_mean_absolute_error: 2.0410\n",
            "Epoch 112/200\n",
            " - 0s - loss: 3.9481 - mean_absolute_error: 1.3181 - val_loss: 7.4624 - val_mean_absolute_error: 1.9758\n",
            "Epoch 113/200\n",
            " - 0s - loss: 3.6191 - mean_absolute_error: 1.2556 - val_loss: 9.1891 - val_mean_absolute_error: 2.3969\n",
            "Epoch 114/200\n",
            " - 0s - loss: 3.9029 - mean_absolute_error: 1.3163 - val_loss: 7.4136 - val_mean_absolute_error: 1.9848\n",
            "Epoch 115/200\n",
            " - 0s - loss: 3.2897 - mean_absolute_error: 1.2719 - val_loss: 7.2876 - val_mean_absolute_error: 2.0490\n",
            "Epoch 116/200\n",
            " - 0s - loss: 3.6647 - mean_absolute_error: 1.2561 - val_loss: 6.9450 - val_mean_absolute_error: 1.9822\n",
            "Epoch 117/200\n",
            " - 0s - loss: 3.4836 - mean_absolute_error: 1.2193 - val_loss: 6.9783 - val_mean_absolute_error: 1.9301\n",
            "Epoch 118/200\n",
            " - 0s - loss: 3.8927 - mean_absolute_error: 1.2236 - val_loss: 7.4771 - val_mean_absolute_error: 1.9357\n",
            "Epoch 119/200\n",
            " - 0s - loss: 3.6363 - mean_absolute_error: 1.2381 - val_loss: 7.4265 - val_mean_absolute_error: 1.9359\n",
            "Epoch 120/200\n",
            " - 0s - loss: 3.8713 - mean_absolute_error: 1.2604 - val_loss: 6.6826 - val_mean_absolute_error: 1.9679\n",
            "Epoch 121/200\n",
            " - 0s - loss: 3.6191 - mean_absolute_error: 1.2550 - val_loss: 6.3139 - val_mean_absolute_error: 1.8949\n",
            "Epoch 122/200\n",
            " - 0s - loss: 3.6252 - mean_absolute_error: 1.2818 - val_loss: 7.4142 - val_mean_absolute_error: 1.9905\n",
            "Epoch 123/200\n",
            " - 0s - loss: 3.5772 - mean_absolute_error: 1.3070 - val_loss: 11.0584 - val_mean_absolute_error: 2.3949\n",
            "Epoch 124/200\n",
            " - 0s - loss: 3.4927 - mean_absolute_error: 1.2743 - val_loss: 7.7940 - val_mean_absolute_error: 2.0203\n",
            "Epoch 125/200\n",
            " - 0s - loss: 3.9325 - mean_absolute_error: 1.2938 - val_loss: 7.7010 - val_mean_absolute_error: 2.2915\n",
            "Epoch 126/200\n",
            " - 0s - loss: 3.4149 - mean_absolute_error: 1.2892 - val_loss: 6.5845 - val_mean_absolute_error: 1.8835\n",
            "Epoch 127/200\n",
            " - 0s - loss: 3.3891 - mean_absolute_error: 1.2544 - val_loss: 7.1072 - val_mean_absolute_error: 1.9661\n",
            "Epoch 128/200\n",
            " - 0s - loss: 3.5228 - mean_absolute_error: 1.2469 - val_loss: 6.7812 - val_mean_absolute_error: 2.0008\n",
            "Epoch 129/200\n",
            " - 0s - loss: 3.3992 - mean_absolute_error: 1.2574 - val_loss: 7.4942 - val_mean_absolute_error: 1.9740\n",
            "Epoch 130/200\n",
            " - 0s - loss: 3.4354 - mean_absolute_error: 1.1952 - val_loss: 7.5134 - val_mean_absolute_error: 2.1459\n",
            "Epoch 131/200\n",
            " - 0s - loss: 3.6252 - mean_absolute_error: 1.1904 - val_loss: 7.9764 - val_mean_absolute_error: 2.3031\n",
            "Epoch 132/200\n",
            " - 0s - loss: 3.1643 - mean_absolute_error: 1.2454 - val_loss: 7.5895 - val_mean_absolute_error: 2.1261\n",
            "Epoch 133/200\n",
            " - 0s - loss: 3.2467 - mean_absolute_error: 1.2319 - val_loss: 7.6341 - val_mean_absolute_error: 2.0255\n",
            "Epoch 134/200\n",
            " - 0s - loss: 3.4760 - mean_absolute_error: 1.2449 - val_loss: 7.3851 - val_mean_absolute_error: 1.9745\n",
            "Epoch 135/200\n",
            " - 0s - loss: 3.2341 - mean_absolute_error: 1.1953 - val_loss: 7.0715 - val_mean_absolute_error: 1.9730\n",
            "Epoch 136/200\n",
            " - 0s - loss: 3.2060 - mean_absolute_error: 1.2719 - val_loss: 7.2739 - val_mean_absolute_error: 1.9179\n",
            "Epoch 137/200\n",
            " - 0s - loss: 3.2443 - mean_absolute_error: 1.1377 - val_loss: 7.0381 - val_mean_absolute_error: 1.9829\n",
            "Epoch 138/200\n",
            " - 0s - loss: 3.0499 - mean_absolute_error: 1.1912 - val_loss: 6.9279 - val_mean_absolute_error: 1.9845\n",
            "Epoch 139/200\n",
            " - 0s - loss: 2.9807 - mean_absolute_error: 1.1998 - val_loss: 8.1399 - val_mean_absolute_error: 2.0955\n",
            "Epoch 140/200\n",
            " - 0s - loss: 3.1797 - mean_absolute_error: 1.2486 - val_loss: 7.4630 - val_mean_absolute_error: 1.9344\n",
            "Epoch 141/200\n",
            " - 0s - loss: 3.2943 - mean_absolute_error: 1.1838 - val_loss: 8.3310 - val_mean_absolute_error: 2.1760\n",
            "Epoch 142/200\n",
            " - 0s - loss: 3.1696 - mean_absolute_error: 1.2319 - val_loss: 6.5119 - val_mean_absolute_error: 1.9352\n",
            "Epoch 143/200\n",
            " - 0s - loss: 3.1899 - mean_absolute_error: 1.2169 - val_loss: 7.6838 - val_mean_absolute_error: 2.0732\n",
            "Epoch 144/200\n",
            " - 0s - loss: 3.0249 - mean_absolute_error: 1.2015 - val_loss: 8.5952 - val_mean_absolute_error: 2.1687\n",
            "Epoch 145/200\n",
            " - 0s - loss: 3.1285 - mean_absolute_error: 1.1817 - val_loss: 7.8537 - val_mean_absolute_error: 2.1877\n",
            "Epoch 146/200\n",
            " - 0s - loss: 3.0608 - mean_absolute_error: 1.1659 - val_loss: 8.5845 - val_mean_absolute_error: 2.2571\n",
            "Epoch 147/200\n",
            " - 0s - loss: 3.0035 - mean_absolute_error: 1.1232 - val_loss: 8.2644 - val_mean_absolute_error: 2.2028\n",
            "Epoch 148/200\n",
            " - 0s - loss: 3.0439 - mean_absolute_error: 1.1629 - val_loss: 8.7468 - val_mean_absolute_error: 2.1710\n",
            "Epoch 149/200\n",
            " - 0s - loss: 2.7319 - mean_absolute_error: 1.1173 - val_loss: 8.9354 - val_mean_absolute_error: 2.2160\n",
            "Epoch 150/200\n",
            " - 0s - loss: 3.1297 - mean_absolute_error: 1.1852 - val_loss: 8.7680 - val_mean_absolute_error: 2.0918\n",
            "Epoch 151/200\n",
            " - 0s - loss: 2.6848 - mean_absolute_error: 1.1541 - val_loss: 7.9726 - val_mean_absolute_error: 1.9936\n",
            "Epoch 152/200\n",
            " - 0s - loss: 2.6886 - mean_absolute_error: 1.1101 - val_loss: 8.0851 - val_mean_absolute_error: 1.9426\n",
            "Epoch 153/200\n",
            " - 0s - loss: 2.9639 - mean_absolute_error: 1.1831 - val_loss: 7.2196 - val_mean_absolute_error: 2.0148\n",
            "Epoch 154/200\n",
            " - 0s - loss: 2.8985 - mean_absolute_error: 1.1642 - val_loss: 7.1462 - val_mean_absolute_error: 2.0121\n",
            "Epoch 155/200\n",
            " - 0s - loss: 2.8519 - mean_absolute_error: 1.1340 - val_loss: 7.2118 - val_mean_absolute_error: 1.9782\n",
            "Epoch 156/200\n",
            " - 0s - loss: 3.0051 - mean_absolute_error: 1.1845 - val_loss: 6.6436 - val_mean_absolute_error: 1.9265\n",
            "Epoch 157/200\n",
            " - 0s - loss: 2.6791 - mean_absolute_error: 1.1722 - val_loss: 7.0764 - val_mean_absolute_error: 1.9315\n",
            "Epoch 158/200\n",
            " - 0s - loss: 2.7949 - mean_absolute_error: 1.1437 - val_loss: 8.9735 - val_mean_absolute_error: 2.2692\n",
            "Epoch 159/200\n",
            " - 0s - loss: 2.5549 - mean_absolute_error: 1.0984 - val_loss: 7.9049 - val_mean_absolute_error: 2.0501\n",
            "Epoch 160/200\n",
            " - 0s - loss: 2.8801 - mean_absolute_error: 1.1228 - val_loss: 8.2426 - val_mean_absolute_error: 1.9555\n",
            "Epoch 161/200\n",
            " - 0s - loss: 2.7772 - mean_absolute_error: 1.1458 - val_loss: 7.3333 - val_mean_absolute_error: 1.9767\n",
            "Epoch 162/200\n",
            " - 0s - loss: 2.6906 - mean_absolute_error: 1.1303 - val_loss: 8.1744 - val_mean_absolute_error: 2.0987\n",
            "Epoch 163/200\n",
            " - 0s - loss: 2.5252 - mean_absolute_error: 1.1165 - val_loss: 7.4873 - val_mean_absolute_error: 2.0850\n",
            "Epoch 164/200\n",
            " - 0s - loss: 2.7975 - mean_absolute_error: 1.1459 - val_loss: 8.0364 - val_mean_absolute_error: 2.0755\n",
            "Epoch 165/200\n",
            " - 0s - loss: 2.5040 - mean_absolute_error: 1.1020 - val_loss: 8.0309 - val_mean_absolute_error: 2.1242\n",
            "Epoch 166/200\n",
            " - 0s - loss: 2.4878 - mean_absolute_error: 1.1297 - val_loss: 7.7921 - val_mean_absolute_error: 1.9909\n",
            "Epoch 167/200\n",
            " - 0s - loss: 2.4864 - mean_absolute_error: 1.0691 - val_loss: 8.6722 - val_mean_absolute_error: 2.0534\n",
            "Epoch 168/200\n",
            " - 0s - loss: 2.5278 - mean_absolute_error: 1.1598 - val_loss: 8.5290 - val_mean_absolute_error: 2.0869\n",
            "Epoch 169/200\n",
            " - 0s - loss: 2.6866 - mean_absolute_error: 1.1274 - val_loss: 7.3305 - val_mean_absolute_error: 1.9689\n",
            "Epoch 170/200\n",
            " - 0s - loss: 2.4893 - mean_absolute_error: 1.0841 - val_loss: 7.7576 - val_mean_absolute_error: 2.1120\n",
            "Epoch 171/200\n",
            " - 0s - loss: 2.5454 - mean_absolute_error: 1.1273 - val_loss: 8.5617 - val_mean_absolute_error: 2.0664\n",
            "Epoch 172/200\n",
            " - 0s - loss: 2.3677 - mean_absolute_error: 1.0670 - val_loss: 7.5127 - val_mean_absolute_error: 2.0261\n",
            "Epoch 173/200\n",
            " - 0s - loss: 2.1995 - mean_absolute_error: 1.0822 - val_loss: 9.0223 - val_mean_absolute_error: 2.2052\n",
            "Epoch 174/200\n",
            " - 0s - loss: 2.2255 - mean_absolute_error: 1.0880 - val_loss: 8.1617 - val_mean_absolute_error: 2.0859\n",
            "Epoch 175/200\n",
            " - 0s - loss: 2.3045 - mean_absolute_error: 1.0475 - val_loss: 7.7491 - val_mean_absolute_error: 2.0701\n",
            "Epoch 176/200\n",
            " - 0s - loss: 2.3559 - mean_absolute_error: 1.0934 - val_loss: 9.1876 - val_mean_absolute_error: 2.2151\n",
            "Epoch 177/200\n",
            " - 0s - loss: 2.4136 - mean_absolute_error: 1.0877 - val_loss: 7.5778 - val_mean_absolute_error: 2.0758\n",
            "Epoch 178/200\n",
            " - 0s - loss: 2.3750 - mean_absolute_error: 1.0422 - val_loss: 11.6019 - val_mean_absolute_error: 2.4784\n",
            "Epoch 179/200\n",
            " - 0s - loss: 2.1727 - mean_absolute_error: 1.0415 - val_loss: 9.2178 - val_mean_absolute_error: 2.1080\n",
            "Epoch 180/200\n",
            " - 0s - loss: 2.4496 - mean_absolute_error: 1.0803 - val_loss: 8.0367 - val_mean_absolute_error: 2.0415\n",
            "Epoch 181/200\n",
            " - 0s - loss: 2.2873 - mean_absolute_error: 1.0838 - val_loss: 7.7076 - val_mean_absolute_error: 2.0084\n",
            "Epoch 182/200\n",
            " - 0s - loss: 2.4036 - mean_absolute_error: 1.0924 - val_loss: 7.7271 - val_mean_absolute_error: 2.0709\n",
            "Epoch 183/200\n",
            " - 0s - loss: 2.1316 - mean_absolute_error: 1.0313 - val_loss: 8.8547 - val_mean_absolute_error: 2.0846\n",
            "Epoch 184/200\n",
            " - 0s - loss: 2.2342 - mean_absolute_error: 1.0897 - val_loss: 8.1855 - val_mean_absolute_error: 2.0177\n",
            "Epoch 185/200\n",
            " - 0s - loss: 2.5147 - mean_absolute_error: 1.0633 - val_loss: 7.4584 - val_mean_absolute_error: 1.9351\n",
            "Epoch 186/200\n",
            " - 0s - loss: 2.3846 - mean_absolute_error: 1.0782 - val_loss: 7.9529 - val_mean_absolute_error: 1.9882\n",
            "Epoch 187/200\n",
            " - 0s - loss: 2.3083 - mean_absolute_error: 1.0200 - val_loss: 7.5845 - val_mean_absolute_error: 1.9493\n",
            "Epoch 188/200\n",
            " - 0s - loss: 1.9902 - mean_absolute_error: 1.0467 - val_loss: 9.6917 - val_mean_absolute_error: 2.3164\n",
            "Epoch 189/200\n",
            " - 0s - loss: 2.3106 - mean_absolute_error: 1.0300 - val_loss: 8.0004 - val_mean_absolute_error: 2.1590\n",
            "Epoch 190/200\n",
            " - 0s - loss: 2.5577 - mean_absolute_error: 1.1060 - val_loss: 7.0024 - val_mean_absolute_error: 1.9669\n",
            "Epoch 191/200\n",
            " - 0s - loss: 2.0771 - mean_absolute_error: 1.0139 - val_loss: 10.5235 - val_mean_absolute_error: 2.3037\n",
            "Epoch 192/200\n",
            " - 0s - loss: 2.3847 - mean_absolute_error: 1.0334 - val_loss: 9.9129 - val_mean_absolute_error: 2.3261\n",
            "Epoch 193/200\n",
            " - 0s - loss: 2.3971 - mean_absolute_error: 1.0731 - val_loss: 6.9632 - val_mean_absolute_error: 1.8658\n",
            "Epoch 194/200\n",
            " - 0s - loss: 2.1453 - mean_absolute_error: 1.0423 - val_loss: 7.3221 - val_mean_absolute_error: 1.9331\n",
            "Epoch 195/200\n",
            " - 0s - loss: 2.1347 - mean_absolute_error: 1.0523 - val_loss: 7.3821 - val_mean_absolute_error: 2.0772\n",
            "Epoch 196/200\n",
            " - 0s - loss: 2.2068 - mean_absolute_error: 1.0570 - val_loss: 9.7154 - val_mean_absolute_error: 2.2177\n",
            "Epoch 197/200\n",
            " - 0s - loss: 2.3468 - mean_absolute_error: 1.0920 - val_loss: 8.2233 - val_mean_absolute_error: 1.9923\n",
            "Epoch 198/200\n",
            " - 0s - loss: 2.0558 - mean_absolute_error: 1.0554 - val_loss: 9.4395 - val_mean_absolute_error: 2.1777\n",
            "Epoch 199/200\n",
            " - 0s - loss: 2.0879 - mean_absolute_error: 1.0295 - val_loss: 8.6987 - val_mean_absolute_error: 2.1939\n",
            "Epoch 200/200\n",
            " - 0s - loss: 2.2552 - mean_absolute_error: 1.0369 - val_loss: 6.7659 - val_mean_absolute_error: 1.9161\n",
            "processing fold # 1\n",
            "Train on 303 samples, validate on 101 samples\n",
            "Epoch 1/200\n",
            " - 0s - loss: 234.0069 - mean_absolute_error: 11.6519 - val_loss: 40.4711 - val_mean_absolute_error: 4.8173\n",
            "Epoch 2/200\n",
            " - 0s - loss: 34.4698 - mean_absolute_error: 4.0139 - val_loss: 19.8003 - val_mean_absolute_error: 3.3174\n",
            "Epoch 3/200\n",
            " - 0s - loss: 22.8566 - mean_absolute_error: 3.1868 - val_loss: 15.2954 - val_mean_absolute_error: 2.9551\n",
            "Epoch 4/200\n",
            " - 0s - loss: 18.3208 - mean_absolute_error: 2.8678 - val_loss: 13.8230 - val_mean_absolute_error: 2.7584\n",
            "Epoch 5/200\n",
            " - 0s - loss: 14.5669 - mean_absolute_error: 2.6016 - val_loss: 13.3368 - val_mean_absolute_error: 2.7124\n",
            "Epoch 6/200\n",
            " - 0s - loss: 14.1006 - mean_absolute_error: 2.5227 - val_loss: 11.2882 - val_mean_absolute_error: 2.5043\n",
            "Epoch 7/200\n",
            " - 0s - loss: 12.7233 - mean_absolute_error: 2.4110 - val_loss: 11.7712 - val_mean_absolute_error: 2.5648\n",
            "Epoch 8/200\n",
            " - 0s - loss: 12.1710 - mean_absolute_error: 2.3229 - val_loss: 11.1990 - val_mean_absolute_error: 2.5335\n",
            "Epoch 9/200\n",
            " - 0s - loss: 11.5428 - mean_absolute_error: 2.2735 - val_loss: 12.6590 - val_mean_absolute_error: 2.6899\n",
            "Epoch 10/200\n",
            " - 0s - loss: 11.2308 - mean_absolute_error: 2.2276 - val_loss: 13.3872 - val_mean_absolute_error: 2.8152\n",
            "Epoch 11/200\n",
            " - 0s - loss: 10.8126 - mean_absolute_error: 2.2065 - val_loss: 11.6713 - val_mean_absolute_error: 2.6315\n",
            "Epoch 12/200\n",
            " - 0s - loss: 10.5460 - mean_absolute_error: 2.1912 - val_loss: 12.4412 - val_mean_absolute_error: 2.6382\n",
            "Epoch 13/200\n",
            " - 0s - loss: 10.5332 - mean_absolute_error: 2.1352 - val_loss: 11.3908 - val_mean_absolute_error: 2.5376\n",
            "Epoch 14/200\n",
            " - 0s - loss: 10.3091 - mean_absolute_error: 2.1241 - val_loss: 12.1512 - val_mean_absolute_error: 2.6828\n",
            "Epoch 15/200\n",
            " - 0s - loss: 10.3950 - mean_absolute_error: 2.0790 - val_loss: 11.2053 - val_mean_absolute_error: 2.5158\n",
            "Epoch 16/200\n",
            " - 0s - loss: 9.9558 - mean_absolute_error: 2.1130 - val_loss: 11.0502 - val_mean_absolute_error: 2.4990\n",
            "Epoch 17/200\n",
            " - 0s - loss: 10.1303 - mean_absolute_error: 2.0385 - val_loss: 13.3998 - val_mean_absolute_error: 2.8601\n",
            "Epoch 18/200\n",
            " - 0s - loss: 9.3776 - mean_absolute_error: 2.0166 - val_loss: 11.9404 - val_mean_absolute_error: 2.6202\n",
            "Epoch 19/200\n",
            " - 0s - loss: 9.6797 - mean_absolute_error: 2.0936 - val_loss: 11.5760 - val_mean_absolute_error: 2.5500\n",
            "Epoch 20/200\n",
            " - 0s - loss: 9.5240 - mean_absolute_error: 2.0220 - val_loss: 12.0971 - val_mean_absolute_error: 2.6189\n",
            "Epoch 21/200\n",
            " - 0s - loss: 9.1473 - mean_absolute_error: 2.0493 - val_loss: 12.6921 - val_mean_absolute_error: 2.6690\n",
            "Epoch 22/200\n",
            " - 0s - loss: 8.9718 - mean_absolute_error: 1.9904 - val_loss: 10.7633 - val_mean_absolute_error: 2.4302\n",
            "Epoch 23/200\n",
            " - 0s - loss: 9.1731 - mean_absolute_error: 1.9708 - val_loss: 11.1765 - val_mean_absolute_error: 2.5214\n",
            "Epoch 24/200\n",
            " - 0s - loss: 8.9851 - mean_absolute_error: 1.9196 - val_loss: 13.3442 - val_mean_absolute_error: 2.8459\n",
            "Epoch 25/200\n",
            " - 0s - loss: 8.7858 - mean_absolute_error: 1.9944 - val_loss: 13.3942 - val_mean_absolute_error: 2.7500\n",
            "Epoch 26/200\n",
            " - 0s - loss: 8.5220 - mean_absolute_error: 1.9157 - val_loss: 11.7024 - val_mean_absolute_error: 2.5517\n",
            "Epoch 27/200\n",
            " - 0s - loss: 7.8445 - mean_absolute_error: 1.9433 - val_loss: 10.1329 - val_mean_absolute_error: 2.3525\n",
            "Epoch 28/200\n",
            " - 0s - loss: 8.4516 - mean_absolute_error: 1.8887 - val_loss: 11.8024 - val_mean_absolute_error: 2.6183\n",
            "Epoch 29/200\n",
            " - 0s - loss: 8.3763 - mean_absolute_error: 1.8611 - val_loss: 11.7987 - val_mean_absolute_error: 2.6243\n",
            "Epoch 30/200\n",
            " - 0s - loss: 8.4092 - mean_absolute_error: 1.8982 - val_loss: 9.9208 - val_mean_absolute_error: 2.3552\n",
            "Epoch 31/200\n",
            " - 0s - loss: 8.0043 - mean_absolute_error: 1.9082 - val_loss: 11.0145 - val_mean_absolute_error: 2.5136\n",
            "Epoch 32/200\n",
            " - 0s - loss: 7.8384 - mean_absolute_error: 1.8291 - val_loss: 12.5594 - val_mean_absolute_error: 2.7384\n",
            "Epoch 33/200\n",
            " - 0s - loss: 8.0947 - mean_absolute_error: 1.8518 - val_loss: 11.8749 - val_mean_absolute_error: 2.5416\n",
            "Epoch 34/200\n",
            " - 0s - loss: 8.0532 - mean_absolute_error: 1.8207 - val_loss: 11.7099 - val_mean_absolute_error: 2.5478\n",
            "Epoch 35/200\n",
            " - 0s - loss: 7.4235 - mean_absolute_error: 1.8000 - val_loss: 9.9569 - val_mean_absolute_error: 2.3791\n",
            "Epoch 36/200\n",
            " - 0s - loss: 7.7827 - mean_absolute_error: 1.8016 - val_loss: 11.5350 - val_mean_absolute_error: 2.5299\n",
            "Epoch 37/200\n",
            " - 0s - loss: 6.9574 - mean_absolute_error: 1.7741 - val_loss: 11.6539 - val_mean_absolute_error: 2.5509\n",
            "Epoch 38/200\n",
            " - 0s - loss: 7.1681 - mean_absolute_error: 1.7853 - val_loss: 9.4894 - val_mean_absolute_error: 2.3084\n",
            "Epoch 39/200\n",
            " - 0s - loss: 7.3472 - mean_absolute_error: 1.7811 - val_loss: 10.0149 - val_mean_absolute_error: 2.3698\n",
            "Epoch 40/200\n",
            " - 0s - loss: 7.4247 - mean_absolute_error: 1.7505 - val_loss: 9.8430 - val_mean_absolute_error: 2.2994\n",
            "Epoch 41/200\n",
            " - 0s - loss: 6.9964 - mean_absolute_error: 1.7466 - val_loss: 10.5506 - val_mean_absolute_error: 2.4217\n",
            "Epoch 42/200\n",
            " - 0s - loss: 6.6751 - mean_absolute_error: 1.7870 - val_loss: 10.8788 - val_mean_absolute_error: 2.4645\n",
            "Epoch 43/200\n",
            " - 0s - loss: 6.8395 - mean_absolute_error: 1.7257 - val_loss: 12.7627 - val_mean_absolute_error: 2.6847\n",
            "Epoch 44/200\n",
            " - 0s - loss: 6.6373 - mean_absolute_error: 1.7425 - val_loss: 13.1147 - val_mean_absolute_error: 2.6940\n",
            "Epoch 45/200\n",
            " - 0s - loss: 6.6702 - mean_absolute_error: 1.7255 - val_loss: 10.5039 - val_mean_absolute_error: 2.3794\n",
            "Epoch 46/200\n",
            " - 0s - loss: 6.5086 - mean_absolute_error: 1.6880 - val_loss: 9.4722 - val_mean_absolute_error: 2.2654\n",
            "Epoch 47/200\n",
            " - 0s - loss: 6.0130 - mean_absolute_error: 1.6228 - val_loss: 14.3294 - val_mean_absolute_error: 2.7757\n",
            "Epoch 48/200\n",
            " - 0s - loss: 6.5031 - mean_absolute_error: 1.7243 - val_loss: 13.2617 - val_mean_absolute_error: 2.7665\n",
            "Epoch 49/200\n",
            " - 0s - loss: 6.1500 - mean_absolute_error: 1.7596 - val_loss: 9.4419 - val_mean_absolute_error: 2.2954\n",
            "Epoch 50/200\n",
            " - 0s - loss: 6.0533 - mean_absolute_error: 1.6528 - val_loss: 13.0100 - val_mean_absolute_error: 2.6731\n",
            "Epoch 51/200\n",
            " - 0s - loss: 5.8705 - mean_absolute_error: 1.6086 - val_loss: 10.0997 - val_mean_absolute_error: 2.3270\n",
            "Epoch 52/200\n",
            " - 0s - loss: 6.1536 - mean_absolute_error: 1.5655 - val_loss: 12.3353 - val_mean_absolute_error: 2.6423\n",
            "Epoch 53/200\n",
            " - 0s - loss: 5.7863 - mean_absolute_error: 1.6144 - val_loss: 10.2677 - val_mean_absolute_error: 2.4269\n",
            "Epoch 54/200\n",
            " - 0s - loss: 6.1659 - mean_absolute_error: 1.6676 - val_loss: 10.5361 - val_mean_absolute_error: 2.3625\n",
            "Epoch 55/200\n",
            " - 0s - loss: 6.1333 - mean_absolute_error: 1.6588 - val_loss: 10.6530 - val_mean_absolute_error: 2.3268\n",
            "Epoch 56/200\n",
            " - 0s - loss: 5.6080 - mean_absolute_error: 1.5723 - val_loss: 11.4360 - val_mean_absolute_error: 2.3906\n",
            "Epoch 57/200\n",
            " - 0s - loss: 5.8257 - mean_absolute_error: 1.6727 - val_loss: 12.8391 - val_mean_absolute_error: 2.6914\n",
            "Epoch 58/200\n",
            " - 0s - loss: 5.3390 - mean_absolute_error: 1.5734 - val_loss: 12.3895 - val_mean_absolute_error: 2.5304\n",
            "Epoch 59/200\n",
            " - 0s - loss: 5.5454 - mean_absolute_error: 1.5877 - val_loss: 10.8485 - val_mean_absolute_error: 2.3887\n",
            "Epoch 60/200\n",
            " - 0s - loss: 5.5248 - mean_absolute_error: 1.5738 - val_loss: 12.6928 - val_mean_absolute_error: 2.5796\n",
            "Epoch 61/200\n",
            " - 0s - loss: 5.2579 - mean_absolute_error: 1.5652 - val_loss: 17.8413 - val_mean_absolute_error: 3.0635\n",
            "Epoch 62/200\n",
            " - 0s - loss: 5.2178 - mean_absolute_error: 1.5002 - val_loss: 12.3228 - val_mean_absolute_error: 2.6452\n",
            "Epoch 63/200\n",
            " - 0s - loss: 4.9992 - mean_absolute_error: 1.4781 - val_loss: 15.4483 - val_mean_absolute_error: 2.8289\n",
            "Epoch 64/200\n",
            " - 0s - loss: 5.2055 - mean_absolute_error: 1.5430 - val_loss: 15.9980 - val_mean_absolute_error: 2.6995\n",
            "Epoch 65/200\n",
            " - 0s - loss: 5.2657 - mean_absolute_error: 1.5581 - val_loss: 12.6428 - val_mean_absolute_error: 2.5748\n",
            "Epoch 66/200\n",
            " - 0s - loss: 5.1669 - mean_absolute_error: 1.4930 - val_loss: 11.6673 - val_mean_absolute_error: 2.4633\n",
            "Epoch 67/200\n",
            " - 0s - loss: 5.2138 - mean_absolute_error: 1.5402 - val_loss: 11.1556 - val_mean_absolute_error: 2.4395\n",
            "Epoch 68/200\n",
            " - 0s - loss: 5.0148 - mean_absolute_error: 1.5246 - val_loss: 13.0105 - val_mean_absolute_error: 2.6137\n",
            "Epoch 69/200\n",
            " - 0s - loss: 5.0555 - mean_absolute_error: 1.5655 - val_loss: 16.4003 - val_mean_absolute_error: 2.9690\n",
            "Epoch 70/200\n",
            " - 0s - loss: 4.5504 - mean_absolute_error: 1.3987 - val_loss: 13.9664 - val_mean_absolute_error: 2.6692\n",
            "Epoch 71/200\n",
            " - 0s - loss: 4.5854 - mean_absolute_error: 1.5016 - val_loss: 15.4991 - val_mean_absolute_error: 2.7083\n",
            "Epoch 72/200\n",
            " - 0s - loss: 4.5862 - mean_absolute_error: 1.5281 - val_loss: 10.8968 - val_mean_absolute_error: 2.3589\n",
            "Epoch 73/200\n",
            " - 0s - loss: 4.9069 - mean_absolute_error: 1.4808 - val_loss: 11.4553 - val_mean_absolute_error: 2.4528\n",
            "Epoch 74/200\n",
            " - 0s - loss: 4.8236 - mean_absolute_error: 1.4411 - val_loss: 15.4044 - val_mean_absolute_error: 2.8645\n",
            "Epoch 75/200\n",
            " - 0s - loss: 4.5098 - mean_absolute_error: 1.4232 - val_loss: 11.9022 - val_mean_absolute_error: 2.5175\n",
            "Epoch 76/200\n",
            " - 0s - loss: 4.5370 - mean_absolute_error: 1.4678 - val_loss: 15.5133 - val_mean_absolute_error: 2.7710\n",
            "Epoch 77/200\n",
            " - 0s - loss: 4.4380 - mean_absolute_error: 1.3864 - val_loss: 11.6369 - val_mean_absolute_error: 2.3890\n",
            "Epoch 78/200\n",
            " - 0s - loss: 4.5786 - mean_absolute_error: 1.4454 - val_loss: 13.6133 - val_mean_absolute_error: 2.6332\n",
            "Epoch 79/200\n",
            " - 0s - loss: 4.7868 - mean_absolute_error: 1.4436 - val_loss: 14.2403 - val_mean_absolute_error: 2.6115\n",
            "Epoch 80/200\n",
            " - 0s - loss: 4.2107 - mean_absolute_error: 1.3783 - val_loss: 12.4610 - val_mean_absolute_error: 2.6297\n",
            "Epoch 81/200\n",
            " - 0s - loss: 4.4083 - mean_absolute_error: 1.4076 - val_loss: 12.7364 - val_mean_absolute_error: 2.5806\n",
            "Epoch 82/200\n",
            " - 0s - loss: 4.1276 - mean_absolute_error: 1.4131 - val_loss: 11.5326 - val_mean_absolute_error: 2.3773\n",
            "Epoch 83/200\n",
            " - 0s - loss: 4.1711 - mean_absolute_error: 1.3860 - val_loss: 11.2804 - val_mean_absolute_error: 2.2869\n",
            "Epoch 84/200\n",
            " - 0s - loss: 4.0209 - mean_absolute_error: 1.3240 - val_loss: 12.6868 - val_mean_absolute_error: 2.4189\n",
            "Epoch 85/200\n",
            " - 0s - loss: 4.0346 - mean_absolute_error: 1.3413 - val_loss: 13.3198 - val_mean_absolute_error: 2.5549\n",
            "Epoch 86/200\n",
            " - 0s - loss: 4.1251 - mean_absolute_error: 1.4055 - val_loss: 12.7908 - val_mean_absolute_error: 2.4742\n",
            "Epoch 87/200\n",
            " - 0s - loss: 3.9908 - mean_absolute_error: 1.3763 - val_loss: 12.9123 - val_mean_absolute_error: 2.5308\n",
            "Epoch 88/200\n",
            " - 0s - loss: 3.8735 - mean_absolute_error: 1.3243 - val_loss: 15.3117 - val_mean_absolute_error: 2.7672\n",
            "Epoch 89/200\n",
            " - 0s - loss: 3.9565 - mean_absolute_error: 1.3349 - val_loss: 14.5205 - val_mean_absolute_error: 2.6911\n",
            "Epoch 90/200\n",
            " - 0s - loss: 4.0563 - mean_absolute_error: 1.3638 - val_loss: 15.6628 - val_mean_absolute_error: 2.9080\n",
            "Epoch 91/200\n",
            " - 0s - loss: 3.7367 - mean_absolute_error: 1.3390 - val_loss: 14.0073 - val_mean_absolute_error: 2.7313\n",
            "Epoch 92/200\n",
            " - 0s - loss: 3.9489 - mean_absolute_error: 1.3221 - val_loss: 11.2498 - val_mean_absolute_error: 2.3654\n",
            "Epoch 93/200\n",
            " - 0s - loss: 3.8903 - mean_absolute_error: 1.3400 - val_loss: 15.9588 - val_mean_absolute_error: 2.5808\n",
            "Epoch 94/200\n",
            " - 0s - loss: 3.8181 - mean_absolute_error: 1.2985 - val_loss: 17.5981 - val_mean_absolute_error: 2.7190\n",
            "Epoch 95/200\n",
            " - 0s - loss: 3.4621 - mean_absolute_error: 1.3142 - val_loss: 12.4352 - val_mean_absolute_error: 2.4550\n",
            "Epoch 96/200\n",
            " - 0s - loss: 3.5615 - mean_absolute_error: 1.2616 - val_loss: 14.0253 - val_mean_absolute_error: 2.5869\n",
            "Epoch 97/200\n",
            " - 0s - loss: 3.6381 - mean_absolute_error: 1.3170 - val_loss: 15.1381 - val_mean_absolute_error: 2.5346\n",
            "Epoch 98/200\n",
            " - 0s - loss: 3.6589 - mean_absolute_error: 1.3065 - val_loss: 17.1026 - val_mean_absolute_error: 2.8536\n",
            "Epoch 99/200\n",
            " - 0s - loss: 3.4513 - mean_absolute_error: 1.2522 - val_loss: 15.5395 - val_mean_absolute_error: 2.6846\n",
            "Epoch 100/200\n",
            " - 0s - loss: 3.2286 - mean_absolute_error: 1.2510 - val_loss: 14.8083 - val_mean_absolute_error: 2.5743\n",
            "Epoch 101/200\n",
            " - 0s - loss: 3.5763 - mean_absolute_error: 1.2709 - val_loss: 13.4725 - val_mean_absolute_error: 2.4820\n",
            "Epoch 102/200\n",
            " - 0s - loss: 3.1446 - mean_absolute_error: 1.2589 - val_loss: 13.2579 - val_mean_absolute_error: 2.5486\n",
            "Epoch 103/200\n",
            " - 0s - loss: 3.4173 - mean_absolute_error: 1.2801 - val_loss: 16.9132 - val_mean_absolute_error: 2.6647\n",
            "Epoch 104/200\n",
            " - 0s - loss: 3.3610 - mean_absolute_error: 1.2715 - val_loss: 13.8121 - val_mean_absolute_error: 2.6236\n",
            "Epoch 105/200\n",
            " - 0s - loss: 3.2246 - mean_absolute_error: 1.2278 - val_loss: 14.5799 - val_mean_absolute_error: 2.6758\n",
            "Epoch 106/200\n",
            " - 0s - loss: 3.4126 - mean_absolute_error: 1.2266 - val_loss: 15.5809 - val_mean_absolute_error: 2.7207\n",
            "Epoch 107/200\n",
            " - 0s - loss: 2.8418 - mean_absolute_error: 1.1641 - val_loss: 17.8332 - val_mean_absolute_error: 2.7235\n",
            "Epoch 108/200\n",
            " - 0s - loss: 3.2355 - mean_absolute_error: 1.2270 - val_loss: 12.9960 - val_mean_absolute_error: 2.4892\n",
            "Epoch 109/200\n",
            " - 0s - loss: 3.2169 - mean_absolute_error: 1.2719 - val_loss: 11.0567 - val_mean_absolute_error: 2.2965\n",
            "Epoch 110/200\n",
            " - 0s - loss: 3.1503 - mean_absolute_error: 1.2028 - val_loss: 14.7022 - val_mean_absolute_error: 2.7038\n",
            "Epoch 111/200\n",
            " - 0s - loss: 3.4830 - mean_absolute_error: 1.2349 - val_loss: 18.7688 - val_mean_absolute_error: 2.8065\n",
            "Epoch 112/200\n",
            " - 0s - loss: 3.2588 - mean_absolute_error: 1.2417 - val_loss: 15.3261 - val_mean_absolute_error: 2.5868\n",
            "Epoch 113/200\n",
            " - 0s - loss: 2.9374 - mean_absolute_error: 1.1860 - val_loss: 23.3551 - val_mean_absolute_error: 3.1878\n",
            "Epoch 114/200\n",
            " - 0s - loss: 3.0642 - mean_absolute_error: 1.2148 - val_loss: 17.9412 - val_mean_absolute_error: 2.7440\n",
            "Epoch 115/200\n",
            " - 0s - loss: 3.3689 - mean_absolute_error: 1.2284 - val_loss: 15.3928 - val_mean_absolute_error: 2.7127\n",
            "Epoch 116/200\n",
            " - 0s - loss: 2.9496 - mean_absolute_error: 1.1917 - val_loss: 12.2617 - val_mean_absolute_error: 2.5143\n",
            "Epoch 117/200\n",
            " - 0s - loss: 2.9297 - mean_absolute_error: 1.2039 - val_loss: 13.9049 - val_mean_absolute_error: 2.5509\n",
            "Epoch 118/200\n",
            " - 0s - loss: 2.6685 - mean_absolute_error: 1.1658 - val_loss: 17.5461 - val_mean_absolute_error: 2.6930\n",
            "Epoch 119/200\n",
            " - 0s - loss: 2.9726 - mean_absolute_error: 1.1665 - val_loss: 11.4861 - val_mean_absolute_error: 2.3949\n",
            "Epoch 120/200\n",
            " - 0s - loss: 3.2278 - mean_absolute_error: 1.2459 - val_loss: 14.1657 - val_mean_absolute_error: 2.4712\n",
            "Epoch 121/200\n",
            " - 0s - loss: 2.9040 - mean_absolute_error: 1.1940 - val_loss: 14.2314 - val_mean_absolute_error: 2.6042\n",
            "Epoch 122/200\n",
            " - 0s - loss: 3.0110 - mean_absolute_error: 1.1664 - val_loss: 19.3527 - val_mean_absolute_error: 2.7943\n",
            "Epoch 123/200\n",
            " - 0s - loss: 2.5332 - mean_absolute_error: 1.1296 - val_loss: 15.0500 - val_mean_absolute_error: 2.4984\n",
            "Epoch 124/200\n",
            " - 0s - loss: 2.8753 - mean_absolute_error: 1.1178 - val_loss: 17.4805 - val_mean_absolute_error: 2.7642\n",
            "Epoch 125/200\n",
            " - 0s - loss: 2.3141 - mean_absolute_error: 1.0944 - val_loss: 16.4722 - val_mean_absolute_error: 2.5968\n",
            "Epoch 126/200\n",
            " - 0s - loss: 2.9606 - mean_absolute_error: 1.1898 - val_loss: 15.8202 - val_mean_absolute_error: 2.7041\n",
            "Epoch 127/200\n",
            " - 0s - loss: 2.7561 - mean_absolute_error: 1.1380 - val_loss: 11.4614 - val_mean_absolute_error: 2.3400\n",
            "Epoch 128/200\n",
            " - 0s - loss: 2.8749 - mean_absolute_error: 1.1427 - val_loss: 18.9738 - val_mean_absolute_error: 2.6881\n",
            "Epoch 129/200\n",
            " - 0s - loss: 2.4178 - mean_absolute_error: 1.0991 - val_loss: 14.3044 - val_mean_absolute_error: 2.5124\n",
            "Epoch 130/200\n",
            " - 0s - loss: 2.6734 - mean_absolute_error: 1.1603 - val_loss: 12.6179 - val_mean_absolute_error: 2.4360\n",
            "Epoch 131/200\n",
            " - 0s - loss: 2.5828 - mean_absolute_error: 1.0906 - val_loss: 18.2269 - val_mean_absolute_error: 2.7840\n",
            "Epoch 132/200\n",
            " - 0s - loss: 2.7173 - mean_absolute_error: 1.1540 - val_loss: 19.0421 - val_mean_absolute_error: 3.1119\n",
            "Epoch 133/200\n",
            " - 0s - loss: 2.5587 - mean_absolute_error: 1.1171 - val_loss: 21.1398 - val_mean_absolute_error: 2.8406\n",
            "Epoch 134/200\n",
            " - 0s - loss: 2.6296 - mean_absolute_error: 1.1156 - val_loss: 16.7114 - val_mean_absolute_error: 2.6977\n",
            "Epoch 135/200\n",
            " - 0s - loss: 2.7686 - mean_absolute_error: 1.1195 - val_loss: 13.9966 - val_mean_absolute_error: 2.5287\n",
            "Epoch 136/200\n",
            " - 0s - loss: 2.3232 - mean_absolute_error: 1.0909 - val_loss: 18.8494 - val_mean_absolute_error: 2.6072\n",
            "Epoch 137/200\n",
            " - 0s - loss: 2.4857 - mean_absolute_error: 1.1278 - val_loss: 20.8850 - val_mean_absolute_error: 2.9021\n",
            "Epoch 138/200\n",
            " - 0s - loss: 2.3793 - mean_absolute_error: 1.1045 - val_loss: 21.2481 - val_mean_absolute_error: 2.9483\n",
            "Epoch 139/200\n",
            " - 0s - loss: 2.4915 - mean_absolute_error: 1.1267 - val_loss: 17.0780 - val_mean_absolute_error: 2.7196\n",
            "Epoch 140/200\n",
            " - 0s - loss: 2.2375 - mean_absolute_error: 1.0494 - val_loss: 14.6374 - val_mean_absolute_error: 2.5545\n",
            "Epoch 141/200\n",
            " - 0s - loss: 2.6521 - mean_absolute_error: 1.1298 - val_loss: 15.9910 - val_mean_absolute_error: 2.8061\n",
            "Epoch 142/200\n",
            " - 0s - loss: 2.3149 - mean_absolute_error: 1.1321 - val_loss: 15.0927 - val_mean_absolute_error: 2.6178\n",
            "Epoch 143/200\n",
            " - 0s - loss: 2.5266 - mean_absolute_error: 1.0883 - val_loss: 19.1497 - val_mean_absolute_error: 2.7533\n",
            "Epoch 144/200\n",
            " - 0s - loss: 2.1750 - mean_absolute_error: 1.0886 - val_loss: 19.3448 - val_mean_absolute_error: 2.8246\n",
            "Epoch 145/200\n",
            " - 0s - loss: 2.4773 - mean_absolute_error: 1.0780 - val_loss: 16.1162 - val_mean_absolute_error: 2.6123\n",
            "Epoch 146/200\n",
            " - 0s - loss: 2.5569 - mean_absolute_error: 1.0873 - val_loss: 22.7206 - val_mean_absolute_error: 2.9548\n",
            "Epoch 147/200\n",
            " - 0s - loss: 2.3419 - mean_absolute_error: 1.0565 - val_loss: 14.5331 - val_mean_absolute_error: 2.4867\n",
            "Epoch 148/200\n",
            " - 0s - loss: 2.2696 - mean_absolute_error: 1.0234 - val_loss: 18.1957 - val_mean_absolute_error: 3.0335\n",
            "Epoch 149/200\n",
            " - 0s - loss: 2.3254 - mean_absolute_error: 1.1315 - val_loss: 20.0154 - val_mean_absolute_error: 2.7526\n",
            "Epoch 150/200\n",
            " - 0s - loss: 2.1784 - mean_absolute_error: 1.0069 - val_loss: 22.3529 - val_mean_absolute_error: 2.9451\n",
            "Epoch 151/200\n",
            " - 0s - loss: 2.2856 - mean_absolute_error: 1.0553 - val_loss: 16.8866 - val_mean_absolute_error: 2.9224\n",
            "Epoch 152/200\n",
            " - 0s - loss: 2.2675 - mean_absolute_error: 1.0766 - val_loss: 21.3979 - val_mean_absolute_error: 2.9608\n",
            "Epoch 153/200\n",
            " - 0s - loss: 2.2287 - mean_absolute_error: 1.0699 - val_loss: 12.0170 - val_mean_absolute_error: 2.4602\n",
            "Epoch 154/200\n",
            " - 0s - loss: 2.5928 - mean_absolute_error: 1.1124 - val_loss: 19.3300 - val_mean_absolute_error: 2.8413\n",
            "Epoch 155/200\n",
            " - 0s - loss: 2.3186 - mean_absolute_error: 1.0410 - val_loss: 16.8304 - val_mean_absolute_error: 2.6832\n",
            "Epoch 156/200\n",
            " - 0s - loss: 2.3630 - mean_absolute_error: 1.0479 - val_loss: 18.2133 - val_mean_absolute_error: 2.8653\n",
            "Epoch 157/200\n",
            " - 0s - loss: 2.2600 - mean_absolute_error: 1.0515 - val_loss: 21.1818 - val_mean_absolute_error: 2.9048\n",
            "Epoch 158/200\n",
            " - 0s - loss: 2.0586 - mean_absolute_error: 1.0115 - val_loss: 16.2717 - val_mean_absolute_error: 2.7793\n",
            "Epoch 159/200\n",
            " - 0s - loss: 2.2462 - mean_absolute_error: 1.0063 - val_loss: 19.3635 - val_mean_absolute_error: 2.7239\n",
            "Epoch 160/200\n",
            " - 0s - loss: 2.0347 - mean_absolute_error: 1.0095 - val_loss: 16.5014 - val_mean_absolute_error: 2.7771\n",
            "Epoch 161/200\n",
            " - 0s - loss: 2.3484 - mean_absolute_error: 1.0641 - val_loss: 18.5465 - val_mean_absolute_error: 2.9144\n",
            "Epoch 162/200\n",
            " - 0s - loss: 2.0062 - mean_absolute_error: 1.0276 - val_loss: 13.1383 - val_mean_absolute_error: 2.4409\n",
            "Epoch 163/200\n",
            " - 0s - loss: 1.9800 - mean_absolute_error: 1.0360 - val_loss: 13.7628 - val_mean_absolute_error: 2.5047\n",
            "Epoch 164/200\n",
            " - 0s - loss: 2.0361 - mean_absolute_error: 0.9913 - val_loss: 19.0642 - val_mean_absolute_error: 2.7701\n",
            "Epoch 165/200\n",
            " - 0s - loss: 2.0173 - mean_absolute_error: 1.0316 - val_loss: 19.1337 - val_mean_absolute_error: 2.8854\n",
            "Epoch 166/200\n",
            " - 0s - loss: 2.0309 - mean_absolute_error: 1.0670 - val_loss: 18.2606 - val_mean_absolute_error: 2.9353\n",
            "Epoch 167/200\n",
            " - 0s - loss: 2.0443 - mean_absolute_error: 1.0511 - val_loss: 16.4746 - val_mean_absolute_error: 2.8777\n",
            "Epoch 168/200\n",
            " - 0s - loss: 2.2101 - mean_absolute_error: 1.0301 - val_loss: 21.1486 - val_mean_absolute_error: 2.8259\n",
            "Epoch 169/200\n",
            " - 0s - loss: 1.9167 - mean_absolute_error: 1.0356 - val_loss: 18.7639 - val_mean_absolute_error: 2.7684\n",
            "Epoch 170/200\n",
            " - 0s - loss: 2.1720 - mean_absolute_error: 1.0645 - val_loss: 15.1124 - val_mean_absolute_error: 2.6021\n",
            "Epoch 171/200\n",
            " - 0s - loss: 2.0302 - mean_absolute_error: 0.9775 - val_loss: 18.0886 - val_mean_absolute_error: 2.8362\n",
            "Epoch 172/200\n",
            " - 0s - loss: 2.1576 - mean_absolute_error: 0.9871 - val_loss: 19.8155 - val_mean_absolute_error: 2.9751\n",
            "Epoch 173/200\n",
            " - 0s - loss: 2.2077 - mean_absolute_error: 1.0587 - val_loss: 18.1541 - val_mean_absolute_error: 2.8720\n",
            "Epoch 174/200\n",
            " - 0s - loss: 1.8445 - mean_absolute_error: 0.9841 - val_loss: 19.0313 - val_mean_absolute_error: 2.7910\n",
            "Epoch 175/200\n",
            " - 0s - loss: 1.9244 - mean_absolute_error: 0.9759 - val_loss: 20.0641 - val_mean_absolute_error: 2.8644\n",
            "Epoch 176/200\n",
            " - 0s - loss: 2.1489 - mean_absolute_error: 1.0196 - val_loss: 13.8609 - val_mean_absolute_error: 2.5167\n",
            "Epoch 177/200\n",
            " - 0s - loss: 1.9022 - mean_absolute_error: 0.9918 - val_loss: 21.6078 - val_mean_absolute_error: 2.9142\n",
            "Epoch 178/200\n",
            " - 0s - loss: 1.8344 - mean_absolute_error: 0.9736 - val_loss: 16.2237 - val_mean_absolute_error: 2.7875\n",
            "Epoch 179/200\n",
            " - 0s - loss: 2.0402 - mean_absolute_error: 1.0220 - val_loss: 15.7241 - val_mean_absolute_error: 2.6418\n",
            "Epoch 180/200\n",
            " - 0s - loss: 1.8243 - mean_absolute_error: 1.0067 - val_loss: 27.4170 - val_mean_absolute_error: 3.3001\n",
            "Epoch 181/200\n",
            " - 0s - loss: 1.8734 - mean_absolute_error: 0.9732 - val_loss: 18.8489 - val_mean_absolute_error: 2.7432\n",
            "Epoch 182/200\n",
            " - 0s - loss: 2.0255 - mean_absolute_error: 0.9932 - val_loss: 19.2247 - val_mean_absolute_error: 2.9313\n",
            "Epoch 183/200\n",
            " - 0s - loss: 1.8583 - mean_absolute_error: 0.9702 - val_loss: 16.8886 - val_mean_absolute_error: 2.7805\n",
            "Epoch 184/200\n",
            " - 0s - loss: 1.9983 - mean_absolute_error: 0.9473 - val_loss: 18.2451 - val_mean_absolute_error: 2.7617\n",
            "Epoch 185/200\n",
            " - 0s - loss: 1.8156 - mean_absolute_error: 0.9495 - val_loss: 21.6454 - val_mean_absolute_error: 2.9296\n",
            "Epoch 186/200\n",
            " - 0s - loss: 1.9512 - mean_absolute_error: 0.9724 - val_loss: 16.3904 - val_mean_absolute_error: 2.6197\n",
            "Epoch 187/200\n",
            " - 0s - loss: 1.8274 - mean_absolute_error: 0.9869 - val_loss: 19.9884 - val_mean_absolute_error: 2.8544\n",
            "Epoch 188/200\n",
            " - 0s - loss: 1.8952 - mean_absolute_error: 0.9713 - val_loss: 18.0565 - val_mean_absolute_error: 2.7637\n",
            "Epoch 189/200\n",
            " - 0s - loss: 1.7939 - mean_absolute_error: 0.9461 - val_loss: 25.0145 - val_mean_absolute_error: 3.0636\n",
            "Epoch 190/200\n",
            " - 0s - loss: 1.8256 - mean_absolute_error: 0.9783 - val_loss: 17.1151 - val_mean_absolute_error: 2.6566\n",
            "Epoch 191/200\n",
            " - 0s - loss: 1.8716 - mean_absolute_error: 0.9739 - val_loss: 20.6415 - val_mean_absolute_error: 2.8034\n",
            "Epoch 192/200\n",
            " - 0s - loss: 1.6946 - mean_absolute_error: 0.9563 - val_loss: 15.9660 - val_mean_absolute_error: 2.5998\n",
            "Epoch 193/200\n",
            " - 0s - loss: 1.7587 - mean_absolute_error: 0.9736 - val_loss: 22.3291 - val_mean_absolute_error: 2.8864\n",
            "Epoch 194/200\n",
            " - 0s - loss: 1.7928 - mean_absolute_error: 0.9130 - val_loss: 24.2295 - val_mean_absolute_error: 2.9730\n",
            "Epoch 195/200\n",
            " - 0s - loss: 1.8580 - mean_absolute_error: 0.9548 - val_loss: 14.4928 - val_mean_absolute_error: 2.6268\n",
            "Epoch 196/200\n",
            " - 0s - loss: 1.8100 - mean_absolute_error: 0.9478 - val_loss: 18.0324 - val_mean_absolute_error: 2.8103\n",
            "Epoch 197/200\n",
            " - 0s - loss: 1.8436 - mean_absolute_error: 0.9583 - val_loss: 23.8037 - val_mean_absolute_error: 2.9917\n",
            "Epoch 198/200\n",
            " - 0s - loss: 1.7505 - mean_absolute_error: 0.9652 - val_loss: 21.4219 - val_mean_absolute_error: 2.9748\n",
            "Epoch 199/200\n",
            " - 0s - loss: 1.6743 - mean_absolute_error: 0.9198 - val_loss: 26.4181 - val_mean_absolute_error: 2.9582\n",
            "Epoch 200/200\n",
            " - 0s - loss: 1.7704 - mean_absolute_error: 0.9523 - val_loss: 23.2198 - val_mean_absolute_error: 2.9731\n",
            "processing fold # 2\n",
            "Train on 303 samples, validate on 101 samples\n",
            "Epoch 1/200\n",
            " - 0s - loss: 225.8889 - mean_absolute_error: 11.2014 - val_loss: 36.6138 - val_mean_absolute_error: 4.3942\n",
            "Epoch 2/200\n",
            " - 0s - loss: 31.8596 - mean_absolute_error: 3.9821 - val_loss: 23.1452 - val_mean_absolute_error: 3.1756\n",
            "Epoch 3/200\n",
            " - 0s - loss: 20.6778 - mean_absolute_error: 3.1350 - val_loss: 20.3651 - val_mean_absolute_error: 2.9113\n",
            "Epoch 4/200\n",
            " - 0s - loss: 17.2550 - mean_absolute_error: 2.7989 - val_loss: 18.5660 - val_mean_absolute_error: 2.8843\n",
            "Epoch 5/200\n",
            " - 0s - loss: 13.4476 - mean_absolute_error: 2.5259 - val_loss: 16.8273 - val_mean_absolute_error: 2.6763\n",
            "Epoch 6/200\n",
            " - 0s - loss: 12.4064 - mean_absolute_error: 2.3883 - val_loss: 16.8794 - val_mean_absolute_error: 2.7267\n",
            "Epoch 7/200\n",
            " - 0s - loss: 11.2967 - mean_absolute_error: 2.2961 - val_loss: 19.2678 - val_mean_absolute_error: 3.0160\n",
            "Epoch 8/200\n",
            " - 0s - loss: 10.7476 - mean_absolute_error: 2.2773 - val_loss: 15.9014 - val_mean_absolute_error: 2.6547\n",
            "Epoch 9/200\n",
            " - 0s - loss: 9.9461 - mean_absolute_error: 2.1294 - val_loss: 14.7986 - val_mean_absolute_error: 2.4888\n",
            "Epoch 10/200\n",
            " - 0s - loss: 9.7869 - mean_absolute_error: 2.1557 - val_loss: 15.0266 - val_mean_absolute_error: 2.5688\n",
            "Epoch 11/200\n",
            " - 0s - loss: 9.4252 - mean_absolute_error: 2.1304 - val_loss: 15.7519 - val_mean_absolute_error: 2.7035\n",
            "Epoch 12/200\n",
            " - 0s - loss: 8.8253 - mean_absolute_error: 2.1331 - val_loss: 14.6656 - val_mean_absolute_error: 2.6174\n",
            "Epoch 13/200\n",
            " - 0s - loss: 8.6330 - mean_absolute_error: 2.0133 - val_loss: 14.5860 - val_mean_absolute_error: 2.6560\n",
            "Epoch 14/200\n",
            " - 0s - loss: 8.6762 - mean_absolute_error: 2.0348 - val_loss: 14.4771 - val_mean_absolute_error: 2.5364\n",
            "Epoch 15/200\n",
            " - 0s - loss: 8.2855 - mean_absolute_error: 2.0129 - val_loss: 15.5292 - val_mean_absolute_error: 2.6397\n",
            "Epoch 16/200\n",
            " - 0s - loss: 8.2876 - mean_absolute_error: 1.9963 - val_loss: 14.0566 - val_mean_absolute_error: 2.3901\n",
            "Epoch 17/200\n",
            " - 0s - loss: 7.6080 - mean_absolute_error: 1.9762 - val_loss: 13.3703 - val_mean_absolute_error: 2.4642\n",
            "Epoch 18/200\n",
            " - 0s - loss: 7.8561 - mean_absolute_error: 1.9288 - val_loss: 14.4463 - val_mean_absolute_error: 2.5945\n",
            "Epoch 19/200\n",
            " - 0s - loss: 7.5251 - mean_absolute_error: 1.8703 - val_loss: 14.7390 - val_mean_absolute_error: 2.4985\n",
            "Epoch 20/200\n",
            " - 0s - loss: 7.4754 - mean_absolute_error: 1.8986 - val_loss: 15.1324 - val_mean_absolute_error: 2.5787\n",
            "Epoch 21/200\n",
            " - 0s - loss: 7.1137 - mean_absolute_error: 1.8563 - val_loss: 15.7201 - val_mean_absolute_error: 2.7072\n",
            "Epoch 22/200\n",
            " - 0s - loss: 7.1984 - mean_absolute_error: 1.8404 - val_loss: 13.7717 - val_mean_absolute_error: 2.4511\n",
            "Epoch 23/200\n",
            " - 0s - loss: 7.0901 - mean_absolute_error: 1.8453 - val_loss: 14.5372 - val_mean_absolute_error: 2.5836\n",
            "Epoch 24/200\n",
            " - 0s - loss: 6.7479 - mean_absolute_error: 1.8100 - val_loss: 13.7979 - val_mean_absolute_error: 2.5883\n",
            "Epoch 25/200\n",
            " - 0s - loss: 6.8883 - mean_absolute_error: 1.8159 - val_loss: 17.2446 - val_mean_absolute_error: 2.7494\n",
            "Epoch 26/200\n",
            " - 0s - loss: 6.6101 - mean_absolute_error: 1.7396 - val_loss: 13.5423 - val_mean_absolute_error: 2.4006\n",
            "Epoch 27/200\n",
            " - 0s - loss: 6.4886 - mean_absolute_error: 1.7733 - val_loss: 14.9775 - val_mean_absolute_error: 2.5839\n",
            "Epoch 28/200\n",
            " - 0s - loss: 6.7063 - mean_absolute_error: 1.8001 - val_loss: 14.4592 - val_mean_absolute_error: 2.5621\n",
            "Epoch 29/200\n",
            " - 0s - loss: 6.6387 - mean_absolute_error: 1.7498 - val_loss: 13.1217 - val_mean_absolute_error: 2.3876\n",
            "Epoch 30/200\n",
            " - 0s - loss: 6.6179 - mean_absolute_error: 1.7297 - val_loss: 14.9345 - val_mean_absolute_error: 2.7296\n",
            "Epoch 31/200\n",
            " - 0s - loss: 6.0957 - mean_absolute_error: 1.7206 - val_loss: 13.9523 - val_mean_absolute_error: 2.4886\n",
            "Epoch 32/200\n",
            " - 0s - loss: 6.1580 - mean_absolute_error: 1.6915 - val_loss: 13.1939 - val_mean_absolute_error: 2.3848\n",
            "Epoch 33/200\n",
            " - 0s - loss: 6.0888 - mean_absolute_error: 1.6680 - val_loss: 13.4937 - val_mean_absolute_error: 2.4626\n",
            "Epoch 34/200\n",
            " - 0s - loss: 6.0341 - mean_absolute_error: 1.6701 - val_loss: 14.2519 - val_mean_absolute_error: 2.5110\n",
            "Epoch 35/200\n",
            " - 0s - loss: 5.8387 - mean_absolute_error: 1.6741 - val_loss: 13.8980 - val_mean_absolute_error: 2.4804\n",
            "Epoch 36/200\n",
            " - 0s - loss: 5.7693 - mean_absolute_error: 1.6684 - val_loss: 13.0016 - val_mean_absolute_error: 2.4843\n",
            "Epoch 37/200\n",
            " - 0s - loss: 6.0897 - mean_absolute_error: 1.6842 - val_loss: 13.2803 - val_mean_absolute_error: 2.4857\n",
            "Epoch 38/200\n",
            " - 0s - loss: 5.5019 - mean_absolute_error: 1.5742 - val_loss: 13.4470 - val_mean_absolute_error: 2.4492\n",
            "Epoch 39/200\n",
            " - 0s - loss: 5.5685 - mean_absolute_error: 1.6155 - val_loss: 13.5073 - val_mean_absolute_error: 2.4669\n",
            "Epoch 40/200\n",
            " - 0s - loss: 5.7230 - mean_absolute_error: 1.5782 - val_loss: 13.1988 - val_mean_absolute_error: 2.3533\n",
            "Epoch 41/200\n",
            " - 0s - loss: 5.3892 - mean_absolute_error: 1.6090 - val_loss: 13.0468 - val_mean_absolute_error: 2.4345\n",
            "Epoch 42/200\n",
            " - 0s - loss: 5.7268 - mean_absolute_error: 1.6043 - val_loss: 13.8352 - val_mean_absolute_error: 2.4436\n",
            "Epoch 43/200\n",
            " - 0s - loss: 5.0500 - mean_absolute_error: 1.5590 - val_loss: 14.1973 - val_mean_absolute_error: 2.5908\n",
            "Epoch 44/200\n",
            " - 0s - loss: 5.4718 - mean_absolute_error: 1.5324 - val_loss: 14.0941 - val_mean_absolute_error: 2.5425\n",
            "Epoch 45/200\n",
            " - 0s - loss: 4.7697 - mean_absolute_error: 1.5142 - val_loss: 13.9524 - val_mean_absolute_error: 2.5283\n",
            "Epoch 46/200\n",
            " - 0s - loss: 5.5446 - mean_absolute_error: 1.6209 - val_loss: 15.1750 - val_mean_absolute_error: 2.6346\n",
            "Epoch 47/200\n",
            " - 0s - loss: 5.1753 - mean_absolute_error: 1.5299 - val_loss: 13.6303 - val_mean_absolute_error: 2.4355\n",
            "Epoch 48/200\n",
            " - 0s - loss: 4.9914 - mean_absolute_error: 1.5624 - val_loss: 13.6527 - val_mean_absolute_error: 2.4790\n",
            "Epoch 49/200\n",
            " - 0s - loss: 5.1804 - mean_absolute_error: 1.5202 - val_loss: 13.4018 - val_mean_absolute_error: 2.4816\n",
            "Epoch 50/200\n",
            " - 0s - loss: 4.9588 - mean_absolute_error: 1.5346 - val_loss: 13.3729 - val_mean_absolute_error: 2.3349\n",
            "Epoch 51/200\n",
            " - 0s - loss: 4.9733 - mean_absolute_error: 1.5429 - val_loss: 13.3232 - val_mean_absolute_error: 2.3989\n",
            "Epoch 52/200\n",
            " - 0s - loss: 5.1810 - mean_absolute_error: 1.5323 - val_loss: 13.0624 - val_mean_absolute_error: 2.3757\n",
            "Epoch 53/200\n",
            " - 0s - loss: 5.2645 - mean_absolute_error: 1.5083 - val_loss: 14.2920 - val_mean_absolute_error: 2.5929\n",
            "Epoch 54/200\n",
            " - 0s - loss: 4.8391 - mean_absolute_error: 1.5092 - val_loss: 14.4305 - val_mean_absolute_error: 2.5526\n",
            "Epoch 55/200\n",
            " - 0s - loss: 4.8435 - mean_absolute_error: 1.4525 - val_loss: 13.2466 - val_mean_absolute_error: 2.4127\n",
            "Epoch 56/200\n",
            " - 0s - loss: 4.6055 - mean_absolute_error: 1.4992 - val_loss: 16.1644 - val_mean_absolute_error: 2.9072\n",
            "Epoch 57/200\n",
            " - 0s - loss: 4.6365 - mean_absolute_error: 1.4739 - val_loss: 16.0706 - val_mean_absolute_error: 2.7296\n",
            "Epoch 58/200\n",
            " - 0s - loss: 4.4690 - mean_absolute_error: 1.4528 - val_loss: 13.9932 - val_mean_absolute_error: 2.5339\n",
            "Epoch 59/200\n",
            " - 0s - loss: 4.6468 - mean_absolute_error: 1.4687 - val_loss: 14.9915 - val_mean_absolute_error: 2.7433\n",
            "Epoch 60/200\n",
            " - 0s - loss: 4.4281 - mean_absolute_error: 1.4757 - val_loss: 15.3034 - val_mean_absolute_error: 2.7729\n",
            "Epoch 61/200\n",
            " - 0s - loss: 4.5567 - mean_absolute_error: 1.4911 - val_loss: 14.9216 - val_mean_absolute_error: 2.6862\n",
            "Epoch 62/200\n",
            " - 0s - loss: 3.8566 - mean_absolute_error: 1.4157 - val_loss: 15.1604 - val_mean_absolute_error: 2.6608\n",
            "Epoch 63/200\n",
            " - 0s - loss: 4.3535 - mean_absolute_error: 1.4055 - val_loss: 14.7355 - val_mean_absolute_error: 2.5430\n",
            "Epoch 64/200\n",
            " - 0s - loss: 4.2836 - mean_absolute_error: 1.4582 - val_loss: 14.6127 - val_mean_absolute_error: 2.5232\n",
            "Epoch 65/200\n",
            " - 0s - loss: 4.2113 - mean_absolute_error: 1.4149 - val_loss: 13.9618 - val_mean_absolute_error: 2.4348\n",
            "Epoch 66/200\n",
            " - 0s - loss: 4.2361 - mean_absolute_error: 1.4110 - val_loss: 14.2495 - val_mean_absolute_error: 2.5421\n",
            "Epoch 67/200\n",
            " - 0s - loss: 4.3025 - mean_absolute_error: 1.4117 - val_loss: 15.6296 - val_mean_absolute_error: 2.6521\n",
            "Epoch 68/200\n",
            " - 0s - loss: 3.9859 - mean_absolute_error: 1.3687 - val_loss: 13.7768 - val_mean_absolute_error: 2.4351\n",
            "Epoch 69/200\n",
            " - 0s - loss: 4.0413 - mean_absolute_error: 1.4046 - val_loss: 14.3875 - val_mean_absolute_error: 2.5322\n",
            "Epoch 70/200\n",
            " - 0s - loss: 3.9872 - mean_absolute_error: 1.4005 - val_loss: 13.5005 - val_mean_absolute_error: 2.4768\n",
            "Epoch 71/200\n",
            " - 0s - loss: 3.8173 - mean_absolute_error: 1.3679 - val_loss: 14.0699 - val_mean_absolute_error: 2.5996\n",
            "Epoch 72/200\n",
            " - 0s - loss: 4.0849 - mean_absolute_error: 1.3486 - val_loss: 13.9023 - val_mean_absolute_error: 2.4791\n",
            "Epoch 73/200\n",
            " - 0s - loss: 4.1488 - mean_absolute_error: 1.3146 - val_loss: 14.4567 - val_mean_absolute_error: 2.6943\n",
            "Epoch 74/200\n",
            " - 0s - loss: 3.8707 - mean_absolute_error: 1.3747 - val_loss: 13.0199 - val_mean_absolute_error: 2.3680\n",
            "Epoch 75/200\n",
            " - 0s - loss: 3.7791 - mean_absolute_error: 1.3308 - val_loss: 13.7501 - val_mean_absolute_error: 2.5008\n",
            "Epoch 76/200\n",
            " - 0s - loss: 3.6753 - mean_absolute_error: 1.3419 - val_loss: 14.4924 - val_mean_absolute_error: 2.7570\n",
            "Epoch 77/200\n",
            " - 0s - loss: 3.8228 - mean_absolute_error: 1.3429 - val_loss: 15.5004 - val_mean_absolute_error: 2.6878\n",
            "Epoch 78/200\n",
            " - 0s - loss: 3.6656 - mean_absolute_error: 1.3059 - val_loss: 14.3241 - val_mean_absolute_error: 2.6395\n",
            "Epoch 79/200\n",
            " - 0s - loss: 3.6637 - mean_absolute_error: 1.3406 - val_loss: 14.1398 - val_mean_absolute_error: 2.6291\n",
            "Epoch 80/200\n",
            " - 0s - loss: 3.3186 - mean_absolute_error: 1.2754 - val_loss: 13.9860 - val_mean_absolute_error: 2.5571\n",
            "Epoch 81/200\n",
            " - 0s - loss: 3.5539 - mean_absolute_error: 1.2769 - val_loss: 14.8396 - val_mean_absolute_error: 2.7695\n",
            "Epoch 82/200\n",
            " - 0s - loss: 3.3066 - mean_absolute_error: 1.2276 - val_loss: 14.9300 - val_mean_absolute_error: 2.6610\n",
            "Epoch 83/200\n",
            " - 0s - loss: 3.7080 - mean_absolute_error: 1.3453 - val_loss: 13.6020 - val_mean_absolute_error: 2.5056\n",
            "Epoch 84/200\n",
            " - 0s - loss: 3.2774 - mean_absolute_error: 1.2844 - val_loss: 12.9605 - val_mean_absolute_error: 2.3929\n",
            "Epoch 85/200\n",
            " - 0s - loss: 3.3013 - mean_absolute_error: 1.2898 - val_loss: 16.6739 - val_mean_absolute_error: 2.8899\n",
            "Epoch 86/200\n",
            " - 0s - loss: 3.3346 - mean_absolute_error: 1.2782 - val_loss: 14.1040 - val_mean_absolute_error: 2.5406\n",
            "Epoch 87/200\n",
            " - 0s - loss: 3.2587 - mean_absolute_error: 1.2699 - val_loss: 13.7584 - val_mean_absolute_error: 2.5683\n",
            "Epoch 88/200\n",
            " - 0s - loss: 3.0396 - mean_absolute_error: 1.2339 - val_loss: 14.3561 - val_mean_absolute_error: 2.6236\n",
            "Epoch 89/200\n",
            " - 0s - loss: 3.3070 - mean_absolute_error: 1.2609 - val_loss: 14.2879 - val_mean_absolute_error: 2.7205\n",
            "Epoch 90/200\n",
            " - 0s - loss: 3.1721 - mean_absolute_error: 1.2125 - val_loss: 14.9220 - val_mean_absolute_error: 2.6791\n",
            "Epoch 91/200\n",
            " - 0s - loss: 3.1807 - mean_absolute_error: 1.2548 - val_loss: 13.3027 - val_mean_absolute_error: 2.5288\n",
            "Epoch 92/200\n",
            " - 0s - loss: 2.8237 - mean_absolute_error: 1.2104 - val_loss: 14.3775 - val_mean_absolute_error: 2.6307\n",
            "Epoch 93/200\n",
            " - 0s - loss: 3.1388 - mean_absolute_error: 1.2400 - val_loss: 15.4996 - val_mean_absolute_error: 2.7643\n",
            "Epoch 94/200\n",
            " - 0s - loss: 2.9223 - mean_absolute_error: 1.2512 - val_loss: 13.5640 - val_mean_absolute_error: 2.5332\n",
            "Epoch 95/200\n",
            " - 0s - loss: 2.6846 - mean_absolute_error: 1.1456 - val_loss: 14.7121 - val_mean_absolute_error: 2.6696\n",
            "Epoch 96/200\n",
            " - 0s - loss: 2.8957 - mean_absolute_error: 1.2192 - val_loss: 14.4697 - val_mean_absolute_error: 2.6281\n",
            "Epoch 97/200\n",
            " - 0s - loss: 3.1493 - mean_absolute_error: 1.2178 - val_loss: 15.2004 - val_mean_absolute_error: 2.7504\n",
            "Epoch 98/200\n",
            " - 0s - loss: 3.0223 - mean_absolute_error: 1.2346 - val_loss: 14.5431 - val_mean_absolute_error: 2.6882\n",
            "Epoch 99/200\n",
            " - 0s - loss: 3.0356 - mean_absolute_error: 1.2130 - val_loss: 14.6244 - val_mean_absolute_error: 2.6602\n",
            "Epoch 100/200\n",
            " - 0s - loss: 2.7323 - mean_absolute_error: 1.2096 - val_loss: 13.8234 - val_mean_absolute_error: 2.5446\n",
            "Epoch 101/200\n",
            " - 0s - loss: 2.9344 - mean_absolute_error: 1.2056 - val_loss: 14.4063 - val_mean_absolute_error: 2.6732\n",
            "Epoch 102/200\n",
            " - 0s - loss: 2.8440 - mean_absolute_error: 1.1359 - val_loss: 12.9177 - val_mean_absolute_error: 2.4769\n",
            "Epoch 103/200\n",
            " - 0s - loss: 2.7997 - mean_absolute_error: 1.2142 - val_loss: 14.9796 - val_mean_absolute_error: 2.7850\n",
            "Epoch 104/200\n",
            " - 0s - loss: 2.5926 - mean_absolute_error: 1.1669 - val_loss: 13.4377 - val_mean_absolute_error: 2.5174\n",
            "Epoch 105/200\n",
            " - 0s - loss: 2.5746 - mean_absolute_error: 1.1478 - val_loss: 14.4580 - val_mean_absolute_error: 2.7359\n",
            "Epoch 106/200\n",
            " - 0s - loss: 2.7289 - mean_absolute_error: 1.2540 - val_loss: 13.8082 - val_mean_absolute_error: 2.5990\n",
            "Epoch 107/200\n",
            " - 0s - loss: 2.4977 - mean_absolute_error: 1.1122 - val_loss: 14.0765 - val_mean_absolute_error: 2.5904\n",
            "Epoch 108/200\n",
            " - 0s - loss: 2.5664 - mean_absolute_error: 1.1298 - val_loss: 13.6952 - val_mean_absolute_error: 2.5495\n",
            "Epoch 109/200\n",
            " - 0s - loss: 2.2288 - mean_absolute_error: 1.1034 - val_loss: 14.8770 - val_mean_absolute_error: 2.7279\n",
            "Epoch 110/200\n",
            " - 0s - loss: 2.6728 - mean_absolute_error: 1.1734 - val_loss: 16.3500 - val_mean_absolute_error: 2.8621\n",
            "Epoch 111/200\n",
            " - 0s - loss: 2.4541 - mean_absolute_error: 1.1355 - val_loss: 14.3867 - val_mean_absolute_error: 2.5481\n",
            "Epoch 112/200\n",
            " - 0s - loss: 2.6037 - mean_absolute_error: 1.1535 - val_loss: 14.4571 - val_mean_absolute_error: 2.5567\n",
            "Epoch 113/200\n",
            " - 0s - loss: 2.6581 - mean_absolute_error: 1.1282 - val_loss: 13.9383 - val_mean_absolute_error: 2.5093\n",
            "Epoch 114/200\n",
            " - 0s - loss: 2.3482 - mean_absolute_error: 1.1221 - val_loss: 16.0059 - val_mean_absolute_error: 2.9162\n",
            "Epoch 115/200\n",
            " - 0s - loss: 2.4042 - mean_absolute_error: 1.1294 - val_loss: 14.3438 - val_mean_absolute_error: 2.6345\n",
            "Epoch 116/200\n",
            " - 0s - loss: 2.4145 - mean_absolute_error: 1.0930 - val_loss: 13.4801 - val_mean_absolute_error: 2.6045\n",
            "Epoch 117/200\n",
            " - 0s - loss: 2.0544 - mean_absolute_error: 1.0382 - val_loss: 14.7603 - val_mean_absolute_error: 2.6298\n",
            "Epoch 118/200\n",
            " - 0s - loss: 2.4094 - mean_absolute_error: 1.1044 - val_loss: 15.5179 - val_mean_absolute_error: 2.7291\n",
            "Epoch 119/200\n",
            " - 0s - loss: 2.3340 - mean_absolute_error: 1.1061 - val_loss: 13.8337 - val_mean_absolute_error: 2.4934\n",
            "Epoch 120/200\n",
            " - 0s - loss: 2.3392 - mean_absolute_error: 1.0971 - val_loss: 14.1958 - val_mean_absolute_error: 2.5878\n",
            "Epoch 121/200\n",
            " - 0s - loss: 2.1926 - mean_absolute_error: 1.0471 - val_loss: 15.5881 - val_mean_absolute_error: 2.7207\n",
            "Epoch 122/200\n",
            " - 0s - loss: 2.4871 - mean_absolute_error: 1.0693 - val_loss: 14.7519 - val_mean_absolute_error: 2.5723\n",
            "Epoch 123/200\n",
            " - 0s - loss: 2.2803 - mean_absolute_error: 1.0566 - val_loss: 14.6322 - val_mean_absolute_error: 2.6785\n",
            "Epoch 124/200\n",
            " - 0s - loss: 2.3559 - mean_absolute_error: 1.0452 - val_loss: 14.7931 - val_mean_absolute_error: 2.6666\n",
            "Epoch 125/200\n",
            " - 0s - loss: 2.0169 - mean_absolute_error: 0.9890 - val_loss: 14.8463 - val_mean_absolute_error: 2.6681\n",
            "Epoch 126/200\n",
            " - 0s - loss: 2.1670 - mean_absolute_error: 1.0956 - val_loss: 14.1668 - val_mean_absolute_error: 2.5841\n",
            "Epoch 127/200\n",
            " - 0s - loss: 2.3428 - mean_absolute_error: 1.0834 - val_loss: 13.5918 - val_mean_absolute_error: 2.5369\n",
            "Epoch 128/200\n",
            " - 0s - loss: 2.2090 - mean_absolute_error: 1.0686 - val_loss: 14.9266 - val_mean_absolute_error: 2.6849\n",
            "Epoch 129/200\n",
            " - 0s - loss: 2.1654 - mean_absolute_error: 1.0597 - val_loss: 14.5011 - val_mean_absolute_error: 2.5909\n",
            "Epoch 130/200\n",
            " - 0s - loss: 2.1622 - mean_absolute_error: 1.0627 - val_loss: 15.1457 - val_mean_absolute_error: 2.6975\n",
            "Epoch 131/200\n",
            " - 0s - loss: 2.1371 - mean_absolute_error: 1.0687 - val_loss: 15.3481 - val_mean_absolute_error: 2.7435\n",
            "Epoch 132/200\n",
            " - 0s - loss: 2.0819 - mean_absolute_error: 1.0345 - val_loss: 15.7466 - val_mean_absolute_error: 2.7893\n",
            "Epoch 133/200\n",
            " - 0s - loss: 2.2470 - mean_absolute_error: 1.0712 - val_loss: 14.8124 - val_mean_absolute_error: 2.6576\n",
            "Epoch 134/200\n",
            " - 0s - loss: 2.0630 - mean_absolute_error: 1.0064 - val_loss: 15.7250 - val_mean_absolute_error: 2.8327\n",
            "Epoch 135/200\n",
            " - 0s - loss: 2.0648 - mean_absolute_error: 1.0265 - val_loss: 13.5397 - val_mean_absolute_error: 2.5044\n",
            "Epoch 136/200\n",
            " - 0s - loss: 2.2293 - mean_absolute_error: 1.0921 - val_loss: 13.7524 - val_mean_absolute_error: 2.5910\n",
            "Epoch 137/200\n",
            " - 0s - loss: 2.0558 - mean_absolute_error: 1.0132 - val_loss: 14.5698 - val_mean_absolute_error: 2.6926\n",
            "Epoch 138/200\n",
            " - 0s - loss: 2.0222 - mean_absolute_error: 1.0829 - val_loss: 14.6214 - val_mean_absolute_error: 2.6622\n",
            "Epoch 139/200\n",
            " - 0s - loss: 1.8821 - mean_absolute_error: 0.9960 - val_loss: 15.1428 - val_mean_absolute_error: 2.6504\n",
            "Epoch 140/200\n",
            " - 0s - loss: 2.0026 - mean_absolute_error: 1.0101 - val_loss: 14.2010 - val_mean_absolute_error: 2.5560\n",
            "Epoch 141/200\n",
            " - 0s - loss: 1.7550 - mean_absolute_error: 0.9498 - val_loss: 14.0648 - val_mean_absolute_error: 2.6919\n",
            "Epoch 142/200\n",
            " - 0s - loss: 1.9519 - mean_absolute_error: 1.0190 - val_loss: 14.4924 - val_mean_absolute_error: 2.7408\n",
            "Epoch 143/200\n",
            " - 0s - loss: 1.7401 - mean_absolute_error: 0.9482 - val_loss: 14.7502 - val_mean_absolute_error: 2.6671\n",
            "Epoch 144/200\n",
            " - 0s - loss: 1.8038 - mean_absolute_error: 0.9655 - val_loss: 15.1661 - val_mean_absolute_error: 2.7738\n",
            "Epoch 145/200\n",
            " - 0s - loss: 1.9094 - mean_absolute_error: 0.9658 - val_loss: 15.3218 - val_mean_absolute_error: 2.8169\n",
            "Epoch 146/200\n",
            " - 0s - loss: 1.6823 - mean_absolute_error: 0.9502 - val_loss: 13.4358 - val_mean_absolute_error: 2.6025\n",
            "Epoch 147/200\n",
            " - 0s - loss: 1.9223 - mean_absolute_error: 0.9897 - val_loss: 14.3624 - val_mean_absolute_error: 2.6336\n",
            "Epoch 148/200\n",
            " - 0s - loss: 1.8992 - mean_absolute_error: 0.9890 - val_loss: 13.0282 - val_mean_absolute_error: 2.4618\n",
            "Epoch 149/200\n",
            " - 0s - loss: 2.0164 - mean_absolute_error: 0.9606 - val_loss: 13.5484 - val_mean_absolute_error: 2.5381\n",
            "Epoch 150/200\n",
            " - 0s - loss: 1.8361 - mean_absolute_error: 0.9500 - val_loss: 14.9703 - val_mean_absolute_error: 2.7365\n",
            "Epoch 151/200\n",
            " - 0s - loss: 1.8171 - mean_absolute_error: 0.9236 - val_loss: 14.3154 - val_mean_absolute_error: 2.6271\n",
            "Epoch 152/200\n",
            " - 0s - loss: 1.7177 - mean_absolute_error: 0.9440 - val_loss: 15.8375 - val_mean_absolute_error: 2.9087\n",
            "Epoch 153/200\n",
            " - 0s - loss: 1.6557 - mean_absolute_error: 0.9125 - val_loss: 14.0536 - val_mean_absolute_error: 2.6895\n",
            "Epoch 154/200\n",
            " - 0s - loss: 1.7409 - mean_absolute_error: 0.9370 - val_loss: 14.8615 - val_mean_absolute_error: 2.6812\n",
            "Epoch 155/200\n",
            " - 0s - loss: 1.9300 - mean_absolute_error: 0.9840 - val_loss: 14.9589 - val_mean_absolute_error: 2.5980\n",
            "Epoch 156/200\n",
            " - 0s - loss: 1.7094 - mean_absolute_error: 0.9179 - val_loss: 15.3997 - val_mean_absolute_error: 2.7922\n",
            "Epoch 157/200\n",
            " - 0s - loss: 1.6204 - mean_absolute_error: 0.9363 - val_loss: 15.3190 - val_mean_absolute_error: 2.8490\n",
            "Epoch 158/200\n",
            " - 0s - loss: 1.7674 - mean_absolute_error: 0.9841 - val_loss: 14.9862 - val_mean_absolute_error: 2.7841\n",
            "Epoch 159/200\n",
            " - 0s - loss: 1.6595 - mean_absolute_error: 0.9314 - val_loss: 14.8093 - val_mean_absolute_error: 2.6490\n",
            "Epoch 160/200\n",
            " - 0s - loss: 1.7293 - mean_absolute_error: 0.9288 - val_loss: 13.8307 - val_mean_absolute_error: 2.6254\n",
            "Epoch 161/200\n",
            " - 0s - loss: 1.6923 - mean_absolute_error: 0.9442 - val_loss: 13.6793 - val_mean_absolute_error: 2.6112\n",
            "Epoch 162/200\n",
            " - 0s - loss: 1.8598 - mean_absolute_error: 0.9667 - val_loss: 15.4144 - val_mean_absolute_error: 2.7810\n",
            "Epoch 163/200\n",
            " - 0s - loss: 1.7184 - mean_absolute_error: 0.9305 - val_loss: 14.7226 - val_mean_absolute_error: 2.6726\n",
            "Epoch 164/200\n",
            " - 0s - loss: 1.6784 - mean_absolute_error: 0.9393 - val_loss: 14.0944 - val_mean_absolute_error: 2.6482\n",
            "Epoch 165/200\n",
            " - 0s - loss: 1.6062 - mean_absolute_error: 0.8921 - val_loss: 14.3117 - val_mean_absolute_error: 2.7163\n",
            "Epoch 166/200\n",
            " - 0s - loss: 1.6137 - mean_absolute_error: 0.9094 - val_loss: 14.8868 - val_mean_absolute_error: 2.7620\n",
            "Epoch 167/200\n",
            " - 0s - loss: 1.4991 - mean_absolute_error: 0.9110 - val_loss: 13.8067 - val_mean_absolute_error: 2.5749\n",
            "Epoch 168/200\n",
            " - 0s - loss: 1.5594 - mean_absolute_error: 0.9130 - val_loss: 15.2762 - val_mean_absolute_error: 2.6756\n",
            "Epoch 169/200\n",
            " - 0s - loss: 1.6807 - mean_absolute_error: 0.9159 - val_loss: 14.7960 - val_mean_absolute_error: 2.6977\n",
            "Epoch 170/200\n",
            " - 0s - loss: 1.5366 - mean_absolute_error: 0.9181 - val_loss: 13.5393 - val_mean_absolute_error: 2.6050\n",
            "Epoch 171/200\n",
            " - 0s - loss: 1.4758 - mean_absolute_error: 0.9022 - val_loss: 13.9594 - val_mean_absolute_error: 2.6378\n",
            "Epoch 172/200\n",
            " - 0s - loss: 1.4712 - mean_absolute_error: 0.8753 - val_loss: 13.3917 - val_mean_absolute_error: 2.5552\n",
            "Epoch 173/200\n",
            " - 0s - loss: 1.5849 - mean_absolute_error: 0.9283 - val_loss: 14.0138 - val_mean_absolute_error: 2.6657\n",
            "Epoch 174/200\n",
            " - 0s - loss: 1.5235 - mean_absolute_error: 0.8884 - val_loss: 14.7786 - val_mean_absolute_error: 2.6649\n",
            "Epoch 175/200\n",
            " - 0s - loss: 1.5690 - mean_absolute_error: 0.9026 - val_loss: 14.5248 - val_mean_absolute_error: 2.6621\n",
            "Epoch 176/200\n",
            " - 0s - loss: 1.4924 - mean_absolute_error: 0.9041 - val_loss: 14.1974 - val_mean_absolute_error: 2.6631\n",
            "Epoch 177/200\n",
            " - 0s - loss: 1.5282 - mean_absolute_error: 0.9058 - val_loss: 14.8906 - val_mean_absolute_error: 2.6852\n",
            "Epoch 178/200\n",
            " - 0s - loss: 1.6041 - mean_absolute_error: 0.9092 - val_loss: 14.0697 - val_mean_absolute_error: 2.5975\n",
            "Epoch 179/200\n",
            " - 0s - loss: 1.3671 - mean_absolute_error: 0.8338 - val_loss: 15.1871 - val_mean_absolute_error: 2.7546\n",
            "Epoch 180/200\n",
            " - 0s - loss: 1.5662 - mean_absolute_error: 0.9098 - val_loss: 13.3504 - val_mean_absolute_error: 2.5030\n",
            "Epoch 181/200\n",
            " - 0s - loss: 1.4277 - mean_absolute_error: 0.8576 - val_loss: 14.2639 - val_mean_absolute_error: 2.7070\n",
            "Epoch 182/200\n",
            " - 0s - loss: 1.5764 - mean_absolute_error: 0.8877 - val_loss: 13.4146 - val_mean_absolute_error: 2.5468\n",
            "Epoch 183/200\n",
            " - 0s - loss: 1.6461 - mean_absolute_error: 0.8870 - val_loss: 14.6630 - val_mean_absolute_error: 2.6790\n",
            "Epoch 184/200\n",
            " - 0s - loss: 1.4701 - mean_absolute_error: 0.8505 - val_loss: 14.2174 - val_mean_absolute_error: 2.6579\n",
            "Epoch 185/200\n",
            " - 0s - loss: 1.4634 - mean_absolute_error: 0.8397 - val_loss: 13.7608 - val_mean_absolute_error: 2.6428\n",
            "Epoch 186/200\n",
            " - 0s - loss: 1.3989 - mean_absolute_error: 0.8898 - val_loss: 13.8224 - val_mean_absolute_error: 2.5255\n",
            "Epoch 187/200\n",
            " - 0s - loss: 1.5534 - mean_absolute_error: 0.8796 - val_loss: 14.3232 - val_mean_absolute_error: 2.6199\n",
            "Epoch 188/200\n",
            " - 0s - loss: 1.3717 - mean_absolute_error: 0.8383 - val_loss: 14.4083 - val_mean_absolute_error: 2.6393\n",
            "Epoch 189/200\n",
            " - 0s - loss: 1.3622 - mean_absolute_error: 0.8408 - val_loss: 15.2843 - val_mean_absolute_error: 2.8303\n",
            "Epoch 190/200\n",
            " - 0s - loss: 1.5062 - mean_absolute_error: 0.8450 - val_loss: 15.0978 - val_mean_absolute_error: 2.6905\n",
            "Epoch 191/200\n",
            " - 0s - loss: 1.3344 - mean_absolute_error: 0.8482 - val_loss: 15.8082 - val_mean_absolute_error: 2.7654\n",
            "Epoch 192/200\n",
            " - 0s - loss: 1.4084 - mean_absolute_error: 0.8463 - val_loss: 15.0163 - val_mean_absolute_error: 2.7326\n",
            "Epoch 193/200\n",
            " - 0s - loss: 1.3897 - mean_absolute_error: 0.8274 - val_loss: 14.6880 - val_mean_absolute_error: 2.6090\n",
            "Epoch 194/200\n",
            " - 0s - loss: 1.4341 - mean_absolute_error: 0.8571 - val_loss: 13.8590 - val_mean_absolute_error: 2.5540\n",
            "Epoch 195/200\n",
            " - 0s - loss: 1.2894 - mean_absolute_error: 0.8290 - val_loss: 13.8731 - val_mean_absolute_error: 2.5771\n",
            "Epoch 196/200\n",
            " - 0s - loss: 1.4790 - mean_absolute_error: 0.8780 - val_loss: 14.5113 - val_mean_absolute_error: 2.5813\n",
            "Epoch 197/200\n",
            " - 0s - loss: 1.2699 - mean_absolute_error: 0.8360 - val_loss: 13.6449 - val_mean_absolute_error: 2.5578\n",
            "Epoch 198/200\n",
            " - 0s - loss: 1.4069 - mean_absolute_error: 0.8861 - val_loss: 14.8493 - val_mean_absolute_error: 2.7643\n",
            "Epoch 199/200\n",
            " - 0s - loss: 1.3845 - mean_absolute_error: 0.8758 - val_loss: 13.9399 - val_mean_absolute_error: 2.5575\n",
            "Epoch 200/200\n",
            " - 0s - loss: 1.4720 - mean_absolute_error: 0.8469 - val_loss: 15.4705 - val_mean_absolute_error: 2.7277\n",
            "processing fold # 3\n",
            "Train on 303 samples, validate on 101 samples\n",
            "Epoch 1/200\n",
            " - 1s - loss: 197.8388 - mean_absolute_error: 10.7127 - val_loss: 53.0104 - val_mean_absolute_error: 4.9531\n",
            "Epoch 2/200\n",
            " - 0s - loss: 24.3343 - mean_absolute_error: 3.3779 - val_loss: 35.0491 - val_mean_absolute_error: 3.8597\n",
            "Epoch 3/200\n",
            " - 0s - loss: 18.0892 - mean_absolute_error: 2.8475 - val_loss: 34.4556 - val_mean_absolute_error: 3.8172\n",
            "Epoch 4/200\n",
            " - 0s - loss: 15.1310 - mean_absolute_error: 2.5494 - val_loss: 25.7104 - val_mean_absolute_error: 2.9727\n",
            "Epoch 5/200\n",
            " - 0s - loss: 13.5641 - mean_absolute_error: 2.3632 - val_loss: 24.2556 - val_mean_absolute_error: 2.9218\n",
            "Epoch 6/200\n",
            " - 0s - loss: 13.1248 - mean_absolute_error: 2.4135 - val_loss: 22.4881 - val_mean_absolute_error: 2.8036\n",
            "Epoch 7/200\n",
            " - 0s - loss: 12.4996 - mean_absolute_error: 2.2165 - val_loss: 22.4417 - val_mean_absolute_error: 2.9371\n",
            "Epoch 8/200\n",
            " - 0s - loss: 11.3067 - mean_absolute_error: 2.1916 - val_loss: 19.1898 - val_mean_absolute_error: 2.7702\n",
            "Epoch 9/200\n",
            " - 0s - loss: 10.7491 - mean_absolute_error: 2.1402 - val_loss: 21.6451 - val_mean_absolute_error: 2.8323\n",
            "Epoch 10/200\n",
            " - 0s - loss: 10.8012 - mean_absolute_error: 2.1280 - val_loss: 19.8420 - val_mean_absolute_error: 2.6752\n",
            "Epoch 11/200\n",
            " - 0s - loss: 9.9163 - mean_absolute_error: 2.0618 - val_loss: 18.2103 - val_mean_absolute_error: 2.7295\n",
            "Epoch 12/200\n",
            " - 0s - loss: 9.5706 - mean_absolute_error: 2.0771 - val_loss: 22.4437 - val_mean_absolute_error: 2.9626\n",
            "Epoch 13/200\n",
            " - 0s - loss: 10.1743 - mean_absolute_error: 2.0732 - val_loss: 17.1516 - val_mean_absolute_error: 2.5547\n",
            "Epoch 14/200\n",
            " - 0s - loss: 10.0026 - mean_absolute_error: 2.0631 - val_loss: 15.9033 - val_mean_absolute_error: 2.5245\n",
            "Epoch 15/200\n",
            " - 0s - loss: 8.8232 - mean_absolute_error: 2.0128 - val_loss: 15.3569 - val_mean_absolute_error: 2.4844\n",
            "Epoch 16/200\n",
            " - 0s - loss: 9.1846 - mean_absolute_error: 2.0063 - val_loss: 18.4859 - val_mean_absolute_error: 2.7159\n",
            "Epoch 17/200\n",
            " - 0s - loss: 9.0915 - mean_absolute_error: 1.9464 - val_loss: 16.5562 - val_mean_absolute_error: 2.6203\n",
            "Epoch 18/200\n",
            " - 0s - loss: 8.9848 - mean_absolute_error: 1.9775 - val_loss: 14.6432 - val_mean_absolute_error: 2.4306\n",
            "Epoch 19/200\n",
            " - 0s - loss: 8.8777 - mean_absolute_error: 1.9324 - val_loss: 18.3820 - val_mean_absolute_error: 2.7443\n",
            "Epoch 20/200\n",
            " - 0s - loss: 8.4209 - mean_absolute_error: 1.9056 - val_loss: 13.9819 - val_mean_absolute_error: 2.4755\n",
            "Epoch 21/200\n",
            " - 0s - loss: 8.4921 - mean_absolute_error: 1.9467 - val_loss: 14.3270 - val_mean_absolute_error: 2.5428\n",
            "Epoch 22/200\n",
            " - 0s - loss: 8.5372 - mean_absolute_error: 1.8920 - val_loss: 15.0368 - val_mean_absolute_error: 2.5102\n",
            "Epoch 23/200\n",
            " - 0s - loss: 7.9731 - mean_absolute_error: 1.8540 - val_loss: 16.2051 - val_mean_absolute_error: 2.6207\n",
            "Epoch 24/200\n",
            " - 0s - loss: 8.0905 - mean_absolute_error: 1.9045 - val_loss: 14.8277 - val_mean_absolute_error: 2.5664\n",
            "Epoch 25/200\n",
            " - 0s - loss: 7.8873 - mean_absolute_error: 1.8645 - val_loss: 15.3594 - val_mean_absolute_error: 2.5279\n",
            "Epoch 26/200\n",
            " - 0s - loss: 8.1175 - mean_absolute_error: 1.8872 - val_loss: 14.1166 - val_mean_absolute_error: 2.4097\n",
            "Epoch 27/200\n",
            " - 0s - loss: 7.5369 - mean_absolute_error: 1.8306 - val_loss: 13.5254 - val_mean_absolute_error: 2.4046\n",
            "Epoch 28/200\n",
            " - 0s - loss: 7.5905 - mean_absolute_error: 1.8274 - val_loss: 14.7773 - val_mean_absolute_error: 2.4874\n",
            "Epoch 29/200\n",
            " - 0s - loss: 7.3289 - mean_absolute_error: 1.8010 - val_loss: 14.7408 - val_mean_absolute_error: 2.5642\n",
            "Epoch 30/200\n",
            " - 0s - loss: 7.3416 - mean_absolute_error: 1.8225 - val_loss: 13.5480 - val_mean_absolute_error: 2.5134\n",
            "Epoch 31/200\n",
            " - 0s - loss: 7.0817 - mean_absolute_error: 1.7414 - val_loss: 13.5438 - val_mean_absolute_error: 2.4456\n",
            "Epoch 32/200\n",
            " - 0s - loss: 6.8913 - mean_absolute_error: 1.7706 - val_loss: 13.7721 - val_mean_absolute_error: 2.5281\n",
            "Epoch 33/200\n",
            " - 0s - loss: 6.7877 - mean_absolute_error: 1.6970 - val_loss: 14.5814 - val_mean_absolute_error: 2.6766\n",
            "Epoch 34/200\n",
            " - 0s - loss: 7.2707 - mean_absolute_error: 1.7869 - val_loss: 12.9342 - val_mean_absolute_error: 2.3945\n",
            "Epoch 35/200\n",
            " - 0s - loss: 6.8700 - mean_absolute_error: 1.6880 - val_loss: 13.1266 - val_mean_absolute_error: 2.4958\n",
            "Epoch 36/200\n",
            " - 0s - loss: 6.8536 - mean_absolute_error: 1.7501 - val_loss: 13.0266 - val_mean_absolute_error: 2.5104\n",
            "Epoch 37/200\n",
            " - 0s - loss: 6.7234 - mean_absolute_error: 1.7029 - val_loss: 13.9116 - val_mean_absolute_error: 2.6837\n",
            "Epoch 38/200\n",
            " - 0s - loss: 6.5542 - mean_absolute_error: 1.6776 - val_loss: 13.6919 - val_mean_absolute_error: 2.7046\n",
            "Epoch 39/200\n",
            " - 0s - loss: 6.2935 - mean_absolute_error: 1.6197 - val_loss: 11.6528 - val_mean_absolute_error: 2.2926\n",
            "Epoch 40/200\n",
            " - 0s - loss: 6.3875 - mean_absolute_error: 1.7135 - val_loss: 13.5510 - val_mean_absolute_error: 2.6113\n",
            "Epoch 41/200\n",
            " - 0s - loss: 6.1181 - mean_absolute_error: 1.6980 - val_loss: 13.4356 - val_mean_absolute_error: 2.5648\n",
            "Epoch 42/200\n",
            " - 0s - loss: 6.1032 - mean_absolute_error: 1.6706 - val_loss: 11.9200 - val_mean_absolute_error: 2.3434\n",
            "Epoch 43/200\n",
            " - 0s - loss: 6.2115 - mean_absolute_error: 1.6484 - val_loss: 12.9888 - val_mean_absolute_error: 2.5120\n",
            "Epoch 44/200\n",
            " - 0s - loss: 6.1411 - mean_absolute_error: 1.6152 - val_loss: 13.2925 - val_mean_absolute_error: 2.5565\n",
            "Epoch 45/200\n",
            " - 0s - loss: 6.3587 - mean_absolute_error: 1.5962 - val_loss: 13.5656 - val_mean_absolute_error: 2.7054\n",
            "Epoch 46/200\n",
            " - 0s - loss: 5.8302 - mean_absolute_error: 1.5985 - val_loss: 14.1820 - val_mean_absolute_error: 2.6277\n",
            "Epoch 47/200\n",
            " - 0s - loss: 5.9697 - mean_absolute_error: 1.6010 - val_loss: 12.5263 - val_mean_absolute_error: 2.4547\n",
            "Epoch 48/200\n",
            " - 0s - loss: 5.8349 - mean_absolute_error: 1.5803 - val_loss: 13.2353 - val_mean_absolute_error: 2.5379\n",
            "Epoch 49/200\n",
            " - 0s - loss: 5.6435 - mean_absolute_error: 1.5792 - val_loss: 12.3678 - val_mean_absolute_error: 2.3549\n",
            "Epoch 50/200\n",
            " - 0s - loss: 5.3814 - mean_absolute_error: 1.5488 - val_loss: 13.2084 - val_mean_absolute_error: 2.4637\n",
            "Epoch 51/200\n",
            " - 0s - loss: 5.6818 - mean_absolute_error: 1.5905 - val_loss: 12.9013 - val_mean_absolute_error: 2.5379\n",
            "Epoch 52/200\n",
            " - 0s - loss: 5.5276 - mean_absolute_error: 1.5981 - val_loss: 12.1184 - val_mean_absolute_error: 2.4044\n",
            "Epoch 53/200\n",
            " - 0s - loss: 5.4329 - mean_absolute_error: 1.5569 - val_loss: 11.5576 - val_mean_absolute_error: 2.3238\n",
            "Epoch 54/200\n",
            " - 0s - loss: 5.6231 - mean_absolute_error: 1.5933 - val_loss: 11.6531 - val_mean_absolute_error: 2.2972\n",
            "Epoch 55/200\n",
            " - 0s - loss: 5.4360 - mean_absolute_error: 1.5354 - val_loss: 12.2290 - val_mean_absolute_error: 2.3882\n",
            "Epoch 56/200\n",
            " - 0s - loss: 5.5503 - mean_absolute_error: 1.5273 - val_loss: 11.8406 - val_mean_absolute_error: 2.4747\n",
            "Epoch 57/200\n",
            " - 0s - loss: 5.4092 - mean_absolute_error: 1.5305 - val_loss: 11.8411 - val_mean_absolute_error: 2.3769\n",
            "Epoch 58/200\n",
            " - 0s - loss: 5.1196 - mean_absolute_error: 1.4932 - val_loss: 12.2039 - val_mean_absolute_error: 2.4521\n",
            "Epoch 59/200\n",
            " - 0s - loss: 5.4634 - mean_absolute_error: 1.4982 - val_loss: 10.9768 - val_mean_absolute_error: 2.2659\n",
            "Epoch 60/200\n",
            " - 0s - loss: 5.2014 - mean_absolute_error: 1.5109 - val_loss: 11.3004 - val_mean_absolute_error: 2.3404\n",
            "Epoch 61/200\n",
            " - 0s - loss: 5.0970 - mean_absolute_error: 1.4994 - val_loss: 10.8483 - val_mean_absolute_error: 2.2611\n",
            "Epoch 62/200\n",
            " - 0s - loss: 4.7881 - mean_absolute_error: 1.4185 - val_loss: 12.1499 - val_mean_absolute_error: 2.4523\n",
            "Epoch 63/200\n",
            " - 0s - loss: 5.1043 - mean_absolute_error: 1.4794 - val_loss: 10.9498 - val_mean_absolute_error: 2.2928\n",
            "Epoch 64/200\n",
            " - 0s - loss: 5.2561 - mean_absolute_error: 1.3999 - val_loss: 11.8137 - val_mean_absolute_error: 2.4088\n",
            "Epoch 65/200\n",
            " - 0s - loss: 5.0273 - mean_absolute_error: 1.4095 - val_loss: 11.4250 - val_mean_absolute_error: 2.3133\n",
            "Epoch 66/200\n",
            " - 0s - loss: 5.0828 - mean_absolute_error: 1.4721 - val_loss: 11.7915 - val_mean_absolute_error: 2.4285\n",
            "Epoch 67/200\n",
            " - 0s - loss: 4.6034 - mean_absolute_error: 1.4065 - val_loss: 12.1375 - val_mean_absolute_error: 2.4365\n",
            "Epoch 68/200\n",
            " - 0s - loss: 4.8078 - mean_absolute_error: 1.4006 - val_loss: 10.8176 - val_mean_absolute_error: 2.2480\n",
            "Epoch 69/200\n",
            " - 0s - loss: 4.5890 - mean_absolute_error: 1.4141 - val_loss: 13.1086 - val_mean_absolute_error: 2.6346\n",
            "Epoch 70/200\n",
            " - 0s - loss: 4.6058 - mean_absolute_error: 1.4224 - val_loss: 14.9625 - val_mean_absolute_error: 2.8997\n",
            "Epoch 71/200\n",
            " - 0s - loss: 4.6472 - mean_absolute_error: 1.3777 - val_loss: 11.9274 - val_mean_absolute_error: 2.4092\n",
            "Epoch 72/200\n",
            " - 0s - loss: 4.5339 - mean_absolute_error: 1.4424 - val_loss: 12.0198 - val_mean_absolute_error: 2.4314\n",
            "Epoch 73/200\n",
            " - 0s - loss: 4.5122 - mean_absolute_error: 1.3843 - val_loss: 10.9288 - val_mean_absolute_error: 2.3172\n",
            "Epoch 74/200\n",
            " - 0s - loss: 4.5942 - mean_absolute_error: 1.4041 - val_loss: 12.2730 - val_mean_absolute_error: 2.4135\n",
            "Epoch 75/200\n",
            " - 0s - loss: 4.5250 - mean_absolute_error: 1.3803 - val_loss: 13.1749 - val_mean_absolute_error: 2.5652\n",
            "Epoch 76/200\n",
            " - 0s - loss: 4.2229 - mean_absolute_error: 1.3744 - val_loss: 13.4198 - val_mean_absolute_error: 2.6197\n",
            "Epoch 77/200\n",
            " - 0s - loss: 4.4474 - mean_absolute_error: 1.4065 - val_loss: 11.9884 - val_mean_absolute_error: 2.4977\n",
            "Epoch 78/200\n",
            " - 0s - loss: 4.1919 - mean_absolute_error: 1.3930 - val_loss: 12.0513 - val_mean_absolute_error: 2.4969\n",
            "Epoch 79/200\n",
            " - 0s - loss: 4.3044 - mean_absolute_error: 1.3885 - val_loss: 11.6978 - val_mean_absolute_error: 2.4767\n",
            "Epoch 80/200\n",
            " - 0s - loss: 4.2889 - mean_absolute_error: 1.3635 - val_loss: 11.1211 - val_mean_absolute_error: 2.3611\n",
            "Epoch 81/200\n",
            " - 0s - loss: 4.2925 - mean_absolute_error: 1.3305 - val_loss: 10.5883 - val_mean_absolute_error: 2.2595\n",
            "Epoch 82/200\n",
            " - 0s - loss: 4.1655 - mean_absolute_error: 1.3354 - val_loss: 10.9766 - val_mean_absolute_error: 2.3834\n",
            "Epoch 83/200\n",
            " - 0s - loss: 4.2004 - mean_absolute_error: 1.3367 - val_loss: 10.7264 - val_mean_absolute_error: 2.3045\n",
            "Epoch 84/200\n",
            " - 0s - loss: 4.0535 - mean_absolute_error: 1.3540 - val_loss: 10.4736 - val_mean_absolute_error: 2.2640\n",
            "Epoch 85/200\n",
            " - 0s - loss: 4.0435 - mean_absolute_error: 1.3692 - val_loss: 12.0021 - val_mean_absolute_error: 2.4824\n",
            "Epoch 86/200\n",
            " - 0s - loss: 3.8898 - mean_absolute_error: 1.3513 - val_loss: 10.3200 - val_mean_absolute_error: 2.2034\n",
            "Epoch 87/200\n",
            " - 0s - loss: 3.8325 - mean_absolute_error: 1.2993 - val_loss: 11.4056 - val_mean_absolute_error: 2.3633\n",
            "Epoch 88/200\n",
            " - 0s - loss: 4.0367 - mean_absolute_error: 1.2970 - val_loss: 11.3242 - val_mean_absolute_error: 2.3178\n",
            "Epoch 89/200\n",
            " - 0s - loss: 3.9303 - mean_absolute_error: 1.2936 - val_loss: 10.9268 - val_mean_absolute_error: 2.3152\n",
            "Epoch 90/200\n",
            " - 0s - loss: 3.8145 - mean_absolute_error: 1.2889 - val_loss: 11.6807 - val_mean_absolute_error: 2.4550\n",
            "Epoch 91/200\n",
            " - 0s - loss: 3.9393 - mean_absolute_error: 1.2280 - val_loss: 10.5497 - val_mean_absolute_error: 2.2789\n",
            "Epoch 92/200\n",
            " - 0s - loss: 3.8400 - mean_absolute_error: 1.2123 - val_loss: 11.8210 - val_mean_absolute_error: 2.5058\n",
            "Epoch 93/200\n",
            " - 0s - loss: 3.8642 - mean_absolute_error: 1.3229 - val_loss: 11.1177 - val_mean_absolute_error: 2.3236\n",
            "Epoch 94/200\n",
            " - 0s - loss: 3.8309 - mean_absolute_error: 1.2873 - val_loss: 10.4960 - val_mean_absolute_error: 2.2788\n",
            "Epoch 95/200\n",
            " - 0s - loss: 3.9048 - mean_absolute_error: 1.2835 - val_loss: 10.9491 - val_mean_absolute_error: 2.3634\n",
            "Epoch 96/200\n",
            " - 0s - loss: 3.8081 - mean_absolute_error: 1.2809 - val_loss: 10.7048 - val_mean_absolute_error: 2.2858\n",
            "Epoch 97/200\n",
            " - 0s - loss: 3.8630 - mean_absolute_error: 1.3131 - val_loss: 10.8426 - val_mean_absolute_error: 2.3756\n",
            "Epoch 98/200\n",
            " - 0s - loss: 3.7890 - mean_absolute_error: 1.2366 - val_loss: 11.1279 - val_mean_absolute_error: 2.3829\n",
            "Epoch 99/200\n",
            " - 0s - loss: 3.8102 - mean_absolute_error: 1.2428 - val_loss: 10.4722 - val_mean_absolute_error: 2.3253\n",
            "Epoch 100/200\n",
            " - 0s - loss: 3.2382 - mean_absolute_error: 1.2091 - val_loss: 11.3225 - val_mean_absolute_error: 2.4176\n",
            "Epoch 101/200\n",
            " - 0s - loss: 3.6546 - mean_absolute_error: 1.2509 - val_loss: 10.9685 - val_mean_absolute_error: 2.3256\n",
            "Epoch 102/200\n",
            " - 0s - loss: 3.7874 - mean_absolute_error: 1.2343 - val_loss: 12.2086 - val_mean_absolute_error: 2.5081\n",
            "Epoch 103/200\n",
            " - 0s - loss: 3.4827 - mean_absolute_error: 1.2644 - val_loss: 10.7029 - val_mean_absolute_error: 2.3058\n",
            "Epoch 104/200\n",
            " - 0s - loss: 3.5137 - mean_absolute_error: 1.2228 - val_loss: 11.7184 - val_mean_absolute_error: 2.4096\n",
            "Epoch 105/200\n",
            " - 0s - loss: 3.4807 - mean_absolute_error: 1.2275 - val_loss: 11.7869 - val_mean_absolute_error: 2.4039\n",
            "Epoch 106/200\n",
            " - 0s - loss: 3.5470 - mean_absolute_error: 1.2496 - val_loss: 14.0542 - val_mean_absolute_error: 2.7233\n",
            "Epoch 107/200\n",
            " - 0s - loss: 3.2132 - mean_absolute_error: 1.2202 - val_loss: 10.6437 - val_mean_absolute_error: 2.3096\n",
            "Epoch 108/200\n",
            " - 0s - loss: 3.5887 - mean_absolute_error: 1.1997 - val_loss: 11.2070 - val_mean_absolute_error: 2.3762\n",
            "Epoch 109/200\n",
            " - 0s - loss: 3.3986 - mean_absolute_error: 1.1466 - val_loss: 12.5079 - val_mean_absolute_error: 2.5731\n",
            "Epoch 110/200\n",
            " - 0s - loss: 3.2746 - mean_absolute_error: 1.2440 - val_loss: 11.2220 - val_mean_absolute_error: 2.3743\n",
            "Epoch 111/200\n",
            " - 0s - loss: 3.5013 - mean_absolute_error: 1.2167 - val_loss: 12.5737 - val_mean_absolute_error: 2.4932\n",
            "Epoch 112/200\n",
            " - 0s - loss: 3.5872 - mean_absolute_error: 1.1951 - val_loss: 10.8770 - val_mean_absolute_error: 2.3386\n",
            "Epoch 113/200\n",
            " - 0s - loss: 3.3979 - mean_absolute_error: 1.1971 - val_loss: 10.5285 - val_mean_absolute_error: 2.3168\n",
            "Epoch 114/200\n",
            " - 0s - loss: 3.1335 - mean_absolute_error: 1.1559 - val_loss: 10.5176 - val_mean_absolute_error: 2.2987\n",
            "Epoch 115/200\n",
            " - 0s - loss: 3.2964 - mean_absolute_error: 1.2032 - val_loss: 13.0003 - val_mean_absolute_error: 2.6017\n",
            "Epoch 116/200\n",
            " - 0s - loss: 3.3416 - mean_absolute_error: 1.1916 - val_loss: 11.7628 - val_mean_absolute_error: 2.4468\n",
            "Epoch 117/200\n",
            " - 0s - loss: 3.5319 - mean_absolute_error: 1.1947 - val_loss: 10.9115 - val_mean_absolute_error: 2.3650\n",
            "Epoch 118/200\n",
            " - 0s - loss: 3.4708 - mean_absolute_error: 1.1683 - val_loss: 10.5897 - val_mean_absolute_error: 2.3199\n",
            "Epoch 119/200\n",
            " - 0s - loss: 3.1080 - mean_absolute_error: 1.1439 - val_loss: 11.2754 - val_mean_absolute_error: 2.4053\n",
            "Epoch 120/200\n",
            " - 0s - loss: 3.3037 - mean_absolute_error: 1.1696 - val_loss: 11.2347 - val_mean_absolute_error: 2.4160\n",
            "Epoch 121/200\n",
            " - 0s - loss: 3.0430 - mean_absolute_error: 1.1958 - val_loss: 11.4428 - val_mean_absolute_error: 2.3891\n",
            "Epoch 122/200\n",
            " - 0s - loss: 3.1370 - mean_absolute_error: 1.1671 - val_loss: 11.6851 - val_mean_absolute_error: 2.4441\n",
            "Epoch 123/200\n",
            " - 0s - loss: 3.3243 - mean_absolute_error: 1.1099 - val_loss: 11.2028 - val_mean_absolute_error: 2.4222\n",
            "Epoch 124/200\n",
            " - 0s - loss: 3.1173 - mean_absolute_error: 1.1601 - val_loss: 11.1943 - val_mean_absolute_error: 2.4363\n",
            "Epoch 125/200\n",
            " - 0s - loss: 3.1305 - mean_absolute_error: 1.2056 - val_loss: 12.3563 - val_mean_absolute_error: 2.4860\n",
            "Epoch 126/200\n",
            " - 0s - loss: 3.0132 - mean_absolute_error: 1.1238 - val_loss: 12.7993 - val_mean_absolute_error: 2.6381\n",
            "Epoch 127/200\n",
            " - 0s - loss: 3.0073 - mean_absolute_error: 1.1296 - val_loss: 12.1893 - val_mean_absolute_error: 2.4880\n",
            "Epoch 128/200\n",
            " - 0s - loss: 3.0529 - mean_absolute_error: 1.1411 - val_loss: 11.2135 - val_mean_absolute_error: 2.4398\n",
            "Epoch 129/200\n",
            " - 0s - loss: 3.1748 - mean_absolute_error: 1.1358 - val_loss: 11.3588 - val_mean_absolute_error: 2.3560\n",
            "Epoch 130/200\n",
            " - 0s - loss: 2.9567 - mean_absolute_error: 1.1257 - val_loss: 12.3852 - val_mean_absolute_error: 2.4812\n",
            "Epoch 131/200\n",
            " - 0s - loss: 2.8705 - mean_absolute_error: 1.1016 - val_loss: 11.5755 - val_mean_absolute_error: 2.3540\n",
            "Epoch 132/200\n",
            " - 0s - loss: 3.1189 - mean_absolute_error: 1.1567 - val_loss: 11.0089 - val_mean_absolute_error: 2.3069\n",
            "Epoch 133/200\n",
            " - 0s - loss: 2.9621 - mean_absolute_error: 1.1418 - val_loss: 11.4963 - val_mean_absolute_error: 2.3498\n",
            "Epoch 134/200\n",
            " - 0s - loss: 2.7710 - mean_absolute_error: 1.0993 - val_loss: 11.1992 - val_mean_absolute_error: 2.4131\n",
            "Epoch 135/200\n",
            " - 0s - loss: 2.6999 - mean_absolute_error: 1.1066 - val_loss: 11.4351 - val_mean_absolute_error: 2.4091\n",
            "Epoch 136/200\n",
            " - 0s - loss: 3.1035 - mean_absolute_error: 1.1297 - val_loss: 11.8900 - val_mean_absolute_error: 2.4144\n",
            "Epoch 137/200\n",
            " - 0s - loss: 2.8628 - mean_absolute_error: 1.1232 - val_loss: 13.5482 - val_mean_absolute_error: 2.6561\n",
            "Epoch 138/200\n",
            " - 0s - loss: 2.9597 - mean_absolute_error: 1.1379 - val_loss: 12.5444 - val_mean_absolute_error: 2.5447\n",
            "Epoch 139/200\n",
            " - 0s - loss: 3.1471 - mean_absolute_error: 1.1143 - val_loss: 12.3249 - val_mean_absolute_error: 2.4628\n",
            "Epoch 140/200\n",
            " - 0s - loss: 2.9791 - mean_absolute_error: 1.0839 - val_loss: 12.1100 - val_mean_absolute_error: 2.4714\n",
            "Epoch 141/200\n",
            " - 0s - loss: 2.8806 - mean_absolute_error: 1.1057 - val_loss: 13.7096 - val_mean_absolute_error: 2.6872\n",
            "Epoch 142/200\n",
            " - 0s - loss: 2.9021 - mean_absolute_error: 1.1649 - val_loss: 12.5251 - val_mean_absolute_error: 2.5451\n",
            "Epoch 143/200\n",
            " - 0s - loss: 2.7824 - mean_absolute_error: 1.1481 - val_loss: 13.0447 - val_mean_absolute_error: 2.5288\n",
            "Epoch 144/200\n",
            " - 0s - loss: 2.9804 - mean_absolute_error: 1.0910 - val_loss: 12.2646 - val_mean_absolute_error: 2.4663\n",
            "Epoch 145/200\n",
            " - 0s - loss: 2.9780 - mean_absolute_error: 1.1250 - val_loss: 13.4101 - val_mean_absolute_error: 2.5995\n",
            "Epoch 146/200\n",
            " - 0s - loss: 2.8837 - mean_absolute_error: 1.0604 - val_loss: 12.2670 - val_mean_absolute_error: 2.5141\n",
            "Epoch 147/200\n",
            " - 0s - loss: 2.6216 - mean_absolute_error: 1.1090 - val_loss: 13.6826 - val_mean_absolute_error: 2.7141\n",
            "Epoch 148/200\n",
            " - 0s - loss: 2.9052 - mean_absolute_error: 1.0701 - val_loss: 12.6261 - val_mean_absolute_error: 2.4979\n",
            "Epoch 149/200\n",
            " - 0s - loss: 2.8509 - mean_absolute_error: 1.0746 - val_loss: 14.9834 - val_mean_absolute_error: 2.8877\n",
            "Epoch 150/200\n",
            " - 0s - loss: 2.6725 - mean_absolute_error: 1.0809 - val_loss: 11.3877 - val_mean_absolute_error: 2.4225\n",
            "Epoch 151/200\n",
            " - 0s - loss: 2.8290 - mean_absolute_error: 1.0679 - val_loss: 12.8394 - val_mean_absolute_error: 2.5766\n",
            "Epoch 152/200\n",
            " - 0s - loss: 2.7675 - mean_absolute_error: 1.0912 - val_loss: 13.0208 - val_mean_absolute_error: 2.5460\n",
            "Epoch 153/200\n",
            " - 0s - loss: 2.6412 - mean_absolute_error: 1.0752 - val_loss: 12.2069 - val_mean_absolute_error: 2.4446\n",
            "Epoch 154/200\n",
            " - 0s - loss: 2.6516 - mean_absolute_error: 1.0915 - val_loss: 13.1384 - val_mean_absolute_error: 2.5148\n",
            "Epoch 155/200\n",
            " - 0s - loss: 2.6325 - mean_absolute_error: 1.1015 - val_loss: 11.9726 - val_mean_absolute_error: 2.4297\n",
            "Epoch 156/200\n",
            " - 0s - loss: 2.3628 - mean_absolute_error: 1.0130 - val_loss: 12.2473 - val_mean_absolute_error: 2.4538\n",
            "Epoch 157/200\n",
            " - 0s - loss: 2.6224 - mean_absolute_error: 1.0767 - val_loss: 13.0379 - val_mean_absolute_error: 2.5772\n",
            "Epoch 158/200\n",
            " - 0s - loss: 2.7040 - mean_absolute_error: 1.0874 - val_loss: 13.1013 - val_mean_absolute_error: 2.6181\n",
            "Epoch 159/200\n",
            " - 0s - loss: 2.7799 - mean_absolute_error: 1.1004 - val_loss: 13.6416 - val_mean_absolute_error: 2.7408\n",
            "Epoch 160/200\n",
            " - 0s - loss: 2.4275 - mean_absolute_error: 1.0511 - val_loss: 12.7838 - val_mean_absolute_error: 2.4713\n",
            "Epoch 161/200\n",
            " - 0s - loss: 2.5127 - mean_absolute_error: 1.0636 - val_loss: 12.1645 - val_mean_absolute_error: 2.4799\n",
            "Epoch 162/200\n",
            " - 0s - loss: 2.6046 - mean_absolute_error: 1.0495 - val_loss: 13.0205 - val_mean_absolute_error: 2.5106\n",
            "Epoch 163/200\n",
            " - 0s - loss: 2.7222 - mean_absolute_error: 1.0304 - val_loss: 12.4103 - val_mean_absolute_error: 2.4951\n",
            "Epoch 164/200\n",
            " - 0s - loss: 2.4973 - mean_absolute_error: 1.0630 - val_loss: 14.0582 - val_mean_absolute_error: 2.6605\n",
            "Epoch 165/200\n",
            " - 0s - loss: 2.2468 - mean_absolute_error: 1.0301 - val_loss: 13.4817 - val_mean_absolute_error: 2.5700\n",
            "Epoch 166/200\n",
            " - 0s - loss: 2.4110 - mean_absolute_error: 1.0323 - val_loss: 14.4411 - val_mean_absolute_error: 2.7698\n",
            "Epoch 167/200\n",
            " - 0s - loss: 2.4196 - mean_absolute_error: 1.0476 - val_loss: 12.4968 - val_mean_absolute_error: 2.4245\n",
            "Epoch 168/200\n",
            " - 0s - loss: 2.5728 - mean_absolute_error: 1.0595 - val_loss: 12.7935 - val_mean_absolute_error: 2.5121\n",
            "Epoch 169/200\n",
            " - 0s - loss: 2.5360 - mean_absolute_error: 1.0061 - val_loss: 13.1691 - val_mean_absolute_error: 2.5582\n",
            "Epoch 170/200\n",
            " - 0s - loss: 2.5580 - mean_absolute_error: 1.0301 - val_loss: 12.7253 - val_mean_absolute_error: 2.5816\n",
            "Epoch 171/200\n",
            " - 0s - loss: 2.5768 - mean_absolute_error: 1.0600 - val_loss: 12.8862 - val_mean_absolute_error: 2.5015\n",
            "Epoch 172/200\n",
            " - 0s - loss: 2.4863 - mean_absolute_error: 1.0112 - val_loss: 13.7322 - val_mean_absolute_error: 2.5934\n",
            "Epoch 173/200\n",
            " - 0s - loss: 2.5393 - mean_absolute_error: 1.0604 - val_loss: 14.4355 - val_mean_absolute_error: 2.7453\n",
            "Epoch 174/200\n",
            " - 0s - loss: 2.2757 - mean_absolute_error: 1.0242 - val_loss: 12.5944 - val_mean_absolute_error: 2.5115\n",
            "Epoch 175/200\n",
            " - 0s - loss: 2.3404 - mean_absolute_error: 1.0317 - val_loss: 12.8412 - val_mean_absolute_error: 2.5271\n",
            "Epoch 176/200\n",
            " - 0s - loss: 2.2508 - mean_absolute_error: 0.9948 - val_loss: 12.7049 - val_mean_absolute_error: 2.5729\n",
            "Epoch 177/200\n",
            " - 0s - loss: 2.3314 - mean_absolute_error: 1.0010 - val_loss: 13.2853 - val_mean_absolute_error: 2.6066\n",
            "Epoch 178/200\n",
            " - 0s - loss: 2.5066 - mean_absolute_error: 0.9941 - val_loss: 13.0838 - val_mean_absolute_error: 2.5249\n",
            "Epoch 179/200\n",
            " - 0s - loss: 2.2282 - mean_absolute_error: 0.9469 - val_loss: 12.9586 - val_mean_absolute_error: 2.5545\n",
            "Epoch 180/200\n",
            " - 0s - loss: 2.2560 - mean_absolute_error: 1.0138 - val_loss: 17.0208 - val_mean_absolute_error: 2.9940\n",
            "Epoch 181/200\n",
            " - 0s - loss: 2.2698 - mean_absolute_error: 1.0401 - val_loss: 13.1175 - val_mean_absolute_error: 2.5196\n",
            "Epoch 182/200\n",
            " - 0s - loss: 2.1593 - mean_absolute_error: 0.9791 - val_loss: 14.6156 - val_mean_absolute_error: 2.6652\n",
            "Epoch 183/200\n",
            " - 0s - loss: 2.1174 - mean_absolute_error: 0.9569 - val_loss: 14.1191 - val_mean_absolute_error: 2.6119\n",
            "Epoch 184/200\n",
            " - 0s - loss: 2.2715 - mean_absolute_error: 0.9886 - val_loss: 14.0122 - val_mean_absolute_error: 2.6783\n",
            "Epoch 185/200\n",
            " - 0s - loss: 2.2490 - mean_absolute_error: 1.0034 - val_loss: 13.2652 - val_mean_absolute_error: 2.5577\n",
            "Epoch 186/200\n",
            " - 0s - loss: 2.2534 - mean_absolute_error: 0.9757 - val_loss: 15.4486 - val_mean_absolute_error: 2.9707\n",
            "Epoch 187/200\n",
            " - 0s - loss: 2.1421 - mean_absolute_error: 0.9827 - val_loss: 13.9415 - val_mean_absolute_error: 2.7224\n",
            "Epoch 188/200\n",
            " - 0s - loss: 2.2434 - mean_absolute_error: 0.9651 - val_loss: 13.0112 - val_mean_absolute_error: 2.5334\n",
            "Epoch 189/200\n",
            " - 0s - loss: 2.1315 - mean_absolute_error: 0.9957 - val_loss: 13.0621 - val_mean_absolute_error: 2.5595\n",
            "Epoch 190/200\n",
            " - 0s - loss: 2.0981 - mean_absolute_error: 1.0004 - val_loss: 14.1155 - val_mean_absolute_error: 2.6450\n",
            "Epoch 191/200\n",
            " - 0s - loss: 2.0587 - mean_absolute_error: 0.9485 - val_loss: 13.8308 - val_mean_absolute_error: 2.6750\n",
            "Epoch 192/200\n",
            " - 0s - loss: 1.9462 - mean_absolute_error: 0.9684 - val_loss: 13.8874 - val_mean_absolute_error: 2.7168\n",
            "Epoch 193/200\n",
            " - 0s - loss: 2.0726 - mean_absolute_error: 0.9457 - val_loss: 13.5057 - val_mean_absolute_error: 2.6556\n",
            "Epoch 194/200\n",
            " - 0s - loss: 2.0955 - mean_absolute_error: 0.9681 - val_loss: 13.0451 - val_mean_absolute_error: 2.5138\n",
            "Epoch 195/200\n",
            " - 0s - loss: 2.1736 - mean_absolute_error: 0.9891 - val_loss: 12.8298 - val_mean_absolute_error: 2.5753\n",
            "Epoch 196/200\n",
            " - 0s - loss: 2.0580 - mean_absolute_error: 1.0073 - val_loss: 12.3449 - val_mean_absolute_error: 2.4478\n",
            "Epoch 197/200\n",
            " - 0s - loss: 2.1117 - mean_absolute_error: 0.9733 - val_loss: 14.0994 - val_mean_absolute_error: 2.6913\n",
            "Epoch 198/200\n",
            " - 0s - loss: 2.0034 - mean_absolute_error: 0.9829 - val_loss: 13.1539 - val_mean_absolute_error: 2.5148\n",
            "Epoch 199/200\n",
            " - 0s - loss: 1.9579 - mean_absolute_error: 0.9339 - val_loss: 13.8893 - val_mean_absolute_error: 2.5956\n",
            "Epoch 200/200\n",
            " - 0s - loss: 2.1434 - mean_absolute_error: 0.9794 - val_loss: 13.8249 - val_mean_absolute_error: 2.6407\n"
          ],
          "name": "stdout"
        }
      ]
    },
    {
      "cell_type": "code",
      "metadata": {
        "id": "xRXQjGX90c95",
        "colab_type": "code",
        "outputId": "c3cfbc09-3c18-4f48-810f-283c0affdce6",
        "colab": {
          "base_uri": "https://localhost:8080/",
          "height": 501
        }
      },
      "source": [
        "plt.plot(all_mae_histories[0])\n",
        "plt.plot(all_mae_histories[1])\n",
        "plt.plot(all_mae_histories[2])\n",
        "plt.plot(all_mae_histories[3])\n",
        "plt.title('V_loss')\n",
        "plt.ylabel('loss')\n",
        "plt.xlabel('epoch')\n",
        "plt.legend(['fold1', 'fold2', 'fold3', 'fold4'], loc = 'upper right')\n",
        "plt.show()"
      ],
      "execution_count": 44,
      "outputs": [
        {
          "output_type": "display_data",
          "data": {
            "image/png": "[encoded data removed]",
            "text/plain": [
              "<Figure size 750x500 with 1 Axes>"
            ]
          },
          "metadata": {
            "tags": []
          }
        }
      ]
    },
    {
      "cell_type": "markdown",
      "metadata": {
        "id": "DCT9cdDT0s7v",
        "colab_type": "text"
      },
      "source": [
        "Test data does not give a good peroforamce model as compared to the training data. Both these data losses are minimal and it should perform the best out of all the models here. although the loss on training data is less then that in the test data."
      ]
    },
    {
      "cell_type": "markdown",
      "metadata": {
        "id": "tB8IZCho015s",
        "colab_type": "text"
      },
      "source": [
        "#### Takeaways\n",
        "* Regression is usually done using MSE loss and MAE for evaluation\n",
        "* Input data should always be scaled (independent from the test set)\n",
        "* Small datasets:\n",
        "    - Use cross-validation\n",
        "    - Use simple (non-deep) networks\n",
        "    - Smaller batches, more epochs"
      ]
    }
  ]
}