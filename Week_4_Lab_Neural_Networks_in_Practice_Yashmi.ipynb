{
  "nbformat": 4,
  "nbformat_minor": 0,
  "metadata": {
    "colab": {
      "name": "Week_4_Lab_Neural_Networks_in_Practice_Yashmi.ipynb",
      "provenance": [],
      "collapsed_sections": [],
      "authorship_tag": "ABX9TyMf5isgwC4NxfLampZn7fYT",
      "include_colab_link": true
    },
    "kernelspec": {
      "name": "python3",
      "display_name": "Python 3"
    }
  },
  "cells": [
    {
      "cell_type": "markdown",
      "metadata": {
        "id": "view-in-github",
        "colab_type": "text"
      },
      "source": [
        "<a href=\"https://colab.research.google.com/github/Yashmi16/EAI_Assignments/blob/master/Week_4_Lab_Neural_Networks_in_Practice_Yashmi.ipynb\" target=\"_parent\"><img src=\"https://colab.research.google.com/assets/colab-badge.svg\" alt=\"Open In Colab\"/></a>"
      ]
    },
    {
      "cell_type": "code",
      "metadata": {
        "id": "2wZPZJPXr7Zw",
        "colab_type": "code",
        "colab": {
          "base_uri": "https://localhost:8080/",
          "height": 97
        },
        "outputId": "3544d04a-b96d-45ae-e066-0c84e4c0ecbd"
      },
      "source": [
        "# Global imports and settings\n",
        "\n",
        "from IPython.display import set_matplotlib_formats, display\n",
        "import pandas as pd\n",
        "import numpy as np\n",
        "import matplotlib.pyplot as plt\n",
        "from cycler import cycler\n",
        "import keras\n",
        "print(\"Using Keras\",keras.__version__)\n",
        "%matplotlib inline\n",
        "plt.rcParams['figure.dpi'] = 125 # Use 300 for PDF, 100 for slides"
      ],
      "execution_count": 1,
      "outputs": [
        {
          "output_type": "stream",
          "text": [
            "Using TensorFlow backend.\n"
          ],
          "name": "stderr"
        },
        {
          "output_type": "display_data",
          "data": {
            "text/html": [
              "<p style=\"color: red;\">\n",
              "The default version of TensorFlow in Colab will soon switch to TensorFlow 2.x.<br>\n",
              "We recommend you <a href=\"https://www.tensorflow.org/guide/migrate\" target=\"_blank\">upgrade</a> now \n",
              "or ensure your notebook will continue to use TensorFlow 1.x via the <code>%tensorflow_version 1.x</code> magic:\n",
              "<a href=\"https://colab.research.google.com/notebooks/tensorflow_version.ipynb\" target=\"_blank\">more info</a>.</p>\n"
            ],
            "text/plain": [
              "<IPython.core.display.HTML object>"
            ]
          },
          "metadata": {
            "tags": []
          }
        },
        {
          "output_type": "stream",
          "text": [
            "Using Keras 2.2.5\n"
          ],
          "name": "stdout"
        }
      ]
    },
    {
      "cell_type": "markdown",
      "metadata": {
        "id": "H7Gr133JsSzl",
        "colab_type": "text"
      },
      "source": [
        "### Overview\n",
        "* Solving basic classification and regression problems\n",
        "* Handling textual data\n",
        "* Model selection (and overfitting)"
      ]
    },
    {
      "cell_type": "markdown",
      "metadata": {
        "id": "kSWNnskksgIR",
        "colab_type": "text"
      },
      "source": [
        "## Solving basic problems\n",
        "* Binary classification (of movie reviews)\n",
        "* Multiclass classification (of news topics)\n",
        "* Regression (of house prices)\n",
        "\n",
        "Examples from _Deep Learning with Python_, by _François Chollet_"
      ]
    },
    {
      "cell_type": "markdown",
      "metadata": {
        "id": "XMqzbppasmid",
        "colab_type": "text"
      },
      "source": [
        "### Binary classification\n",
        "* Dataset: 50,000 IMDB reviews, labeled positive (1) or negative (0)\n",
        "    - Included in Keras, with a 50/50 train-test split\n",
        "* Each row is one review, with only the 10,000 most frequent words retained\n",
        "* Each word is replaced by a _word index_ (word ID)"
      ]
    },
    {
      "cell_type": "code",
      "metadata": {
        "id": "kj16T5OSsewf",
        "colab_type": "code",
        "colab": {
          "base_uri": "https://localhost:8080/",
          "height": 51
        },
        "outputId": "9cc1fae3-0449-4119-e5e6-9af3360ead8e"
      },
      "source": [
        "from keras.datasets import imdb\n",
        "# Download IMDB data with 10000 most frequent words\n",
        "(train_data, train_labels), (test_data, test_labels) = imdb.load_data(num_words=10000)\n",
        "print(\"Encoded review: \", train_data[0][0:10])\n",
        "\n",
        "word_index = imdb.get_word_index()\n",
        "reverse_word_index = dict([(value, key) for (key, value) in word_index.items()])\n",
        "print(\"Original review: \", ' '.join([reverse_word_index.get(i - 3, '?') for i in train_data[0]][0:10]))"
      ],
      "execution_count": 2,
      "outputs": [
        {
          "output_type": "stream",
          "text": [
            "Encoded review:  [1, 14, 22, 16, 43, 530, 973, 1622, 1385, 65]\n",
            "Original review:  ? this film was just brilliant casting location scenery story\n"
          ],
          "name": "stdout"
        }
      ]
    },
    {
      "cell_type": "code",
      "metadata": {
        "id": "eg2nAJi1srgv",
        "colab_type": "code",
        "colab": {}
      },
      "source": [
        "def decode_review(a):\n",
        "  word_index = imdb.get_word_index()\n",
        "  reverse_word_index = dict([(value, key) for (key, value) in word_index.items()])\n",
        "  print(' '.join([reverse_word_index.get(i-3, '') for i in a]))"
      ],
      "execution_count": 0,
      "outputs": []
    },
    {
      "cell_type": "markdown",
      "metadata": {
        "id": "CTQ4MPg7s8hv",
        "colab_type": "text"
      },
      "source": [
        ""
      ]
    },
    {
      "cell_type": "markdown",
      "metadata": {
        "id": "w9wJ5p6Rs8wa",
        "colab_type": "text"
      },
      "source": [
        "#### Preprocessing\n",
        "* We can't input lists of categorical value to a neural net, we need to create tensors\n",
        "* One-hot-encoding:\n",
        "    -  10000 features, '1.0' if the word occurs\n",
        "* Word embeddings (word2vec):\n",
        "    - Map each word to a dense vector that represents it (it's _embedding_)\n",
        "    - _Embedding_ layer: pre-trained layer that looks up the embedding in a dictionary \n",
        "    - Converts 2D tensor of word indices (zero-padded) to 3D tensor of embeddings\n",
        "* Let's do One-Hot-Encoding for now. We'll come back to _Embedding_ layers.\n",
        "* Also vectorize the labels: from 0/1 to float\n",
        "    - Binary classification works with one output node"
      ]
    },
    {
      "cell_type": "code",
      "metadata": {
        "id": "Chnumhlis6fi",
        "colab_type": "code",
        "colab": {}
      },
      "source": [
        "# Custom implementation of one-hot-encoding\n",
        "def vectorize_sequences(sequences, dimension=10000):\n",
        "    results = np.zeros((len(sequences), dimension))\n",
        "    for i, sequence in enumerate(sequences):\n",
        "        results[i, sequence] = 1.  # set specific indices of results[i] to 1s\n",
        "    return results\n",
        "x_train = vectorize_sequences(train_data)\n",
        "x_test = vectorize_sequences(test_data)\n",
        "y_train = np.asarray(train_labels).astype('float32')\n",
        "y_test = np.asarray(test_labels).astype('float32')"
      ],
      "execution_count": 0,
      "outputs": []
    },
    {
      "cell_type": "markdown",
      "metadata": {
        "id": "RFyMT1XktRs9",
        "colab_type": "text"
      },
      "source": [
        "#### Understanding the format of IMDB dataset\n",
        "1. Train_data and test_data are an array of lists. What does the length of this array correspond to? What does the length of each list correspond to?\n",
        "2. What are the sizes of the vectorized x_train and x_test? What do the dimensions correspond to?\n",
        "3. What is the most common word in the first review in the training data? Hint: use the word index (see above)? \n",
        "4. Print the first review to verify. "
      ]
    },
    {
      "cell_type": "code",
      "metadata": {
        "id": "MRS-4-QUtH21",
        "colab_type": "code",
        "colab": {
          "base_uri": "https://localhost:8080/",
          "height": 54
        },
        "outputId": "ab9ccb0a-0316-4a1e-ccef-5aebc5d14448"
      },
      "source": [
        "decode_review(train_data[1])"
      ],
      "execution_count": 5,
      "outputs": [
        {
          "output_type": "stream",
          "text": [
            " big hair big boobs bad music and a giant safety pin these are the words to best describe this terrible movie i love cheesy horror movies and i've seen hundreds but this had got to be on of the worst ever made the plot is paper thin and ridiculous the acting is an abomination the script is completely laughable the best is the end showdown with the cop and how he worked out who the killer is it's just so damn terribly written the clothes are sickening and funny in equal  the hair is big lots of boobs  men wear those cut  shirts that show off their  sickening that men actually wore them and the music is just  trash that plays over and over again in almost every scene there is trashy music boobs and  taking away bodies and the gym still doesn't close for  all joking aside this is a truly bad film whose only charm is to look back on the disaster that was the 80's and have a good old laugh at how bad everything was back then\n"
          ],
          "name": "stdout"
        }
      ]
    },
    {
      "cell_type": "code",
      "metadata": {
        "id": "kODk94aztWCK",
        "colab_type": "code",
        "colab": {
          "base_uri": "https://localhost:8080/",
          "height": 34
        },
        "outputId": "983b4a2f-8af5-4838-9fb8-3e2ea71cb8e5"
      },
      "source": [
        "len(train_data[1])"
      ],
      "execution_count": 6,
      "outputs": [
        {
          "output_type": "execute_result",
          "data": {
            "text/plain": [
              "189"
            ]
          },
          "metadata": {
            "tags": []
          },
          "execution_count": 6
        }
      ]
    },
    {
      "cell_type": "code",
      "metadata": {
        "id": "6RutM4WptcU1",
        "colab_type": "code",
        "colab": {
          "base_uri": "https://localhost:8080/",
          "height": 51
        },
        "outputId": "d305cfb9-4711-4939-8f5b-e24b9953ebe6"
      },
      "source": [
        "## 1. Train_data and test_data are an array of lists. What does the length of this array correspond to? What does the length of each list correspond to?\n",
        "print(\"train_data lenght: \"+str(len(train_data)))\n",
        "print(\"test_data lenght: \"+str(len(test_data)))"
      ],
      "execution_count": 7,
      "outputs": [
        {
          "output_type": "stream",
          "text": [
            "train_data lenght: 25000\n",
            "test_data lenght: 25000\n"
          ],
          "name": "stdout"
        }
      ]
    },
    {
      "cell_type": "code",
      "metadata": {
        "id": "ixk-Wyu4trRs",
        "colab_type": "code",
        "colab": {
          "base_uri": "https://localhost:8080/",
          "height": 173
        },
        "outputId": "04055512-5a87-4dba-d106-456b35cce189"
      },
      "source": [
        "train_data"
      ],
      "execution_count": 8,
      "outputs": [
        {
          "output_type": "execute_result",
          "data": {
            "text/plain": [
              "array([list([1, 14, 22, 16, 43, 530, 973, 1622, 1385, 65, 458, 4468, 66, 3941, 4, 173, 36, 256, 5, 25, 100, 43, 838, 112, 50, 670, 2, 9, 35, 480, 284, 5, 150, 4, 172, 112, 167, 2, 336, 385, 39, 4, 172, 4536, 1111, 17, 546, 38, 13, 447, 4, 192, 50, 16, 6, 147, 2025, 19, 14, 22, 4, 1920, 4613, 469, 4, 22, 71, 87, 12, 16, 43, 530, 38, 76, 15, 13, 1247, 4, 22, 17, 515, 17, 12, 16, 626, 18, 2, 5, 62, 386, 12, 8, 316, 8, 106, 5, 4, 2223, 5244, 16, 480, 66, 3785, 33, 4, 130, 12, 16, 38, 619, 5, 25, 124, 51, 36, 135, 48, 25, 1415, 33, 6, 22, 12, 215, 28, 77, 52, 5, 14, 407, 16, 82, 2, 8, 4, 107, 117, 5952, 15, 256, 4, 2, 7, 3766, 5, 723, 36, 71, 43, 530, 476, 26, 400, 317, 46, 7, 4, 2, 1029, 13, 104, 88, 4, 381, 15, 297, 98, 32, 2071, 56, 26, 141, 6, 194, 7486, 18, 4, 226, 22, 21, 134, 476, 26, 480, 5, 144, 30, 5535, 18, 51, 36, 28, 224, 92, 25, 104, 4, 226, 65, 16, 38, 1334, 88, 12, 16, 283, 5, 16, 4472, 113, 103, 32, 15, 16, 5345, 19, 178, 32]),\n",
              "       list([1, 194, 1153, 194, 8255, 78, 228, 5, 6, 1463, 4369, 5012, 134, 26, 4, 715, 8, 118, 1634, 14, 394, 20, 13, 119, 954, 189, 102, 5, 207, 110, 3103, 21, 14, 69, 188, 8, 30, 23, 7, 4, 249, 126, 93, 4, 114, 9, 2300, 1523, 5, 647, 4, 116, 9, 35, 8163, 4, 229, 9, 340, 1322, 4, 118, 9, 4, 130, 4901, 19, 4, 1002, 5, 89, 29, 952, 46, 37, 4, 455, 9, 45, 43, 38, 1543, 1905, 398, 4, 1649, 26, 6853, 5, 163, 11, 3215, 2, 4, 1153, 9, 194, 775, 7, 8255, 2, 349, 2637, 148, 605, 2, 8003, 15, 123, 125, 68, 2, 6853, 15, 349, 165, 4362, 98, 5, 4, 228, 9, 43, 2, 1157, 15, 299, 120, 5, 120, 174, 11, 220, 175, 136, 50, 9, 4373, 228, 8255, 5, 2, 656, 245, 2350, 5, 4, 9837, 131, 152, 491, 18, 2, 32, 7464, 1212, 14, 9, 6, 371, 78, 22, 625, 64, 1382, 9, 8, 168, 145, 23, 4, 1690, 15, 16, 4, 1355, 5, 28, 6, 52, 154, 462, 33, 89, 78, 285, 16, 145, 95]),\n",
              "       list([1, 14, 47, 8, 30, 31, 7, 4, 249, 108, 7, 4, 5974, 54, 61, 369, 13, 71, 149, 14, 22, 112, 4, 2401, 311, 12, 16, 3711, 33, 75, 43, 1829, 296, 4, 86, 320, 35, 534, 19, 263, 4821, 1301, 4, 1873, 33, 89, 78, 12, 66, 16, 4, 360, 7, 4, 58, 316, 334, 11, 4, 1716, 43, 645, 662, 8, 257, 85, 1200, 42, 1228, 2578, 83, 68, 3912, 15, 36, 165, 1539, 278, 36, 69, 2, 780, 8, 106, 14, 6905, 1338, 18, 6, 22, 12, 215, 28, 610, 40, 6, 87, 326, 23, 2300, 21, 23, 22, 12, 272, 40, 57, 31, 11, 4, 22, 47, 6, 2307, 51, 9, 170, 23, 595, 116, 595, 1352, 13, 191, 79, 638, 89, 2, 14, 9, 8, 106, 607, 624, 35, 534, 6, 227, 7, 129, 113]),\n",
              "       ...,\n",
              "       list([1, 11, 6, 230, 245, 6401, 9, 6, 1225, 446, 2, 45, 2174, 84, 8322, 4007, 21, 4, 912, 84, 2, 325, 725, 134, 2, 1715, 84, 5, 36, 28, 57, 1099, 21, 8, 140, 8, 703, 5, 2, 84, 56, 18, 1644, 14, 9, 31, 7, 4, 9406, 1209, 2295, 2, 1008, 18, 6, 20, 207, 110, 563, 12, 8, 2901, 2, 8, 97, 6, 20, 53, 4767, 74, 4, 460, 364, 1273, 29, 270, 11, 960, 108, 45, 40, 29, 2961, 395, 11, 6, 4065, 500, 7, 2, 89, 364, 70, 29, 140, 4, 64, 4780, 11, 4, 2678, 26, 178, 4, 529, 443, 2, 5, 27, 710, 117, 2, 8123, 165, 47, 84, 37, 131, 818, 14, 595, 10, 10, 61, 1242, 1209, 10, 10, 288, 2260, 1702, 34, 2901, 2, 4, 65, 496, 4, 231, 7, 790, 5, 6, 320, 234, 2766, 234, 1119, 1574, 7, 496, 4, 139, 929, 2901, 2, 7750, 5, 4241, 18, 4, 8497, 2, 250, 11, 1818, 7561, 4, 4217, 5408, 747, 1115, 372, 1890, 1006, 541, 9303, 7, 4, 59, 2, 4, 3586, 2]),\n",
              "       list([1, 1446, 7079, 69, 72, 3305, 13, 610, 930, 8, 12, 582, 23, 5, 16, 484, 685, 54, 349, 11, 4120, 2959, 45, 58, 1466, 13, 197, 12, 16, 43, 23, 2, 5, 62, 30, 145, 402, 11, 4131, 51, 575, 32, 61, 369, 71, 66, 770, 12, 1054, 75, 100, 2198, 8, 4, 105, 37, 69, 147, 712, 75, 3543, 44, 257, 390, 5, 69, 263, 514, 105, 50, 286, 1814, 23, 4, 123, 13, 161, 40, 5, 421, 4, 116, 16, 897, 13, 2, 40, 319, 5872, 112, 6700, 11, 4803, 121, 25, 70, 3468, 4, 719, 3798, 13, 18, 31, 62, 40, 8, 7200, 4, 2, 7, 14, 123, 5, 942, 25, 8, 721, 12, 145, 5, 202, 12, 160, 580, 202, 12, 6, 52, 58, 2, 92, 401, 728, 12, 39, 14, 251, 8, 15, 251, 5, 2, 12, 38, 84, 80, 124, 12, 9, 23]),\n",
              "       list([1, 17, 6, 194, 337, 7, 4, 204, 22, 45, 254, 8, 106, 14, 123, 4, 2, 270, 2, 5, 2, 2, 732, 2098, 101, 405, 39, 14, 1034, 4, 1310, 9, 115, 50, 305, 12, 47, 4, 168, 5, 235, 7, 38, 111, 699, 102, 7, 4, 4039, 9245, 9, 24, 6, 78, 1099, 17, 2345, 2, 21, 27, 9685, 6139, 5, 2, 1603, 92, 1183, 4, 1310, 7, 4, 204, 42, 97, 90, 35, 221, 109, 29, 127, 27, 118, 8, 97, 12, 157, 21, 6789, 2, 9, 6, 66, 78, 1099, 4, 631, 1191, 5, 2642, 272, 191, 1070, 6, 7585, 8, 2197, 2, 2, 544, 5, 383, 1271, 848, 1468, 2, 497, 2, 8, 1597, 8778, 2, 21, 60, 27, 239, 9, 43, 8368, 209, 405, 10, 10, 12, 764, 40, 4, 248, 20, 12, 16, 5, 174, 1791, 72, 7, 51, 6, 1739, 22, 4, 204, 131, 9])],\n",
              "      dtype=object)"
            ]
          },
          "metadata": {
            "tags": []
          },
          "execution_count": 8
        }
      ]
    },
    {
      "cell_type": "code",
      "metadata": {
        "id": "1ZW_hGO2twdr",
        "colab_type": "code",
        "colab": {
          "base_uri": "https://localhost:8080/",
          "height": 34
        },
        "outputId": "53457a6d-7f72-409a-fdd6-a77411b4c6bf"
      },
      "source": [
        "train_data.size"
      ],
      "execution_count": 9,
      "outputs": [
        {
          "output_type": "execute_result",
          "data": {
            "text/plain": [
              "25000"
            ]
          },
          "metadata": {
            "tags": []
          },
          "execution_count": 9
        }
      ]
    },
    {
      "cell_type": "code",
      "metadata": {
        "id": "58yE8mKEtzQH",
        "colab_type": "code",
        "colab": {
          "base_uri": "https://localhost:8080/",
          "height": 34
        },
        "outputId": "8f4314b6-774f-4497-91f0-ae11c952c95a"
      },
      "source": [
        "train_data.shape"
      ],
      "execution_count": 10,
      "outputs": [
        {
          "output_type": "execute_result",
          "data": {
            "text/plain": [
              "(25000,)"
            ]
          },
          "metadata": {
            "tags": []
          },
          "execution_count": 10
        }
      ]
    },
    {
      "cell_type": "markdown",
      "metadata": {
        "id": "fTMmtFdst9RO",
        "colab_type": "text"
      },
      "source": [
        "The length of the array corresponds to numbers of reviews. we have 25000 reviews in both train and test data. The length of the list corresponds to number words in the particular review.\n",
        "\n",
        "The sizes of x_train and x_test are 250000000 and shapes are (25000, 10000) 25000 corresponds to number of reviews. 10000 corresponds to One-Hot-Encoded format of each review, it is 10000 because total number of words in dataset are 10000 and each review is divided into 10000 values which are 0,1 . '0' when the review doesnt have the certain word, '1' when the review has that word."
      ]
    },
    {
      "cell_type": "code",
      "metadata": {
        "id": "nlLc1Cn_t3Tx",
        "colab_type": "code",
        "colab": {}
      },
      "source": [
        "import collections\n",
        "import operator\n",
        "def CountFrequency(arr): \n",
        "    return collections.Counter(arr) \n",
        "\n",
        "freq = CountFrequency(train_data[0])"
      ],
      "execution_count": 0,
      "outputs": []
    },
    {
      "cell_type": "code",
      "metadata": {
        "id": "ilXMflIauNbq",
        "colab_type": "code",
        "colab": {
          "base_uri": "https://localhost:8080/",
          "height": 54
        },
        "outputId": "66845f7d-85fa-4aa3-b3fc-920f50f07a58"
      },
      "source": [
        "\n",
        "freq.keys()"
      ],
      "execution_count": 12,
      "outputs": [
        {
          "output_type": "execute_result",
          "data": {
            "text/plain": [
              "dict_keys([1, 14, 22, 16, 43, 530, 973, 1622, 1385, 65, 458, 4468, 66, 3941, 4, 173, 36, 256, 5, 25, 100, 838, 112, 50, 670, 2, 9, 35, 480, 284, 150, 172, 167, 336, 385, 39, 4536, 1111, 17, 546, 38, 13, 447, 192, 6, 147, 2025, 19, 1920, 4613, 469, 71, 87, 12, 76, 15, 1247, 515, 626, 18, 62, 386, 8, 316, 106, 2223, 5244, 3785, 33, 130, 619, 124, 51, 135, 48, 1415, 215, 28, 77, 52, 407, 82, 107, 117, 5952, 7, 3766, 723, 476, 26, 400, 317, 46, 1029, 104, 88, 381, 297, 98, 32, 2071, 56, 141, 194, 7486, 226, 21, 134, 144, 30, 5535, 224, 92, 1334, 283, 4472, 113, 103, 5345, 178])"
            ]
          },
          "metadata": {
            "tags": []
          },
          "execution_count": 12
        }
      ]
    },
    {
      "cell_type": "code",
      "metadata": {
        "id": "D-v_OIStuQSP",
        "colab_type": "code",
        "colab": {
          "base_uri": "https://localhost:8080/",
          "height": 34
        },
        "outputId": "baefe74d-3bc5-43e2-adf3-d35f66ec1cc3"
      },
      "source": [
        "max(freq.items(), key=operator.itemgetter(1))"
      ],
      "execution_count": 13,
      "outputs": [
        {
          "output_type": "execute_result",
          "data": {
            "text/plain": [
              "(4, 15)"
            ]
          },
          "metadata": {
            "tags": []
          },
          "execution_count": 13
        }
      ]
    },
    {
      "cell_type": "code",
      "metadata": {
        "id": "sNwjE5I-uSwb",
        "colab_type": "code",
        "colab": {
          "base_uri": "https://localhost:8080/",
          "height": 51
        },
        "outputId": "446e1a21-da07-499f-a767-48d4a990fca7"
      },
      "source": [
        "def most_frequent(List): \n",
        "    counter = 0\n",
        "    num = List[0] \n",
        "    i = 0\n",
        "    sizeofList = len(List) \n",
        "    while i < sizeofList :\n",
        "        curr_frequency = List.count(i) \n",
        "        if(curr_frequency> counter): \n",
        "            counter = curr_frequency \n",
        "            num = i     \n",
        "        \n",
        "        i += 1\n",
        "    return num \n",
        "print(most_frequent(train_data[0])) \n",
        "word_index = imdb.get_word_index()\n",
        "reverse_word_index = dict([(value, key) for (key, value) in word_index.items()])\n",
        "print(\"Original word: \", ''.join([reverse_word_index.get(i - 3, '') for i in train_data[0]][most_frequent(train_data[0])]))"
      ],
      "execution_count": 14,
      "outputs": [
        {
          "output_type": "stream",
          "text": [
            "4\n",
            "Original word:  just\n"
          ],
          "name": "stdout"
        }
      ]
    },
    {
      "cell_type": "code",
      "metadata": {
        "id": "vQ5ABnUPuWQQ",
        "colab_type": "code",
        "colab": {
          "base_uri": "https://localhost:8080/",
          "height": 54
        },
        "outputId": "640a1dc2-6aba-41c5-cfd0-c1881d318e40"
      },
      "source": [
        "decode_review(train_data[0])"
      ],
      "execution_count": 15,
      "outputs": [
        {
          "output_type": "stream",
          "text": [
            " this film was just brilliant casting location scenery story direction everyone's really suited the part they played and you could just imagine being there robert  is an amazing actor and now the same being director  father came from the same scottish island as myself so i loved the fact there was a real connection with this film the witty remarks throughout the film were great it was just brilliant so much that i bought the film as soon as it was released for  and would recommend it to everyone to watch and the fly fishing was amazing really cried at the end it was so sad and you know what they say if you cry at a film it must have been good and this definitely was also  to the two little boy's that played the  of norman and paul they were just brilliant children are often left out of the  list i think because the stars that play them all grown up are such a big profile for the whole film but these children are amazing and should be praised for what they have done don't you think the whole story was so lovely because it was true and was someone's life after all that was shared with us all\n"
          ],
          "name": "stdout"
        }
      ]
    },
    {
      "cell_type": "code",
      "metadata": {
        "id": "RdCZPpMHuZ3f",
        "colab_type": "code",
        "colab": {
          "base_uri": "https://localhost:8080/",
          "height": 71
        },
        "outputId": "76371c61-37ec-4da3-a915-a8e39fce4bfb"
      },
      "source": [
        "reverse_word_index[4 - 3]\n",
        "wordstring = [reverse_word_index.get(i - 3) for i in train_data[0]][1:219]\n",
        "\n",
        "wordfreq = []\n",
        "for w in wordstring:\n",
        "    wordfreq.append(wordstring.count(w))\n",
        "\n",
        "print(\"Pairs\\n\" + str(list(zip(wordstring, wordfreq))))"
      ],
      "execution_count": 17,
      "outputs": [
        {
          "output_type": "stream",
          "text": [
            "Pairs\n",
            "[('this', 3), ('film', 6), ('was', 11), ('just', 4), ('brilliant', 3), ('casting', 1), ('location', 1), ('scenery', 1), ('story', 2), ('direction', 1), (\"everyone's\", 1), ('really', 2), ('suited', 1), ('the', 15), ('part', 1), ('they', 4), ('played', 2), ('and', 9), ('you', 4), ('could', 1), ('just', 4), ('imagine', 1), ('being', 2), ('there', 2), ('robert', 1), (None, 6), ('is', 1), ('an', 1), ('amazing', 3), ('actor', 1), ('and', 9), ('now', 1), ('the', 15), ('same', 2), ('being', 2), ('director', 1), (None, 6), ('father', 1), ('came', 1), ('from', 1), ('the', 15), ('same', 2), ('scottish', 1), ('island', 1), ('as', 3), ('myself', 1), ('so', 4), ('i', 3), ('loved', 1), ('the', 15), ('fact', 1), ('there', 2), ('was', 11), ('a', 3), ('real', 1), ('connection', 1), ('with', 2), ('this', 3), ('film', 6), ('the', 15), ('witty', 1), ('remarks', 1), ('throughout', 1), ('the', 15), ('film', 6), ('were', 2), ('great', 1), ('it', 6), ('was', 11), ('just', 4), ('brilliant', 3), ('so', 4), ('much', 1), ('that', 4), ('i', 3), ('bought', 1), ('the', 15), ('film', 6), ('as', 3), ('soon', 1), ('as', 3), ('it', 6), ('was', 11), ('released', 1), ('for', 3), (None, 6), ('and', 9), ('would', 1), ('recommend', 1), ('it', 6), ('to', 3), ('everyone', 1), ('to', 3), ('watch', 1), ('and', 9), ('the', 15), ('fly', 1), ('fishing', 1), ('was', 11), ('amazing', 3), ('really', 2), ('cried', 1), ('at', 2), ('the', 15), ('end', 1), ('it', 6), ('was', 11), ('so', 4), ('sad', 1), ('and', 9), ('you', 4), ('know', 1), ('what', 2), ('they', 4), ('say', 1), ('if', 1), ('you', 4), ('cry', 1), ('at', 2), ('a', 3), ('film', 6), ('it', 6), ('must', 1), ('have', 2), ('been', 1), ('good', 1), ('and', 9), ('this', 3), ('definitely', 1), ('was', 11), ('also', 1), (None, 6), ('to', 3), ('the', 15), ('two', 1), ('little', 1), (\"boy's\", 1), ('that', 4), ('played', 2), ('the', 15), (None, 6), ('of', 2), ('norman', 1), ('and', 9), ('paul', 1), ('they', 4), ('were', 2), ('just', 4), ('brilliant', 3), ('children', 2), ('are', 3), ('often', 1), ('left', 1), ('out', 1), ('of', 2), ('the', 15), (None, 6), ('list', 1), ('i', 3), ('think', 2), ('because', 2), ('the', 15), ('stars', 1), ('that', 4), ('play', 1), ('them', 1), ('all', 3), ('grown', 1), ('up', 1), ('are', 3), ('such', 1), ('a', 3), ('big', 1), ('profile', 1), ('for', 3), ('the', 15), ('whole', 2), ('film', 6), ('but', 1), ('these', 1), ('children', 2), ('are', 3), ('amazing', 3), ('and', 9), ('should', 1), ('be', 1), ('praised', 1), ('for', 3), ('what', 2), ('they', 4), ('have', 2), ('done', 1), (\"don't\", 1), ('you', 4), ('think', 2), ('the', 15), ('whole', 2), ('story', 2), ('was', 11), ('so', 4), ('lovely', 1), ('because', 2), ('it', 6), ('was', 11), ('true', 1), ('and', 9), ('was', 11), (\"someone's\", 1), ('life', 1), ('after', 1), ('all', 3), ('that', 4), ('was', 11), ('shared', 1), ('with', 2), ('us', 1), ('all', 3)]\n"
          ],
          "name": "stdout"
        }
      ]
    },
    {
      "cell_type": "markdown",
      "metadata": {
        "id": "Wv2x45D5uy0N",
        "colab_type": "text"
      },
      "source": [
        "#### Building the network\n",
        "* We can solve this problem using a network of _Dense_ layers and the _ReLU_ activation function.\n",
        "* How many layers? How many hidden units for layer?\n",
        "    - Start with 2 layers of 16 hidden units each\n",
        "    - We'll optimize this soon\n",
        "* Output layer: single unit with _sigmoid_ activation function\n",
        "    - Close to 1: positive review, close to 0: negative review\n",
        "* Use binary_crossentropy loss"
      ]
    },
    {
      "cell_type": "code",
      "metadata": {
        "id": "bKXz51vcuyCs",
        "colab_type": "code",
        "colab": {
          "base_uri": "https://localhost:8080/",
          "height": 258
        },
        "outputId": "4541c0dd-868b-45e3-cd9b-900d0ad13432"
      },
      "source": [
        "from keras import models\n",
        "from keras import layers \n",
        "\n",
        "model = models.Sequential()\n",
        "model.add(layers.Dense(16, activation='relu', input_shape=(10000,)))\n",
        "model.add(layers.Dense(16, activation='relu'))\n",
        "model.add(layers.Dense(1, activation='sigmoid'))\n",
        "\n",
        "model.compile(optimizer='rmsprop',\n",
        "              loss='binary_crossentropy',\n",
        "              metrics=['accuracy'])"
      ],
      "execution_count": 18,
      "outputs": [
        {
          "output_type": "stream",
          "text": [
            "WARNING:tensorflow:From /usr/local/lib/python3.6/dist-packages/keras/backend/tensorflow_backend.py:66: The name tf.get_default_graph is deprecated. Please use tf.compat.v1.get_default_graph instead.\n",
            "\n",
            "WARNING:tensorflow:From /usr/local/lib/python3.6/dist-packages/keras/backend/tensorflow_backend.py:541: The name tf.placeholder is deprecated. Please use tf.compat.v1.placeholder instead.\n",
            "\n",
            "WARNING:tensorflow:From /usr/local/lib/python3.6/dist-packages/keras/backend/tensorflow_backend.py:4432: The name tf.random_uniform is deprecated. Please use tf.random.uniform instead.\n",
            "\n",
            "WARNING:tensorflow:From /usr/local/lib/python3.6/dist-packages/keras/optimizers.py:793: The name tf.train.Optimizer is deprecated. Please use tf.compat.v1.train.Optimizer instead.\n",
            "\n",
            "WARNING:tensorflow:From /usr/local/lib/python3.6/dist-packages/keras/backend/tensorflow_backend.py:3657: The name tf.log is deprecated. Please use tf.math.log instead.\n",
            "\n",
            "WARNING:tensorflow:From /usr/local/lib/python3.6/dist-packages/tensorflow_core/python/ops/nn_impl.py:183: where (from tensorflow.python.ops.array_ops) is deprecated and will be removed in a future version.\n",
            "Instructions for updating:\n",
            "Use tf.where in 2.0, which has the same broadcast rule as np.where\n"
          ],
          "name": "stdout"
        }
      ]
    },
    {
      "cell_type": "markdown",
      "metadata": {
        "id": "gFrAf2bbu73G",
        "colab_type": "text"
      },
      "source": [
        "#### Model selection\n",
        "* How many epochs do we need for training?\n",
        "* Take a validation set of 10,000 samples from the training set\n",
        "* Train the neural net and track the loss after every iteration on the validation set\n",
        "    - This is returned as a `History` object by the `fit()` function \n",
        "* We start with 20 epochs in minibatches of 512 samples"
      ]
    },
    {
      "cell_type": "code",
      "metadata": {
        "id": "_ToI6OMOujhD",
        "colab_type": "code",
        "colab": {
          "base_uri": "https://localhost:8080/",
          "height": 1000
        },
        "outputId": "9ad5d250-f11c-4857-c515-c1af7c5627b5"
      },
      "source": [
        "x_val, partial_x_train = x_train[:10000], x_train[10000:]\n",
        "y_val, partial_y_train = y_train[:10000], y_train[10000:] \n",
        "history = model.fit(partial_x_train, partial_y_train,\n",
        "                    epochs=20, batch_size=512, verbose=2,\n",
        "                    validation_data=(x_val, y_val))"
      ],
      "execution_count": 19,
      "outputs": [
        {
          "output_type": "stream",
          "text": [
            "WARNING:tensorflow:From /usr/local/lib/python3.6/dist-packages/keras/backend/tensorflow_backend.py:1033: The name tf.assign_add is deprecated. Please use tf.compat.v1.assign_add instead.\n",
            "\n",
            "WARNING:tensorflow:From /usr/local/lib/python3.6/dist-packages/keras/backend/tensorflow_backend.py:1020: The name tf.assign is deprecated. Please use tf.compat.v1.assign instead.\n",
            "\n",
            "WARNING:tensorflow:From /usr/local/lib/python3.6/dist-packages/keras/backend/tensorflow_backend.py:3005: The name tf.Session is deprecated. Please use tf.compat.v1.Session instead.\n",
            "\n",
            "Train on 15000 samples, validate on 10000 samples\n",
            "Epoch 1/20\n",
            "WARNING:tensorflow:From /usr/local/lib/python3.6/dist-packages/keras/backend/tensorflow_backend.py:190: The name tf.get_default_session is deprecated. Please use tf.compat.v1.get_default_session instead.\n",
            "\n",
            "WARNING:tensorflow:From /usr/local/lib/python3.6/dist-packages/keras/backend/tensorflow_backend.py:197: The name tf.ConfigProto is deprecated. Please use tf.compat.v1.ConfigProto instead.\n",
            "\n",
            "WARNING:tensorflow:From /usr/local/lib/python3.6/dist-packages/keras/backend/tensorflow_backend.py:207: The name tf.global_variables is deprecated. Please use tf.compat.v1.global_variables instead.\n",
            "\n",
            "WARNING:tensorflow:From /usr/local/lib/python3.6/dist-packages/keras/backend/tensorflow_backend.py:216: The name tf.is_variable_initialized is deprecated. Please use tf.compat.v1.is_variable_initialized instead.\n",
            "\n",
            "WARNING:tensorflow:From /usr/local/lib/python3.6/dist-packages/keras/backend/tensorflow_backend.py:223: The name tf.variables_initializer is deprecated. Please use tf.compat.v1.variables_initializer instead.\n",
            "\n",
            " - 2s - loss: 0.5229 - acc: 0.7930 - val_loss: 0.4328 - val_acc: 0.8243\n",
            "Epoch 2/20\n",
            " - 1s - loss: 0.3242 - acc: 0.8963 - val_loss: 0.3143 - val_acc: 0.8839\n",
            "Epoch 3/20\n",
            " - 1s - loss: 0.2374 - acc: 0.9234 - val_loss: 0.2901 - val_acc: 0.8854\n",
            "Epoch 4/20\n",
            " - 1s - loss: 0.1872 - acc: 0.9385 - val_loss: 0.2748 - val_acc: 0.8892\n",
            "Epoch 5/20\n",
            " - 1s - loss: 0.1531 - acc: 0.9494 - val_loss: 0.2773 - val_acc: 0.8882\n",
            "Epoch 6/20\n",
            " - 1s - loss: 0.1269 - acc: 0.9598 - val_loss: 0.2876 - val_acc: 0.8863\n",
            "Epoch 7/20\n",
            " - 1s - loss: 0.1046 - acc: 0.9685 - val_loss: 0.2993 - val_acc: 0.8842\n",
            "Epoch 8/20\n",
            " - 1s - loss: 0.0890 - acc: 0.9743 - val_loss: 0.3165 - val_acc: 0.8837\n",
            "Epoch 9/20\n",
            " - 1s - loss: 0.0717 - acc: 0.9803 - val_loss: 0.4085 - val_acc: 0.8678\n",
            "Epoch 10/20\n",
            " - 1s - loss: 0.0595 - acc: 0.9857 - val_loss: 0.3632 - val_acc: 0.8795\n",
            "Epoch 11/20\n",
            " - 1s - loss: 0.0473 - acc: 0.9885 - val_loss: 0.4149 - val_acc: 0.8705\n",
            "Epoch 12/20\n",
            " - 1s - loss: 0.0388 - acc: 0.9913 - val_loss: 0.4196 - val_acc: 0.8767\n",
            "Epoch 13/20\n",
            " - 1s - loss: 0.0299 - acc: 0.9945 - val_loss: 0.4426 - val_acc: 0.8728\n",
            "Epoch 14/20\n",
            " - 1s - loss: 0.0232 - acc: 0.9959 - val_loss: 0.4713 - val_acc: 0.8711\n",
            "Epoch 15/20\n",
            " - 1s - loss: 0.0189 - acc: 0.9969 - val_loss: 0.5114 - val_acc: 0.8675\n",
            "Epoch 16/20\n",
            " - 1s - loss: 0.0162 - acc: 0.9973 - val_loss: 0.5356 - val_acc: 0.8673\n",
            "Epoch 17/20\n",
            " - 1s - loss: 0.0095 - acc: 0.9994 - val_loss: 0.6175 - val_acc: 0.8577\n",
            "Epoch 18/20\n",
            " - 1s - loss: 0.0070 - acc: 0.9999 - val_loss: 0.6066 - val_acc: 0.8637\n",
            "Epoch 19/20\n",
            " - 1s - loss: 0.0079 - acc: 0.9989 - val_loss: 0.6262 - val_acc: 0.8659\n",
            "Epoch 20/20\n",
            " - 1s - loss: 0.0037 - acc: 0.9999 - val_loss: 0.6559 - val_acc: 0.8675\n"
          ],
          "name": "stdout"
        }
      ]
    },
    {
      "cell_type": "markdown",
      "metadata": {
        "id": "kdp9XGaSvGnY",
        "colab_type": "text"
      },
      "source": [
        "#### Evaluate model performance during training\n",
        "1. Plot the training and validation loss as a function of training epoch. Describe what happens during the training in terms of under or overfitting.\n",
        "2. Plot the training and validation accuracy as a function of the training epoch.\n",
        "\n",
        "Hint: these quantities are contained in the dict history.history."
      ]
    },
    {
      "cell_type": "code",
      "metadata": {
        "id": "jOg0pEGmvBVR",
        "colab_type": "code",
        "colab": {
          "base_uri": "https://localhost:8080/",
          "height": 255
        },
        "outputId": "34d21da1-f215-4da6-94e4-4c0ca162478e"
      },
      "source": [
        "model.summary()"
      ],
      "execution_count": 20,
      "outputs": [
        {
          "output_type": "stream",
          "text": [
            "Model: \"sequential_1\"\n",
            "_________________________________________________________________\n",
            "Layer (type)                 Output Shape              Param #   \n",
            "=================================================================\n",
            "dense_1 (Dense)              (None, 16)                160016    \n",
            "_________________________________________________________________\n",
            "dense_2 (Dense)              (None, 16)                272       \n",
            "_________________________________________________________________\n",
            "dense_3 (Dense)              (None, 1)                 17        \n",
            "=================================================================\n",
            "Total params: 160,305\n",
            "Trainable params: 160,305\n",
            "Non-trainable params: 0\n",
            "_________________________________________________________________\n"
          ],
          "name": "stdout"
        }
      ]
    },
    {
      "cell_type": "code",
      "metadata": {
        "id": "eeF_ueSQvQf8",
        "colab_type": "code",
        "colab": {
          "base_uri": "https://localhost:8080/",
          "height": 34
        },
        "outputId": "a8ecd9a7-4960-415f-abc6-17653e5d4238"
      },
      "source": [
        "print(history.history.keys())\n"
      ],
      "execution_count": 21,
      "outputs": [
        {
          "output_type": "stream",
          "text": [
            "dict_keys(['val_loss', 'val_acc', 'loss', 'acc'])\n"
          ],
          "name": "stdout"
        }
      ]
    },
    {
      "cell_type": "code",
      "metadata": {
        "id": "iNUk-SG_vVA7",
        "colab_type": "code",
        "colab": {
          "base_uri": "https://localhost:8080/",
          "height": 985
        },
        "outputId": "070d3217-35a0-4364-e721-30341f39589f"
      },
      "source": [
        "import matplotlib.pyplot as plt\n",
        "plt.plot(history.history['loss'])\n",
        "plt.plot(history.history['val_loss'])\n",
        "plt.title('model loss')\n",
        "plt.ylabel('loss')\n",
        "plt.xlabel('epoch')\n",
        "plt.legend(['train', 'test'], loc='upper left')\n",
        "plt.show()\n",
        "\n",
        "plt.plot(history.history['val_acc'])\n",
        "plt.plot(history.history['acc'])\n",
        "plt.title('model accuracy')\n",
        "plt.ylabel('accuracy')\n",
        "plt.xlabel('epoch')\n",
        "plt.legend(['train', 'test'], loc='upper left')\n",
        "plt.show()"
      ],
      "execution_count": 22,
      "outputs": [
        {
          "output_type": "display_data",
          "data": {
            "image/png": "[encoded data removed]",
            "text/plain": [
              "<Figure size 750x500 with 1 Axes>"
            ]
          },
          "metadata": {
            "tags": []
          }
        },
        {
          "output_type": "display_data",
          "data": {
            "image/png": "[encoded data removed]",
            "text/plain": [
              "<Figure size 750x500 with 1 Axes>"
            ]
          },
          "metadata": {
            "tags": []
          }
        }
      ]
    },
    {
      "cell_type": "markdown",
      "metadata": {
        "id": "fOfFAHW_vmo2",
        "colab_type": "text"
      },
      "source": [
        "#### Early stopping\n",
        "One simple technique to avoid overfitting is to use the validation set to 'tune' the optimal number of epochs\n",
        "* In this case, we could stop after 4 epochs"
      ]
    },
    {
      "cell_type": "code",
      "metadata": {
        "id": "J02RuRzGvdzF",
        "colab_type": "code",
        "colab": {
          "base_uri": "https://localhost:8080/",
          "height": 187
        },
        "outputId": "47a42521-2172-4260-dfc0-b58d0778f34e"
      },
      "source": [
        "model.fit(x_train, y_train, epochs=4, batch_size=512, verbose=2)\n",
        "result = model.evaluate(x_test, y_test)\n",
        "print(\"Loss: {:.4f}, Accuracy:  {:.4f}\".format(*result))"
      ],
      "execution_count": 23,
      "outputs": [
        {
          "output_type": "stream",
          "text": [
            "Epoch 1/4\n",
            " - 2s - loss: 0.2280 - acc: 0.9461\n",
            "Epoch 2/4\n",
            " - 2s - loss: 0.1361 - acc: 0.9594\n",
            "Epoch 3/4\n",
            " - 2s - loss: 0.1050 - acc: 0.9689\n",
            "Epoch 4/4\n",
            " - 2s - loss: 0.0824 - acc: 0.9758\n",
            "25000/25000 [==============================] - 2s 64us/step\n",
            "Loss: 0.4857, Accuracy:  0.8628\n"
          ],
          "name": "stdout"
        }
      ]
    },
    {
      "cell_type": "markdown",
      "metadata": {
        "id": "JMu9iFXnvxUW",
        "colab_type": "text"
      },
      "source": [
        "#### Predictions\n",
        "1. Print the first review that were correctly classified along with the predicted value.\n",
        "2. Print the first review that were misclassified along with the predicted value. Can you explain why the model likely failed? How confident was the model?"
      ]
    },
    {
      "cell_type": "code",
      "metadata": {
        "id": "qaNUT82MvqhU",
        "colab_type": "code",
        "colab": {
          "base_uri": "https://localhost:8080/",
          "height": 136
        },
        "outputId": "c21fba1b-e410-43ec-cd8e-b1fc1f266fa0"
      },
      "source": [
        "y_pred = model.predict(x_test)\n",
        "y_pred_class = model.predict_classes(x_test)\n",
        "y_pred_class.astype('float32')"
      ],
      "execution_count": 25,
      "outputs": [
        {
          "output_type": "execute_result",
          "data": {
            "text/plain": [
              "array([[0.],\n",
              "       [1.],\n",
              "       [1.],\n",
              "       ...,\n",
              "       [0.],\n",
              "       [0.],\n",
              "       [1.]], dtype=float32)"
            ]
          },
          "metadata": {
            "tags": []
          },
          "execution_count": 25
        }
      ]
    },
    {
      "cell_type": "code",
      "metadata": {
        "id": "1iiddkn8v7kn",
        "colab_type": "code",
        "colab": {}
      },
      "source": [
        "pred_cls = model.predict_classes(x_test).reshape(25000)\n",
        "pred_prob = model.predict(x_test)"
      ],
      "execution_count": 0,
      "outputs": []
    },
    {
      "cell_type": "code",
      "metadata": {
        "id": "bZlaaXnsw5Jf",
        "colab_type": "code",
        "colab": {}
      },
      "source": [
        "correctly_classified = test_labels == predicted_classes\n",
        "mis_classified = test_labels != predicted_classes\n",
        "\n",
        "correctly_classified_predictions = test_data[correctly_classified]\n",
        "misclassified_predictions = test_data[mis_classified]\n",
        "print(misclassified_predictions[0][0])\n"
      ],
      "execution_count": 0,
      "outputs": []
    },
    {
      "cell_type": "code",
      "metadata": {
        "id": "txmNUs4twudb",
        "colab_type": "code",
        "colab": {
          "base_uri": "https://localhost:8080/",
          "height": 105
        },
        "outputId": "60de41aa-0e33-4bb6-94b5-631943a44280"
      },
      "source": [
        "\n",
        "print(\"Correctly classified Prediction:  \".join([reverse_word_index.get(i - 3, \"\") for i in correctly_classified_predictions[0]]))\n",
        "print('\\n')\n",
        "print(\"Missclassified Prediction: \".join([reverse_word_index.get(i - 3, \"\") for i in misclassified_predictions[0]]))"
      ],
      "execution_count": 30,
      "outputs": [
        {
          "output_type": "stream",
          "text": [
            "Correctly classified Prediction:  pleaseCorrectly classified Prediction:  giveCorrectly classified Prediction:  thisCorrectly classified Prediction:  oneCorrectly classified Prediction:  aCorrectly classified Prediction:  missCorrectly classified Prediction:  brCorrectly classified Prediction:  brCorrectly classified Prediction:  Correctly classified Prediction:  Correctly classified Prediction:  andCorrectly classified Prediction:  theCorrectly classified Prediction:  restCorrectly classified Prediction:  ofCorrectly classified Prediction:  theCorrectly classified Prediction:  castCorrectly classified Prediction:  renderedCorrectly classified Prediction:  terribleCorrectly classified Prediction:  performancesCorrectly classified Prediction:  theCorrectly classified Prediction:  showCorrectly classified Prediction:  isCorrectly classified Prediction:  flatCorrectly classified Prediction:  flatCorrectly classified Prediction:  flatCorrectly classified Prediction:  brCorrectly classified Prediction:  brCorrectly classified Prediction:  iCorrectly classified Prediction:  don'tCorrectly classified Prediction:  knowCorrectly classified Prediction:  howCorrectly classified Prediction:  michaelCorrectly classified Prediction:  madisonCorrectly classified Prediction:  couldCorrectly classified Prediction:  haveCorrectly classified Prediction:  allowedCorrectly classified Prediction:  thisCorrectly classified Prediction:  oneCorrectly classified Prediction:  onCorrectly classified Prediction:  hisCorrectly classified Prediction:  plateCorrectly classified Prediction:  heCorrectly classified Prediction:  almostCorrectly classified Prediction:  seemedCorrectly classified Prediction:  toCorrectly classified Prediction:  knowCorrectly classified Prediction:  thisCorrectly classified Prediction:  wasn'tCorrectly classified Prediction:  goingCorrectly classified Prediction:  toCorrectly classified Prediction:  workCorrectly classified Prediction:  outCorrectly classified Prediction:  andCorrectly classified Prediction:  hisCorrectly classified Prediction:  performanceCorrectly classified Prediction:  wasCorrectly classified Prediction:  quiteCorrectly classified Prediction:  Correctly classified Prediction:  soCorrectly classified Prediction:  allCorrectly classified Prediction:  youCorrectly classified Prediction:  madisonCorrectly classified Prediction:  fansCorrectly classified Prediction:  giveCorrectly classified Prediction:  thisCorrectly classified Prediction:  aCorrectly classified Prediction:  miss\n",
            "\n",
            "\n",
            "Missclassified Prediction: iMissclassified Prediction: generallyMissclassified Prediction: loveMissclassified Prediction: thisMissclassified Prediction: typeMissclassified Prediction: ofMissclassified Prediction: movieMissclassified Prediction: howeverMissclassified Prediction: thisMissclassified Prediction: timeMissclassified Prediction: iMissclassified Prediction: foundMissclassified Prediction: myselfMissclassified Prediction: wantingMissclassified Prediction: toMissclassified Prediction: kickMissclassified Prediction: theMissclassified Prediction: screenMissclassified Prediction: sinceMissclassified Prediction: iMissclassified Prediction: can'tMissclassified Prediction: doMissclassified Prediction: thatMissclassified Prediction: iMissclassified Prediction: willMissclassified Prediction: justMissclassified Prediction: complainMissclassified Prediction: aboutMissclassified Prediction: itMissclassified Prediction: thisMissclassified Prediction: wasMissclassified Prediction: absolutelyMissclassified Prediction: idioticMissclassified Prediction: theMissclassified Prediction: thingsMissclassified Prediction: thatMissclassified Prediction: happenMissclassified Prediction: withMissclassified Prediction: theMissclassified Prediction: deadMissclassified Prediction: kidsMissclassified Prediction: areMissclassified Prediction: veryMissclassified Prediction: coolMissclassified Prediction: butMissclassified Prediction: theMissclassified Prediction: aliveMissclassified Prediction: peopleMissclassified Prediction: areMissclassified Prediction: absoluteMissclassified Prediction: idiotsMissclassified Prediction: iMissclassified Prediction: amMissclassified Prediction: aMissclassified Prediction: grownMissclassified Prediction: manMissclassified Prediction: prettyMissclassified Prediction: bigMissclassified Prediction: andMissclassified Prediction: iMissclassified Prediction: canMissclassified Prediction: defendMissclassified Prediction: myselfMissclassified Prediction: wellMissclassified Prediction: howeverMissclassified Prediction: iMissclassified Prediction: wouldMissclassified Prediction: notMissclassified Prediction: doMissclassified Prediction: halfMissclassified Prediction: theMissclassified Prediction: stuffMissclassified Prediction: theMissclassified Prediction: littleMissclassified Prediction: girlMissclassified Prediction: doesMissclassified Prediction: inMissclassified Prediction: thisMissclassified Prediction: movieMissclassified Prediction: alsoMissclassified Prediction: theMissclassified Prediction: motherMissclassified Prediction: inMissclassified Prediction: thisMissclassified Prediction: movieMissclassified Prediction: isMissclassified Prediction: recklessMissclassified Prediction: withMissclassified Prediction: herMissclassified Prediction: childrenMissclassified Prediction: toMissclassified Prediction: theMissclassified Prediction: pointMissclassified Prediction: ofMissclassified Prediction: neglectMissclassified Prediction: iMissclassified Prediction: wishMissclassified Prediction: iMissclassified Prediction: wasn'tMissclassified Prediction: soMissclassified Prediction: angryMissclassified Prediction: aboutMissclassified Prediction: herMissclassified Prediction: andMissclassified Prediction: herMissclassified Prediction: actionsMissclassified Prediction: becauseMissclassified Prediction: iMissclassified Prediction: wouldMissclassified Prediction: haveMissclassified Prediction: otherwiseMissclassified Prediction: enjoyedMissclassified Prediction: theMissclassified Prediction: flickMissclassified Prediction: whatMissclassified Prediction: aMissclassified Prediction: numberMissclassified Prediction: sheMissclassified Prediction: wasMissclassified Prediction: takeMissclassified Prediction: myMissclassified Prediction: adviseMissclassified Prediction: andMissclassified Prediction: fastMissclassified Prediction: forwardMissclassified Prediction: throughMissclassified Prediction: everythingMissclassified Prediction: youMissclassified Prediction: seeMissclassified Prediction: herMissclassified Prediction: doMissclassified Prediction: untilMissclassified Prediction: theMissclassified Prediction: endMissclassified Prediction: alsoMissclassified Prediction: isMissclassified Prediction: anyoneMissclassified Prediction: elseMissclassified Prediction: gettingMissclassified Prediction: sickMissclassified Prediction: ofMissclassified Prediction: watchingMissclassified Prediction: moviesMissclassified Prediction: thatMissclassified Prediction: areMissclassified Prediction: filmedMissclassified Prediction: soMissclassified Prediction: darkMissclassified Prediction: anymoreMissclassified Prediction: oneMissclassified Prediction: canMissclassified Prediction: hardlyMissclassified Prediction: seeMissclassified Prediction: whatMissclassified Prediction: isMissclassified Prediction: beingMissclassified Prediction: filmedMissclassified Prediction: asMissclassified Prediction: anMissclassified Prediction: audienceMissclassified Prediction: weMissclassified Prediction: areMissclassified Prediction: Missclassified Prediction: involvedMissclassified Prediction: withMissclassified Prediction: theMissclassified Prediction: actionsMissclassified Prediction: onMissclassified Prediction: theMissclassified Prediction: screenMissclassified Prediction: soMissclassified Prediction: thenMissclassified Prediction: whyMissclassified Prediction: theMissclassified Prediction: hellMissclassified Prediction: can'tMissclassified Prediction: weMissclassified Prediction: haveMissclassified Prediction: nightMissclassified Prediction: vision\n"
          ],
          "name": "stdout"
        }
      ]
    },
    {
      "cell_type": "markdown",
      "metadata": {
        "id": "aW64DN3lw_IV",
        "colab_type": "text"
      },
      "source": [
        "#### Takeaways\n",
        "* Neural nets require a lot of preprocessing to create tensors\n",
        "* Dense layers with ReLU activation can solve a wide range of problems\n",
        "* Binary classification can be done with a Dense layer with a single unit, sigmoid activation, and binary cross-entropy loss\n",
        "* Neural nets overfit easily\n",
        "* Many design choices have an effect on accuracy and overfitting. One can try:\n",
        "    - 1 or 3 hidden layers\n",
        "    - more or fewer hidden units (e.g. 64)\n",
        "    - MSE loss instead of binary cross-entropy\n",
        "    - `tanh` activation instead of `ReLU`"
      ]
    },
    {
      "cell_type": "markdown",
      "metadata": {
        "id": "nW0UpJaHxCep",
        "colab_type": "text"
      },
      "source": [
        "### Regularization: build smaller networks\n",
        "* The easiest way to avoid overfitting is to use a simpler model\n",
        "* The number of learnable parameters is called the model _capacity_\n",
        "* A model with more parameters has a higher _memorization capacity_\n",
        "    - The entire training set can be `stored` in the weights\n",
        "    - Learns the mapping from training examples to outputs\n",
        "* Forcing the model to be small forces it to learn a compressed representation that generalizes better\n",
        "    - Always a trade-off between too much and too little capacity\n",
        "* Start with few layers and parameters, incease until you see diminisching returns"
      ]
    },
    {
      "cell_type": "code",
      "metadata": {
        "id": "tpqWFq7gwhWr",
        "colab_type": "code",
        "colab": {}
      },
      "source": [
        "from keras.datasets import imdb\n",
        "import numpy as np\n",
        "\n",
        "(train_data, train_labels), (test_data, test_labels) = imdb.load_data(num_words=10000)\n",
        "\n",
        "def vectorize_sequences(sequences, dimension=10000):\n",
        "    # Create an all-zero matrix of shape (len(sequences), dimension)\n",
        "    results = np.zeros((len(sequences), dimension))\n",
        "    for i, sequence in enumerate(sequences):\n",
        "        results[i, sequence] = 1.  # set specific indices of results[i] to 1s\n",
        "    return results\n",
        "\n",
        "# Our vectorized training data\n",
        "x_train = vectorize_sequences(train_data)\n",
        "# Our vectorized test data\n",
        "x_test = vectorize_sequences(test_data)\n",
        "# Our vectorized labels\n",
        "y_train = np.asarray(train_labels).astype('float32')\n",
        "y_test = np.asarray(test_labels).astype('float32')"
      ],
      "execution_count": 0,
      "outputs": []
    },
    {
      "cell_type": "code",
      "metadata": {
        "id": "zWYH2pR3xH_Y",
        "colab_type": "code",
        "colab": {
          "base_uri": "https://localhost:8080/",
          "height": 1000
        },
        "outputId": "942003d8-d259-4545-c056-4cb557db43c4"
      },
      "source": [
        "from keras import models\n",
        "from keras import layers \n",
        "import matplotlib.pyplot as plt\n",
        "\n",
        "original_model = models.Sequential()\n",
        "original_model.add(layers.Dense(16, activation='relu', input_shape=(10000,)))\n",
        "original_model.add(layers.Dense(16, activation='relu'))\n",
        "original_model.add(layers.Dense(1, activation='sigmoid'))\n",
        "\n",
        "original_model.compile(optimizer='rmsprop',\n",
        "                       loss='binary_crossentropy',\n",
        "                       metrics=['acc'])\n",
        "\n",
        "smaller_model = models.Sequential()\n",
        "smaller_model.add(layers.Dense(4, activation='relu', input_shape=(10000,)))\n",
        "smaller_model.add(layers.Dense(4, activation='relu'))\n",
        "smaller_model.add(layers.Dense(1, activation='sigmoid'))\n",
        "\n",
        "smaller_model.compile(optimizer='rmsprop',\n",
        "                      loss='binary_crossentropy',\n",
        "                      metrics=['acc'])\n",
        "original_hist = original_model.fit(x_train, y_train,\n",
        "                                   epochs=20,\n",
        "                                   batch_size=512, verbose=2,\n",
        "                                   validation_data=(x_test, y_test))\n",
        "smaller_model_hist = smaller_model.fit(x_train, y_train,\n",
        "                                       epochs=20,\n",
        "                                       batch_size=512, verbose=2,\n",
        "                                       validation_data=(x_test, y_test))"
      ],
      "execution_count": 33,
      "outputs": [
        {
          "output_type": "stream",
          "text": [
            "Train on 25000 samples, validate on 25000 samples\n",
            "Epoch 1/20\n",
            " - 4s - loss: 0.4643 - acc: 0.8044 - val_loss: 0.3265 - val_acc: 0.8829\n",
            "Epoch 2/20\n",
            " - 4s - loss: 0.2518 - acc: 0.9109 - val_loss: 0.2813 - val_acc: 0.8899\n",
            "Epoch 3/20\n",
            " - 4s - loss: 0.1971 - acc: 0.9298 - val_loss: 0.2894 - val_acc: 0.8837\n",
            "Epoch 4/20\n",
            " - 4s - loss: 0.1670 - acc: 0.9418 - val_loss: 0.2952 - val_acc: 0.8835\n",
            "Epoch 5/20\n",
            " - 4s - loss: 0.1423 - acc: 0.9499 - val_loss: 0.3290 - val_acc: 0.8746\n",
            "Epoch 6/20\n",
            " - 4s - loss: 0.1279 - acc: 0.9548 - val_loss: 0.3543 - val_acc: 0.8712\n",
            "Epoch 7/20\n",
            " - 4s - loss: 0.1127 - acc: 0.9606 - val_loss: 0.3891 - val_acc: 0.8652\n",
            "Epoch 8/20\n",
            " - 4s - loss: 0.1032 - acc: 0.9642 - val_loss: 0.3936 - val_acc: 0.8680\n",
            "Epoch 9/20\n",
            " - 4s - loss: 0.0876 - acc: 0.9705 - val_loss: 0.4185 - val_acc: 0.8661\n",
            "Epoch 10/20\n",
            " - 4s - loss: 0.0843 - acc: 0.9709 - val_loss: 0.4433 - val_acc: 0.8616\n",
            "Epoch 11/20\n",
            " - 4s - loss: 0.0736 - acc: 0.9750 - val_loss: 0.5068 - val_acc: 0.8557\n",
            "Epoch 12/20\n",
            " - 4s - loss: 0.0677 - acc: 0.9779 - val_loss: 0.5225 - val_acc: 0.8543\n",
            "Epoch 13/20\n",
            " - 4s - loss: 0.0589 - acc: 0.9822 - val_loss: 0.5409 - val_acc: 0.8553\n",
            "Epoch 14/20\n",
            " - 4s - loss: 0.0524 - acc: 0.9844 - val_loss: 0.5670 - val_acc: 0.8552\n",
            "Epoch 15/20\n",
            " - 4s - loss: 0.0471 - acc: 0.9860 - val_loss: 0.5970 - val_acc: 0.8539\n",
            "Epoch 16/20\n",
            " - 4s - loss: 0.0427 - acc: 0.9870 - val_loss: 0.6257 - val_acc: 0.8535\n",
            "Epoch 17/20\n",
            " - 4s - loss: 0.0380 - acc: 0.9886 - val_loss: 0.6613 - val_acc: 0.8516\n",
            "Epoch 18/20\n",
            " - 4s - loss: 0.0352 - acc: 0.9893 - val_loss: 0.6939 - val_acc: 0.8505\n",
            "Epoch 19/20\n",
            " - 4s - loss: 0.0269 - acc: 0.9931 - val_loss: 0.7413 - val_acc: 0.8479\n",
            "Epoch 20/20\n",
            " - 4s - loss: 0.0272 - acc: 0.9924 - val_loss: 0.7618 - val_acc: 0.8478\n",
            "Train on 25000 samples, validate on 25000 samples\n",
            "Epoch 1/20\n",
            " - 4s - loss: 0.6344 - acc: 0.6440 - val_loss: 0.5943 - val_acc: 0.7770\n",
            "Epoch 2/20\n",
            " - 3s - loss: 0.5478 - acc: 0.7839 - val_loss: 0.5347 - val_acc: 0.7841\n",
            "Epoch 3/20\n",
            " - 3s - loss: 0.4912 - acc: 0.8472 - val_loss: 0.4954 - val_acc: 0.8450\n",
            "Epoch 4/20\n",
            " - 3s - loss: 0.4502 - acc: 0.8832 - val_loss: 0.4696 - val_acc: 0.8642\n",
            "Epoch 5/20\n",
            " - 3s - loss: 0.4192 - acc: 0.9031 - val_loss: 0.4537 - val_acc: 0.8672\n",
            "Epoch 6/20\n",
            " - 3s - loss: 0.3935 - acc: 0.9180 - val_loss: 0.4396 - val_acc: 0.8827\n",
            "Epoch 7/20\n",
            " - 3s - loss: 0.3714 - acc: 0.9296 - val_loss: 0.4333 - val_acc: 0.8796\n",
            "Epoch 8/20\n",
            " - 3s - loss: 0.3515 - acc: 0.9394 - val_loss: 0.4277 - val_acc: 0.8809\n",
            "Epoch 9/20\n",
            " - 3s - loss: 0.3336 - acc: 0.9463 - val_loss: 0.4361 - val_acc: 0.8734\n",
            "Epoch 10/20\n",
            " - 3s - loss: 0.3172 - acc: 0.9515 - val_loss: 0.4306 - val_acc: 0.8768\n",
            "Epoch 11/20\n",
            " - 4s - loss: 0.3023 - acc: 0.9568 - val_loss: 0.4367 - val_acc: 0.8742\n",
            "Epoch 12/20\n",
            " - 4s - loss: 0.2881 - acc: 0.9620 - val_loss: 0.4297 - val_acc: 0.8756\n",
            "Epoch 13/20\n",
            " - 4s - loss: 0.2746 - acc: 0.9646 - val_loss: 0.4513 - val_acc: 0.8710\n",
            "Epoch 14/20\n",
            " - 4s - loss: 0.2627 - acc: 0.9674 - val_loss: 0.4375 - val_acc: 0.8725\n",
            "Epoch 15/20\n",
            " - 4s - loss: 0.2503 - acc: 0.9708 - val_loss: 0.4394 - val_acc: 0.8709\n",
            "Epoch 16/20\n",
            " - 3s - loss: 0.2396 - acc: 0.9727 - val_loss: 0.4593 - val_acc: 0.8689\n",
            "Epoch 17/20\n",
            " - 3s - loss: 0.2289 - acc: 0.9750 - val_loss: 0.4859 - val_acc: 0.8661\n",
            "Epoch 18/20\n",
            " - 3s - loss: 0.2185 - acc: 0.9772 - val_loss: 0.4887 - val_acc: 0.8661\n",
            "Epoch 19/20\n",
            " - 3s - loss: 0.2094 - acc: 0.9788 - val_loss: 0.5254 - val_acc: 0.8624\n",
            "Epoch 20/20\n",
            " - 3s - loss: 0.2004 - acc: 0.9800 - val_loss: 0.5388 - val_acc: 0.8620\n"
          ],
          "name": "stdout"
        }
      ]
    },
    {
      "cell_type": "code",
      "metadata": {
        "id": "nVmXHSDKxO6J",
        "colab_type": "code",
        "colab": {
          "base_uri": "https://localhost:8080/",
          "height": 34
        },
        "outputId": "f49e478e-e217-42e0-954a-6a7d33d7d8e7"
      },
      "source": [
        "original_hist.history.keys()"
      ],
      "execution_count": 34,
      "outputs": [
        {
          "output_type": "execute_result",
          "data": {
            "text/plain": [
              "dict_keys(['val_loss', 'val_acc', 'loss', 'acc'])"
            ]
          },
          "metadata": {
            "tags": []
          },
          "execution_count": 34
        }
      ]
    },
    {
      "cell_type": "code",
      "metadata": {
        "id": "q7iAU_lNx22o",
        "colab_type": "code",
        "colab": {
          "base_uri": "https://localhost:8080/",
          "height": 501
        },
        "outputId": "df060a6d-6fe2-4c35-c8e2-dbd8aefe7544"
      },
      "source": [
        "plt.plot(original_hist.history['val_loss'])\n",
        "plt.plot(smaller_model_hist.history['val_loss'])\n",
        "plt.title('Validation loss')\n",
        "plt.ylabel('loss')\n",
        "plt.xlabel('epoch')\n",
        "plt.legend(['original', 'smaller'], loc='upper right')\n",
        "plt.show()"
      ],
      "execution_count": 35,
      "outputs": [
        {
          "output_type": "display_data",
          "data": {
            "image/png": "[encoded data removed]",
            "text/plain": [
              "<Figure size 750x500 with 1 Axes>"
            ]
          },
          "metadata": {
            "tags": []
          }
        }
      ]
    },
    {
      "cell_type": "markdown",
      "metadata": {
        "id": "K3D3Ro1ZyK65",
        "colab_type": "text"
      },
      "source": [
        "Validation loss of the original model is more and smaller model has less validation loss. "
      ]
    },
    {
      "cell_type": "markdown",
      "metadata": {
        "id": "7WwVzBqRyQrn",
        "colab_type": "text"
      },
      "source": [
        "### Regularization: Weight regularization\n",
        "* As we did many times before, we can also add weight regularization to our loss function\n",
        "- L1 regularization: leads to _sparse networks_ with many weights that are 0\n",
        "- L2 regularization: leads to many very small weights\n",
        "    - Also called _weight decay_ in neural net literature\n",
        "* In Keras, add `kernel_regularizer` to every layer"
      ]
    },
    {
      "cell_type": "code",
      "metadata": {
        "id": "rdl5FmwyyCv4",
        "colab_type": "code",
        "colab": {}
      },
      "source": [
        "from keras import regularizers\n",
        "from keras import models\n",
        "from keras import layers \n",
        "import matplotlib.pyplot as plt\n",
        "\n",
        "l2_model = models.Sequential()\n",
        "l2_model.add(layers.Dense(16, kernel_regularizer=regularizers.l2(0.001),\n",
        "                          activation='relu', input_shape=(10000,)))\n",
        "l2_model.add(layers.Dense(16, kernel_regularizer=regularizers.l2(0.001),\n",
        "                          activation='relu'))\n",
        "l2_model.add(layers.Dense(1, activation='sigmoid'))"
      ],
      "execution_count": 0,
      "outputs": []
    },
    {
      "cell_type": "code",
      "metadata": {
        "id": "dq3H3O1EyUIT",
        "colab_type": "code",
        "colab": {}
      },
      "source": [
        "l2_model.compile(optimizer='rmsprop',\n",
        "                 loss='binary_crossentropy',\n",
        "                 metrics=['acc'])"
      ],
      "execution_count": 0,
      "outputs": []
    },
    {
      "cell_type": "code",
      "metadata": {
        "id": "KUBLr8ZFyYcL",
        "colab_type": "code",
        "colab": {
          "base_uri": "https://localhost:8080/",
          "height": 714
        },
        "outputId": "83f6f7f7-e499-4c88-f98f-d7c37687f1c6"
      },
      "source": [
        "l2_model_hist = l2_model.fit(x_train, y_train,\n",
        "                             epochs=20,\n",
        "                             batch_size=512, verbose=2,\n",
        "                             validation_data=(x_test, y_test))"
      ],
      "execution_count": 38,
      "outputs": [
        {
          "output_type": "stream",
          "text": [
            "Train on 25000 samples, validate on 25000 samples\n",
            "Epoch 1/20\n",
            " - 4s - loss: 0.5006 - acc: 0.8273 - val_loss: 0.3989 - val_acc: 0.8681\n",
            "Epoch 2/20\n",
            " - 4s - loss: 0.3257 - acc: 0.9024 - val_loss: 0.3364 - val_acc: 0.8902\n",
            "Epoch 3/20\n",
            " - 4s - loss: 0.2773 - acc: 0.9186 - val_loss: 0.3292 - val_acc: 0.8904\n",
            "Epoch 4/20\n",
            " - 4s - loss: 0.2554 - acc: 0.9255 - val_loss: 0.3287 - val_acc: 0.8888\n",
            "Epoch 5/20\n",
            " - 4s - loss: 0.2410 - acc: 0.9323 - val_loss: 0.3485 - val_acc: 0.8794\n",
            "Epoch 6/20\n",
            " - 4s - loss: 0.2324 - acc: 0.9350 - val_loss: 0.3539 - val_acc: 0.8792\n",
            "Epoch 7/20\n",
            " - 4s - loss: 0.2230 - acc: 0.9382 - val_loss: 0.3587 - val_acc: 0.8784\n",
            "Epoch 8/20\n",
            " - 4s - loss: 0.2189 - acc: 0.9410 - val_loss: 0.3911 - val_acc: 0.8661\n",
            "Epoch 9/20\n",
            " - 4s - loss: 0.2152 - acc: 0.9426 - val_loss: 0.3779 - val_acc: 0.8730\n",
            "Epoch 10/20\n",
            " - 4s - loss: 0.2119 - acc: 0.9432 - val_loss: 0.3842 - val_acc: 0.8718\n",
            "Epoch 11/20\n",
            " - 4s - loss: 0.2076 - acc: 0.9437 - val_loss: 0.3721 - val_acc: 0.8764\n",
            "Epoch 12/20\n",
            " - 4s - loss: 0.2042 - acc: 0.9467 - val_loss: 0.4169 - val_acc: 0.8629\n",
            "Epoch 13/20\n",
            " - 4s - loss: 0.2036 - acc: 0.9458 - val_loss: 0.4028 - val_acc: 0.8686\n",
            "Epoch 14/20\n",
            " - 4s - loss: 0.2012 - acc: 0.9475 - val_loss: 0.3877 - val_acc: 0.8726\n",
            "Epoch 15/20\n",
            " - 4s - loss: 0.1984 - acc: 0.9488 - val_loss: 0.3931 - val_acc: 0.8721\n",
            "Epoch 16/20\n",
            " - 4s - loss: 0.1987 - acc: 0.9471 - val_loss: 0.4000 - val_acc: 0.8720\n",
            "Epoch 17/20\n",
            " - 4s - loss: 0.1920 - acc: 0.9510 - val_loss: 0.4037 - val_acc: 0.8706\n",
            "Epoch 18/20\n",
            " - 4s - loss: 0.1895 - acc: 0.9502 - val_loss: 0.4437 - val_acc: 0.8626\n",
            "Epoch 19/20\n",
            " - 4s - loss: 0.1895 - acc: 0.9514 - val_loss: 0.4109 - val_acc: 0.8692\n",
            "Epoch 20/20\n",
            " - 4s - loss: 0.1890 - acc: 0.9508 - val_loss: 0.4141 - val_acc: 0.8683\n"
          ],
          "name": "stdout"
        }
      ]
    },
    {
      "cell_type": "code",
      "metadata": {
        "id": "rBruRvKSycFH",
        "colab_type": "code",
        "colab": {
          "base_uri": "https://localhost:8080/",
          "height": 501
        },
        "outputId": "5e963cd9-be67-40cb-9258-2476a30a76de"
      },
      "source": [
        "plt.plot(original_hist.history['val_loss'])\n",
        "plt.plot(l2_model_hist.history['val_loss'])\n",
        "plt.title('Validation loss')\n",
        "plt.ylabel('loss')\n",
        "plt.xlabel('epoch')\n",
        "plt.legend(['original', 'l2 model'], loc='upper right')\n",
        "plt.show()\n"
      ],
      "execution_count": 39,
      "outputs": [
        {
          "output_type": "display_data",
          "data": {
            "image/png": "[encoded data removed]",
            "text/plain": [
              "<Figure size 750x500 with 1 Axes>"
            ]
          },
          "metadata": {
            "tags": []
          }
        }
      ]
    },
    {
      "cell_type": "markdown",
      "metadata": {
        "id": "g17SVLvezHn_",
        "colab_type": "text"
      },
      "source": [
        "\n",
        "The loss for original model is more in comparison with the loss of the regularization model. "
      ]
    },
    {
      "cell_type": "markdown",
      "metadata": {
        "id": "5KFQixSMyj5_",
        "colab_type": "text"
      },
      "source": [
        "### Regularization: dropout\n",
        "* One of the most effective and commonly used regularization techniques\n",
        "* Randomly set a number of outputs of the layer to 0\n",
        "* Idea: break up accidental non-significant learned patterns \n",
        "* _Dropout rate_: fraction of the outputs that are zeroed-out\n",
        "    - Usually between 0.2 and 0.5\n",
        "* At test time, nothing is dropped out, but the output values are scaled down by the dropout rate\n",
        "    - Balances out that more units are active than during training\n",
        "* In Keras: add `Dropout` layers between the normal layers"
      ]
    },
    {
      "cell_type": "code",
      "metadata": {
        "id": "y0Mj8XqkyrSS",
        "colab_type": "code",
        "colab": {
          "base_uri": "https://localhost:8080/",
          "height": 122
        },
        "outputId": "22cc0526-777f-416a-f992-6954a75b3d52"
      },
      "source": [
        "from keras import models\n",
        "from keras import layers \n",
        "import matplotlib.pyplot as plt\n",
        "\n",
        "dpt_model = models.Sequential()\n",
        "dpt_model.add(layers.Dense(16, activation='relu', input_shape=(10000,)))\n",
        "dpt_model.add(layers.Dropout(0.5))\n",
        "dpt_model.add(layers.Dense(16, activation='relu'))\n",
        "dpt_model.add(layers.Dropout(0.5))\n",
        "dpt_model.add(layers.Dense(1, activation='sigmoid'))\n",
        "\n",
        "dpt_model.compile(optimizer='rmsprop',\n",
        "                  loss='binary_crossentropy',\n",
        "                  metrics=['acc'])"
      ],
      "execution_count": 40,
      "outputs": [
        {
          "output_type": "stream",
          "text": [
            "WARNING:tensorflow:From /usr/local/lib/python3.6/dist-packages/keras/backend/tensorflow_backend.py:148: The name tf.placeholder_with_default is deprecated. Please use tf.compat.v1.placeholder_with_default instead.\n",
            "\n",
            "WARNING:tensorflow:From /usr/local/lib/python3.6/dist-packages/keras/backend/tensorflow_backend.py:3733: calling dropout (from tensorflow.python.ops.nn_ops) with keep_prob is deprecated and will be removed in a future version.\n",
            "Instructions for updating:\n",
            "Please use `rate` instead of `keep_prob`. Rate should be set to `rate = 1 - keep_prob`.\n"
          ],
          "name": "stdout"
        }
      ]
    },
    {
      "cell_type": "code",
      "metadata": {
        "id": "43aBCaoJy0Ef",
        "colab_type": "code",
        "colab": {
          "base_uri": "https://localhost:8080/",
          "height": 714
        },
        "outputId": "7fdeba3b-3816-407d-9f91-d2f75e7fe0c2"
      },
      "source": [
        "dpt_model_hist = dpt_model.fit(x_train, y_train,\n",
        "                               epochs=20,\n",
        "                               \n",
        "                               batch_size=512, verbose=2,\n",
        "                               validation_data=(x_test, y_test))"
      ],
      "execution_count": 41,
      "outputs": [
        {
          "output_type": "stream",
          "text": [
            "Train on 25000 samples, validate on 25000 samples\n",
            "Epoch 1/20\n",
            " - 4s - loss: 0.5766 - acc: 0.7066 - val_loss: 0.4168 - val_acc: 0.8682\n",
            "Epoch 2/20\n",
            " - 4s - loss: 0.4140 - acc: 0.8339 - val_loss: 0.3396 - val_acc: 0.8731\n",
            "Epoch 3/20\n",
            " - 4s - loss: 0.3307 - acc: 0.8767 - val_loss: 0.2939 - val_acc: 0.8851\n",
            "Epoch 4/20\n",
            " - 4s - loss: 0.2824 - acc: 0.8975 - val_loss: 0.2778 - val_acc: 0.8883\n",
            "Epoch 5/20\n",
            " - 4s - loss: 0.2423 - acc: 0.9126 - val_loss: 0.2817 - val_acc: 0.8880\n",
            "Epoch 6/20\n",
            " - 4s - loss: 0.2136 - acc: 0.9275 - val_loss: 0.2987 - val_acc: 0.8842\n",
            "Epoch 7/20\n",
            " - 4s - loss: 0.1914 - acc: 0.9353 - val_loss: 0.3147 - val_acc: 0.8833\n",
            "Epoch 8/20\n",
            " - 4s - loss: 0.1772 - acc: 0.9426 - val_loss: 0.3253 - val_acc: 0.8837\n",
            "Epoch 9/20\n",
            " - 4s - loss: 0.1618 - acc: 0.9473 - val_loss: 0.3551 - val_acc: 0.8830\n",
            "Epoch 10/20\n",
            " - 4s - loss: 0.1480 - acc: 0.9514 - val_loss: 0.3680 - val_acc: 0.8817\n",
            "Epoch 11/20\n",
            " - 4s - loss: 0.1423 - acc: 0.9520 - val_loss: 0.3952 - val_acc: 0.8798\n",
            "Epoch 12/20\n",
            " - 4s - loss: 0.1341 - acc: 0.9544 - val_loss: 0.4157 - val_acc: 0.8784\n",
            "Epoch 13/20\n",
            " - 4s - loss: 0.1315 - acc: 0.9567 - val_loss: 0.4272 - val_acc: 0.8782\n",
            "Epoch 14/20\n",
            " - 4s - loss: 0.1192 - acc: 0.9608 - val_loss: 0.4688 - val_acc: 0.8751\n",
            "Epoch 15/20\n",
            " - 4s - loss: 0.1148 - acc: 0.9605 - val_loss: 0.4715 - val_acc: 0.8765\n",
            "Epoch 16/20\n",
            " - 4s - loss: 0.1136 - acc: 0.9620 - val_loss: 0.5071 - val_acc: 0.8750\n",
            "Epoch 17/20\n",
            " - 4s - loss: 0.1093 - acc: 0.9645 - val_loss: 0.5404 - val_acc: 0.8761\n",
            "Epoch 18/20\n",
            " - 4s - loss: 0.1117 - acc: 0.9628 - val_loss: 0.5329 - val_acc: 0.8756\n",
            "Epoch 19/20\n",
            " - 4s - loss: 0.1036 - acc: 0.9634 - val_loss: 0.5588 - val_acc: 0.8750\n",
            "Epoch 20/20\n",
            " - 4s - loss: 0.1080 - acc: 0.9635 - val_loss: 0.5768 - val_acc: 0.8750\n"
          ],
          "name": "stdout"
        }
      ]
    },
    {
      "cell_type": "code",
      "metadata": {
        "id": "kvELDscSy08N",
        "colab_type": "code",
        "colab": {
          "base_uri": "https://localhost:8080/",
          "height": 501
        },
        "outputId": "c2a74ea1-8983-4a08-b875-26ee07788e44"
      },
      "source": [
        "plt.plot(original_hist.history['val_loss'])\n",
        "plt.plot(dpt_model_hist.history['val_loss'])\n",
        "plt.title('Validation Loss')\n",
        "plt.ylabel('loss')\n",
        "plt.xlabel('epoch')\n",
        "plt.legend(['original', 'dropout model'], loc='upper right')\n",
        "plt.show()"
      ],
      "execution_count": 42,
      "outputs": [
        {
          "output_type": "display_data",
          "data": {
            "image/png": "[encoded data removed]",
            "text/plain": [
              "<Figure size 750x500 with 1 Axes>"
            ]
          },
          "metadata": {
            "tags": []
          }
        }
      ]
    },
    {
      "cell_type": "markdown",
      "metadata": {
        "id": "jguN_esvzBGy",
        "colab_type": "text"
      },
      "source": [
        "\n",
        "Here, there is low validation but the behavious is almost same as the original. \n"
      ]
    },
    {
      "cell_type": "markdown",
      "metadata": {
        "id": "7pC0In-xzZK_",
        "colab_type": "text"
      },
      "source": [
        "### Regularization recap\n",
        "* Get more training data\n",
        "* Reduce the capacity of the network\n",
        "* Add weight regularization\n",
        "* Add dropout\n",
        "* Either start with a simple model and add capacity\n",
        "* Or, start with a complex model and then regularize by adding weight regularization and dropout"
      ]
    },
    {
      "cell_type": "markdown",
      "metadata": {
        "id": "6tphcw_rzeG1",
        "colab_type": "text"
      },
      "source": [
        "### Regression\n",
        "* Dataset: 506 examples of houses and sale prices (Boston)\n",
        "    - Included in Keras, with a 1/5 train-test split\n",
        "* Each row is one house price, described by numeric properties of the house and neighborhood\n",
        "* Small dataset, non-normalized features"
      ]
    },
    {
      "cell_type": "code",
      "metadata": {
        "id": "X8tbzRUHzS0W",
        "colab_type": "code",
        "colab": {
          "base_uri": "https://localhost:8080/",
          "height": 51
        },
        "outputId": "43da58fe-2521-4733-b5cc-9f934a6f5d4c"
      },
      "source": [
        "from keras.datasets import boston_housing\n",
        "\n",
        "(train_data, train_targets), (test_data, test_targets) =  boston_housing.load_data()"
      ],
      "execution_count": 44,
      "outputs": [
        {
          "output_type": "stream",
          "text": [
            "Downloading data from https://s3.amazonaws.com/keras-datasets/boston_housing.npz\n",
            "57344/57026 [==============================] - 0s 0us/step\n"
          ],
          "name": "stdout"
        }
      ]
    },
    {
      "cell_type": "markdown",
      "metadata": {
        "id": "MMu7rz-K0ANM",
        "colab_type": "text"
      },
      "source": [
        "#### Preprocessing\n",
        "* Neural nets work a lot better if we normalize the features first. \n",
        "* Keras has no built-in support so we have to do this manually (or with scikit-learn)\n",
        "    - Again, be careful not to look at the test data during normalization\n",
        "    "
      ]
    },
    {
      "cell_type": "code",
      "metadata": {
        "id": "nY-GEsLkz6Rc",
        "colab_type": "code",
        "colab": {}
      },
      "source": [
        "mean, std = train_data.mean(axis=0), train_data.std(axis=0)\n",
        "train_data -= mean\n",
        "train_data /= std\n",
        "\n",
        "test_data -= mean\n",
        "test_data /= std"
      ],
      "execution_count": 0,
      "outputs": []
    },
    {
      "cell_type": "markdown",
      "metadata": {
        "id": "1bxf4ejf0GJK",
        "colab_type": "text"
      },
      "source": [
        "#### Building the network\n",
        "* This is a small dataset, so easy to overfit\n",
        "    * We use 2 hidden layers of 64 units each\n",
        "* Use smaller batches, more epochs\n",
        "* Since we want scalar output, the output layer is one unit without activation\n",
        "* Loss function is Mean Squared Error (bigger penalty)\n",
        "* Evaluation metric is Mean Absolute Error (more interpretable)\n",
        "* We will also use cross-validation, so we wrap the model building in a function, so that we can call it multiple times\n",
        "\n",
        "1. Create a function build_model that returns the neural network model described above"
      ]
    },
    {
      "cell_type": "code",
      "metadata": {
        "id": "3WizfaXv0C0W",
        "colab_type": "code",
        "colab": {}
      },
      "source": [
        "\n",
        "def build_model():\n",
        "    model = models.Sequential()\n",
        "    model.add(layers.Dense(64, activation='relu',\n",
        "                           input_shape=(train_data.shape[1],)))\n",
        "    model.add(layers.Dense(64, activation='relu'))\n",
        "    model.add(layers.Dense(1))\n",
        "    model.compile(optimizer='rmsprop', loss='mse', metrics=['mae'])\n",
        "    return model"
      ],
      "execution_count": 0,
      "outputs": []
    },
    {
      "cell_type": "markdown",
      "metadata": {
        "id": "ZUcGnylW0L9x",
        "colab_type": "text"
      },
      "source": [
        "#### Cross-validation\n",
        "* Keras does not have support for cross-validation\n",
        "* We can implement cross-validation ourselves (seeprovided code below)\n",
        "* Alternatively, we can wrap a Keras model as a scikit-learn estimator\n",
        "* Generally speaking, cross-validation is tricky with neural nets\n",
        "    * Some fold may not converge, or fluctuate on random initialization\n",
        "    "
      ]
    },
    {
      "cell_type": "code",
      "metadata": {
        "id": "DFeE1I0M0JED",
        "colab_type": "code",
        "colab": {
          "base_uri": "https://localhost:8080/",
          "height": 85
        },
        "outputId": "60243980-0c96-4cb0-8a46-657fdecb4cf1"
      },
      "source": [
        "import numpy as np\n",
        "\n",
        "k = 4\n",
        "num_val_samples = len(train_data) // k\n",
        "num_epochs = 20\n",
        "all_scores = []\n",
        "for i in range(k):\n",
        "    print('processing fold #', i)\n",
        "    # Prepare the validation data: data from partition # k\n",
        "    val_data = train_data[i * num_val_samples: (i + 1) * num_val_samples]\n",
        "    val_targets = train_targets[i * num_val_samples: (i + 1) * num_val_samples]\n",
        "\n",
        "    # Prepare the training data: data from all other partitions\n",
        "    partial_train_data = np.concatenate(\n",
        "        [train_data[:i * num_val_samples],\n",
        "         train_data[(i + 1) * num_val_samples:]],\n",
        "        axis=0)\n",
        "    partial_train_targets = np.concatenate(\n",
        "        [train_targets[:i * num_val_samples],\n",
        "         train_targets[(i + 1) * num_val_samples:]],\n",
        "        axis=0)\n",
        "\n",
        "    # Build the Keras model (already compiled)\n",
        "    model = build_model()\n",
        "    # Train the model (in silent mode, verbose=0)\n",
        "    model.fit(partial_train_data, partial_train_targets,\n",
        "              epochs=num_epochs, batch_size=1, verbose=0)\n",
        "    # Evaluate the model on the validation data\n",
        "    val_mse, val_mae = model.evaluate(val_data, val_targets, verbose=2)\n",
        "    all_scores.append(val_mae)"
      ],
      "execution_count": 47,
      "outputs": [
        {
          "output_type": "stream",
          "text": [
            "processing fold # 0\n",
            "processing fold # 1\n",
            "processing fold # 2\n",
            "processing fold # 3\n"
          ],
          "name": "stdout"
        }
      ]
    },
    {
      "cell_type": "markdown",
      "metadata": {
        "id": "bYySYp2D0Xmu",
        "colab_type": "text"
      },
      "source": [
        "1. Train for longer (200 epochs) and keep track of loss after every epoch. Plot and describe the loss as a function of epoch number."
      ]
    },
    {
      "cell_type": "code",
      "metadata": {
        "id": "0tyTv_0a0SuQ",
        "colab_type": "code",
        "colab": {
          "base_uri": "https://localhost:8080/",
          "height": 1000
        },
        "outputId": "3e658fc0-49b8-4180-921f-21b9582ff286"
      },
      "source": [
        "from keras import backend as K\n",
        "K.clear_session() # Memory clean-up\n",
        "\n",
        "num_epochs = 200\n",
        "all_mae_histories = []\n",
        "for i in range(k):\n",
        "    print('processing fold #', i)\n",
        "    # Prepare the validation data: data from partition # k\n",
        "    val_data = train_data[i * num_val_samples: (i + 1) * num_val_samples]\n",
        "    val_targets = train_targets[i * num_val_samples: (i + 1) * num_val_samples]\n",
        "\n",
        "    # Prepare the training data: data from all other partitions\n",
        "    partial_train_data = np.concatenate(\n",
        "        [train_data[:i * num_val_samples],\n",
        "         train_data[(i + 1) * num_val_samples:]],\n",
        "        axis=0)\n",
        "    partial_train_targets = np.concatenate(\n",
        "        [train_targets[:i * num_val_samples],\n",
        "         train_targets[(i + 1) * num_val_samples:]],\n",
        "        axis=0)\n",
        "\n",
        "    # Build the Keras model (already compiled)\n",
        "    model = build_model()\n",
        "    # Train the model (in silent mode, verbose=0)\n",
        "    history = model.fit(partial_train_data, partial_train_targets,\n",
        "                        validation_data=(val_data, val_targets),\n",
        "                        epochs=num_epochs, batch_size=1, verbose=2)\n",
        "    mae_history = history.history['val_loss']\n",
        "    all_mae_histories.append(mae_history)"
      ],
      "execution_count": 48,
      "outputs": [
        {
          "output_type": "stream",
          "text": [
            "WARNING:tensorflow:From /usr/local/lib/python3.6/dist-packages/keras/backend/tensorflow_backend.py:107: The name tf.reset_default_graph is deprecated. Please use tf.compat.v1.reset_default_graph instead.\n",
            "\n",
            "processing fold # 0\n",
            "Train on 303 samples, validate on 101 samples\n",
            "Epoch 1/200\n",
            " - 0s - loss: 189.9686 - mean_absolute_error: 10.2820 - val_loss: 45.4269 - val_mean_absolute_error: 4.5361\n",
            "Epoch 2/200\n",
            " - 0s - loss: 32.6945 - mean_absolute_error: 3.9171 - val_loss: 25.6270 - val_mean_absolute_error: 3.1572\n",
            "Epoch 3/200\n",
            " - 0s - loss: 21.9913 - mean_absolute_error: 3.2129 - val_loss: 17.1690 - val_mean_absolute_error: 2.7492\n",
            "Epoch 4/200\n",
            " - 0s - loss: 17.8256 - mean_absolute_error: 2.8444 - val_loss: 15.6810 - val_mean_absolute_error: 2.4427\n",
            "Epoch 5/200\n",
            " - 0s - loss: 16.7528 - mean_absolute_error: 2.7110 - val_loss: 13.1034 - val_mean_absolute_error: 2.5227\n",
            "Epoch 6/200\n",
            " - 0s - loss: 14.5973 - mean_absolute_error: 2.5656 - val_loss: 12.2128 - val_mean_absolute_error: 2.3550\n",
            "Epoch 7/200\n",
            " - 0s - loss: 13.5475 - mean_absolute_error: 2.5213 - val_loss: 10.4911 - val_mean_absolute_error: 2.1149\n",
            "Epoch 8/200\n",
            " - 0s - loss: 13.5176 - mean_absolute_error: 2.4413 - val_loss: 10.4142 - val_mean_absolute_error: 2.2618\n",
            "Epoch 9/200\n",
            " - 0s - loss: 12.5825 - mean_absolute_error: 2.4216 - val_loss: 9.4851 - val_mean_absolute_error: 2.2712\n",
            "Epoch 10/200\n",
            " - 0s - loss: 11.4542 - mean_absolute_error: 2.3256 - val_loss: 9.2735 - val_mean_absolute_error: 2.0271\n",
            "Epoch 11/200\n",
            " - 0s - loss: 11.8810 - mean_absolute_error: 2.3363 - val_loss: 9.9425 - val_mean_absolute_error: 2.3187\n",
            "Epoch 12/200\n",
            " - 0s - loss: 11.5659 - mean_absolute_error: 2.2508 - val_loss: 8.5358 - val_mean_absolute_error: 1.9322\n",
            "Epoch 13/200\n",
            " - 0s - loss: 11.5846 - mean_absolute_error: 2.2350 - val_loss: 9.0026 - val_mean_absolute_error: 1.9906\n",
            "Epoch 14/200\n",
            " - 0s - loss: 10.8547 - mean_absolute_error: 2.2086 - val_loss: 7.8988 - val_mean_absolute_error: 1.9435\n",
            "Epoch 15/200\n",
            " - 0s - loss: 10.6382 - mean_absolute_error: 2.1832 - val_loss: 9.4073 - val_mean_absolute_error: 2.2685\n",
            "Epoch 16/200\n",
            " - 0s - loss: 9.9693 - mean_absolute_error: 2.1510 - val_loss: 8.0740 - val_mean_absolute_error: 1.8726\n",
            "Epoch 17/200\n",
            " - 0s - loss: 10.4341 - mean_absolute_error: 2.1544 - val_loss: 9.1905 - val_mean_absolute_error: 2.4025\n",
            "Epoch 18/200\n",
            " - 0s - loss: 10.0309 - mean_absolute_error: 2.1360 - val_loss: 8.7294 - val_mean_absolute_error: 2.0390\n",
            "Epoch 19/200\n",
            " - 0s - loss: 9.9464 - mean_absolute_error: 2.1060 - val_loss: 8.8759 - val_mean_absolute_error: 2.0485\n",
            "Epoch 20/200\n",
            " - 0s - loss: 9.2579 - mean_absolute_error: 2.0355 - val_loss: 7.8379 - val_mean_absolute_error: 1.8891\n",
            "Epoch 21/200\n",
            " - 0s - loss: 9.4398 - mean_absolute_error: 2.0252 - val_loss: 7.7263 - val_mean_absolute_error: 1.9628\n",
            "Epoch 22/200\n",
            " - 0s - loss: 8.9932 - mean_absolute_error: 2.0172 - val_loss: 7.9126 - val_mean_absolute_error: 1.8271\n",
            "Epoch 23/200\n",
            " - 0s - loss: 9.1102 - mean_absolute_error: 2.0077 - val_loss: 7.3848 - val_mean_absolute_error: 1.8440\n",
            "Epoch 24/200\n",
            " - 0s - loss: 9.3576 - mean_absolute_error: 2.0585 - val_loss: 7.9221 - val_mean_absolute_error: 1.8903\n",
            "Epoch 25/200\n",
            " - 0s - loss: 9.0443 - mean_absolute_error: 1.9850 - val_loss: 10.4074 - val_mean_absolute_error: 2.4311\n",
            "Epoch 26/200\n",
            " - 0s - loss: 8.3580 - mean_absolute_error: 1.9671 - val_loss: 9.9938 - val_mean_absolute_error: 2.3176\n",
            "Epoch 27/200\n",
            " - 0s - loss: 8.5117 - mean_absolute_error: 1.9249 - val_loss: 8.2816 - val_mean_absolute_error: 2.3214\n",
            "Epoch 28/200\n",
            " - 0s - loss: 8.4366 - mean_absolute_error: 1.9572 - val_loss: 8.4932 - val_mean_absolute_error: 2.2587\n",
            "Epoch 29/200\n",
            " - 0s - loss: 8.2562 - mean_absolute_error: 1.9356 - val_loss: 7.2621 - val_mean_absolute_error: 1.8614\n",
            "Epoch 30/200\n",
            " - 0s - loss: 8.0531 - mean_absolute_error: 1.9165 - val_loss: 8.1139 - val_mean_absolute_error: 1.9220\n",
            "Epoch 31/200\n",
            " - 0s - loss: 7.7790 - mean_absolute_error: 1.8368 - val_loss: 10.0812 - val_mean_absolute_error: 2.2377\n",
            "Epoch 32/200\n",
            " - 0s - loss: 8.0676 - mean_absolute_error: 1.9555 - val_loss: 7.3402 - val_mean_absolute_error: 2.0478\n",
            "Epoch 33/200\n",
            " - 0s - loss: 8.0188 - mean_absolute_error: 1.8467 - val_loss: 8.8610 - val_mean_absolute_error: 2.3174\n",
            "Epoch 34/200\n",
            " - 0s - loss: 7.9926 - mean_absolute_error: 1.8829 - val_loss: 8.2570 - val_mean_absolute_error: 2.2423\n",
            "Epoch 35/200\n",
            " - 0s - loss: 7.7153 - mean_absolute_error: 1.8111 - val_loss: 7.6079 - val_mean_absolute_error: 1.8699\n",
            "Epoch 36/200\n",
            " - 0s - loss: 7.9024 - mean_absolute_error: 1.8180 - val_loss: 8.7189 - val_mean_absolute_error: 2.0199\n",
            "Epoch 37/200\n",
            " - 0s - loss: 7.5157 - mean_absolute_error: 1.8760 - val_loss: 7.3072 - val_mean_absolute_error: 1.9354\n",
            "Epoch 38/200\n",
            " - 0s - loss: 7.5364 - mean_absolute_error: 1.8411 - val_loss: 8.0373 - val_mean_absolute_error: 1.9310\n",
            "Epoch 39/200\n",
            " - 0s - loss: 7.5335 - mean_absolute_error: 1.8456 - val_loss: 7.9497 - val_mean_absolute_error: 1.9598\n",
            "Epoch 40/200\n",
            " - 0s - loss: 7.3589 - mean_absolute_error: 1.7694 - val_loss: 8.9551 - val_mean_absolute_error: 2.1753\n",
            "Epoch 41/200\n",
            " - 0s - loss: 7.1903 - mean_absolute_error: 1.8071 - val_loss: 7.5630 - val_mean_absolute_error: 1.8888\n",
            "Epoch 42/200\n",
            " - 0s - loss: 7.3918 - mean_absolute_error: 1.7987 - val_loss: 9.0732 - val_mean_absolute_error: 2.2953\n",
            "Epoch 43/200\n",
            " - 0s - loss: 6.8450 - mean_absolute_error: 1.7706 - val_loss: 12.4124 - val_mean_absolute_error: 2.8136\n",
            "Epoch 44/200\n",
            " - 0s - loss: 6.7218 - mean_absolute_error: 1.7571 - val_loss: 7.0632 - val_mean_absolute_error: 1.7950\n",
            "Epoch 45/200\n",
            " - 0s - loss: 7.0996 - mean_absolute_error: 1.7771 - val_loss: 7.5505 - val_mean_absolute_error: 2.1713\n",
            "Epoch 46/200\n",
            " - 0s - loss: 6.9744 - mean_absolute_error: 1.7417 - val_loss: 8.1704 - val_mean_absolute_error: 1.9461\n",
            "Epoch 47/200\n",
            " - 0s - loss: 6.6943 - mean_absolute_error: 1.7130 - val_loss: 8.3041 - val_mean_absolute_error: 2.0390\n",
            "Epoch 48/200\n",
            " - 0s - loss: 6.4132 - mean_absolute_error: 1.7000 - val_loss: 9.2853 - val_mean_absolute_error: 2.0187\n",
            "Epoch 49/200\n",
            " - 0s - loss: 6.7753 - mean_absolute_error: 1.6788 - val_loss: 7.8197 - val_mean_absolute_error: 1.8786\n",
            "Epoch 50/200\n",
            " - 0s - loss: 5.9810 - mean_absolute_error: 1.6080 - val_loss: 8.5257 - val_mean_absolute_error: 2.4036\n",
            "Epoch 51/200\n",
            " - 0s - loss: 6.4268 - mean_absolute_error: 1.7051 - val_loss: 8.7514 - val_mean_absolute_error: 1.9577\n",
            "Epoch 52/200\n",
            " - 0s - loss: 6.3810 - mean_absolute_error: 1.7010 - val_loss: 8.3042 - val_mean_absolute_error: 2.0520\n",
            "Epoch 53/200\n",
            " - 0s - loss: 6.0234 - mean_absolute_error: 1.6402 - val_loss: 8.2710 - val_mean_absolute_error: 2.1538\n",
            "Epoch 54/200\n",
            " - 0s - loss: 6.3706 - mean_absolute_error: 1.6795 - val_loss: 8.4949 - val_mean_absolute_error: 2.2314\n",
            "Epoch 55/200\n",
            " - 0s - loss: 6.1218 - mean_absolute_error: 1.6464 - val_loss: 7.4527 - val_mean_absolute_error: 2.0654\n",
            "Epoch 56/200\n",
            " - 0s - loss: 6.1259 - mean_absolute_error: 1.6579 - val_loss: 8.9054 - val_mean_absolute_error: 2.0471\n",
            "Epoch 57/200\n",
            " - 0s - loss: 6.2571 - mean_absolute_error: 1.6157 - val_loss: 7.0607 - val_mean_absolute_error: 2.0143\n",
            "Epoch 58/200\n",
            " - 0s - loss: 5.7048 - mean_absolute_error: 1.6581 - val_loss: 7.4543 - val_mean_absolute_error: 1.9274\n",
            "Epoch 59/200\n",
            " - 0s - loss: 5.7652 - mean_absolute_error: 1.5793 - val_loss: 8.9029 - val_mean_absolute_error: 2.4060\n",
            "Epoch 60/200\n",
            " - 0s - loss: 5.9425 - mean_absolute_error: 1.6485 - val_loss: 7.7536 - val_mean_absolute_error: 1.8523\n",
            "Epoch 61/200\n",
            " - 0s - loss: 6.0638 - mean_absolute_error: 1.6120 - val_loss: 7.5267 - val_mean_absolute_error: 2.0946\n",
            "Epoch 62/200\n",
            " - 0s - loss: 5.8544 - mean_absolute_error: 1.6561 - val_loss: 7.7436 - val_mean_absolute_error: 1.9934\n",
            "Epoch 63/200\n",
            " - 0s - loss: 5.6392 - mean_absolute_error: 1.6225 - val_loss: 7.3245 - val_mean_absolute_error: 1.9361\n",
            "Epoch 64/200\n",
            " - 0s - loss: 5.6134 - mean_absolute_error: 1.5916 - val_loss: 7.3649 - val_mean_absolute_error: 1.8529\n",
            "Epoch 65/200\n",
            " - 0s - loss: 5.9049 - mean_absolute_error: 1.6036 - val_loss: 8.7610 - val_mean_absolute_error: 1.9847\n",
            "Epoch 66/200\n",
            " - 0s - loss: 5.6756 - mean_absolute_error: 1.5923 - val_loss: 7.8165 - val_mean_absolute_error: 1.9675\n",
            "Epoch 67/200\n",
            " - 0s - loss: 5.7326 - mean_absolute_error: 1.5605 - val_loss: 8.0778 - val_mean_absolute_error: 2.1844\n",
            "Epoch 68/200\n",
            " - 0s - loss: 5.7863 - mean_absolute_error: 1.6072 - val_loss: 7.7557 - val_mean_absolute_error: 1.9561\n",
            "Epoch 69/200\n",
            " - 0s - loss: 5.2480 - mean_absolute_error: 1.5040 - val_loss: 7.8188 - val_mean_absolute_error: 2.1615\n",
            "Epoch 70/200\n",
            " - 0s - loss: 5.4688 - mean_absolute_error: 1.6033 - val_loss: 7.3652 - val_mean_absolute_error: 2.1640\n",
            "Epoch 71/200\n",
            " - 0s - loss: 5.4675 - mean_absolute_error: 1.5300 - val_loss: 8.2673 - val_mean_absolute_error: 2.2216\n",
            "Epoch 72/200\n",
            " - 0s - loss: 5.3087 - mean_absolute_error: 1.6099 - val_loss: 9.0318 - val_mean_absolute_error: 2.2558\n",
            "Epoch 73/200\n",
            " - 0s - loss: 5.3153 - mean_absolute_error: 1.5685 - val_loss: 10.1655 - val_mean_absolute_error: 2.4397\n",
            "Epoch 74/200\n",
            " - 0s - loss: 5.1431 - mean_absolute_error: 1.5407 - val_loss: 9.4925 - val_mean_absolute_error: 2.1160\n",
            "Epoch 75/200\n",
            " - 0s - loss: 5.7413 - mean_absolute_error: 1.5932 - val_loss: 7.4473 - val_mean_absolute_error: 1.9684\n",
            "Epoch 76/200\n",
            " - 0s - loss: 5.0304 - mean_absolute_error: 1.5140 - val_loss: 10.3876 - val_mean_absolute_error: 2.5652\n",
            "Epoch 77/200\n",
            " - 0s - loss: 5.5389 - mean_absolute_error: 1.5895 - val_loss: 7.8818 - val_mean_absolute_error: 2.2281\n",
            "Epoch 78/200\n",
            " - 0s - loss: 5.3782 - mean_absolute_error: 1.5492 - val_loss: 7.5301 - val_mean_absolute_error: 2.0033\n",
            "Epoch 79/200\n",
            " - 0s - loss: 4.8617 - mean_absolute_error: 1.5741 - val_loss: 7.5756 - val_mean_absolute_error: 2.1658\n",
            "Epoch 80/200\n",
            " - 0s - loss: 5.0952 - mean_absolute_error: 1.5429 - val_loss: 7.4731 - val_mean_absolute_error: 2.0373\n",
            "Epoch 81/200\n",
            " - 0s - loss: 5.3268 - mean_absolute_error: 1.5284 - val_loss: 7.7430 - val_mean_absolute_error: 2.0290\n",
            "Epoch 82/200\n",
            " - 0s - loss: 4.8426 - mean_absolute_error: 1.4705 - val_loss: 10.2045 - val_mean_absolute_error: 2.3762\n",
            "Epoch 83/200\n",
            " - 0s - loss: 4.8782 - mean_absolute_error: 1.5227 - val_loss: 8.5175 - val_mean_absolute_error: 2.2354\n",
            "Epoch 84/200\n",
            " - 0s - loss: 5.0913 - mean_absolute_error: 1.5537 - val_loss: 8.3569 - val_mean_absolute_error: 2.0843\n",
            "Epoch 85/200\n",
            " - 0s - loss: 4.9947 - mean_absolute_error: 1.5100 - val_loss: 7.6736 - val_mean_absolute_error: 1.9904\n",
            "Epoch 86/200\n",
            " - 0s - loss: 5.0906 - mean_absolute_error: 1.5438 - val_loss: 7.2570 - val_mean_absolute_error: 1.9550\n",
            "Epoch 87/200\n",
            " - 0s - loss: 4.7450 - mean_absolute_error: 1.5244 - val_loss: 6.7830 - val_mean_absolute_error: 1.8925\n",
            "Epoch 88/200\n",
            " - 0s - loss: 4.6666 - mean_absolute_error: 1.5162 - val_loss: 9.8784 - val_mean_absolute_error: 2.1020\n",
            "Epoch 89/200\n",
            " - 0s - loss: 4.5802 - mean_absolute_error: 1.4594 - val_loss: 10.4694 - val_mean_absolute_error: 2.4423\n",
            "Epoch 90/200\n",
            " - 0s - loss: 4.5476 - mean_absolute_error: 1.5117 - val_loss: 8.4907 - val_mean_absolute_error: 2.0721\n",
            "Epoch 91/200\n",
            " - 0s - loss: 4.8174 - mean_absolute_error: 1.5006 - val_loss: 7.9730 - val_mean_absolute_error: 2.2551\n",
            "Epoch 92/200\n",
            " - 0s - loss: 4.8011 - mean_absolute_error: 1.4509 - val_loss: 8.7836 - val_mean_absolute_error: 2.2374\n",
            "Epoch 93/200\n",
            " - 0s - loss: 4.7818 - mean_absolute_error: 1.4266 - val_loss: 7.9998 - val_mean_absolute_error: 2.2050\n",
            "Epoch 94/200\n",
            " - 0s - loss: 4.5301 - mean_absolute_error: 1.4635 - val_loss: 8.4389 - val_mean_absolute_error: 2.1280\n",
            "Epoch 95/200\n",
            " - 0s - loss: 4.4541 - mean_absolute_error: 1.4617 - val_loss: 8.0152 - val_mean_absolute_error: 2.1231\n",
            "Epoch 96/200\n",
            " - 0s - loss: 4.3923 - mean_absolute_error: 1.4582 - val_loss: 9.3187 - val_mean_absolute_error: 2.3237\n",
            "Epoch 97/200\n",
            " - 0s - loss: 4.5620 - mean_absolute_error: 1.4736 - val_loss: 8.2992 - val_mean_absolute_error: 2.0635\n",
            "Epoch 98/200\n",
            " - 0s - loss: 4.5006 - mean_absolute_error: 1.4646 - val_loss: 9.8062 - val_mean_absolute_error: 2.1448\n",
            "Epoch 99/200\n",
            " - 0s - loss: 4.2627 - mean_absolute_error: 1.4417 - val_loss: 7.3978 - val_mean_absolute_error: 2.0780\n",
            "Epoch 100/200\n",
            " - 0s - loss: 4.4023 - mean_absolute_error: 1.4622 - val_loss: 8.6819 - val_mean_absolute_error: 2.3466\n",
            "Epoch 101/200\n",
            " - 0s - loss: 4.3485 - mean_absolute_error: 1.3899 - val_loss: 9.2904 - val_mean_absolute_error: 2.1846\n",
            "Epoch 102/200\n",
            " - 0s - loss: 4.4786 - mean_absolute_error: 1.4776 - val_loss: 8.9108 - val_mean_absolute_error: 2.0411\n",
            "Epoch 103/200\n",
            " - 0s - loss: 4.2101 - mean_absolute_error: 1.3862 - val_loss: 10.2612 - val_mean_absolute_error: 2.2105\n",
            "Epoch 104/200\n",
            " - 0s - loss: 4.5726 - mean_absolute_error: 1.4525 - val_loss: 8.3524 - val_mean_absolute_error: 2.2130\n",
            "Epoch 105/200\n",
            " - 0s - loss: 4.3759 - mean_absolute_error: 1.4140 - val_loss: 7.5708 - val_mean_absolute_error: 1.9551\n",
            "Epoch 106/200\n",
            " - 0s - loss: 4.2969 - mean_absolute_error: 1.4170 - val_loss: 9.2692 - val_mean_absolute_error: 2.0810\n",
            "Epoch 107/200\n",
            " - 0s - loss: 4.1320 - mean_absolute_error: 1.3913 - val_loss: 9.8940 - val_mean_absolute_error: 2.1260\n",
            "Epoch 108/200\n",
            " - 0s - loss: 4.1429 - mean_absolute_error: 1.3869 - val_loss: 8.7310 - val_mean_absolute_error: 1.9538\n",
            "Epoch 109/200\n",
            " - 0s - loss: 4.3717 - mean_absolute_error: 1.3733 - val_loss: 9.7697 - val_mean_absolute_error: 2.2524\n",
            "Epoch 110/200\n",
            " - 0s - loss: 3.9625 - mean_absolute_error: 1.3885 - val_loss: 8.3851 - val_mean_absolute_error: 2.0810\n",
            "Epoch 111/200\n",
            " - 0s - loss: 4.3234 - mean_absolute_error: 1.3900 - val_loss: 11.6360 - val_mean_absolute_error: 2.7802\n",
            "Epoch 112/200\n",
            " - 0s - loss: 4.2907 - mean_absolute_error: 1.4002 - val_loss: 8.2285 - val_mean_absolute_error: 1.9998\n",
            "Epoch 113/200\n",
            " - 0s - loss: 4.1299 - mean_absolute_error: 1.3395 - val_loss: 7.9541 - val_mean_absolute_error: 1.9644\n",
            "Epoch 114/200\n",
            " - 0s - loss: 4.0673 - mean_absolute_error: 1.4164 - val_loss: 10.7768 - val_mean_absolute_error: 2.1924\n",
            "Epoch 115/200\n",
            " - 0s - loss: 4.0564 - mean_absolute_error: 1.3614 - val_loss: 8.2472 - val_mean_absolute_error: 2.0349\n",
            "Epoch 116/200\n",
            " - 0s - loss: 3.8509 - mean_absolute_error: 1.4080 - val_loss: 10.0941 - val_mean_absolute_error: 2.2912\n",
            "Epoch 117/200\n",
            " - 0s - loss: 4.3017 - mean_absolute_error: 1.3791 - val_loss: 9.1620 - val_mean_absolute_error: 2.2635\n",
            "Epoch 118/200\n",
            " - 0s - loss: 3.8349 - mean_absolute_error: 1.3241 - val_loss: 7.5802 - val_mean_absolute_error: 2.0655\n",
            "Epoch 119/200\n",
            " - 0s - loss: 4.2820 - mean_absolute_error: 1.3846 - val_loss: 8.6761 - val_mean_absolute_error: 2.2906\n",
            "Epoch 120/200\n",
            " - 0s - loss: 3.8259 - mean_absolute_error: 1.3787 - val_loss: 8.9054 - val_mean_absolute_error: 2.3372\n",
            "Epoch 121/200\n",
            " - 0s - loss: 3.8069 - mean_absolute_error: 1.3690 - val_loss: 9.3270 - val_mean_absolute_error: 2.3431\n",
            "Epoch 122/200\n",
            " - 0s - loss: 3.7981 - mean_absolute_error: 1.3184 - val_loss: 7.8093 - val_mean_absolute_error: 2.0540\n",
            "Epoch 123/200\n",
            " - 0s - loss: 4.0821 - mean_absolute_error: 1.4740 - val_loss: 8.6367 - val_mean_absolute_error: 2.2310\n",
            "Epoch 124/200\n",
            " - 0s - loss: 3.7910 - mean_absolute_error: 1.3745 - val_loss: 9.0718 - val_mean_absolute_error: 2.3329\n",
            "Epoch 125/200\n",
            " - 0s - loss: 3.5618 - mean_absolute_error: 1.2962 - val_loss: 11.1365 - val_mean_absolute_error: 2.3119\n",
            "Epoch 126/200\n",
            " - 0s - loss: 3.9238 - mean_absolute_error: 1.3296 - val_loss: 9.1697 - val_mean_absolute_error: 2.2447\n",
            "Epoch 127/200\n",
            " - 0s - loss: 3.8023 - mean_absolute_error: 1.3457 - val_loss: 8.4219 - val_mean_absolute_error: 1.9392\n",
            "Epoch 128/200\n",
            " - 0s - loss: 3.7350 - mean_absolute_error: 1.3711 - val_loss: 8.2417 - val_mean_absolute_error: 2.1476\n",
            "Epoch 129/200\n",
            " - 0s - loss: 3.8288 - mean_absolute_error: 1.4183 - val_loss: 9.7713 - val_mean_absolute_error: 2.2452\n",
            "Epoch 130/200\n",
            " - 0s - loss: 3.7945 - mean_absolute_error: 1.3712 - val_loss: 8.0080 - val_mean_absolute_error: 2.0069\n",
            "Epoch 131/200\n",
            " - 0s - loss: 3.6773 - mean_absolute_error: 1.3244 - val_loss: 11.1389 - val_mean_absolute_error: 2.4105\n",
            "Epoch 132/200\n",
            " - 0s - loss: 3.7571 - mean_absolute_error: 1.3486 - val_loss: 9.7284 - val_mean_absolute_error: 2.1263\n",
            "Epoch 133/200\n",
            " - 0s - loss: 3.5971 - mean_absolute_error: 1.3554 - val_loss: 9.0318 - val_mean_absolute_error: 2.1202\n",
            "Epoch 134/200\n",
            " - 0s - loss: 3.8042 - mean_absolute_error: 1.3280 - val_loss: 7.5708 - val_mean_absolute_error: 2.0160\n",
            "Epoch 135/200\n",
            " - 0s - loss: 3.4244 - mean_absolute_error: 1.3330 - val_loss: 9.9127 - val_mean_absolute_error: 2.2739\n",
            "Epoch 136/200\n",
            " - 0s - loss: 3.7545 - mean_absolute_error: 1.3210 - val_loss: 8.1890 - val_mean_absolute_error: 2.1729\n",
            "Epoch 137/200\n",
            " - 0s - loss: 3.7495 - mean_absolute_error: 1.3195 - val_loss: 8.8945 - val_mean_absolute_error: 2.2727\n",
            "Epoch 138/200\n",
            " - 0s - loss: 3.9040 - mean_absolute_error: 1.3311 - val_loss: 7.4599 - val_mean_absolute_error: 2.1279\n",
            "Epoch 139/200\n",
            " - 0s - loss: 3.3601 - mean_absolute_error: 1.2484 - val_loss: 10.5502 - val_mean_absolute_error: 2.1278\n",
            "Epoch 140/200\n",
            " - 0s - loss: 3.2752 - mean_absolute_error: 1.2490 - val_loss: 8.9115 - val_mean_absolute_error: 2.0862\n",
            "Epoch 141/200\n",
            " - 0s - loss: 3.6498 - mean_absolute_error: 1.3310 - val_loss: 9.8378 - val_mean_absolute_error: 2.1820\n",
            "Epoch 142/200\n",
            " - 0s - loss: 3.5086 - mean_absolute_error: 1.2980 - val_loss: 8.6815 - val_mean_absolute_error: 2.1968\n",
            "Epoch 143/200\n",
            " - 0s - loss: 3.5521 - mean_absolute_error: 1.3121 - val_loss: 8.3380 - val_mean_absolute_error: 2.0448\n",
            "Epoch 144/200\n",
            " - 0s - loss: 2.9695 - mean_absolute_error: 1.2331 - val_loss: 8.8668 - val_mean_absolute_error: 2.1295\n",
            "Epoch 145/200\n",
            " - 0s - loss: 3.5577 - mean_absolute_error: 1.3800 - val_loss: 8.4007 - val_mean_absolute_error: 2.0847\n",
            "Epoch 146/200\n",
            " - 0s - loss: 3.5416 - mean_absolute_error: 1.3101 - val_loss: 9.7676 - val_mean_absolute_error: 2.3302\n",
            "Epoch 147/200\n",
            " - 0s - loss: 3.3149 - mean_absolute_error: 1.2827 - val_loss: 9.4097 - val_mean_absolute_error: 2.2897\n",
            "Epoch 148/200\n",
            " - 0s - loss: 3.4177 - mean_absolute_error: 1.3025 - val_loss: 10.3177 - val_mean_absolute_error: 2.3404\n",
            "Epoch 149/200\n",
            " - 0s - loss: 3.1417 - mean_absolute_error: 1.2952 - val_loss: 8.1207 - val_mean_absolute_error: 2.1058\n",
            "Epoch 150/200\n",
            " - 0s - loss: 3.3212 - mean_absolute_error: 1.2925 - val_loss: 9.8355 - val_mean_absolute_error: 2.3095\n",
            "Epoch 151/200\n",
            " - 0s - loss: 3.0531 - mean_absolute_error: 1.2277 - val_loss: 9.2915 - val_mean_absolute_error: 2.2960\n",
            "Epoch 152/200\n",
            " - 0s - loss: 3.4422 - mean_absolute_error: 1.3186 - val_loss: 9.5258 - val_mean_absolute_error: 2.1118\n",
            "Epoch 153/200\n",
            " - 0s - loss: 3.3038 - mean_absolute_error: 1.2362 - val_loss: 10.1595 - val_mean_absolute_error: 2.4628\n",
            "Epoch 154/200\n",
            " - 0s - loss: 3.0581 - mean_absolute_error: 1.2529 - val_loss: 13.2367 - val_mean_absolute_error: 2.6595\n",
            "Epoch 155/200\n",
            " - 0s - loss: 3.3886 - mean_absolute_error: 1.2968 - val_loss: 10.2314 - val_mean_absolute_error: 2.2911\n",
            "Epoch 156/200\n",
            " - 0s - loss: 3.1205 - mean_absolute_error: 1.2617 - val_loss: 9.8432 - val_mean_absolute_error: 2.0934\n",
            "Epoch 157/200\n",
            " - 0s - loss: 3.1064 - mean_absolute_error: 1.2721 - val_loss: 9.3277 - val_mean_absolute_error: 2.4119\n",
            "Epoch 158/200\n",
            " - 0s - loss: 3.5043 - mean_absolute_error: 1.3381 - val_loss: 8.9547 - val_mean_absolute_error: 2.0251\n",
            "Epoch 159/200\n",
            " - 0s - loss: 2.9490 - mean_absolute_error: 1.2017 - val_loss: 9.6293 - val_mean_absolute_error: 2.1133\n",
            "Epoch 160/200\n",
            " - 0s - loss: 2.9215 - mean_absolute_error: 1.2270 - val_loss: 11.1664 - val_mean_absolute_error: 2.3101\n",
            "Epoch 161/200\n",
            " - 0s - loss: 3.0315 - mean_absolute_error: 1.2745 - val_loss: 8.6056 - val_mean_absolute_error: 2.1136\n",
            "Epoch 162/200\n",
            " - 0s - loss: 3.2352 - mean_absolute_error: 1.2638 - val_loss: 9.2310 - val_mean_absolute_error: 2.3424\n",
            "Epoch 163/200\n",
            " - 0s - loss: 3.0459 - mean_absolute_error: 1.2565 - val_loss: 10.8621 - val_mean_absolute_error: 2.2732\n",
            "Epoch 164/200\n",
            " - 0s - loss: 2.8928 - mean_absolute_error: 1.1755 - val_loss: 9.4000 - val_mean_absolute_error: 2.2979\n",
            "Epoch 165/200\n",
            " - 0s - loss: 2.8674 - mean_absolute_error: 1.2270 - val_loss: 8.5493 - val_mean_absolute_error: 2.1810\n",
            "Epoch 166/200\n",
            " - 0s - loss: 3.0263 - mean_absolute_error: 1.2077 - val_loss: 9.1991 - val_mean_absolute_error: 2.3058\n",
            "Epoch 167/200\n",
            " - 0s - loss: 2.8695 - mean_absolute_error: 1.1785 - val_loss: 11.6529 - val_mean_absolute_error: 2.5390\n",
            "Epoch 168/200\n",
            " - 0s - loss: 3.1697 - mean_absolute_error: 1.2530 - val_loss: 9.7019 - val_mean_absolute_error: 2.1874\n",
            "Epoch 169/200\n",
            " - 0s - loss: 3.0272 - mean_absolute_error: 1.2085 - val_loss: 7.5042 - val_mean_absolute_error: 2.0439\n",
            "Epoch 170/200\n",
            " - 0s - loss: 3.1521 - mean_absolute_error: 1.2220 - val_loss: 9.2375 - val_mean_absolute_error: 2.2015\n",
            "Epoch 171/200\n",
            " - 0s - loss: 3.0902 - mean_absolute_error: 1.2379 - val_loss: 9.8367 - val_mean_absolute_error: 2.1413\n",
            "Epoch 172/200\n",
            " - 0s - loss: 2.7027 - mean_absolute_error: 1.1670 - val_loss: 8.9124 - val_mean_absolute_error: 2.1866\n",
            "Epoch 173/200\n",
            " - 0s - loss: 2.8675 - mean_absolute_error: 1.1914 - val_loss: 7.9054 - val_mean_absolute_error: 2.0859\n",
            "Epoch 174/200\n",
            " - 0s - loss: 3.1660 - mean_absolute_error: 1.2741 - val_loss: 8.5037 - val_mean_absolute_error: 2.2111\n",
            "Epoch 175/200\n",
            " - 0s - loss: 2.9795 - mean_absolute_error: 1.1936 - val_loss: 7.4300 - val_mean_absolute_error: 2.0001\n",
            "Epoch 176/200\n",
            " - 0s - loss: 2.9090 - mean_absolute_error: 1.2061 - val_loss: 9.9426 - val_mean_absolute_error: 2.2289\n",
            "Epoch 177/200\n",
            " - 0s - loss: 2.8664 - mean_absolute_error: 1.1998 - val_loss: 9.3412 - val_mean_absolute_error: 2.3095\n",
            "Epoch 178/200\n",
            " - 0s - loss: 3.0017 - mean_absolute_error: 1.1878 - val_loss: 7.6369 - val_mean_absolute_error: 2.0269\n",
            "Epoch 179/200\n",
            " - 0s - loss: 2.7506 - mean_absolute_error: 1.1853 - val_loss: 9.5215 - val_mean_absolute_error: 2.2597\n",
            "Epoch 180/200\n",
            " - 0s - loss: 2.7276 - mean_absolute_error: 1.1809 - val_loss: 9.4333 - val_mean_absolute_error: 2.2006\n",
            "Epoch 181/200\n",
            " - 0s - loss: 2.6668 - mean_absolute_error: 1.1752 - val_loss: 8.8919 - val_mean_absolute_error: 2.1550\n",
            "Epoch 182/200\n",
            " - 0s - loss: 2.8388 - mean_absolute_error: 1.1998 - val_loss: 9.0260 - val_mean_absolute_error: 2.1842\n",
            "Epoch 183/200\n",
            " - 0s - loss: 2.5540 - mean_absolute_error: 1.1706 - val_loss: 9.2591 - val_mean_absolute_error: 2.1811\n",
            "Epoch 184/200\n",
            " - 0s - loss: 2.4161 - mean_absolute_error: 1.1618 - val_loss: 9.9646 - val_mean_absolute_error: 2.4088\n",
            "Epoch 185/200\n",
            " - 0s - loss: 3.0608 - mean_absolute_error: 1.2514 - val_loss: 8.7899 - val_mean_absolute_error: 2.1408\n",
            "Epoch 186/200\n",
            " - 0s - loss: 2.6381 - mean_absolute_error: 1.1503 - val_loss: 10.4937 - val_mean_absolute_error: 2.3779\n",
            "Epoch 187/200\n",
            " - 0s - loss: 2.3990 - mean_absolute_error: 1.1518 - val_loss: 10.2084 - val_mean_absolute_error: 2.2683\n",
            "Epoch 188/200\n",
            " - 0s - loss: 2.4677 - mean_absolute_error: 1.1404 - val_loss: 8.9868 - val_mean_absolute_error: 2.2071\n",
            "Epoch 189/200\n",
            " - 0s - loss: 2.5794 - mean_absolute_error: 1.1440 - val_loss: 8.1224 - val_mean_absolute_error: 2.0679\n",
            "Epoch 190/200\n",
            " - 0s - loss: 2.6139 - mean_absolute_error: 1.1707 - val_loss: 10.8378 - val_mean_absolute_error: 2.2296\n",
            "Epoch 191/200\n",
            " - 0s - loss: 2.6126 - mean_absolute_error: 1.1435 - val_loss: 9.6109 - val_mean_absolute_error: 2.1905\n",
            "Epoch 192/200\n",
            " - 0s - loss: 2.5961 - mean_absolute_error: 1.1135 - val_loss: 9.4099 - val_mean_absolute_error: 2.2837\n",
            "Epoch 193/200\n",
            " - 0s - loss: 2.2696 - mean_absolute_error: 1.1185 - val_loss: 8.9171 - val_mean_absolute_error: 2.2239\n",
            "Epoch 194/200\n",
            " - 0s - loss: 2.4745 - mean_absolute_error: 1.1200 - val_loss: 10.4159 - val_mean_absolute_error: 2.4357\n",
            "Epoch 195/200\n",
            " - 0s - loss: 2.6628 - mean_absolute_error: 1.1592 - val_loss: 12.8876 - val_mean_absolute_error: 2.4569\n",
            "Epoch 196/200\n",
            " - 0s - loss: 2.4242 - mean_absolute_error: 1.1191 - val_loss: 14.1214 - val_mean_absolute_error: 2.5388\n",
            "Epoch 197/200\n",
            " - 0s - loss: 2.4178 - mean_absolute_error: 1.1467 - val_loss: 12.0192 - val_mean_absolute_error: 2.3517\n",
            "Epoch 198/200\n",
            " - 0s - loss: 2.1132 - mean_absolute_error: 1.0894 - val_loss: 12.1806 - val_mean_absolute_error: 2.7200\n",
            "Epoch 199/200\n",
            " - 0s - loss: 2.5542 - mean_absolute_error: 1.1285 - val_loss: 10.2321 - val_mean_absolute_error: 2.3022\n",
            "Epoch 200/200\n",
            " - 0s - loss: 2.2459 - mean_absolute_error: 1.1030 - val_loss: 10.1787 - val_mean_absolute_error: 2.3566\n",
            "processing fold # 1\n",
            "Train on 303 samples, validate on 101 samples\n",
            "Epoch 1/200\n",
            " - 1s - loss: 176.9950 - mean_absolute_error: 9.8505 - val_loss: 23.8051 - val_mean_absolute_error: 3.7621\n",
            "Epoch 2/200\n",
            " - 0s - loss: 26.4262 - mean_absolute_error: 3.5480 - val_loss: 19.5801 - val_mean_absolute_error: 3.3301\n",
            "Epoch 3/200\n",
            " - 0s - loss: 19.9372 - mean_absolute_error: 3.0099 - val_loss: 19.3804 - val_mean_absolute_error: 3.5000\n",
            "Epoch 4/200\n",
            " - 0s - loss: 17.1529 - mean_absolute_error: 2.7671 - val_loss: 13.2992 - val_mean_absolute_error: 2.7340\n",
            "Epoch 5/200\n",
            " - 0s - loss: 14.6996 - mean_absolute_error: 2.4667 - val_loss: 14.7586 - val_mean_absolute_error: 2.8844\n",
            "Epoch 6/200\n",
            " - 0s - loss: 13.6323 - mean_absolute_error: 2.4141 - val_loss: 14.6357 - val_mean_absolute_error: 2.9204\n",
            "Epoch 7/200\n",
            " - 0s - loss: 12.4320 - mean_absolute_error: 2.3785 - val_loss: 13.6243 - val_mean_absolute_error: 2.8035\n",
            "Epoch 8/200\n",
            " - 0s - loss: 11.8490 - mean_absolute_error: 2.3226 - val_loss: 13.6153 - val_mean_absolute_error: 2.8581\n",
            "Epoch 9/200\n",
            " - 0s - loss: 11.8280 - mean_absolute_error: 2.2265 - val_loss: 12.4037 - val_mean_absolute_error: 2.7611\n",
            "Epoch 10/200\n",
            " - 0s - loss: 11.2434 - mean_absolute_error: 2.1936 - val_loss: 11.5328 - val_mean_absolute_error: 2.6596\n",
            "Epoch 11/200\n",
            " - 0s - loss: 10.5090 - mean_absolute_error: 2.1671 - val_loss: 12.6715 - val_mean_absolute_error: 2.7696\n",
            "Epoch 12/200\n",
            " - 0s - loss: 10.2971 - mean_absolute_error: 2.1856 - val_loss: 12.1943 - val_mean_absolute_error: 2.6901\n",
            "Epoch 13/200\n",
            " - 0s - loss: 10.4751 - mean_absolute_error: 2.1584 - val_loss: 10.5004 - val_mean_absolute_error: 2.4913\n",
            "Epoch 14/200\n",
            " - 0s - loss: 9.8496 - mean_absolute_error: 2.1215 - val_loss: 11.1811 - val_mean_absolute_error: 2.6109\n",
            "Epoch 15/200\n",
            " - 0s - loss: 9.1504 - mean_absolute_error: 1.9978 - val_loss: 11.7506 - val_mean_absolute_error: 2.5973\n",
            "Epoch 16/200\n",
            " - 0s - loss: 9.6669 - mean_absolute_error: 2.0308 - val_loss: 12.1366 - val_mean_absolute_error: 2.7124\n",
            "Epoch 17/200\n",
            " - 0s - loss: 9.0247 - mean_absolute_error: 1.9420 - val_loss: 12.9994 - val_mean_absolute_error: 2.8062\n",
            "Epoch 18/200\n",
            " - 0s - loss: 9.0142 - mean_absolute_error: 2.0081 - val_loss: 12.7493 - val_mean_absolute_error: 2.7451\n",
            "Epoch 19/200\n",
            " - 0s - loss: 9.3005 - mean_absolute_error: 1.9912 - val_loss: 11.6191 - val_mean_absolute_error: 2.6310\n",
            "Epoch 20/200\n",
            " - 0s - loss: 8.6450 - mean_absolute_error: 1.9374 - val_loss: 13.3351 - val_mean_absolute_error: 2.8728\n",
            "Epoch 21/200\n",
            " - 0s - loss: 8.6493 - mean_absolute_error: 1.9851 - val_loss: 9.9510 - val_mean_absolute_error: 2.4208\n",
            "Epoch 22/200\n",
            " - 0s - loss: 8.1256 - mean_absolute_error: 1.8462 - val_loss: 9.6152 - val_mean_absolute_error: 2.3289\n",
            "Epoch 23/200\n",
            " - 0s - loss: 8.6450 - mean_absolute_error: 1.9404 - val_loss: 10.2070 - val_mean_absolute_error: 2.4279\n",
            "Epoch 24/200\n",
            " - 0s - loss: 8.7822 - mean_absolute_error: 1.9018 - val_loss: 9.3261 - val_mean_absolute_error: 2.2978\n",
            "Epoch 25/200\n",
            " - 0s - loss: 8.2691 - mean_absolute_error: 1.8873 - val_loss: 10.4487 - val_mean_absolute_error: 2.4772\n",
            "Epoch 26/200\n",
            " - 0s - loss: 8.0925 - mean_absolute_error: 1.8862 - val_loss: 10.4705 - val_mean_absolute_error: 2.5005\n",
            "Epoch 27/200\n",
            " - 0s - loss: 8.1050 - mean_absolute_error: 1.8870 - val_loss: 9.7035 - val_mean_absolute_error: 2.3531\n",
            "Epoch 28/200\n",
            " - 0s - loss: 7.8107 - mean_absolute_error: 1.8686 - val_loss: 8.8324 - val_mean_absolute_error: 2.2049\n",
            "Epoch 29/200\n",
            " - 0s - loss: 7.6289 - mean_absolute_error: 1.9035 - val_loss: 10.2706 - val_mean_absolute_error: 2.4799\n",
            "Epoch 30/200\n",
            " - 0s - loss: 7.3393 - mean_absolute_error: 1.7982 - val_loss: 9.3559 - val_mean_absolute_error: 2.3586\n",
            "Epoch 31/200\n",
            " - 0s - loss: 7.4489 - mean_absolute_error: 1.8035 - val_loss: 9.2049 - val_mean_absolute_error: 2.2409\n",
            "Epoch 32/200\n",
            " - 0s - loss: 7.5171 - mean_absolute_error: 1.8688 - val_loss: 11.5746 - val_mean_absolute_error: 2.5918\n",
            "Epoch 33/200\n",
            " - 0s - loss: 6.9753 - mean_absolute_error: 1.8089 - val_loss: 9.3080 - val_mean_absolute_error: 2.2646\n",
            "Epoch 34/200\n",
            " - 0s - loss: 6.9663 - mean_absolute_error: 1.7707 - val_loss: 9.8216 - val_mean_absolute_error: 2.4017\n",
            "Epoch 35/200\n",
            " - 0s - loss: 7.0955 - mean_absolute_error: 1.7571 - val_loss: 10.2055 - val_mean_absolute_error: 2.4118\n",
            "Epoch 36/200\n",
            " - 0s - loss: 6.9828 - mean_absolute_error: 1.7683 - val_loss: 15.4104 - val_mean_absolute_error: 3.0924\n",
            "Epoch 37/200\n",
            " - 0s - loss: 6.5862 - mean_absolute_error: 1.7317 - val_loss: 10.7819 - val_mean_absolute_error: 2.4765\n",
            "Epoch 38/200\n",
            " - 0s - loss: 6.6479 - mean_absolute_error: 1.7229 - val_loss: 10.5042 - val_mean_absolute_error: 2.4524\n",
            "Epoch 39/200\n",
            " - 0s - loss: 6.7940 - mean_absolute_error: 1.7510 - val_loss: 10.2681 - val_mean_absolute_error: 2.3848\n",
            "Epoch 40/200\n",
            " - 0s - loss: 6.4399 - mean_absolute_error: 1.7481 - val_loss: 15.5788 - val_mean_absolute_error: 2.9856\n",
            "Epoch 41/200\n",
            " - 0s - loss: 6.6443 - mean_absolute_error: 1.7329 - val_loss: 10.6938 - val_mean_absolute_error: 2.4909\n",
            "Epoch 42/200\n",
            " - 0s - loss: 6.3462 - mean_absolute_error: 1.6922 - val_loss: 9.8437 - val_mean_absolute_error: 2.3601\n",
            "Epoch 43/200\n",
            " - 0s - loss: 6.2053 - mean_absolute_error: 1.6776 - val_loss: 10.0740 - val_mean_absolute_error: 2.3756\n",
            "Epoch 44/200\n",
            " - 0s - loss: 6.1826 - mean_absolute_error: 1.6814 - val_loss: 10.3232 - val_mean_absolute_error: 2.4507\n",
            "Epoch 45/200\n",
            " - 0s - loss: 6.0118 - mean_absolute_error: 1.6912 - val_loss: 9.6628 - val_mean_absolute_error: 2.3212\n",
            "Epoch 46/200\n",
            " - 0s - loss: 5.7932 - mean_absolute_error: 1.6439 - val_loss: 10.2733 - val_mean_absolute_error: 2.3174\n",
            "Epoch 47/200\n",
            " - 0s - loss: 5.7646 - mean_absolute_error: 1.6708 - val_loss: 10.7119 - val_mean_absolute_error: 2.3649\n",
            "Epoch 48/200\n",
            " - 0s - loss: 5.6449 - mean_absolute_error: 1.6916 - val_loss: 8.9884 - val_mean_absolute_error: 2.2357\n",
            "Epoch 49/200\n",
            " - 0s - loss: 5.7222 - mean_absolute_error: 1.6418 - val_loss: 9.8618 - val_mean_absolute_error: 2.3140\n",
            "Epoch 50/200\n",
            " - 0s - loss: 6.0488 - mean_absolute_error: 1.6753 - val_loss: 10.3998 - val_mean_absolute_error: 2.3299\n",
            "Epoch 51/200\n",
            " - 0s - loss: 5.2796 - mean_absolute_error: 1.5278 - val_loss: 8.7104 - val_mean_absolute_error: 2.0663\n",
            "Epoch 52/200\n",
            " - 0s - loss: 5.4824 - mean_absolute_error: 1.6470 - val_loss: 11.0334 - val_mean_absolute_error: 2.4811\n",
            "Epoch 53/200\n",
            " - 0s - loss: 5.4264 - mean_absolute_error: 1.5883 - val_loss: 11.5873 - val_mean_absolute_error: 2.5542\n",
            "Epoch 54/200\n",
            " - 0s - loss: 5.4998 - mean_absolute_error: 1.5570 - val_loss: 13.1971 - val_mean_absolute_error: 2.7687\n",
            "Epoch 55/200\n",
            " - 0s - loss: 5.1122 - mean_absolute_error: 1.5932 - val_loss: 11.2247 - val_mean_absolute_error: 2.5778\n",
            "Epoch 56/200\n",
            " - 0s - loss: 4.9161 - mean_absolute_error: 1.5463 - val_loss: 9.8809 - val_mean_absolute_error: 2.2884\n",
            "Epoch 57/200\n",
            " - 0s - loss: 5.3901 - mean_absolute_error: 1.5542 - val_loss: 10.5017 - val_mean_absolute_error: 2.3486\n",
            "Epoch 58/200\n",
            " - 0s - loss: 5.2549 - mean_absolute_error: 1.5677 - val_loss: 10.6506 - val_mean_absolute_error: 2.3481\n",
            "Epoch 59/200\n",
            " - 0s - loss: 5.2918 - mean_absolute_error: 1.5620 - val_loss: 9.4293 - val_mean_absolute_error: 2.2746\n",
            "Epoch 60/200\n",
            " - 0s - loss: 5.3086 - mean_absolute_error: 1.5512 - val_loss: 11.8556 - val_mean_absolute_error: 2.3850\n",
            "Epoch 61/200\n",
            " - 0s - loss: 4.7732 - mean_absolute_error: 1.5098 - val_loss: 10.4288 - val_mean_absolute_error: 2.3152\n",
            "Epoch 62/200\n",
            " - 0s - loss: 4.8297 - mean_absolute_error: 1.5077 - val_loss: 12.8784 - val_mean_absolute_error: 2.5332\n",
            "Epoch 63/200\n",
            " - 0s - loss: 5.0025 - mean_absolute_error: 1.5415 - val_loss: 12.1831 - val_mean_absolute_error: 2.5981\n",
            "Epoch 64/200\n",
            " - 0s - loss: 4.4254 - mean_absolute_error: 1.4408 - val_loss: 24.6994 - val_mean_absolute_error: 3.9361\n",
            "Epoch 65/200\n",
            " - 0s - loss: 5.0444 - mean_absolute_error: 1.5264 - val_loss: 13.4740 - val_mean_absolute_error: 2.5457\n",
            "Epoch 66/200\n",
            " - 0s - loss: 4.8895 - mean_absolute_error: 1.5413 - val_loss: 16.3666 - val_mean_absolute_error: 2.9134\n",
            "Epoch 67/200\n",
            " - 0s - loss: 4.6160 - mean_absolute_error: 1.4784 - val_loss: 12.5917 - val_mean_absolute_error: 2.4485\n",
            "Epoch 68/200\n",
            " - 0s - loss: 4.4589 - mean_absolute_error: 1.4949 - val_loss: 12.1959 - val_mean_absolute_error: 2.3421\n",
            "Epoch 69/200\n",
            " - 0s - loss: 4.6611 - mean_absolute_error: 1.4946 - val_loss: 23.4451 - val_mean_absolute_error: 3.4614\n",
            "Epoch 70/200\n",
            " - 0s - loss: 4.3927 - mean_absolute_error: 1.4984 - val_loss: 17.9410 - val_mean_absolute_error: 2.9477\n",
            "Epoch 71/200\n",
            " - 0s - loss: 4.2342 - mean_absolute_error: 1.4590 - val_loss: 13.5731 - val_mean_absolute_error: 2.3993\n",
            "Epoch 72/200\n",
            " - 0s - loss: 4.4346 - mean_absolute_error: 1.4393 - val_loss: 11.2596 - val_mean_absolute_error: 2.2517\n",
            "Epoch 73/200\n",
            " - 0s - loss: 4.3907 - mean_absolute_error: 1.4516 - val_loss: 13.8803 - val_mean_absolute_error: 2.3922\n",
            "Epoch 74/200\n",
            " - 0s - loss: 4.0021 - mean_absolute_error: 1.4136 - val_loss: 13.6951 - val_mean_absolute_error: 2.5429\n",
            "Epoch 75/200\n",
            " - 0s - loss: 4.1410 - mean_absolute_error: 1.4607 - val_loss: 16.0637 - val_mean_absolute_error: 2.7708\n",
            "Epoch 76/200\n",
            " - 0s - loss: 4.0687 - mean_absolute_error: 1.4143 - val_loss: 11.2351 - val_mean_absolute_error: 2.3554\n",
            "Epoch 77/200\n",
            " - 0s - loss: 4.1467 - mean_absolute_error: 1.3690 - val_loss: 14.2904 - val_mean_absolute_error: 2.5440\n",
            "Epoch 78/200\n",
            " - 0s - loss: 4.3316 - mean_absolute_error: 1.4198 - val_loss: 14.6736 - val_mean_absolute_error: 2.7687\n",
            "Epoch 79/200\n",
            " - 0s - loss: 3.7565 - mean_absolute_error: 1.3896 - val_loss: 13.9138 - val_mean_absolute_error: 2.4326\n",
            "Epoch 80/200\n",
            " - 0s - loss: 4.2224 - mean_absolute_error: 1.4580 - val_loss: 14.2232 - val_mean_absolute_error: 2.5722\n",
            "Epoch 81/200\n",
            " - 0s - loss: 3.9013 - mean_absolute_error: 1.3795 - val_loss: 14.7738 - val_mean_absolute_error: 2.6287\n",
            "Epoch 82/200\n",
            " - 0s - loss: 3.9767 - mean_absolute_error: 1.4680 - val_loss: 19.6308 - val_mean_absolute_error: 2.8820\n",
            "Epoch 83/200\n",
            " - 0s - loss: 3.8769 - mean_absolute_error: 1.3622 - val_loss: 12.8600 - val_mean_absolute_error: 2.4616\n",
            "Epoch 84/200\n",
            " - 0s - loss: 3.7477 - mean_absolute_error: 1.3213 - val_loss: 19.5057 - val_mean_absolute_error: 2.8082\n",
            "Epoch 85/200\n",
            " - 0s - loss: 3.7582 - mean_absolute_error: 1.3676 - val_loss: 20.2998 - val_mean_absolute_error: 3.1147\n",
            "Epoch 86/200\n",
            " - 0s - loss: 3.6785 - mean_absolute_error: 1.3428 - val_loss: 15.4751 - val_mean_absolute_error: 2.9135\n",
            "Epoch 87/200\n",
            " - 0s - loss: 3.8066 - mean_absolute_error: 1.3773 - val_loss: 18.1124 - val_mean_absolute_error: 3.0127\n",
            "Epoch 88/200\n",
            " - 0s - loss: 3.5245 - mean_absolute_error: 1.3161 - val_loss: 16.1073 - val_mean_absolute_error: 2.9065\n",
            "Epoch 89/200\n",
            " - 0s - loss: 3.7169 - mean_absolute_error: 1.3542 - val_loss: 17.7162 - val_mean_absolute_error: 2.9365\n",
            "Epoch 90/200\n",
            " - 0s - loss: 3.5049 - mean_absolute_error: 1.2906 - val_loss: 14.8263 - val_mean_absolute_error: 2.6323\n",
            "Epoch 91/200\n",
            " - 0s - loss: 3.5205 - mean_absolute_error: 1.3042 - val_loss: 18.9597 - val_mean_absolute_error: 3.0198\n",
            "Epoch 92/200\n",
            " - 0s - loss: 3.6230 - mean_absolute_error: 1.3561 - val_loss: 13.6219 - val_mean_absolute_error: 2.4898\n",
            "Epoch 93/200\n",
            " - 0s - loss: 3.1020 - mean_absolute_error: 1.2835 - val_loss: 15.7914 - val_mean_absolute_error: 2.3435\n",
            "Epoch 94/200\n",
            " - 0s - loss: 3.3842 - mean_absolute_error: 1.3359 - val_loss: 20.0148 - val_mean_absolute_error: 2.9054\n",
            "Epoch 95/200\n",
            " - 0s - loss: 3.4407 - mean_absolute_error: 1.3211 - val_loss: 17.9545 - val_mean_absolute_error: 2.6816\n",
            "Epoch 96/200\n",
            " - 0s - loss: 3.2607 - mean_absolute_error: 1.2758 - val_loss: 18.9802 - val_mean_absolute_error: 2.8886\n",
            "Epoch 97/200\n",
            " - 0s - loss: 3.3116 - mean_absolute_error: 1.3670 - val_loss: 19.9975 - val_mean_absolute_error: 2.5770\n",
            "Epoch 98/200\n",
            " - 0s - loss: 3.2613 - mean_absolute_error: 1.2994 - val_loss: 18.7718 - val_mean_absolute_error: 2.6347\n",
            "Epoch 99/200\n",
            " - 0s - loss: 3.1965 - mean_absolute_error: 1.2851 - val_loss: 18.3727 - val_mean_absolute_error: 2.8417\n",
            "Epoch 100/200\n",
            " - 0s - loss: 3.4400 - mean_absolute_error: 1.3171 - val_loss: 25.9946 - val_mean_absolute_error: 3.0094\n",
            "Epoch 101/200\n",
            " - 0s - loss: 3.3678 - mean_absolute_error: 1.2811 - val_loss: 20.1077 - val_mean_absolute_error: 2.8596\n",
            "Epoch 102/200\n",
            " - 0s - loss: 3.3818 - mean_absolute_error: 1.2856 - val_loss: 21.2997 - val_mean_absolute_error: 2.6530\n",
            "Epoch 103/200\n",
            " - 0s - loss: 3.1130 - mean_absolute_error: 1.2573 - val_loss: 25.9456 - val_mean_absolute_error: 3.0848\n",
            "Epoch 104/200\n",
            " - 0s - loss: 2.9750 - mean_absolute_error: 1.1623 - val_loss: 20.6341 - val_mean_absolute_error: 2.7254\n",
            "Epoch 105/200\n",
            " - 0s - loss: 2.9897 - mean_absolute_error: 1.2065 - val_loss: 19.8376 - val_mean_absolute_error: 2.6537\n",
            "Epoch 106/200\n",
            " - 0s - loss: 2.9678 - mean_absolute_error: 1.2225 - val_loss: 28.8630 - val_mean_absolute_error: 3.1687\n",
            "Epoch 107/200\n",
            " - 0s - loss: 3.0098 - mean_absolute_error: 1.2744 - val_loss: 22.5904 - val_mean_absolute_error: 2.8002\n",
            "Epoch 108/200\n",
            " - 0s - loss: 3.1779 - mean_absolute_error: 1.2795 - val_loss: 16.1322 - val_mean_absolute_error: 2.5687\n",
            "Epoch 109/200\n",
            " - 0s - loss: 2.8526 - mean_absolute_error: 1.2160 - val_loss: 31.0830 - val_mean_absolute_error: 3.3317\n",
            "Epoch 110/200\n",
            " - 0s - loss: 2.9178 - mean_absolute_error: 1.1422 - val_loss: 20.6495 - val_mean_absolute_error: 2.9820\n",
            "Epoch 111/200\n",
            " - 0s - loss: 3.0745 - mean_absolute_error: 1.2291 - val_loss: 20.1193 - val_mean_absolute_error: 2.5556\n",
            "Epoch 112/200\n",
            " - 0s - loss: 2.7314 - mean_absolute_error: 1.1824 - val_loss: 21.1954 - val_mean_absolute_error: 2.9222\n",
            "Epoch 113/200\n",
            " - 0s - loss: 2.8899 - mean_absolute_error: 1.2009 - val_loss: 19.4995 - val_mean_absolute_error: 2.7672\n",
            "Epoch 114/200\n",
            " - 0s - loss: 2.9683 - mean_absolute_error: 1.2464 - val_loss: 24.9756 - val_mean_absolute_error: 2.9339\n",
            "Epoch 115/200\n",
            " - 0s - loss: 2.7886 - mean_absolute_error: 1.1738 - val_loss: 18.7433 - val_mean_absolute_error: 2.6212\n",
            "Epoch 116/200\n",
            " - 0s - loss: 3.0766 - mean_absolute_error: 1.2756 - val_loss: 18.7411 - val_mean_absolute_error: 2.6227\n",
            "Epoch 117/200\n",
            " - 0s - loss: 2.6617 - mean_absolute_error: 1.1978 - val_loss: 19.4697 - val_mean_absolute_error: 2.5658\n",
            "Epoch 118/200\n",
            " - 0s - loss: 2.7947 - mean_absolute_error: 1.1838 - val_loss: 24.1386 - val_mean_absolute_error: 2.9059\n",
            "Epoch 119/200\n",
            " - 0s - loss: 2.7525 - mean_absolute_error: 1.1837 - val_loss: 24.1566 - val_mean_absolute_error: 3.0961\n",
            "Epoch 120/200\n",
            " - 0s - loss: 2.7486 - mean_absolute_error: 1.2197 - val_loss: 24.1524 - val_mean_absolute_error: 2.8204\n",
            "Epoch 121/200\n",
            " - 0s - loss: 2.6514 - mean_absolute_error: 1.1490 - val_loss: 23.3934 - val_mean_absolute_error: 2.8928\n",
            "Epoch 122/200\n",
            " - 0s - loss: 2.7697 - mean_absolute_error: 1.2179 - val_loss: 19.3584 - val_mean_absolute_error: 2.6533\n",
            "Epoch 123/200\n",
            " - 0s - loss: 2.6340 - mean_absolute_error: 1.1796 - val_loss: 22.8310 - val_mean_absolute_error: 2.6394\n",
            "Epoch 124/200\n",
            " - 0s - loss: 2.5652 - mean_absolute_error: 1.1429 - val_loss: 22.3385 - val_mean_absolute_error: 2.5570\n",
            "Epoch 125/200\n",
            " - 0s - loss: 2.5425 - mean_absolute_error: 1.1747 - val_loss: 34.1756 - val_mean_absolute_error: 3.3312\n",
            "Epoch 126/200\n",
            " - 0s - loss: 2.5619 - mean_absolute_error: 1.1584 - val_loss: 23.2391 - val_mean_absolute_error: 3.3491\n",
            "Epoch 127/200\n",
            " - 0s - loss: 2.6725 - mean_absolute_error: 1.1389 - val_loss: 25.8480 - val_mean_absolute_error: 3.0724\n",
            "Epoch 128/200\n",
            " - 0s - loss: 2.4617 - mean_absolute_error: 1.1323 - val_loss: 22.7748 - val_mean_absolute_error: 2.9544\n",
            "Epoch 129/200\n",
            " - 0s - loss: 2.6106 - mean_absolute_error: 1.1857 - val_loss: 25.8000 - val_mean_absolute_error: 3.1138\n",
            "Epoch 130/200\n",
            " - 0s - loss: 2.5750 - mean_absolute_error: 1.1897 - val_loss: 26.5905 - val_mean_absolute_error: 2.8624\n",
            "Epoch 131/200\n",
            " - 0s - loss: 2.4775 - mean_absolute_error: 1.1384 - val_loss: 22.0523 - val_mean_absolute_error: 2.9782\n",
            "Epoch 132/200\n",
            " - 0s - loss: 2.5967 - mean_absolute_error: 1.1920 - val_loss: 21.4502 - val_mean_absolute_error: 2.9243\n",
            "Epoch 133/200\n",
            " - 0s - loss: 2.2861 - mean_absolute_error: 1.1185 - val_loss: 26.3869 - val_mean_absolute_error: 2.9424\n",
            "Epoch 134/200\n",
            " - 0s - loss: 2.3533 - mean_absolute_error: 1.1190 - val_loss: 29.6731 - val_mean_absolute_error: 2.8529\n",
            "Epoch 135/200\n",
            " - 0s - loss: 2.4542 - mean_absolute_error: 1.1542 - val_loss: 43.7749 - val_mean_absolute_error: 4.1595\n",
            "Epoch 136/200\n",
            " - 0s - loss: 2.3018 - mean_absolute_error: 1.1558 - val_loss: 20.5348 - val_mean_absolute_error: 2.6359\n",
            "Epoch 137/200\n",
            " - 0s - loss: 2.1026 - mean_absolute_error: 1.0781 - val_loss: 35.7772 - val_mean_absolute_error: 3.1593\n",
            "Epoch 138/200\n",
            " - 0s - loss: 2.5759 - mean_absolute_error: 1.1546 - val_loss: 25.9038 - val_mean_absolute_error: 2.9060\n",
            "Epoch 139/200\n",
            " - 0s - loss: 2.1989 - mean_absolute_error: 1.1080 - val_loss: 33.8002 - val_mean_absolute_error: 3.1033\n",
            "Epoch 140/200\n",
            " - 0s - loss: 2.4682 - mean_absolute_error: 1.1263 - val_loss: 35.5276 - val_mean_absolute_error: 2.9057\n",
            "Epoch 141/200\n",
            " - 0s - loss: 2.3834 - mean_absolute_error: 1.1289 - val_loss: 31.8461 - val_mean_absolute_error: 3.0848\n",
            "Epoch 142/200\n",
            " - 0s - loss: 2.2845 - mean_absolute_error: 1.0914 - val_loss: 29.5910 - val_mean_absolute_error: 2.9467\n",
            "Epoch 143/200\n",
            " - 0s - loss: 2.4312 - mean_absolute_error: 1.1208 - val_loss: 28.1467 - val_mean_absolute_error: 2.9463\n",
            "Epoch 144/200\n",
            " - 0s - loss: 2.0922 - mean_absolute_error: 1.0586 - val_loss: 35.3330 - val_mean_absolute_error: 3.3268\n",
            "Epoch 145/200\n",
            " - 0s - loss: 2.0942 - mean_absolute_error: 1.0539 - val_loss: 26.7190 - val_mean_absolute_error: 2.7411\n",
            "Epoch 146/200\n",
            " - 0s - loss: 2.0750 - mean_absolute_error: 1.0369 - val_loss: 41.0260 - val_mean_absolute_error: 3.4145\n",
            "Epoch 147/200\n",
            " - 0s - loss: 2.1282 - mean_absolute_error: 1.0776 - val_loss: 37.1523 - val_mean_absolute_error: 3.3910\n",
            "Epoch 148/200\n",
            " - 0s - loss: 2.3530 - mean_absolute_error: 1.0614 - val_loss: 29.3367 - val_mean_absolute_error: 2.9386\n",
            "Epoch 149/200\n",
            " - 0s - loss: 2.1606 - mean_absolute_error: 1.0819 - val_loss: 28.6057 - val_mean_absolute_error: 2.9444\n",
            "Epoch 150/200\n",
            " - 0s - loss: 2.3516 - mean_absolute_error: 1.1088 - val_loss: 30.1888 - val_mean_absolute_error: 3.0601\n",
            "Epoch 151/200\n",
            " - 0s - loss: 2.3617 - mean_absolute_error: 1.1021 - val_loss: 32.9733 - val_mean_absolute_error: 3.3657\n",
            "Epoch 152/200\n",
            " - 0s - loss: 2.1181 - mean_absolute_error: 1.0851 - val_loss: 28.3741 - val_mean_absolute_error: 2.9668\n",
            "Epoch 153/200\n",
            " - 0s - loss: 2.1697 - mean_absolute_error: 1.0861 - val_loss: 29.5164 - val_mean_absolute_error: 2.8964\n",
            "Epoch 154/200\n",
            " - 0s - loss: 2.1579 - mean_absolute_error: 1.0720 - val_loss: 28.5152 - val_mean_absolute_error: 3.0119\n",
            "Epoch 155/200\n",
            " - 0s - loss: 1.9959 - mean_absolute_error: 1.0438 - val_loss: 31.3338 - val_mean_absolute_error: 3.0645\n",
            "Epoch 156/200\n",
            " - 0s - loss: 1.9691 - mean_absolute_error: 1.0712 - val_loss: 30.5155 - val_mean_absolute_error: 2.9593\n",
            "Epoch 157/200\n",
            " - 0s - loss: 2.1298 - mean_absolute_error: 1.0633 - val_loss: 30.5473 - val_mean_absolute_error: 3.0123\n",
            "Epoch 158/200\n",
            " - 0s - loss: 2.1100 - mean_absolute_error: 1.0480 - val_loss: 30.4907 - val_mean_absolute_error: 2.8602\n",
            "Epoch 159/200\n",
            " - 0s - loss: 2.1154 - mean_absolute_error: 1.0619 - val_loss: 32.5238 - val_mean_absolute_error: 3.2775\n",
            "Epoch 160/200\n",
            " - 0s - loss: 1.8594 - mean_absolute_error: 1.0544 - val_loss: 29.7783 - val_mean_absolute_error: 2.8480\n",
            "Epoch 161/200\n",
            " - 0s - loss: 2.1147 - mean_absolute_error: 1.0578 - val_loss: 31.3334 - val_mean_absolute_error: 2.9810\n",
            "Epoch 162/200\n",
            " - 0s - loss: 1.8292 - mean_absolute_error: 1.0184 - val_loss: 40.8811 - val_mean_absolute_error: 3.5171\n",
            "Epoch 163/200\n",
            " - 0s - loss: 2.2110 - mean_absolute_error: 1.0868 - val_loss: 29.5624 - val_mean_absolute_error: 3.2285\n",
            "Epoch 164/200\n",
            " - 0s - loss: 1.7890 - mean_absolute_error: 0.9665 - val_loss: 42.8987 - val_mean_absolute_error: 3.6368\n",
            "Epoch 165/200\n",
            " - 0s - loss: 1.9599 - mean_absolute_error: 1.0304 - val_loss: 37.0927 - val_mean_absolute_error: 3.1608\n",
            "Epoch 166/200\n",
            " - 0s - loss: 2.0644 - mean_absolute_error: 1.0258 - val_loss: 37.4990 - val_mean_absolute_error: 3.3620\n",
            "Epoch 167/200\n",
            " - 0s - loss: 2.0678 - mean_absolute_error: 1.0505 - val_loss: 32.0668 - val_mean_absolute_error: 3.1535\n",
            "Epoch 168/200\n",
            " - 0s - loss: 1.7924 - mean_absolute_error: 0.9875 - val_loss: 25.7632 - val_mean_absolute_error: 2.9005\n",
            "Epoch 169/200\n",
            " - 0s - loss: 2.1664 - mean_absolute_error: 1.0644 - val_loss: 43.9810 - val_mean_absolute_error: 3.3850\n",
            "Epoch 170/200\n",
            " - 0s - loss: 1.8261 - mean_absolute_error: 0.9936 - val_loss: 37.0906 - val_mean_absolute_error: 3.1609\n",
            "Epoch 171/200\n",
            " - 0s - loss: 1.9320 - mean_absolute_error: 1.0445 - val_loss: 30.5750 - val_mean_absolute_error: 3.1126\n",
            "Epoch 172/200\n",
            " - 0s - loss: 1.8493 - mean_absolute_error: 0.9875 - val_loss: 33.2740 - val_mean_absolute_error: 3.0184\n",
            "Epoch 173/200\n",
            " - 0s - loss: 1.9888 - mean_absolute_error: 1.0261 - val_loss: 43.0265 - val_mean_absolute_error: 3.4795\n",
            "Epoch 174/200\n",
            " - 0s - loss: 1.8239 - mean_absolute_error: 1.0022 - val_loss: 32.0561 - val_mean_absolute_error: 2.8853\n",
            "Epoch 175/200\n",
            " - 0s - loss: 1.7348 - mean_absolute_error: 1.0147 - val_loss: 32.1210 - val_mean_absolute_error: 3.1172\n",
            "Epoch 176/200\n",
            " - 0s - loss: 1.8322 - mean_absolute_error: 1.0357 - val_loss: 35.7946 - val_mean_absolute_error: 3.0196\n",
            "Epoch 177/200\n",
            " - 0s - loss: 1.8383 - mean_absolute_error: 1.0071 - val_loss: 33.4389 - val_mean_absolute_error: 3.1401\n",
            "Epoch 178/200\n",
            " - 0s - loss: 1.7779 - mean_absolute_error: 0.9579 - val_loss: 38.2605 - val_mean_absolute_error: 3.2684\n",
            "Epoch 179/200\n",
            " - 0s - loss: 1.8145 - mean_absolute_error: 1.0131 - val_loss: 29.6724 - val_mean_absolute_error: 2.7799\n",
            "Epoch 180/200\n",
            " - 0s - loss: 1.9193 - mean_absolute_error: 1.0156 - val_loss: 29.2949 - val_mean_absolute_error: 2.8846\n",
            "Epoch 181/200\n",
            " - 0s - loss: 1.8075 - mean_absolute_error: 1.0291 - val_loss: 27.0059 - val_mean_absolute_error: 2.8272\n",
            "Epoch 182/200\n",
            " - 0s - loss: 1.7752 - mean_absolute_error: 1.0108 - val_loss: 34.5845 - val_mean_absolute_error: 3.0399\n",
            "Epoch 183/200\n",
            " - 0s - loss: 1.9714 - mean_absolute_error: 1.0176 - val_loss: 35.0199 - val_mean_absolute_error: 3.1652\n",
            "Epoch 184/200\n",
            " - 0s - loss: 1.8352 - mean_absolute_error: 0.9648 - val_loss: 32.0662 - val_mean_absolute_error: 3.1246\n",
            "Epoch 185/200\n",
            " - 0s - loss: 1.7387 - mean_absolute_error: 0.9693 - val_loss: 28.9453 - val_mean_absolute_error: 2.8907\n",
            "Epoch 186/200\n",
            " - 0s - loss: 1.7003 - mean_absolute_error: 0.9591 - val_loss: 44.3361 - val_mean_absolute_error: 3.4383\n",
            "Epoch 187/200\n",
            " - 0s - loss: 1.7146 - mean_absolute_error: 0.9719 - val_loss: 41.4600 - val_mean_absolute_error: 3.3534\n",
            "Epoch 188/200\n",
            " - 0s - loss: 1.6289 - mean_absolute_error: 0.9454 - val_loss: 31.0376 - val_mean_absolute_error: 3.0108\n",
            "Epoch 189/200\n",
            " - 0s - loss: 1.8385 - mean_absolute_error: 0.9668 - val_loss: 37.7558 - val_mean_absolute_error: 3.1195\n",
            "Epoch 190/200\n",
            " - 0s - loss: 1.6851 - mean_absolute_error: 0.9609 - val_loss: 37.9719 - val_mean_absolute_error: 3.2818\n",
            "Epoch 191/200\n",
            " - 0s - loss: 1.8409 - mean_absolute_error: 0.9981 - val_loss: 31.5510 - val_mean_absolute_error: 3.0024\n",
            "Epoch 192/200\n",
            " - 0s - loss: 1.5375 - mean_absolute_error: 0.8866 - val_loss: 41.9939 - val_mean_absolute_error: 3.3747\n",
            "Epoch 193/200\n",
            " - 0s - loss: 1.7599 - mean_absolute_error: 0.9625 - val_loss: 32.8211 - val_mean_absolute_error: 3.0446\n",
            "Epoch 194/200\n",
            " - 0s - loss: 1.6012 - mean_absolute_error: 0.9602 - val_loss: 25.4374 - val_mean_absolute_error: 2.6971\n",
            "Epoch 195/200\n",
            " - 0s - loss: 1.7197 - mean_absolute_error: 0.9642 - val_loss: 31.7464 - val_mean_absolute_error: 3.0163\n",
            "Epoch 196/200\n",
            " - 0s - loss: 1.5605 - mean_absolute_error: 0.9436 - val_loss: 38.3143 - val_mean_absolute_error: 3.6345\n",
            "Epoch 197/200\n",
            " - 0s - loss: 1.6343 - mean_absolute_error: 0.9704 - val_loss: 29.2929 - val_mean_absolute_error: 2.9644\n",
            "Epoch 198/200\n",
            " - 0s - loss: 1.6509 - mean_absolute_error: 0.9336 - val_loss: 34.5716 - val_mean_absolute_error: 3.1752\n",
            "Epoch 199/200\n",
            " - 0s - loss: 1.5168 - mean_absolute_error: 0.9306 - val_loss: 32.4093 - val_mean_absolute_error: 3.0798\n",
            "Epoch 200/200\n",
            " - 0s - loss: 1.6184 - mean_absolute_error: 0.9186 - val_loss: 34.5890 - val_mean_absolute_error: 3.0764\n",
            "processing fold # 2\n",
            "Train on 303 samples, validate on 101 samples\n",
            "Epoch 1/200\n",
            " - 1s - loss: 228.2957 - mean_absolute_error: 11.3462 - val_loss: 35.8425 - val_mean_absolute_error: 4.2116\n",
            "Epoch 2/200\n",
            " - 0s - loss: 30.2832 - mean_absolute_error: 3.7617 - val_loss: 26.2760 - val_mean_absolute_error: 3.4336\n",
            "Epoch 3/200\n",
            " - 0s - loss: 21.7691 - mean_absolute_error: 3.1539 - val_loss: 19.7820 - val_mean_absolute_error: 2.8402\n",
            "Epoch 4/200\n",
            " - 0s - loss: 18.3206 - mean_absolute_error: 2.8567 - val_loss: 18.3614 - val_mean_absolute_error: 2.7198\n",
            "Epoch 5/200\n",
            " - 0s - loss: 14.7095 - mean_absolute_error: 2.5774 - val_loss: 18.0000 - val_mean_absolute_error: 2.5643\n",
            "Epoch 6/200\n",
            " - 0s - loss: 14.0656 - mean_absolute_error: 2.4650 - val_loss: 17.6241 - val_mean_absolute_error: 2.6459\n",
            "Epoch 7/200\n",
            " - 0s - loss: 12.3286 - mean_absolute_error: 2.3739 - val_loss: 17.1912 - val_mean_absolute_error: 2.6620\n",
            "Epoch 8/200\n",
            " - 0s - loss: 11.2454 - mean_absolute_error: 2.2877 - val_loss: 16.9109 - val_mean_absolute_error: 2.6034\n",
            "Epoch 9/200\n",
            " - 0s - loss: 11.1430 - mean_absolute_error: 2.2818 - val_loss: 17.1576 - val_mean_absolute_error: 2.6275\n",
            "Epoch 10/200\n",
            " - 0s - loss: 9.9982 - mean_absolute_error: 2.1691 - val_loss: 15.6937 - val_mean_absolute_error: 2.5665\n",
            "Epoch 11/200\n",
            " - 0s - loss: 9.8449 - mean_absolute_error: 2.1895 - val_loss: 14.6130 - val_mean_absolute_error: 2.6169\n",
            "Epoch 12/200\n",
            " - 0s - loss: 9.1155 - mean_absolute_error: 2.0825 - val_loss: 15.2671 - val_mean_absolute_error: 2.6313\n",
            "Epoch 13/200\n",
            " - 0s - loss: 9.2862 - mean_absolute_error: 2.0942 - val_loss: 14.9664 - val_mean_absolute_error: 2.7315\n",
            "Epoch 14/200\n",
            " - 0s - loss: 8.3738 - mean_absolute_error: 1.9830 - val_loss: 14.3706 - val_mean_absolute_error: 2.5772\n",
            "Epoch 15/200\n",
            " - 0s - loss: 8.2209 - mean_absolute_error: 2.0023 - val_loss: 14.9998 - val_mean_absolute_error: 2.6191\n",
            "Epoch 16/200\n",
            " - 0s - loss: 8.0216 - mean_absolute_error: 1.9866 - val_loss: 14.7764 - val_mean_absolute_error: 2.7343\n",
            "Epoch 17/200\n",
            " - 0s - loss: 7.7093 - mean_absolute_error: 1.9659 - val_loss: 14.3492 - val_mean_absolute_error: 2.3925\n",
            "Epoch 18/200\n",
            " - 0s - loss: 7.9917 - mean_absolute_error: 1.9286 - val_loss: 15.0036 - val_mean_absolute_error: 2.4716\n",
            "Epoch 19/200\n",
            " - 0s - loss: 7.3744 - mean_absolute_error: 1.8946 - val_loss: 13.6839 - val_mean_absolute_error: 2.4117\n",
            "Epoch 20/200\n",
            " - 0s - loss: 6.6858 - mean_absolute_error: 1.8953 - val_loss: 13.3053 - val_mean_absolute_error: 2.3895\n",
            "Epoch 21/200\n",
            " - 0s - loss: 6.7115 - mean_absolute_error: 1.8160 - val_loss: 15.2449 - val_mean_absolute_error: 2.5370\n",
            "Epoch 22/200\n",
            " - 0s - loss: 7.2064 - mean_absolute_error: 1.8369 - val_loss: 12.9479 - val_mean_absolute_error: 2.2772\n",
            "Epoch 23/200\n",
            " - 0s - loss: 6.3387 - mean_absolute_error: 1.7377 - val_loss: 14.1300 - val_mean_absolute_error: 2.6248\n",
            "Epoch 24/200\n",
            " - 0s - loss: 6.5630 - mean_absolute_error: 1.7814 - val_loss: 15.2668 - val_mean_absolute_error: 2.5894\n",
            "Epoch 25/200\n",
            " - 0s - loss: 6.7069 - mean_absolute_error: 1.8181 - val_loss: 14.5788 - val_mean_absolute_error: 2.3896\n",
            "Epoch 26/200\n",
            " - 0s - loss: 6.3155 - mean_absolute_error: 1.7679 - val_loss: 13.6484 - val_mean_absolute_error: 2.5958\n",
            "Epoch 27/200\n",
            " - 0s - loss: 6.1875 - mean_absolute_error: 1.7268 - val_loss: 14.0308 - val_mean_absolute_error: 2.4250\n",
            "Epoch 28/200\n",
            " - 0s - loss: 5.9189 - mean_absolute_error: 1.7767 - val_loss: 12.7839 - val_mean_absolute_error: 2.2792\n",
            "Epoch 29/200\n",
            " - 0s - loss: 6.2053 - mean_absolute_error: 1.7452 - val_loss: 12.4117 - val_mean_absolute_error: 2.3927\n",
            "Epoch 30/200\n",
            " - 0s - loss: 5.9195 - mean_absolute_error: 1.7218 - val_loss: 12.3997 - val_mean_absolute_error: 2.2934\n",
            "Epoch 31/200\n",
            " - 0s - loss: 5.6765 - mean_absolute_error: 1.6870 - val_loss: 11.8789 - val_mean_absolute_error: 2.2524\n",
            "Epoch 32/200\n",
            " - 0s - loss: 5.5690 - mean_absolute_error: 1.6452 - val_loss: 11.9866 - val_mean_absolute_error: 2.4044\n",
            "Epoch 33/200\n",
            " - 0s - loss: 5.9332 - mean_absolute_error: 1.6525 - val_loss: 12.3983 - val_mean_absolute_error: 2.4538\n",
            "Epoch 34/200\n",
            " - 0s - loss: 5.6076 - mean_absolute_error: 1.7025 - val_loss: 12.9702 - val_mean_absolute_error: 2.3922\n",
            "Epoch 35/200\n",
            " - 0s - loss: 5.5922 - mean_absolute_error: 1.6563 - val_loss: 12.6835 - val_mean_absolute_error: 2.2956\n",
            "Epoch 36/200\n",
            " - 0s - loss: 5.6147 - mean_absolute_error: 1.6148 - val_loss: 12.4540 - val_mean_absolute_error: 2.3838\n",
            "Epoch 37/200\n",
            " - 0s - loss: 5.0508 - mean_absolute_error: 1.6232 - val_loss: 11.5425 - val_mean_absolute_error: 2.2156\n",
            "Epoch 38/200\n",
            " - 0s - loss: 5.6040 - mean_absolute_error: 1.6500 - val_loss: 12.1398 - val_mean_absolute_error: 2.3541\n",
            "Epoch 39/200\n",
            " - 0s - loss: 5.5331 - mean_absolute_error: 1.6249 - val_loss: 11.8518 - val_mean_absolute_error: 2.3328\n",
            "Epoch 40/200\n",
            " - 0s - loss: 4.9381 - mean_absolute_error: 1.5280 - val_loss: 12.8321 - val_mean_absolute_error: 2.4684\n",
            "Epoch 41/200\n",
            " - 0s - loss: 4.9430 - mean_absolute_error: 1.5969 - val_loss: 14.9026 - val_mean_absolute_error: 2.4995\n",
            "Epoch 42/200\n",
            " - 0s - loss: 4.7100 - mean_absolute_error: 1.5204 - val_loss: 12.0399 - val_mean_absolute_error: 2.3759\n",
            "Epoch 43/200\n",
            " - 0s - loss: 5.1732 - mean_absolute_error: 1.5945 - val_loss: 12.0575 - val_mean_absolute_error: 2.4094\n",
            "Epoch 44/200\n",
            " - 0s - loss: 4.7684 - mean_absolute_error: 1.5489 - val_loss: 11.8560 - val_mean_absolute_error: 2.3364\n",
            "Epoch 45/200\n",
            " - 0s - loss: 5.1370 - mean_absolute_error: 1.6087 - val_loss: 11.2762 - val_mean_absolute_error: 2.2987\n",
            "Epoch 46/200\n",
            " - 0s - loss: 4.7938 - mean_absolute_error: 1.5302 - val_loss: 13.8764 - val_mean_absolute_error: 2.6452\n",
            "Epoch 47/200\n",
            " - 0s - loss: 4.9065 - mean_absolute_error: 1.5218 - val_loss: 12.5191 - val_mean_absolute_error: 2.3796\n",
            "Epoch 48/200\n",
            " - 0s - loss: 4.8387 - mean_absolute_error: 1.4635 - val_loss: 12.0593 - val_mean_absolute_error: 2.2958\n",
            "Epoch 49/200\n",
            " - 0s - loss: 4.4820 - mean_absolute_error: 1.4511 - val_loss: 11.1964 - val_mean_absolute_error: 2.2196\n",
            "Epoch 50/200\n",
            " - 0s - loss: 4.3397 - mean_absolute_error: 1.4772 - val_loss: 16.1701 - val_mean_absolute_error: 2.6286\n",
            "Epoch 51/200\n",
            " - 0s - loss: 4.6592 - mean_absolute_error: 1.4845 - val_loss: 15.2340 - val_mean_absolute_error: 2.7079\n",
            "Epoch 52/200\n",
            " - 0s - loss: 4.7827 - mean_absolute_error: 1.4965 - val_loss: 12.4293 - val_mean_absolute_error: 2.4156\n",
            "Epoch 53/200\n",
            " - 0s - loss: 4.7224 - mean_absolute_error: 1.5146 - val_loss: 12.0865 - val_mean_absolute_error: 2.3449\n",
            "Epoch 54/200\n",
            " - 0s - loss: 4.5391 - mean_absolute_error: 1.4287 - val_loss: 12.1708 - val_mean_absolute_error: 2.2714\n",
            "Epoch 55/200\n",
            " - 0s - loss: 4.6081 - mean_absolute_error: 1.4994 - val_loss: 12.4313 - val_mean_absolute_error: 2.3159\n",
            "Epoch 56/200\n",
            " - 0s - loss: 4.4370 - mean_absolute_error: 1.4510 - val_loss: 12.4905 - val_mean_absolute_error: 2.4362\n",
            "Epoch 57/200\n",
            " - 0s - loss: 4.1455 - mean_absolute_error: 1.4086 - val_loss: 14.1205 - val_mean_absolute_error: 2.5205\n",
            "Epoch 58/200\n",
            " - 0s - loss: 4.4432 - mean_absolute_error: 1.5289 - val_loss: 12.6625 - val_mean_absolute_error: 2.4163\n",
            "Epoch 59/200\n",
            " - 0s - loss: 4.3045 - mean_absolute_error: 1.4776 - val_loss: 12.8089 - val_mean_absolute_error: 2.4833\n",
            "Epoch 60/200\n",
            " - 0s - loss: 4.1146 - mean_absolute_error: 1.4378 - val_loss: 12.0828 - val_mean_absolute_error: 2.3435\n",
            "Epoch 61/200\n",
            " - 0s - loss: 4.0573 - mean_absolute_error: 1.3567 - val_loss: 12.5182 - val_mean_absolute_error: 2.4585\n",
            "Epoch 62/200\n",
            " - 0s - loss: 4.4949 - mean_absolute_error: 1.4629 - val_loss: 12.2292 - val_mean_absolute_error: 2.3603\n",
            "Epoch 63/200\n",
            " - 0s - loss: 3.9562 - mean_absolute_error: 1.4131 - val_loss: 16.8241 - val_mean_absolute_error: 2.8130\n",
            "Epoch 64/200\n",
            " - 0s - loss: 3.9908 - mean_absolute_error: 1.4217 - val_loss: 11.8278 - val_mean_absolute_error: 2.2161\n",
            "Epoch 65/200\n",
            " - 0s - loss: 3.8229 - mean_absolute_error: 1.3861 - val_loss: 13.3074 - val_mean_absolute_error: 2.4895\n",
            "Epoch 66/200\n",
            " - 0s - loss: 4.0643 - mean_absolute_error: 1.3996 - val_loss: 13.6162 - val_mean_absolute_error: 2.5706\n",
            "Epoch 67/200\n",
            " - 0s - loss: 3.9682 - mean_absolute_error: 1.3955 - val_loss: 12.0998 - val_mean_absolute_error: 2.3086\n",
            "Epoch 68/200\n",
            " - 0s - loss: 4.0883 - mean_absolute_error: 1.3953 - val_loss: 11.4323 - val_mean_absolute_error: 2.2445\n",
            "Epoch 69/200\n",
            " - 0s - loss: 3.8793 - mean_absolute_error: 1.3939 - val_loss: 12.2427 - val_mean_absolute_error: 2.3678\n",
            "Epoch 70/200\n",
            " - 0s - loss: 3.8922 - mean_absolute_error: 1.3919 - val_loss: 12.2497 - val_mean_absolute_error: 2.3440\n",
            "Epoch 71/200\n",
            " - 0s - loss: 3.9863 - mean_absolute_error: 1.3794 - val_loss: 12.6966 - val_mean_absolute_error: 2.4261\n",
            "Epoch 72/200\n",
            " - 0s - loss: 3.7770 - mean_absolute_error: 1.3528 - val_loss: 11.5911 - val_mean_absolute_error: 2.2646\n",
            "Epoch 73/200\n",
            " - 0s - loss: 3.6811 - mean_absolute_error: 1.3332 - val_loss: 12.9701 - val_mean_absolute_error: 2.5602\n",
            "Epoch 74/200\n",
            " - 0s - loss: 3.7021 - mean_absolute_error: 1.3487 - val_loss: 13.1337 - val_mean_absolute_error: 2.4180\n",
            "Epoch 75/200\n",
            " - 0s - loss: 3.7097 - mean_absolute_error: 1.3159 - val_loss: 12.6205 - val_mean_absolute_error: 2.3682\n",
            "Epoch 76/200\n",
            " - 0s - loss: 3.7154 - mean_absolute_error: 1.3598 - val_loss: 11.6637 - val_mean_absolute_error: 2.2029\n",
            "Epoch 77/200\n",
            " - 0s - loss: 3.5811 - mean_absolute_error: 1.3458 - val_loss: 12.3788 - val_mean_absolute_error: 2.3347\n",
            "Epoch 78/200\n",
            " - 0s - loss: 3.4871 - mean_absolute_error: 1.3430 - val_loss: 14.7128 - val_mean_absolute_error: 2.5615\n",
            "Epoch 79/200\n",
            " - 0s - loss: 3.3355 - mean_absolute_error: 1.3542 - val_loss: 13.1631 - val_mean_absolute_error: 2.5053\n",
            "Epoch 80/200\n",
            " - 0s - loss: 3.4400 - mean_absolute_error: 1.3495 - val_loss: 13.2008 - val_mean_absolute_error: 2.5915\n",
            "Epoch 81/200\n",
            " - 0s - loss: 3.4133 - mean_absolute_error: 1.3192 - val_loss: 13.8719 - val_mean_absolute_error: 2.5320\n",
            "Epoch 82/200\n",
            " - 0s - loss: 3.4536 - mean_absolute_error: 1.3327 - val_loss: 11.5027 - val_mean_absolute_error: 2.2314\n",
            "Epoch 83/200\n",
            " - 0s - loss: 3.2398 - mean_absolute_error: 1.3015 - val_loss: 12.4948 - val_mean_absolute_error: 2.3258\n",
            "Epoch 84/200\n",
            " - 0s - loss: 3.5614 - mean_absolute_error: 1.3418 - val_loss: 12.2881 - val_mean_absolute_error: 2.4128\n",
            "Epoch 85/200\n",
            " - 0s - loss: 3.3293 - mean_absolute_error: 1.3335 - val_loss: 12.4702 - val_mean_absolute_error: 2.3716\n",
            "Epoch 86/200\n",
            " - 0s - loss: 2.9919 - mean_absolute_error: 1.2385 - val_loss: 12.9152 - val_mean_absolute_error: 2.5887\n",
            "Epoch 87/200\n",
            " - 0s - loss: 3.7339 - mean_absolute_error: 1.3747 - val_loss: 13.1520 - val_mean_absolute_error: 2.3391\n",
            "Epoch 88/200\n",
            " - 0s - loss: 3.3900 - mean_absolute_error: 1.2755 - val_loss: 12.3883 - val_mean_absolute_error: 2.3295\n",
            "Epoch 89/200\n",
            " - 0s - loss: 3.2937 - mean_absolute_error: 1.2536 - val_loss: 12.0068 - val_mean_absolute_error: 2.4434\n",
            "Epoch 90/200\n",
            " - 0s - loss: 3.5010 - mean_absolute_error: 1.3407 - val_loss: 14.4490 - val_mean_absolute_error: 2.6338\n",
            "Epoch 91/200\n",
            " - 0s - loss: 3.5033 - mean_absolute_error: 1.2992 - val_loss: 12.2168 - val_mean_absolute_error: 2.4075\n",
            "Epoch 92/200\n",
            " - 0s - loss: 3.1890 - mean_absolute_error: 1.2706 - val_loss: 14.5186 - val_mean_absolute_error: 2.7753\n",
            "Epoch 93/200\n",
            " - 0s - loss: 3.2669 - mean_absolute_error: 1.2771 - val_loss: 13.1485 - val_mean_absolute_error: 2.4297\n",
            "Epoch 94/200\n",
            " - 0s - loss: 3.4715 - mean_absolute_error: 1.3062 - val_loss: 13.8484 - val_mean_absolute_error: 2.4518\n",
            "Epoch 95/200\n",
            " - 0s - loss: 3.1901 - mean_absolute_error: 1.2414 - val_loss: 12.3489 - val_mean_absolute_error: 2.4095\n",
            "Epoch 96/200\n",
            " - 0s - loss: 3.1992 - mean_absolute_error: 1.2621 - val_loss: 11.2248 - val_mean_absolute_error: 2.2261\n",
            "Epoch 97/200\n",
            " - 0s - loss: 3.1795 - mean_absolute_error: 1.3304 - val_loss: 12.2800 - val_mean_absolute_error: 2.4273\n",
            "Epoch 98/200\n",
            " - 0s - loss: 2.8896 - mean_absolute_error: 1.2092 - val_loss: 13.1107 - val_mean_absolute_error: 2.4752\n",
            "Epoch 99/200\n",
            " - 0s - loss: 3.1085 - mean_absolute_error: 1.2271 - val_loss: 12.3324 - val_mean_absolute_error: 2.4145\n",
            "Epoch 100/200\n",
            " - 0s - loss: 2.9083 - mean_absolute_error: 1.1959 - val_loss: 12.4078 - val_mean_absolute_error: 2.3283\n",
            "Epoch 101/200\n",
            " - 0s - loss: 2.8092 - mean_absolute_error: 1.1505 - val_loss: 13.2317 - val_mean_absolute_error: 2.4730\n",
            "Epoch 102/200\n",
            " - 0s - loss: 2.8665 - mean_absolute_error: 1.2078 - val_loss: 13.0165 - val_mean_absolute_error: 2.4806\n",
            "Epoch 103/200\n",
            " - 0s - loss: 3.3613 - mean_absolute_error: 1.2210 - val_loss: 11.8033 - val_mean_absolute_error: 2.3204\n",
            "Epoch 104/200\n",
            " - 0s - loss: 2.8693 - mean_absolute_error: 1.1801 - val_loss: 11.9534 - val_mean_absolute_error: 2.2597\n",
            "Epoch 105/200\n",
            " - 0s - loss: 3.0698 - mean_absolute_error: 1.2357 - val_loss: 11.8077 - val_mean_absolute_error: 2.3739\n",
            "Epoch 106/200\n",
            " - 0s - loss: 2.7518 - mean_absolute_error: 1.1270 - val_loss: 14.2006 - val_mean_absolute_error: 2.6020\n",
            "Epoch 107/200\n",
            " - 0s - loss: 2.8172 - mean_absolute_error: 1.1618 - val_loss: 12.5093 - val_mean_absolute_error: 2.4099\n",
            "Epoch 108/200\n",
            " - 0s - loss: 3.0964 - mean_absolute_error: 1.2454 - val_loss: 12.2269 - val_mean_absolute_error: 2.3207\n",
            "Epoch 109/200\n",
            " - 0s - loss: 2.7805 - mean_absolute_error: 1.1645 - val_loss: 13.4574 - val_mean_absolute_error: 2.5386\n",
            "Epoch 110/200\n",
            " - 0s - loss: 2.7027 - mean_absolute_error: 1.1788 - val_loss: 13.5813 - val_mean_absolute_error: 2.5817\n",
            "Epoch 111/200\n",
            " - 0s - loss: 2.8738 - mean_absolute_error: 1.1812 - val_loss: 12.3970 - val_mean_absolute_error: 2.4667\n",
            "Epoch 112/200\n",
            " - 0s - loss: 2.5487 - mean_absolute_error: 1.1678 - val_loss: 12.4708 - val_mean_absolute_error: 2.4040\n",
            "Epoch 113/200\n",
            " - 0s - loss: 2.7571 - mean_absolute_error: 1.1825 - val_loss: 12.9775 - val_mean_absolute_error: 2.5022\n",
            "Epoch 114/200\n",
            " - 0s - loss: 2.7572 - mean_absolute_error: 1.1871 - val_loss: 13.4193 - val_mean_absolute_error: 2.5283\n",
            "Epoch 115/200\n",
            " - 0s - loss: 2.6495 - mean_absolute_error: 1.1482 - val_loss: 11.9958 - val_mean_absolute_error: 2.2891\n",
            "Epoch 116/200\n",
            " - 0s - loss: 2.8481 - mean_absolute_error: 1.1756 - val_loss: 12.4944 - val_mean_absolute_error: 2.3578\n",
            "Epoch 117/200\n",
            " - 0s - loss: 2.6959 - mean_absolute_error: 1.1312 - val_loss: 13.1635 - val_mean_absolute_error: 2.4882\n",
            "Epoch 118/200\n",
            " - 0s - loss: 2.5026 - mean_absolute_error: 1.0819 - val_loss: 13.5566 - val_mean_absolute_error: 2.5596\n",
            "Epoch 119/200\n",
            " - 0s - loss: 2.5447 - mean_absolute_error: 1.1212 - val_loss: 12.0164 - val_mean_absolute_error: 2.4560\n",
            "Epoch 120/200\n",
            " - 0s - loss: 2.8790 - mean_absolute_error: 1.1911 - val_loss: 13.3520 - val_mean_absolute_error: 2.5762\n",
            "Epoch 121/200\n",
            " - 0s - loss: 2.5388 - mean_absolute_error: 1.1474 - val_loss: 13.2977 - val_mean_absolute_error: 2.5420\n",
            "Epoch 122/200\n",
            " - 0s - loss: 2.6193 - mean_absolute_error: 1.1618 - val_loss: 13.4524 - val_mean_absolute_error: 2.5811\n",
            "Epoch 123/200\n",
            " - 0s - loss: 2.5984 - mean_absolute_error: 1.1021 - val_loss: 13.0028 - val_mean_absolute_error: 2.4760\n",
            "Epoch 124/200\n",
            " - 0s - loss: 2.7130 - mean_absolute_error: 1.1113 - val_loss: 15.4914 - val_mean_absolute_error: 2.6999\n",
            "Epoch 125/200\n",
            " - 0s - loss: 2.5867 - mean_absolute_error: 1.1155 - val_loss: 12.3263 - val_mean_absolute_error: 2.4930\n",
            "Epoch 126/200\n",
            " - 0s - loss: 2.3928 - mean_absolute_error: 1.1192 - val_loss: 12.1147 - val_mean_absolute_error: 2.4120\n",
            "Epoch 127/200\n",
            " - 0s - loss: 2.5316 - mean_absolute_error: 1.1209 - val_loss: 12.6845 - val_mean_absolute_error: 2.4615\n",
            "Epoch 128/200\n",
            " - 0s - loss: 2.6110 - mean_absolute_error: 1.1349 - val_loss: 13.2863 - val_mean_absolute_error: 2.5804\n",
            "Epoch 129/200\n",
            " - 0s - loss: 2.3931 - mean_absolute_error: 1.0844 - val_loss: 14.2140 - val_mean_absolute_error: 2.5518\n",
            "Epoch 130/200\n",
            " - 0s - loss: 2.4767 - mean_absolute_error: 1.1234 - val_loss: 12.4007 - val_mean_absolute_error: 2.3928\n",
            "Epoch 131/200\n",
            " - 0s - loss: 2.3941 - mean_absolute_error: 1.0938 - val_loss: 13.0972 - val_mean_absolute_error: 2.4926\n",
            "Epoch 132/200\n",
            " - 0s - loss: 2.4580 - mean_absolute_error: 1.1117 - val_loss: 12.4596 - val_mean_absolute_error: 2.3950\n",
            "Epoch 133/200\n",
            " - 0s - loss: 2.3857 - mean_absolute_error: 1.0961 - val_loss: 13.2397 - val_mean_absolute_error: 2.5634\n",
            "Epoch 134/200\n",
            " - 0s - loss: 2.3120 - mean_absolute_error: 1.0532 - val_loss: 13.2936 - val_mean_absolute_error: 2.5570\n",
            "Epoch 135/200\n",
            " - 0s - loss: 2.2521 - mean_absolute_error: 1.0566 - val_loss: 11.8075 - val_mean_absolute_error: 2.4461\n",
            "Epoch 136/200\n",
            " - 0s - loss: 2.3753 - mean_absolute_error: 1.0886 - val_loss: 12.2969 - val_mean_absolute_error: 2.4236\n",
            "Epoch 137/200\n",
            " - 0s - loss: 2.0162 - mean_absolute_error: 1.0331 - val_loss: 13.0203 - val_mean_absolute_error: 2.5057\n",
            "Epoch 138/200\n",
            " - 0s - loss: 2.2308 - mean_absolute_error: 1.0303 - val_loss: 13.3020 - val_mean_absolute_error: 2.5811\n",
            "Epoch 139/200\n",
            " - 0s - loss: 2.2070 - mean_absolute_error: 1.0956 - val_loss: 13.4725 - val_mean_absolute_error: 2.6596\n",
            "Epoch 140/200\n",
            " - 0s - loss: 2.3140 - mean_absolute_error: 1.0724 - val_loss: 15.0012 - val_mean_absolute_error: 2.6689\n",
            "Epoch 141/200\n",
            " - 0s - loss: 2.0985 - mean_absolute_error: 1.0158 - val_loss: 14.1907 - val_mean_absolute_error: 2.6807\n",
            "Epoch 142/200\n",
            " - 0s - loss: 2.0753 - mean_absolute_error: 1.0279 - val_loss: 11.9916 - val_mean_absolute_error: 2.4212\n",
            "Epoch 143/200\n",
            " - 0s - loss: 2.0344 - mean_absolute_error: 1.0177 - val_loss: 14.1419 - val_mean_absolute_error: 2.7097\n",
            "Epoch 144/200\n",
            " - 0s - loss: 2.3866 - mean_absolute_error: 1.0698 - val_loss: 12.9716 - val_mean_absolute_error: 2.5191\n",
            "Epoch 145/200\n",
            " - 0s - loss: 1.9361 - mean_absolute_error: 0.9989 - val_loss: 12.8894 - val_mean_absolute_error: 2.6052\n",
            "Epoch 146/200\n",
            " - 0s - loss: 2.0986 - mean_absolute_error: 1.0518 - val_loss: 11.7981 - val_mean_absolute_error: 2.4359\n",
            "Epoch 147/200\n",
            " - 0s - loss: 2.1911 - mean_absolute_error: 1.0761 - val_loss: 14.8289 - val_mean_absolute_error: 2.7988\n",
            "Epoch 148/200\n",
            " - 0s - loss: 2.0866 - mean_absolute_error: 1.0030 - val_loss: 12.6954 - val_mean_absolute_error: 2.5413\n",
            "Epoch 149/200\n",
            " - 0s - loss: 1.9253 - mean_absolute_error: 0.9950 - val_loss: 13.1437 - val_mean_absolute_error: 2.6483\n",
            "Epoch 150/200\n",
            " - 0s - loss: 1.9517 - mean_absolute_error: 1.0185 - val_loss: 14.8007 - val_mean_absolute_error: 2.7538\n",
            "Epoch 151/200\n",
            " - 0s - loss: 2.0957 - mean_absolute_error: 1.0408 - val_loss: 12.2386 - val_mean_absolute_error: 2.4741\n",
            "Epoch 152/200\n",
            " - 0s - loss: 2.1412 - mean_absolute_error: 1.0524 - val_loss: 13.2736 - val_mean_absolute_error: 2.5491\n",
            "Epoch 153/200\n",
            " - 0s - loss: 2.1239 - mean_absolute_error: 1.0523 - val_loss: 13.3817 - val_mean_absolute_error: 2.5311\n",
            "Epoch 154/200\n",
            " - 0s - loss: 2.0081 - mean_absolute_error: 1.0124 - val_loss: 12.3394 - val_mean_absolute_error: 2.4900\n",
            "Epoch 155/200\n",
            " - 0s - loss: 1.9369 - mean_absolute_error: 0.9796 - val_loss: 11.9517 - val_mean_absolute_error: 2.4186\n",
            "Epoch 156/200\n",
            " - 0s - loss: 1.7683 - mean_absolute_error: 1.0012 - val_loss: 18.2464 - val_mean_absolute_error: 3.1817\n",
            "Epoch 157/200\n",
            " - 0s - loss: 2.0700 - mean_absolute_error: 0.9981 - val_loss: 12.3899 - val_mean_absolute_error: 2.4573\n",
            "Epoch 158/200\n",
            " - 0s - loss: 1.7599 - mean_absolute_error: 0.9700 - val_loss: 14.0334 - val_mean_absolute_error: 2.7402\n",
            "Epoch 159/200\n",
            " - 0s - loss: 1.7083 - mean_absolute_error: 0.9713 - val_loss: 13.2945 - val_mean_absolute_error: 2.6190\n",
            "Epoch 160/200\n",
            " - 0s - loss: 1.9790 - mean_absolute_error: 1.0372 - val_loss: 12.2665 - val_mean_absolute_error: 2.5251\n",
            "Epoch 161/200\n",
            " - 0s - loss: 1.8596 - mean_absolute_error: 0.9461 - val_loss: 13.5358 - val_mean_absolute_error: 2.5606\n",
            "Epoch 162/200\n",
            " - 0s - loss: 1.8846 - mean_absolute_error: 0.9607 - val_loss: 13.6521 - val_mean_absolute_error: 2.6768\n",
            "Epoch 163/200\n",
            " - 0s - loss: 1.8755 - mean_absolute_error: 0.9969 - val_loss: 13.8928 - val_mean_absolute_error: 2.7248\n",
            "Epoch 164/200\n",
            " - 0s - loss: 1.8848 - mean_absolute_error: 1.0261 - val_loss: 15.1350 - val_mean_absolute_error: 2.7227\n",
            "Epoch 165/200\n",
            " - 0s - loss: 1.6834 - mean_absolute_error: 0.9077 - val_loss: 12.9536 - val_mean_absolute_error: 2.6436\n",
            "Epoch 166/200\n",
            " - 0s - loss: 1.8810 - mean_absolute_error: 0.9926 - val_loss: 11.6065 - val_mean_absolute_error: 2.4154\n",
            "Epoch 167/200\n",
            " - 0s - loss: 1.8073 - mean_absolute_error: 0.9406 - val_loss: 12.3628 - val_mean_absolute_error: 2.4982\n",
            "Epoch 168/200\n",
            " - 0s - loss: 1.7805 - mean_absolute_error: 0.9663 - val_loss: 13.3086 - val_mean_absolute_error: 2.5974\n",
            "Epoch 169/200\n",
            " - 0s - loss: 2.0129 - mean_absolute_error: 1.0201 - val_loss: 12.4436 - val_mean_absolute_error: 2.4820\n",
            "Epoch 170/200\n",
            " - 0s - loss: 1.6638 - mean_absolute_error: 0.9118 - val_loss: 14.4029 - val_mean_absolute_error: 2.8047\n",
            "Epoch 171/200\n",
            " - 0s - loss: 1.8400 - mean_absolute_error: 0.9025 - val_loss: 12.6184 - val_mean_absolute_error: 2.5781\n",
            "Epoch 172/200\n",
            " - 0s - loss: 1.7904 - mean_absolute_error: 0.9378 - val_loss: 13.0344 - val_mean_absolute_error: 2.6328\n",
            "Epoch 173/200\n",
            " - 0s - loss: 1.7563 - mean_absolute_error: 0.9485 - val_loss: 14.0151 - val_mean_absolute_error: 2.7383\n",
            "Epoch 174/200\n",
            " - 0s - loss: 1.7532 - mean_absolute_error: 0.9375 - val_loss: 15.1811 - val_mean_absolute_error: 2.7759\n",
            "Epoch 175/200\n",
            " - 0s - loss: 1.7038 - mean_absolute_error: 0.9710 - val_loss: 11.9751 - val_mean_absolute_error: 2.5091\n",
            "Epoch 176/200\n",
            " - 0s - loss: 1.8984 - mean_absolute_error: 0.9938 - val_loss: 13.0860 - val_mean_absolute_error: 2.6935\n",
            "Epoch 177/200\n",
            " - 0s - loss: 1.6890 - mean_absolute_error: 0.9323 - val_loss: 13.7054 - val_mean_absolute_error: 2.6937\n",
            "Epoch 178/200\n",
            " - 0s - loss: 1.5207 - mean_absolute_error: 0.9109 - val_loss: 13.7867 - val_mean_absolute_error: 2.6684\n",
            "Epoch 179/200\n",
            " - 0s - loss: 1.6404 - mean_absolute_error: 0.9387 - val_loss: 13.3720 - val_mean_absolute_error: 2.6530\n",
            "Epoch 180/200\n",
            " - 0s - loss: 1.7182 - mean_absolute_error: 0.9179 - val_loss: 13.0667 - val_mean_absolute_error: 2.6188\n",
            "Epoch 181/200\n",
            " - 0s - loss: 1.7947 - mean_absolute_error: 0.9455 - val_loss: 12.5005 - val_mean_absolute_error: 2.5805\n",
            "Epoch 182/200\n",
            " - 0s - loss: 1.6582 - mean_absolute_error: 0.9473 - val_loss: 14.3702 - val_mean_absolute_error: 2.8060\n",
            "Epoch 183/200\n",
            " - 0s - loss: 1.6615 - mean_absolute_error: 0.9346 - val_loss: 12.8200 - val_mean_absolute_error: 2.6088\n",
            "Epoch 184/200\n",
            " - 0s - loss: 1.5406 - mean_absolute_error: 0.8963 - val_loss: 12.1206 - val_mean_absolute_error: 2.4704\n",
            "Epoch 185/200\n",
            " - 0s - loss: 1.7212 - mean_absolute_error: 0.9863 - val_loss: 16.4106 - val_mean_absolute_error: 2.9392\n",
            "Epoch 186/200\n",
            " - 0s - loss: 1.4926 - mean_absolute_error: 0.8896 - val_loss: 12.9688 - val_mean_absolute_error: 2.5473\n",
            "Epoch 187/200\n",
            " - 0s - loss: 1.5780 - mean_absolute_error: 0.8944 - val_loss: 13.0126 - val_mean_absolute_error: 2.6341\n",
            "Epoch 188/200\n",
            " - 0s - loss: 1.4512 - mean_absolute_error: 0.8575 - val_loss: 13.8294 - val_mean_absolute_error: 2.7095\n",
            "Epoch 189/200\n",
            " - 0s - loss: 1.6258 - mean_absolute_error: 0.9211 - val_loss: 12.1214 - val_mean_absolute_error: 2.4495\n",
            "Epoch 190/200\n",
            " - 0s - loss: 1.4368 - mean_absolute_error: 0.8902 - val_loss: 14.7140 - val_mean_absolute_error: 2.8063\n",
            "Epoch 191/200\n",
            " - 0s - loss: 1.5772 - mean_absolute_error: 0.9213 - val_loss: 12.6391 - val_mean_absolute_error: 2.6275\n",
            "Epoch 192/200\n",
            " - 0s - loss: 1.5044 - mean_absolute_error: 0.9181 - val_loss: 12.5224 - val_mean_absolute_error: 2.6202\n",
            "Epoch 193/200\n",
            " - 0s - loss: 1.5863 - mean_absolute_error: 0.9163 - val_loss: 13.3000 - val_mean_absolute_error: 2.6399\n",
            "Epoch 194/200\n",
            " - 0s - loss: 1.4966 - mean_absolute_error: 0.8931 - val_loss: 15.1473 - val_mean_absolute_error: 2.7695\n",
            "Epoch 195/200\n",
            " - 0s - loss: 1.4910 - mean_absolute_error: 0.8685 - val_loss: 12.8693 - val_mean_absolute_error: 2.5915\n",
            "Epoch 196/200\n",
            " - 0s - loss: 1.4347 - mean_absolute_error: 0.9057 - val_loss: 12.8605 - val_mean_absolute_error: 2.6604\n",
            "Epoch 197/200\n",
            " - 0s - loss: 1.2462 - mean_absolute_error: 0.8187 - val_loss: 13.9465 - val_mean_absolute_error: 2.7164\n",
            "Epoch 198/200\n",
            " - 0s - loss: 1.6418 - mean_absolute_error: 0.9229 - val_loss: 12.5883 - val_mean_absolute_error: 2.5874\n",
            "Epoch 199/200\n",
            " - 0s - loss: 1.4127 - mean_absolute_error: 0.8757 - val_loss: 12.6457 - val_mean_absolute_error: 2.6557\n",
            "Epoch 200/200\n",
            " - 0s - loss: 1.4723 - mean_absolute_error: 0.8511 - val_loss: 12.0982 - val_mean_absolute_error: 2.5414\n",
            "processing fold # 3\n",
            "Train on 303 samples, validate on 101 samples\n",
            "Epoch 1/200\n",
            " - 1s - loss: 189.4232 - mean_absolute_error: 10.1471 - val_loss: 62.6804 - val_mean_absolute_error: 5.4464\n",
            "Epoch 2/200\n",
            " - 0s - loss: 28.6216 - mean_absolute_error: 3.6856 - val_loss: 31.8927 - val_mean_absolute_error: 3.7786\n",
            "Epoch 3/200\n",
            " - 0s - loss: 20.1677 - mean_absolute_error: 3.0531 - val_loss: 24.6185 - val_mean_absolute_error: 3.2499\n",
            "Epoch 4/200\n",
            " - 0s - loss: 16.3395 - mean_absolute_error: 2.7685 - val_loss: 21.1379 - val_mean_absolute_error: 3.1336\n",
            "Epoch 5/200\n",
            " - 0s - loss: 14.3382 - mean_absolute_error: 2.5658 - val_loss: 22.7410 - val_mean_absolute_error: 3.3169\n",
            "Epoch 6/200\n",
            " - 0s - loss: 12.9651 - mean_absolute_error: 2.4190 - val_loss: 19.3188 - val_mean_absolute_error: 2.8100\n",
            "Epoch 7/200\n",
            " - 0s - loss: 12.0308 - mean_absolute_error: 2.3414 - val_loss: 17.7944 - val_mean_absolute_error: 2.9368\n",
            "Epoch 8/200\n",
            " - 0s - loss: 11.2161 - mean_absolute_error: 2.3434 - val_loss: 17.1966 - val_mean_absolute_error: 2.7063\n",
            "Epoch 9/200\n",
            " - 0s - loss: 11.2460 - mean_absolute_error: 2.2540 - val_loss: 16.2813 - val_mean_absolute_error: 2.7741\n",
            "Epoch 10/200\n",
            " - 0s - loss: 10.7772 - mean_absolute_error: 2.1756 - val_loss: 14.0052 - val_mean_absolute_error: 2.4881\n",
            "Epoch 11/200\n",
            " - 0s - loss: 10.1523 - mean_absolute_error: 2.1588 - val_loss: 14.0713 - val_mean_absolute_error: 2.5910\n",
            "Epoch 12/200\n",
            " - 0s - loss: 10.1748 - mean_absolute_error: 2.1873 - val_loss: 13.1003 - val_mean_absolute_error: 2.4383\n",
            "Epoch 13/200\n",
            " - 0s - loss: 9.3136 - mean_absolute_error: 2.1077 - val_loss: 14.3363 - val_mean_absolute_error: 2.5540\n",
            "Epoch 14/200\n",
            " - 0s - loss: 9.7172 - mean_absolute_error: 2.0663 - val_loss: 16.4421 - val_mean_absolute_error: 2.7891\n",
            "Epoch 15/200\n",
            " - 0s - loss: 9.4783 - mean_absolute_error: 1.9773 - val_loss: 12.6793 - val_mean_absolute_error: 2.4032\n",
            "Epoch 16/200\n",
            " - 0s - loss: 9.0285 - mean_absolute_error: 1.9320 - val_loss: 13.5054 - val_mean_absolute_error: 2.4790\n",
            "Epoch 17/200\n",
            " - 0s - loss: 9.0440 - mean_absolute_error: 1.9842 - val_loss: 12.9399 - val_mean_absolute_error: 2.4412\n",
            "Epoch 18/200\n",
            " - 0s - loss: 9.0681 - mean_absolute_error: 1.9428 - val_loss: 13.6072 - val_mean_absolute_error: 2.4826\n",
            "Epoch 19/200\n",
            " - 0s - loss: 8.4600 - mean_absolute_error: 1.9769 - val_loss: 12.8630 - val_mean_absolute_error: 2.4242\n",
            "Epoch 20/200\n",
            " - 0s - loss: 8.7133 - mean_absolute_error: 1.9093 - val_loss: 12.2888 - val_mean_absolute_error: 2.3780\n",
            "Epoch 21/200\n",
            " - 0s - loss: 8.3130 - mean_absolute_error: 1.9476 - val_loss: 15.9670 - val_mean_absolute_error: 2.7209\n",
            "Epoch 22/200\n",
            " - 0s - loss: 8.2057 - mean_absolute_error: 1.8935 - val_loss: 11.6249 - val_mean_absolute_error: 2.2791\n",
            "Epoch 23/200\n",
            " - 0s - loss: 8.0550 - mean_absolute_error: 1.9043 - val_loss: 12.1336 - val_mean_absolute_error: 2.4163\n",
            "Epoch 24/200\n",
            " - 0s - loss: 7.7579 - mean_absolute_error: 1.8345 - val_loss: 12.0157 - val_mean_absolute_error: 2.3597\n",
            "Epoch 25/200\n",
            " - 0s - loss: 7.7144 - mean_absolute_error: 1.8703 - val_loss: 12.0959 - val_mean_absolute_error: 2.4639\n",
            "Epoch 26/200\n",
            " - 0s - loss: 7.3561 - mean_absolute_error: 1.8106 - val_loss: 12.2326 - val_mean_absolute_error: 2.3912\n",
            "Epoch 27/200\n",
            " - 0s - loss: 7.2151 - mean_absolute_error: 1.8154 - val_loss: 12.4475 - val_mean_absolute_error: 2.4805\n",
            "Epoch 28/200\n",
            " - 0s - loss: 7.2066 - mean_absolute_error: 1.7844 - val_loss: 11.6862 - val_mean_absolute_error: 2.3168\n",
            "Epoch 29/200\n",
            " - 0s - loss: 7.4648 - mean_absolute_error: 1.8297 - val_loss: 11.8403 - val_mean_absolute_error: 2.3511\n",
            "Epoch 30/200\n",
            " - 0s - loss: 6.7403 - mean_absolute_error: 1.7573 - val_loss: 13.3961 - val_mean_absolute_error: 2.5783\n",
            "Epoch 31/200\n",
            " - 0s - loss: 6.9404 - mean_absolute_error: 1.7753 - val_loss: 12.4369 - val_mean_absolute_error: 2.3655\n",
            "Epoch 32/200\n",
            " - 0s - loss: 6.7252 - mean_absolute_error: 1.7794 - val_loss: 11.7464 - val_mean_absolute_error: 2.4593\n",
            "Epoch 33/200\n",
            " - 0s - loss: 6.5976 - mean_absolute_error: 1.6977 - val_loss: 12.5259 - val_mean_absolute_error: 2.5105\n",
            "Epoch 34/200\n",
            " - 0s - loss: 6.5132 - mean_absolute_error: 1.7252 - val_loss: 12.0533 - val_mean_absolute_error: 2.4864\n",
            "Epoch 35/200\n",
            " - 0s - loss: 6.5174 - mean_absolute_error: 1.7181 - val_loss: 11.6798 - val_mean_absolute_error: 2.3704\n",
            "Epoch 36/200\n",
            " - 0s - loss: 6.8054 - mean_absolute_error: 1.6960 - val_loss: 11.8675 - val_mean_absolute_error: 2.3827\n",
            "Epoch 37/200\n",
            " - 0s - loss: 6.9266 - mean_absolute_error: 1.7382 - val_loss: 11.5406 - val_mean_absolute_error: 2.3796\n",
            "Epoch 38/200\n",
            " - 0s - loss: 6.4631 - mean_absolute_error: 1.6653 - val_loss: 11.5997 - val_mean_absolute_error: 2.4407\n",
            "Epoch 39/200\n",
            " - 0s - loss: 6.3800 - mean_absolute_error: 1.6377 - val_loss: 12.2225 - val_mean_absolute_error: 2.4040\n",
            "Epoch 40/200\n",
            " - 0s - loss: 6.4123 - mean_absolute_error: 1.6698 - val_loss: 12.8768 - val_mean_absolute_error: 2.5278\n",
            "Epoch 41/200\n",
            " - 0s - loss: 6.5350 - mean_absolute_error: 1.6607 - val_loss: 11.8968 - val_mean_absolute_error: 2.4195\n",
            "Epoch 42/200\n",
            " - 0s - loss: 6.3062 - mean_absolute_error: 1.6208 - val_loss: 12.5223 - val_mean_absolute_error: 2.5508\n",
            "Epoch 43/200\n",
            " - 0s - loss: 6.1185 - mean_absolute_error: 1.6420 - val_loss: 12.6942 - val_mean_absolute_error: 2.5928\n",
            "Epoch 44/200\n",
            " - 0s - loss: 5.9963 - mean_absolute_error: 1.6368 - val_loss: 15.8062 - val_mean_absolute_error: 2.8481\n",
            "Epoch 45/200\n",
            " - 0s - loss: 6.3321 - mean_absolute_error: 1.6862 - val_loss: 11.8774 - val_mean_absolute_error: 2.5227\n",
            "Epoch 46/200\n",
            " - 0s - loss: 6.0193 - mean_absolute_error: 1.6521 - val_loss: 13.6883 - val_mean_absolute_error: 2.6547\n",
            "Epoch 47/200\n",
            " - 0s - loss: 5.7519 - mean_absolute_error: 1.6229 - val_loss: 12.7818 - val_mean_absolute_error: 2.5631\n",
            "Epoch 48/200\n",
            " - 0s - loss: 5.9711 - mean_absolute_error: 1.5973 - val_loss: 11.1987 - val_mean_absolute_error: 2.3682\n",
            "Epoch 49/200\n",
            " - 0s - loss: 5.9117 - mean_absolute_error: 1.6054 - val_loss: 11.6688 - val_mean_absolute_error: 2.4378\n",
            "Epoch 50/200\n",
            " - 0s - loss: 6.0251 - mean_absolute_error: 1.5862 - val_loss: 11.6851 - val_mean_absolute_error: 2.5008\n",
            "Epoch 51/200\n",
            " - 0s - loss: 5.7837 - mean_absolute_error: 1.5901 - val_loss: 14.5021 - val_mean_absolute_error: 2.8430\n",
            "Epoch 52/200\n",
            " - 0s - loss: 5.7455 - mean_absolute_error: 1.5992 - val_loss: 13.3030 - val_mean_absolute_error: 2.6870\n",
            "Epoch 53/200\n",
            " - 0s - loss: 5.8961 - mean_absolute_error: 1.6239 - val_loss: 11.4634 - val_mean_absolute_error: 2.3918\n",
            "Epoch 54/200\n",
            " - 0s - loss: 5.8690 - mean_absolute_error: 1.5565 - val_loss: 13.0168 - val_mean_absolute_error: 2.6967\n",
            "Epoch 55/200\n",
            " - 0s - loss: 5.7203 - mean_absolute_error: 1.5758 - val_loss: 12.4956 - val_mean_absolute_error: 2.5977\n",
            "Epoch 56/200\n",
            " - 0s - loss: 5.5278 - mean_absolute_error: 1.5411 - val_loss: 14.2147 - val_mean_absolute_error: 2.7838\n",
            "Epoch 57/200\n",
            " - 0s - loss: 5.6597 - mean_absolute_error: 1.5110 - val_loss: 11.6937 - val_mean_absolute_error: 2.3466\n",
            "Epoch 58/200\n",
            " - 0s - loss: 5.4808 - mean_absolute_error: 1.5406 - val_loss: 13.2326 - val_mean_absolute_error: 2.5446\n",
            "Epoch 59/200\n",
            " - 0s - loss: 5.7662 - mean_absolute_error: 1.5370 - val_loss: 11.9514 - val_mean_absolute_error: 2.5185\n",
            "Epoch 60/200\n",
            " - 0s - loss: 5.4824 - mean_absolute_error: 1.5543 - val_loss: 12.3918 - val_mean_absolute_error: 2.5006\n",
            "Epoch 61/200\n",
            " - 0s - loss: 5.6054 - mean_absolute_error: 1.5475 - val_loss: 11.1302 - val_mean_absolute_error: 2.3958\n",
            "Epoch 62/200\n",
            " - 0s - loss: 5.1282 - mean_absolute_error: 1.4817 - val_loss: 12.0846 - val_mean_absolute_error: 2.4945\n",
            "Epoch 63/200\n",
            " - 0s - loss: 5.2233 - mean_absolute_error: 1.5201 - val_loss: 13.4963 - val_mean_absolute_error: 2.5980\n",
            "Epoch 64/200\n",
            " - 0s - loss: 5.2125 - mean_absolute_error: 1.5184 - val_loss: 11.5287 - val_mean_absolute_error: 2.4110\n",
            "Epoch 65/200\n",
            " - 0s - loss: 5.2876 - mean_absolute_error: 1.5370 - val_loss: 11.9316 - val_mean_absolute_error: 2.4375\n",
            "Epoch 66/200\n",
            " - 0s - loss: 5.3867 - mean_absolute_error: 1.4338 - val_loss: 11.3933 - val_mean_absolute_error: 2.3395\n",
            "Epoch 67/200\n",
            " - 0s - loss: 4.7705 - mean_absolute_error: 1.4538 - val_loss: 18.9781 - val_mean_absolute_error: 3.2588\n",
            "Epoch 68/200\n",
            " - 0s - loss: 5.2736 - mean_absolute_error: 1.5451 - val_loss: 12.6636 - val_mean_absolute_error: 2.5170\n",
            "Epoch 69/200\n",
            " - 0s - loss: 5.0192 - mean_absolute_error: 1.5098 - val_loss: 12.6124 - val_mean_absolute_error: 2.6538\n",
            "Epoch 70/200\n",
            " - 0s - loss: 4.9491 - mean_absolute_error: 1.4542 - val_loss: 12.5771 - val_mean_absolute_error: 2.5152\n",
            "Epoch 71/200\n",
            " - 0s - loss: 5.1629 - mean_absolute_error: 1.4126 - val_loss: 11.9750 - val_mean_absolute_error: 2.4504\n",
            "Epoch 72/200\n",
            " - 0s - loss: 5.0766 - mean_absolute_error: 1.4500 - val_loss: 12.1710 - val_mean_absolute_error: 2.4776\n",
            "Epoch 73/200\n",
            " - 0s - loss: 5.3200 - mean_absolute_error: 1.4755 - val_loss: 16.0804 - val_mean_absolute_error: 2.8392\n",
            "Epoch 74/200\n",
            " - 0s - loss: 4.7595 - mean_absolute_error: 1.4372 - val_loss: 12.8703 - val_mean_absolute_error: 2.6357\n",
            "Epoch 75/200\n",
            " - 0s - loss: 4.7798 - mean_absolute_error: 1.4072 - val_loss: 12.3480 - val_mean_absolute_error: 2.5684\n",
            "Epoch 76/200\n",
            " - 0s - loss: 4.8524 - mean_absolute_error: 1.4519 - val_loss: 12.2377 - val_mean_absolute_error: 2.5238\n",
            "Epoch 77/200\n",
            " - 0s - loss: 5.2264 - mean_absolute_error: 1.4207 - val_loss: 12.4095 - val_mean_absolute_error: 2.5512\n",
            "Epoch 78/200\n",
            " - 0s - loss: 5.1403 - mean_absolute_error: 1.4389 - val_loss: 12.4293 - val_mean_absolute_error: 2.4913\n",
            "Epoch 79/200\n",
            " - 0s - loss: 4.4472 - mean_absolute_error: 1.3995 - val_loss: 13.0687 - val_mean_absolute_error: 2.6386\n",
            "Epoch 80/200\n",
            " - 0s - loss: 4.6975 - mean_absolute_error: 1.4819 - val_loss: 12.6206 - val_mean_absolute_error: 2.5402\n",
            "Epoch 81/200\n",
            " - 0s - loss: 4.6113 - mean_absolute_error: 1.3767 - val_loss: 12.1892 - val_mean_absolute_error: 2.4495\n",
            "Epoch 82/200\n",
            " - 0s - loss: 4.8825 - mean_absolute_error: 1.4310 - val_loss: 11.6380 - val_mean_absolute_error: 2.4079\n",
            "Epoch 83/200\n",
            " - 0s - loss: 4.7429 - mean_absolute_error: 1.4277 - val_loss: 13.3664 - val_mean_absolute_error: 2.7388\n",
            "Epoch 84/200\n",
            " - 0s - loss: 4.2847 - mean_absolute_error: 1.2955 - val_loss: 11.8015 - val_mean_absolute_error: 2.5464\n",
            "Epoch 85/200\n",
            " - 0s - loss: 4.3930 - mean_absolute_error: 1.3971 - val_loss: 11.1877 - val_mean_absolute_error: 2.4600\n",
            "Epoch 86/200\n",
            " - 0s - loss: 4.6329 - mean_absolute_error: 1.3925 - val_loss: 11.5494 - val_mean_absolute_error: 2.4264\n",
            "Epoch 87/200\n",
            " - 0s - loss: 4.6763 - mean_absolute_error: 1.3271 - val_loss: 13.2026 - val_mean_absolute_error: 2.6395\n",
            "Epoch 88/200\n",
            " - 0s - loss: 4.3570 - mean_absolute_error: 1.3921 - val_loss: 14.1510 - val_mean_absolute_error: 2.7640\n",
            "Epoch 89/200\n",
            " - 0s - loss: 4.2679 - mean_absolute_error: 1.3704 - val_loss: 13.4735 - val_mean_absolute_error: 2.5826\n",
            "Epoch 90/200\n",
            " - 0s - loss: 4.4741 - mean_absolute_error: 1.3560 - val_loss: 12.3947 - val_mean_absolute_error: 2.5357\n",
            "Epoch 91/200\n",
            " - 0s - loss: 4.5052 - mean_absolute_error: 1.3445 - val_loss: 12.4094 - val_mean_absolute_error: 2.5195\n",
            "Epoch 92/200\n",
            " - 0s - loss: 4.3378 - mean_absolute_error: 1.3327 - val_loss: 11.0266 - val_mean_absolute_error: 2.3868\n",
            "Epoch 93/200\n",
            " - 0s - loss: 4.5392 - mean_absolute_error: 1.3411 - val_loss: 11.5178 - val_mean_absolute_error: 2.4068\n",
            "Epoch 94/200\n",
            " - 0s - loss: 4.4124 - mean_absolute_error: 1.3327 - val_loss: 11.9556 - val_mean_absolute_error: 2.4277\n",
            "Epoch 95/200\n",
            " - 0s - loss: 4.2563 - mean_absolute_error: 1.3288 - val_loss: 11.8832 - val_mean_absolute_error: 2.4362\n",
            "Epoch 96/200\n",
            " - 0s - loss: 4.0524 - mean_absolute_error: 1.3033 - val_loss: 14.6694 - val_mean_absolute_error: 2.6492\n",
            "Epoch 97/200\n",
            " - 0s - loss: 4.1707 - mean_absolute_error: 1.3136 - val_loss: 14.5389 - val_mean_absolute_error: 2.7564\n",
            "Epoch 98/200\n",
            " - 0s - loss: 4.0531 - mean_absolute_error: 1.3083 - val_loss: 12.2288 - val_mean_absolute_error: 2.4501\n",
            "Epoch 99/200\n",
            " - 0s - loss: 4.3964 - mean_absolute_error: 1.3219 - val_loss: 12.0652 - val_mean_absolute_error: 2.3835\n",
            "Epoch 100/200\n",
            " - 0s - loss: 4.3944 - mean_absolute_error: 1.3273 - val_loss: 12.1734 - val_mean_absolute_error: 2.5877\n",
            "Epoch 101/200\n",
            " - 0s - loss: 4.2846 - mean_absolute_error: 1.2646 - val_loss: 13.1332 - val_mean_absolute_error: 2.6874\n",
            "Epoch 102/200\n",
            " - 0s - loss: 4.3598 - mean_absolute_error: 1.3082 - val_loss: 11.9947 - val_mean_absolute_error: 2.4223\n",
            "Epoch 103/200\n",
            " - 0s - loss: 4.1245 - mean_absolute_error: 1.2883 - val_loss: 12.0488 - val_mean_absolute_error: 2.4505\n",
            "Epoch 104/200\n",
            " - 0s - loss: 4.1117 - mean_absolute_error: 1.2698 - val_loss: 11.7374 - val_mean_absolute_error: 2.4427\n",
            "Epoch 105/200\n",
            " - 0s - loss: 3.9083 - mean_absolute_error: 1.3103 - val_loss: 11.7111 - val_mean_absolute_error: 2.3826\n",
            "Epoch 106/200\n",
            " - 0s - loss: 3.8398 - mean_absolute_error: 1.2449 - val_loss: 11.9200 - val_mean_absolute_error: 2.5230\n",
            "Epoch 107/200\n",
            " - 0s - loss: 4.1186 - mean_absolute_error: 1.2905 - val_loss: 11.4078 - val_mean_absolute_error: 2.3984\n",
            "Epoch 108/200\n",
            " - 0s - loss: 3.9331 - mean_absolute_error: 1.2526 - val_loss: 11.9306 - val_mean_absolute_error: 2.4679\n",
            "Epoch 109/200\n",
            " - 0s - loss: 3.9193 - mean_absolute_error: 1.3074 - val_loss: 11.2188 - val_mean_absolute_error: 2.4193\n",
            "Epoch 110/200\n",
            " - 0s - loss: 3.8646 - mean_absolute_error: 1.3040 - val_loss: 13.2155 - val_mean_absolute_error: 2.5286\n",
            "Epoch 111/200\n",
            " - 0s - loss: 4.0897 - mean_absolute_error: 1.2555 - val_loss: 12.4432 - val_mean_absolute_error: 2.4177\n",
            "Epoch 112/200\n",
            " - 0s - loss: 3.7947 - mean_absolute_error: 1.2402 - val_loss: 11.8258 - val_mean_absolute_error: 2.4138\n",
            "Epoch 113/200\n",
            " - 0s - loss: 3.6839 - mean_absolute_error: 1.2531 - val_loss: 13.2828 - val_mean_absolute_error: 2.4786\n",
            "Epoch 114/200\n",
            " - 0s - loss: 3.7863 - mean_absolute_error: 1.2017 - val_loss: 11.9474 - val_mean_absolute_error: 2.4490\n",
            "Epoch 115/200\n",
            " - 0s - loss: 4.0060 - mean_absolute_error: 1.2281 - val_loss: 11.6241 - val_mean_absolute_error: 2.3230\n",
            "Epoch 116/200\n",
            " - 0s - loss: 3.6967 - mean_absolute_error: 1.1906 - val_loss: 11.8257 - val_mean_absolute_error: 2.4580\n",
            "Epoch 117/200\n",
            " - 0s - loss: 4.0488 - mean_absolute_error: 1.2209 - val_loss: 12.0208 - val_mean_absolute_error: 2.3426\n",
            "Epoch 118/200\n",
            " - 0s - loss: 3.7452 - mean_absolute_error: 1.2646 - val_loss: 14.0346 - val_mean_absolute_error: 2.6065\n",
            "Epoch 119/200\n",
            " - 0s - loss: 3.7974 - mean_absolute_error: 1.2602 - val_loss: 12.1729 - val_mean_absolute_error: 2.4457\n",
            "Epoch 120/200\n",
            " - 0s - loss: 3.6716 - mean_absolute_error: 1.2431 - val_loss: 12.8627 - val_mean_absolute_error: 2.5067\n",
            "Epoch 121/200\n",
            " - 0s - loss: 3.9157 - mean_absolute_error: 1.2587 - val_loss: 13.3427 - val_mean_absolute_error: 2.7101\n",
            "Epoch 122/200\n",
            " - 0s - loss: 3.5845 - mean_absolute_error: 1.1981 - val_loss: 14.2585 - val_mean_absolute_error: 2.6972\n",
            "Epoch 123/200\n",
            " - 0s - loss: 3.4303 - mean_absolute_error: 1.1905 - val_loss: 14.3083 - val_mean_absolute_error: 2.6820\n",
            "Epoch 124/200\n",
            " - 0s - loss: 3.6819 - mean_absolute_error: 1.2368 - val_loss: 13.6653 - val_mean_absolute_error: 2.5940\n",
            "Epoch 125/200\n",
            " - 0s - loss: 3.4842 - mean_absolute_error: 1.2107 - val_loss: 13.6814 - val_mean_absolute_error: 2.5920\n",
            "Epoch 126/200\n",
            " - 0s - loss: 3.5271 - mean_absolute_error: 1.2079 - val_loss: 13.4637 - val_mean_absolute_error: 2.5798\n",
            "Epoch 127/200\n",
            " - 0s - loss: 3.3549 - mean_absolute_error: 1.2363 - val_loss: 13.3427 - val_mean_absolute_error: 2.6666\n",
            "Epoch 128/200\n",
            " - 0s - loss: 3.2913 - mean_absolute_error: 1.1498 - val_loss: 12.2017 - val_mean_absolute_error: 2.4126\n",
            "Epoch 129/200\n",
            " - 0s - loss: 3.5098 - mean_absolute_error: 1.2283 - val_loss: 12.2157 - val_mean_absolute_error: 2.4991\n",
            "Epoch 130/200\n",
            " - 0s - loss: 3.8465 - mean_absolute_error: 1.2373 - val_loss: 11.7442 - val_mean_absolute_error: 2.3491\n",
            "Epoch 131/200\n",
            " - 0s - loss: 3.3131 - mean_absolute_error: 1.1512 - val_loss: 12.9931 - val_mean_absolute_error: 2.5112\n",
            "Epoch 132/200\n",
            " - 0s - loss: 3.3817 - mean_absolute_error: 1.1908 - val_loss: 14.4124 - val_mean_absolute_error: 2.7633\n",
            "Epoch 133/200\n",
            " - 0s - loss: 3.6242 - mean_absolute_error: 1.2129 - val_loss: 13.1096 - val_mean_absolute_error: 2.4906\n",
            "Epoch 134/200\n",
            " - 0s - loss: 3.3793 - mean_absolute_error: 1.1469 - val_loss: 12.4860 - val_mean_absolute_error: 2.4874\n",
            "Epoch 135/200\n",
            " - 0s - loss: 3.2477 - mean_absolute_error: 1.2040 - val_loss: 12.9732 - val_mean_absolute_error: 2.4875\n",
            "Epoch 136/200\n",
            " - 0s - loss: 3.5356 - mean_absolute_error: 1.1799 - val_loss: 12.3350 - val_mean_absolute_error: 2.5556\n",
            "Epoch 137/200\n",
            " - 0s - loss: 3.4147 - mean_absolute_error: 1.1316 - val_loss: 12.4280 - val_mean_absolute_error: 2.5364\n",
            "Epoch 138/200\n",
            " - 0s - loss: 3.5149 - mean_absolute_error: 1.1562 - val_loss: 12.4448 - val_mean_absolute_error: 2.5094\n",
            "Epoch 139/200\n",
            " - 0s - loss: 3.1961 - mean_absolute_error: 1.1831 - val_loss: 14.4379 - val_mean_absolute_error: 2.6383\n",
            "Epoch 140/200\n",
            " - 0s - loss: 2.7702 - mean_absolute_error: 1.1185 - val_loss: 11.3976 - val_mean_absolute_error: 2.3364\n",
            "Epoch 141/200\n",
            " - 0s - loss: 3.5387 - mean_absolute_error: 1.1805 - val_loss: 14.9191 - val_mean_absolute_error: 2.7834\n",
            "Epoch 142/200\n",
            " - 0s - loss: 3.2919 - mean_absolute_error: 1.1415 - val_loss: 13.7227 - val_mean_absolute_error: 2.6019\n",
            "Epoch 143/200\n",
            " - 0s - loss: 3.2294 - mean_absolute_error: 1.1303 - val_loss: 14.1098 - val_mean_absolute_error: 2.6701\n",
            "Epoch 144/200\n",
            " - 0s - loss: 3.2702 - mean_absolute_error: 1.1623 - val_loss: 14.1977 - val_mean_absolute_error: 2.7248\n",
            "Epoch 145/200\n",
            " - 0s - loss: 2.9387 - mean_absolute_error: 1.1252 - val_loss: 17.2665 - val_mean_absolute_error: 3.0040\n",
            "Epoch 146/200\n",
            " - 0s - loss: 3.3304 - mean_absolute_error: 1.2030 - val_loss: 12.8420 - val_mean_absolute_error: 2.5293\n",
            "Epoch 147/200\n",
            " - 0s - loss: 3.0031 - mean_absolute_error: 1.1320 - val_loss: 13.6244 - val_mean_absolute_error: 2.5897\n",
            "Epoch 148/200\n",
            " - 0s - loss: 3.2641 - mean_absolute_error: 1.1156 - val_loss: 14.0781 - val_mean_absolute_error: 2.6558\n",
            "Epoch 149/200\n",
            " - 0s - loss: 3.1710 - mean_absolute_error: 1.1485 - val_loss: 14.6586 - val_mean_absolute_error: 2.6740\n",
            "Epoch 150/200\n",
            " - 0s - loss: 3.0215 - mean_absolute_error: 1.1363 - val_loss: 12.9959 - val_mean_absolute_error: 2.5621\n",
            "Epoch 151/200\n",
            " - 0s - loss: 3.1175 - mean_absolute_error: 1.1320 - val_loss: 13.8857 - val_mean_absolute_error: 2.5732\n",
            "Epoch 152/200\n",
            " - 0s - loss: 2.8149 - mean_absolute_error: 1.1466 - val_loss: 13.0193 - val_mean_absolute_error: 2.4847\n",
            "Epoch 153/200\n",
            " - 0s - loss: 3.1603 - mean_absolute_error: 1.1207 - val_loss: 14.6269 - val_mean_absolute_error: 2.6411\n",
            "Epoch 154/200\n",
            " - 0s - loss: 3.2782 - mean_absolute_error: 1.1748 - val_loss: 13.6428 - val_mean_absolute_error: 2.5832\n",
            "Epoch 155/200\n",
            " - 0s - loss: 2.8894 - mean_absolute_error: 1.1146 - val_loss: 14.6765 - val_mean_absolute_error: 2.6388\n",
            "Epoch 156/200\n",
            " - 0s - loss: 3.0463 - mean_absolute_error: 1.1461 - val_loss: 13.5524 - val_mean_absolute_error: 2.6193\n",
            "Epoch 157/200\n",
            " - 0s - loss: 2.9795 - mean_absolute_error: 1.1596 - val_loss: 15.8297 - val_mean_absolute_error: 2.9154\n",
            "Epoch 158/200\n",
            " - 0s - loss: 3.1435 - mean_absolute_error: 1.1082 - val_loss: 13.8805 - val_mean_absolute_error: 2.6803\n",
            "Epoch 159/200\n",
            " - 0s - loss: 2.8863 - mean_absolute_error: 1.0736 - val_loss: 16.6028 - val_mean_absolute_error: 2.8644\n",
            "Epoch 160/200\n",
            " - 0s - loss: 3.0812 - mean_absolute_error: 1.1194 - val_loss: 14.3070 - val_mean_absolute_error: 2.6134\n",
            "Epoch 161/200\n",
            " - 0s - loss: 3.0923 - mean_absolute_error: 1.1288 - val_loss: 14.5504 - val_mean_absolute_error: 2.7076\n",
            "Epoch 162/200\n",
            " - 0s - loss: 2.8158 - mean_absolute_error: 1.1139 - val_loss: 14.8004 - val_mean_absolute_error: 2.6379\n",
            "Epoch 163/200\n",
            " - 0s - loss: 2.9898 - mean_absolute_error: 1.1314 - val_loss: 15.1854 - val_mean_absolute_error: 2.7731\n",
            "Epoch 164/200\n",
            " - 0s - loss: 3.0025 - mean_absolute_error: 1.1199 - val_loss: 15.4605 - val_mean_absolute_error: 2.7092\n",
            "Epoch 165/200\n",
            " - 0s - loss: 2.8881 - mean_absolute_error: 1.1322 - val_loss: 13.1986 - val_mean_absolute_error: 2.5052\n",
            "Epoch 166/200\n",
            " - 0s - loss: 2.6710 - mean_absolute_error: 1.0304 - val_loss: 14.7979 - val_mean_absolute_error: 2.5210\n",
            "Epoch 167/200\n",
            " - 0s - loss: 2.7566 - mean_absolute_error: 1.1245 - val_loss: 16.3931 - val_mean_absolute_error: 2.9244\n",
            "Epoch 168/200\n",
            " - 0s - loss: 2.9778 - mean_absolute_error: 1.0791 - val_loss: 15.1871 - val_mean_absolute_error: 2.7613\n",
            "Epoch 169/200\n",
            " - 0s - loss: 3.0013 - mean_absolute_error: 1.1636 - val_loss: 14.1125 - val_mean_absolute_error: 2.4645\n",
            "Epoch 170/200\n",
            " - 0s - loss: 2.9287 - mean_absolute_error: 1.1229 - val_loss: 14.3242 - val_mean_absolute_error: 2.6031\n",
            "Epoch 171/200\n",
            " - 0s - loss: 2.7826 - mean_absolute_error: 1.1116 - val_loss: 14.3375 - val_mean_absolute_error: 2.7466\n",
            "Epoch 172/200\n",
            " - 0s - loss: 2.7315 - mean_absolute_error: 1.0819 - val_loss: 14.2604 - val_mean_absolute_error: 2.5616\n",
            "Epoch 173/200\n",
            " - 0s - loss: 2.5463 - mean_absolute_error: 1.0789 - val_loss: 17.0616 - val_mean_absolute_error: 2.8867\n",
            "Epoch 174/200\n",
            " - 0s - loss: 2.8277 - mean_absolute_error: 1.1503 - val_loss: 14.3948 - val_mean_absolute_error: 2.7536\n",
            "Epoch 175/200\n",
            " - 0s - loss: 2.7347 - mean_absolute_error: 1.1457 - val_loss: 15.2247 - val_mean_absolute_error: 2.7192\n",
            "Epoch 176/200\n",
            " - 0s - loss: 2.9936 - mean_absolute_error: 1.0810 - val_loss: 14.3016 - val_mean_absolute_error: 2.6229\n",
            "Epoch 177/200\n",
            " - 0s - loss: 2.6538 - mean_absolute_error: 1.0485 - val_loss: 14.9069 - val_mean_absolute_error: 2.7252\n",
            "Epoch 178/200\n",
            " - 0s - loss: 2.9791 - mean_absolute_error: 1.1213 - val_loss: 14.9716 - val_mean_absolute_error: 2.7247\n",
            "Epoch 179/200\n",
            " - 0s - loss: 2.7085 - mean_absolute_error: 1.0885 - val_loss: 16.6889 - val_mean_absolute_error: 2.8555\n",
            "Epoch 180/200\n",
            " - 0s - loss: 2.4927 - mean_absolute_error: 1.0366 - val_loss: 14.5950 - val_mean_absolute_error: 2.8083\n",
            "Epoch 181/200\n",
            " - 0s - loss: 2.4844 - mean_absolute_error: 1.0918 - val_loss: 13.5081 - val_mean_absolute_error: 2.5946\n",
            "Epoch 182/200\n",
            " - 0s - loss: 2.4981 - mean_absolute_error: 1.0386 - val_loss: 15.8099 - val_mean_absolute_error: 2.8845\n",
            "Epoch 183/200\n",
            " - 0s - loss: 2.7754 - mean_absolute_error: 1.0956 - val_loss: 15.2067 - val_mean_absolute_error: 2.8374\n",
            "Epoch 184/200\n",
            " - 0s - loss: 2.4694 - mean_absolute_error: 1.0565 - val_loss: 14.1419 - val_mean_absolute_error: 2.6154\n",
            "Epoch 185/200\n",
            " - 0s - loss: 2.5864 - mean_absolute_error: 1.0755 - val_loss: 14.8104 - val_mean_absolute_error: 2.7277\n",
            "Epoch 186/200\n",
            " - 0s - loss: 2.5337 - mean_absolute_error: 1.0316 - val_loss: 14.2717 - val_mean_absolute_error: 2.7050\n",
            "Epoch 187/200\n",
            " - 0s - loss: 2.4601 - mean_absolute_error: 1.0750 - val_loss: 16.8175 - val_mean_absolute_error: 2.9288\n",
            "Epoch 188/200\n",
            " - 0s - loss: 2.6747 - mean_absolute_error: 1.0917 - val_loss: 15.6663 - val_mean_absolute_error: 2.7524\n",
            "Epoch 189/200\n",
            " - 0s - loss: 2.6392 - mean_absolute_error: 1.0952 - val_loss: 15.7212 - val_mean_absolute_error: 2.6664\n",
            "Epoch 190/200\n",
            " - 0s - loss: 2.6121 - mean_absolute_error: 1.0741 - val_loss: 14.5801 - val_mean_absolute_error: 2.6760\n",
            "Epoch 191/200\n",
            " - 0s - loss: 2.4297 - mean_absolute_error: 1.0380 - val_loss: 14.5099 - val_mean_absolute_error: 2.6424\n",
            "Epoch 192/200\n",
            " - 0s - loss: 2.4755 - mean_absolute_error: 1.0683 - val_loss: 15.3889 - val_mean_absolute_error: 2.7339\n",
            "Epoch 193/200\n",
            " - 0s - loss: 2.4017 - mean_absolute_error: 1.0554 - val_loss: 15.0378 - val_mean_absolute_error: 2.6689\n",
            "Epoch 194/200\n",
            " - 0s - loss: 2.5059 - mean_absolute_error: 1.0299 - val_loss: 18.5353 - val_mean_absolute_error: 3.1634\n",
            "Epoch 195/200\n",
            " - 0s - loss: 2.6254 - mean_absolute_error: 1.0894 - val_loss: 16.3686 - val_mean_absolute_error: 2.8715\n",
            "Epoch 196/200\n",
            " - 0s - loss: 2.5179 - mean_absolute_error: 1.0712 - val_loss: 13.5603 - val_mean_absolute_error: 2.5732\n",
            "Epoch 197/200\n",
            " - 0s - loss: 2.3950 - mean_absolute_error: 1.0658 - val_loss: 14.4261 - val_mean_absolute_error: 2.5311\n",
            "Epoch 198/200\n",
            " - 0s - loss: 2.5301 - mean_absolute_error: 1.0685 - val_loss: 13.3979 - val_mean_absolute_error: 2.5692\n",
            "Epoch 199/200\n",
            " - 0s - loss: 2.5427 - mean_absolute_error: 1.0554 - val_loss: 14.8406 - val_mean_absolute_error: 2.5537\n",
            "Epoch 200/200\n",
            " - 0s - loss: 2.2826 - mean_absolute_error: 1.0374 - val_loss: 15.7581 - val_mean_absolute_error: 2.7998\n"
          ],
          "name": "stdout"
        }
      ]
    },
    {
      "cell_type": "code",
      "metadata": {
        "id": "xRXQjGX90c95",
        "colab_type": "code",
        "colab": {
          "base_uri": "https://localhost:8080/",
          "height": 501
        },
        "outputId": "3e2276e4-1a1b-4132-8af5-617c58696187"
      },
      "source": [
        "plt.plot(all_mae_histories[0])\n",
        "plt.plot(all_mae_histories[1])\n",
        "plt.plot(all_mae_histories[2])\n",
        "plt.plot(all_mae_histories[3])\n",
        "plt.title('V_loss')\n",
        "plt.ylabel('loss')\n",
        "plt.xlabel('epoch')\n",
        "plt.legend(['fold1', 'fold2', 'fold3', 'fold4'], loc = 'upper right')\n",
        "plt.show()"
      ],
      "execution_count": 50,
      "outputs": [
        {
          "output_type": "display_data",
          "data": {
            "image/png": "[encoded data removed]",
            "text/plain": [
              "<Figure size 750x500 with 1 Axes>"
            ]
          },
          "metadata": {
            "tags": []
          }
        }
      ]
    },
    {
      "cell_type": "markdown",
      "metadata": {
        "id": "DCT9cdDT0s7v",
        "colab_type": "text"
      },
      "source": [
        "Test data does not give a good peroforamce model as compared to the training data. Both these data losses are minimal and it should perform the best out of all the models here. although the loss on training data is less then that in the test data."
      ]
    },
    {
      "cell_type": "markdown",
      "metadata": {
        "id": "tB8IZCho015s",
        "colab_type": "text"
      },
      "source": [
        "#### Takeaways\n",
        "* Regression is usually done using MSE loss and MAE for evaluation\n",
        "* Input data should always be scaled (independent from the test set)\n",
        "* Small datasets:\n",
        "    - Use cross-validation\n",
        "    - Use simple (non-deep) networks\n",
        "    - Smaller batches, more epochs"
      ]
    }
  ]
}